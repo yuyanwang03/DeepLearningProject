{
 "cells": [
  {
   "cell_type": "code",
   "execution_count": 122,
   "id": "5d901e94",
   "metadata": {},
   "outputs": [],
   "source": [
    "import torch\n",
    "from torchvision import datasets, transforms\n",
    "from torch.utils.data import DataLoader, random_split\n",
    "from pathlib import Path\n",
    "import torch.nn as nn\n",
    "import warnings\n",
    "import torch.optim as optim\n",
    "from sklearn.utils.class_weight import compute_class_weight\n",
    "from sklearn.metrics import classification_report\n",
    "from tqdm import tqdm\n",
    "import time\n",
    "import numpy as np\n",
    "from PIL import Image\n",
    "from collections import Counter\n",
    "import numpy as np\n",
    "import os\n",
    "import pandas as pd\n",
    "import matplotlib.pyplot as plt\n",
    "import random\n",
    "from sklearn.manifold import TSNE\n",
    "from sklearn.decomposition import PCA\n",
    "import matplotlib.pyplot as plt"
   ]
  },
  {
   "cell_type": "code",
   "execution_count": 123,
   "id": "a28d16f0",
   "metadata": {},
   "outputs": [
    {
     "name": "stdout",
     "output_type": "stream",
     "text": [
      "Train images: 33595\n",
      "Val images: 7178\n",
      "Classes: ['angry', 'disgust', 'fear', 'happy', 'neutral', 'sad', 'surprise']\n"
     ]
    }
   ],
   "source": [
    "# Settings\n",
    "train_dir = Path('./data/train')\n",
    "val_dir   = Path('./data/test')\n",
    "img_size = 48\n",
    "batch_size = 64\n",
    "\n",
    "# Transforms\n",
    "train_transforms = transforms.Compose([\n",
    "    transforms.Resize((img_size, img_size)),\n",
    "    transforms.RandomHorizontalFlip(),\n",
    "    transforms.RandomRotation(5),\n",
    "    transforms.RandomAffine(degrees=0, shear=10, translate=(0.2, 0.2)),\n",
    "    transforms.ToTensor(),\n",
    "    transforms.Normalize(mean=[0.5]*3, std=[0.5]*3)  # normalize to [-1, 1]\n",
    "])\n",
    "\n",
    "val_transforms = transforms.Compose([\n",
    "    transforms.Resize((img_size, img_size)),\n",
    "    transforms.ToTensor(),\n",
    "    transforms.Normalize(mean=[0.5]*3, std=[0.5]*3)\n",
    "])\n",
    "\n",
    "# Datasets\n",
    "train_dataset = datasets.ImageFolder(root=train_dir, transform=train_transforms)\n",
    "val_dataset   = datasets.ImageFolder(root=val_dir, transform=val_transforms)\n",
    "print(f\"Train images: {len(train_dataset)}\")\n",
    "print(f\"Val images: {len(val_dataset)}\")\n",
    "\n",
    "# DataLoaders\n",
    "train_loader = DataLoader(train_dataset, batch_size=batch_size, shuffle=True, num_workers=2)\n",
    "val_loader   = DataLoader(val_dataset, batch_size=batch_size, shuffle=False, num_workers=2)\n",
    "\n",
    "# Class names\n",
    "class_names = train_dataset.classes\n",
    "print(\"Classes:\", class_names)"
   ]
  },
  {
   "cell_type": "code",
   "execution_count": 124,
   "id": "984650ec",
   "metadata": {},
   "outputs": [],
   "source": [
    "import torch.nn as nn\n",
    "import torch.nn.functional as F\n",
    "\n",
    "class ResSim(nn.Module):\n",
    "    def __init__(self, num_classes=7, dropout_rate=0.15):\n",
    "        super(ResSim, self).__init__()\n",
    "        self.dropout = nn.Dropout(dropout_rate)\n",
    "\n",
    "        # Block 1\n",
    "        self.block1 = nn.Sequential(\n",
    "            nn.Conv2d(3, 24, kernel_size=3, padding=1),\n",
    "            nn.BatchNorm2d(24),\n",
    "            nn.ReLU(),\n",
    "            nn.Conv2d(24, 24, kernel_size=3, padding=1),\n",
    "            nn.BatchNorm2d(24)\n",
    "        )\n",
    "        self.shortcut1 = nn.Conv2d(3, 24, kernel_size=1)\n",
    "\n",
    "        # Block 2\n",
    "        self.block2 = nn.Sequential(\n",
    "            nn.Conv2d(24, 48, kernel_size=3, padding=1),\n",
    "            nn.BatchNorm2d(48),\n",
    "            nn.ReLU(),\n",
    "            nn.Conv2d(48, 48, kernel_size=3, padding=1),\n",
    "            nn.BatchNorm2d(48)\n",
    "        )\n",
    "        self.shortcut2 = nn.Conv2d(24, 48, kernel_size=1)\n",
    "\n",
    "        self.pool = nn.MaxPool2d(2, 2)\n",
    "\n",
    "        # Final FC layer stays at 64\n",
    "        self.fc = nn.Sequential(\n",
    "            nn.Linear(12 * 12 * 48, 64),\n",
    "            nn.ReLU(),\n",
    "            nn.Dropout(dropout_rate),\n",
    "            nn.Linear(64, num_classes)\n",
    "        )\n",
    "\n",
    "    def forward(self, x):\n",
    "        x1 = self.block1(x)\n",
    "        x = self.pool(F.relu(x1 + self.shortcut1(x)))\n",
    "        x = self.dropout(x)\n",
    "\n",
    "        x2 = self.block2(x)\n",
    "        x = self.pool(F.relu(x2 + self.shortcut2(x)))\n",
    "        x = self.dropout(x)\n",
    "\n",
    "        x = x.view(x.size(0), -1)\n",
    "        return self.fc(x)"
   ]
  },
  {
   "cell_type": "code",
   "execution_count": 125,
   "id": "6e27c9d8",
   "metadata": {},
   "outputs": [
    {
     "name": "stdout",
     "output_type": "stream",
     "text": [
      "Total parameters: 481551\n"
     ]
    }
   ],
   "source": [
    "model = ResSim(num_classes=7)\n",
    "total_params = sum(p.numel() for p in model.parameters())\n",
    "print(f\"Total parameters: {total_params}\")"
   ]
  },
  {
   "cell_type": "code",
   "execution_count": 126,
   "id": "2469f2e7",
   "metadata": {},
   "outputs": [],
   "source": [
    "device = torch.device(\"cuda\" if torch.cuda.is_available() else \"cpu\")\n",
    "model = ResSim(num_classes=7).to(device)\n",
    "\n",
    "criterion = nn.CrossEntropyLoss()\n",
    "optimizer = optim.Adam(model.parameters(), lr=0.001)"
   ]
  },
  {
   "cell_type": "code",
   "execution_count": 127,
   "id": "668c81eb",
   "metadata": {},
   "outputs": [],
   "source": [
    "from sklearn.metrics import classification_report\n",
    "import time\n",
    "from tqdm import tqdm\n",
    "\n",
    "def train(model, train_loader, val_loader, optimizer, criterion, num_epochs=15, model_name='resnet_model.pth'):\n",
    "    history = []  # collect metrics per epoch\n",
    "\n",
    "    for epoch in range(num_epochs):\n",
    "        print(f\"\\nEpoch {epoch+1}/{num_epochs}\")\n",
    "        start_time = time.time()\n",
    "\n",
    "        # Training phase\n",
    "        model.train()\n",
    "        train_loss, correct, total = 0, 0, 0\n",
    "        for images, labels in tqdm(train_loader, desc=\"Training\"):\n",
    "            images, labels = images.to(device), labels.to(device)\n",
    "\n",
    "            optimizer.zero_grad()\n",
    "            outputs = model(images)\n",
    "            loss = criterion(outputs, labels)\n",
    "            loss.backward()\n",
    "            optimizer.step()\n",
    "\n",
    "            train_loss += loss.item() * images.size(0)\n",
    "            _, predicted = outputs.max(1)\n",
    "            correct += (predicted == labels).sum().item()\n",
    "            total += labels.size(0)\n",
    "\n",
    "        train_acc = correct / total\n",
    "        train_loss /= total\n",
    "\n",
    "        # Validation phase\n",
    "        model.eval()\n",
    "        val_loss, correct, total = 0, 0, 0\n",
    "        y_true, y_pred = [], []\n",
    "\n",
    "        with torch.no_grad():\n",
    "            for images, labels in tqdm(val_loader, desc=\"Validation\"):\n",
    "                images, labels = images.to(device), labels.to(device)\n",
    "                outputs = model(images)\n",
    "                loss = criterion(outputs, labels)\n",
    "                val_loss += loss.item() * images.size(0)\n",
    "\n",
    "                _, predicted = outputs.max(1)\n",
    "                correct += (predicted == labels).sum().item()\n",
    "                total += labels.size(0)\n",
    "\n",
    "                y_true.extend(labels.cpu().numpy())\n",
    "                y_pred.extend(predicted.cpu().numpy())\n",
    "\n",
    "        val_acc = correct / total\n",
    "        val_loss /= total\n",
    "\n",
    "        # Classification report\n",
    "        report = classification_report(y_true, y_pred, target_names=class_names, output_dict=True)\n",
    "        val_f1_macro = report['macro avg']['f1-score']\n",
    "\n",
    "        epoch_time = time.time() - start_time\n",
    "\n",
    "        # Collect metrics\n",
    "        epoch_data = {\n",
    "            'epoch': epoch + 1,\n",
    "            'train_loss': train_loss,\n",
    "            'val_loss': val_loss,\n",
    "            'train_acc': train_acc,\n",
    "            'val_acc': val_acc,\n",
    "            'val_f1_macro': val_f1_macro,\n",
    "            'epoch_time_sec': epoch_time\n",
    "        }\n",
    "\n",
    "        # Add per-class metrics\n",
    "        for cls in class_names:\n",
    "            for metric in ['precision', 'recall', 'f1-score']:\n",
    "                key = f'{cls}_{metric}'\n",
    "                epoch_data[key] = report[cls][metric]\n",
    "\n",
    "        history.append(epoch_data)\n",
    "\n",
    "        # Console output\n",
    "        print(\"\\nValidation Report:\")\n",
    "        for cls in class_names:\n",
    "            cls_metrics = report[cls]\n",
    "            print(f\"{cls}: Prec={cls_metrics['precision']:.3f} | Rec={cls_metrics['recall']:.3f} | F1={cls_metrics['f1-score']:.3f}\")\n",
    "\n",
    "        print(f\"\\nEpoch Summary: Train Loss={train_loss:.4f} | Val Loss={val_loss:.4f} | Train Acc={train_acc:.3f} | Val Acc={val_acc:.3f}\")\n",
    "        print(f\"Epoch time: {epoch_time:.2f} seconds\")\n",
    "\n",
    "    torch.save(model.state_dict(), f\"results/{model_name}\")\n",
    "    print(f\"Saved model to 'results/{model_name}'\")\n",
    "\n",
    "    return history"
   ]
  },
  {
   "cell_type": "code",
   "execution_count": 129,
   "id": "45bb768f",
   "metadata": {},
   "outputs": [
    {
     "name": "stdout",
     "output_type": "stream",
     "text": [
      "\n",
      "Training config: adam_lr3_dropout0_bn\n",
      "\n",
      "Epoch 1/15\n"
     ]
    },
    {
     "name": "stderr",
     "output_type": "stream",
     "text": [
      "Training: 100%|██████████| 525/525 [01:58<00:00,  4.42it/s]\n",
      "Validation: 100%|██████████| 113/113 [00:17<00:00,  6.41it/s]\n",
      "/Users/yuyi/Desktop/DeepLearningProject/venv/lib/python3.9/site-packages/sklearn/metrics/_classification.py:1565: UndefinedMetricWarning: Precision is ill-defined and being set to 0.0 in labels with no predicted samples. Use `zero_division` parameter to control this behavior.\n",
      "  _warn_prf(average, modifier, f\"{metric.capitalize()} is\", len(result))\n",
      "/Users/yuyi/Desktop/DeepLearningProject/venv/lib/python3.9/site-packages/sklearn/metrics/_classification.py:1565: UndefinedMetricWarning: Precision is ill-defined and being set to 0.0 in labels with no predicted samples. Use `zero_division` parameter to control this behavior.\n",
      "  _warn_prf(average, modifier, f\"{metric.capitalize()} is\", len(result))\n",
      "/Users/yuyi/Desktop/DeepLearningProject/venv/lib/python3.9/site-packages/sklearn/metrics/_classification.py:1565: UndefinedMetricWarning: Precision is ill-defined and being set to 0.0 in labels with no predicted samples. Use `zero_division` parameter to control this behavior.\n",
      "  _warn_prf(average, modifier, f\"{metric.capitalize()} is\", len(result))\n"
     ]
    },
    {
     "name": "stdout",
     "output_type": "stream",
     "text": [
      "\n",
      "Validation Report:\n",
      "angry: Prec=0.000 | Rec=0.000 | F1=0.000\n",
      "disgust: Prec=0.005 | Rec=0.009 | F1=0.006\n",
      "fear: Prec=0.176 | Rec=0.092 | F1=0.121\n",
      "happy: Prec=0.375 | Rec=0.711 | F1=0.491\n",
      "neutral: Prec=0.361 | Rec=0.011 | F1=0.020\n",
      "sad: Prec=0.290 | Rec=0.200 | F1=0.236\n",
      "surprise: Prec=0.294 | Rec=0.769 | F1=0.426\n",
      "\n",
      "Epoch Summary: Train Loss=1.8889 | Val Loss=1.7705 | Train Acc=0.234 | Val Acc=0.314\n",
      "Epoch time: 136.50 seconds\n",
      "\n",
      "Epoch 2/15\n"
     ]
    },
    {
     "name": "stderr",
     "output_type": "stream",
     "text": [
      "Training: 100%|██████████| 525/525 [01:41<00:00,  5.18it/s]\n",
      "Validation: 100%|██████████| 113/113 [00:18<00:00,  6.12it/s]\n",
      "/Users/yuyi/Desktop/DeepLearningProject/venv/lib/python3.9/site-packages/sklearn/metrics/_classification.py:1565: UndefinedMetricWarning: Precision is ill-defined and being set to 0.0 in labels with no predicted samples. Use `zero_division` parameter to control this behavior.\n",
      "  _warn_prf(average, modifier, f\"{metric.capitalize()} is\", len(result))\n",
      "/Users/yuyi/Desktop/DeepLearningProject/venv/lib/python3.9/site-packages/sklearn/metrics/_classification.py:1565: UndefinedMetricWarning: Precision is ill-defined and being set to 0.0 in labels with no predicted samples. Use `zero_division` parameter to control this behavior.\n",
      "  _warn_prf(average, modifier, f\"{metric.capitalize()} is\", len(result))\n",
      "/Users/yuyi/Desktop/DeepLearningProject/venv/lib/python3.9/site-packages/sklearn/metrics/_classification.py:1565: UndefinedMetricWarning: Precision is ill-defined and being set to 0.0 in labels with no predicted samples. Use `zero_division` parameter to control this behavior.\n",
      "  _warn_prf(average, modifier, f\"{metric.capitalize()} is\", len(result))\n"
     ]
    },
    {
     "name": "stdout",
     "output_type": "stream",
     "text": [
      "\n",
      "Validation Report:\n",
      "angry: Prec=0.000 | Rec=0.000 | F1=0.000\n",
      "disgust: Prec=0.027 | Rec=0.144 | F1=0.045\n",
      "fear: Prec=0.067 | Rec=0.002 | F1=0.004\n",
      "happy: Prec=0.306 | Rec=0.889 | F1=0.456\n",
      "neutral: Prec=0.000 | Rec=0.000 | F1=0.000\n",
      "sad: Prec=0.278 | Rec=0.067 | F1=0.107\n",
      "surprise: Prec=0.494 | Rec=0.655 | F1=0.563\n",
      "\n",
      "Epoch Summary: Train Loss=1.6914 | Val Loss=1.7773 | Train Acc=0.340 | Val Acc=0.310\n",
      "Epoch time: 119.90 seconds\n",
      "\n",
      "Epoch 3/15\n"
     ]
    },
    {
     "name": "stderr",
     "output_type": "stream",
     "text": [
      "Training: 100%|██████████| 525/525 [01:44<00:00,  5.01it/s]\n",
      "Validation: 100%|██████████| 113/113 [00:17<00:00,  6.30it/s]\n",
      "/Users/yuyi/Desktop/DeepLearningProject/venv/lib/python3.9/site-packages/sklearn/metrics/_classification.py:1565: UndefinedMetricWarning: Precision is ill-defined and being set to 0.0 in labels with no predicted samples. Use `zero_division` parameter to control this behavior.\n",
      "  _warn_prf(average, modifier, f\"{metric.capitalize()} is\", len(result))\n",
      "/Users/yuyi/Desktop/DeepLearningProject/venv/lib/python3.9/site-packages/sklearn/metrics/_classification.py:1565: UndefinedMetricWarning: Precision is ill-defined and being set to 0.0 in labels with no predicted samples. Use `zero_division` parameter to control this behavior.\n",
      "  _warn_prf(average, modifier, f\"{metric.capitalize()} is\", len(result))\n",
      "/Users/yuyi/Desktop/DeepLearningProject/venv/lib/python3.9/site-packages/sklearn/metrics/_classification.py:1565: UndefinedMetricWarning: Precision is ill-defined and being set to 0.0 in labels with no predicted samples. Use `zero_division` parameter to control this behavior.\n",
      "  _warn_prf(average, modifier, f\"{metric.capitalize()} is\", len(result))\n"
     ]
    },
    {
     "name": "stdout",
     "output_type": "stream",
     "text": [
      "\n",
      "Validation Report:\n",
      "angry: Prec=0.000 | Rec=0.000 | F1=0.000\n",
      "disgust: Prec=0.000 | Rec=0.000 | F1=0.000\n",
      "fear: Prec=0.217 | Rec=0.033 | F1=0.058\n",
      "happy: Prec=0.286 | Rec=0.976 | F1=0.442\n",
      "neutral: Prec=0.153 | Rec=0.012 | F1=0.023\n",
      "sad: Prec=0.309 | Rec=0.047 | F1=0.081\n",
      "surprise: Prec=0.682 | Rec=0.555 | F1=0.612\n",
      "\n",
      "Epoch Summary: Train Loss=1.5252 | Val Loss=1.6745 | Train Acc=0.398 | Val Acc=0.320\n",
      "Epoch time: 122.79 seconds\n",
      "\n",
      "Epoch 4/15\n"
     ]
    },
    {
     "name": "stderr",
     "output_type": "stream",
     "text": [
      "Training: 100%|██████████| 525/525 [01:45<00:00,  4.99it/s]\n",
      "Validation: 100%|██████████| 113/113 [00:17<00:00,  6.36it/s]\n",
      "/Users/yuyi/Desktop/DeepLearningProject/venv/lib/python3.9/site-packages/sklearn/metrics/_classification.py:1565: UndefinedMetricWarning: Precision is ill-defined and being set to 0.0 in labels with no predicted samples. Use `zero_division` parameter to control this behavior.\n",
      "  _warn_prf(average, modifier, f\"{metric.capitalize()} is\", len(result))\n",
      "/Users/yuyi/Desktop/DeepLearningProject/venv/lib/python3.9/site-packages/sklearn/metrics/_classification.py:1565: UndefinedMetricWarning: Precision is ill-defined and being set to 0.0 in labels with no predicted samples. Use `zero_division` parameter to control this behavior.\n",
      "  _warn_prf(average, modifier, f\"{metric.capitalize()} is\", len(result))\n",
      "/Users/yuyi/Desktop/DeepLearningProject/venv/lib/python3.9/site-packages/sklearn/metrics/_classification.py:1565: UndefinedMetricWarning: Precision is ill-defined and being set to 0.0 in labels with no predicted samples. Use `zero_division` parameter to control this behavior.\n",
      "  _warn_prf(average, modifier, f\"{metric.capitalize()} is\", len(result))\n"
     ]
    },
    {
     "name": "stdout",
     "output_type": "stream",
     "text": [
      "\n",
      "Validation Report:\n",
      "angry: Prec=0.000 | Rec=0.000 | F1=0.000\n",
      "disgust: Prec=0.033 | Rec=0.171 | F1=0.056\n",
      "fear: Prec=0.184 | Rec=0.125 | F1=0.149\n",
      "happy: Prec=0.553 | Rec=0.777 | F1=0.646\n",
      "neutral: Prec=0.314 | Rec=0.094 | F1=0.145\n",
      "sad: Prec=0.298 | Rec=0.361 | F1=0.326\n",
      "surprise: Prec=0.419 | Rec=0.774 | F1=0.544\n",
      "\n",
      "Epoch Summary: Train Loss=1.4547 | Val Loss=1.5956 | Train Acc=0.429 | Val Acc=0.381\n",
      "Epoch time: 122.98 seconds\n",
      "\n",
      "Epoch 5/15\n"
     ]
    },
    {
     "name": "stderr",
     "output_type": "stream",
     "text": [
      "Training: 100%|██████████| 525/525 [01:44<00:00,  5.03it/s]\n",
      "Validation: 100%|██████████| 113/113 [00:17<00:00,  6.32it/s]\n",
      "/Users/yuyi/Desktop/DeepLearningProject/venv/lib/python3.9/site-packages/sklearn/metrics/_classification.py:1565: UndefinedMetricWarning: Precision is ill-defined and being set to 0.0 in labels with no predicted samples. Use `zero_division` parameter to control this behavior.\n",
      "  _warn_prf(average, modifier, f\"{metric.capitalize()} is\", len(result))\n",
      "/Users/yuyi/Desktop/DeepLearningProject/venv/lib/python3.9/site-packages/sklearn/metrics/_classification.py:1565: UndefinedMetricWarning: Precision is ill-defined and being set to 0.0 in labels with no predicted samples. Use `zero_division` parameter to control this behavior.\n",
      "  _warn_prf(average, modifier, f\"{metric.capitalize()} is\", len(result))\n",
      "/Users/yuyi/Desktop/DeepLearningProject/venv/lib/python3.9/site-packages/sklearn/metrics/_classification.py:1565: UndefinedMetricWarning: Precision is ill-defined and being set to 0.0 in labels with no predicted samples. Use `zero_division` parameter to control this behavior.\n",
      "  _warn_prf(average, modifier, f\"{metric.capitalize()} is\", len(result))\n"
     ]
    },
    {
     "name": "stdout",
     "output_type": "stream",
     "text": [
      "\n",
      "Validation Report:\n",
      "angry: Prec=0.000 | Rec=0.000 | F1=0.000\n",
      "disgust: Prec=0.040 | Rec=0.216 | F1=0.068\n",
      "fear: Prec=0.186 | Rec=0.059 | F1=0.089\n",
      "happy: Prec=0.626 | Rec=0.758 | F1=0.686\n",
      "neutral: Prec=0.373 | Rec=0.558 | F1=0.447\n",
      "sad: Prec=0.330 | Rec=0.185 | F1=0.237\n",
      "surprise: Prec=0.429 | Rec=0.812 | F1=0.562\n",
      "\n",
      "Epoch Summary: Train Loss=1.3940 | Val Loss=1.5238 | Train Acc=0.460 | Val Acc=0.421\n",
      "Epoch time: 122.32 seconds\n",
      "\n",
      "Epoch 6/15\n"
     ]
    },
    {
     "name": "stderr",
     "output_type": "stream",
     "text": [
      "Training: 100%|██████████| 525/525 [01:46<00:00,  4.94it/s]\n",
      "Validation: 100%|██████████| 113/113 [00:17<00:00,  6.29it/s]\n"
     ]
    },
    {
     "name": "stdout",
     "output_type": "stream",
     "text": [
      "\n",
      "Validation Report:\n",
      "angry: Prec=0.287 | Rec=0.314 | F1=0.300\n",
      "disgust: Prec=0.055 | Rec=0.234 | F1=0.090\n",
      "fear: Prec=0.234 | Rec=0.141 | F1=0.176\n",
      "happy: Prec=0.743 | Rec=0.650 | F1=0.694\n",
      "neutral: Prec=0.393 | Rec=0.467 | F1=0.427\n",
      "sad: Prec=0.353 | Rec=0.244 | F1=0.288\n",
      "surprise: Prec=0.532 | Rec=0.750 | F1=0.623\n",
      "\n",
      "Epoch Summary: Train Loss=1.3413 | Val Loss=1.4602 | Train Acc=0.482 | Val Acc=0.436\n",
      "Epoch time: 124.16 seconds\n",
      "\n",
      "Epoch 7/15\n"
     ]
    },
    {
     "name": "stderr",
     "output_type": "stream",
     "text": [
      "Training: 100%|██████████| 525/525 [01:43<00:00,  5.08it/s]\n",
      "Validation: 100%|██████████| 113/113 [00:17<00:00,  6.47it/s]\n"
     ]
    },
    {
     "name": "stdout",
     "output_type": "stream",
     "text": [
      "\n",
      "Validation Report:\n",
      "angry: Prec=0.337 | Rec=0.326 | F1=0.331\n",
      "disgust: Prec=0.058 | Rec=0.153 | F1=0.085\n",
      "fear: Prec=0.247 | Rec=0.144 | F1=0.181\n",
      "happy: Prec=0.660 | Rec=0.799 | F1=0.723\n",
      "neutral: Prec=0.452 | Rec=0.448 | F1=0.450\n",
      "sad: Prec=0.375 | Rec=0.237 | F1=0.291\n",
      "surprise: Prec=0.524 | Rec=0.761 | F1=0.621\n",
      "\n",
      "Epoch Summary: Train Loss=1.2817 | Val Loss=1.3709 | Train Acc=0.508 | Val Acc=0.470\n",
      "Epoch time: 120.74 seconds\n",
      "\n",
      "Epoch 8/15\n"
     ]
    },
    {
     "name": "stderr",
     "output_type": "stream",
     "text": [
      "Training: 100%|██████████| 525/525 [01:41<00:00,  5.19it/s]\n",
      "Validation: 100%|██████████| 113/113 [00:17<00:00,  6.53it/s]\n"
     ]
    },
    {
     "name": "stdout",
     "output_type": "stream",
     "text": [
      "\n",
      "Validation Report:\n",
      "angry: Prec=0.359 | Rec=0.285 | F1=0.318\n",
      "disgust: Prec=0.075 | Rec=0.072 | F1=0.074\n",
      "fear: Prec=0.269 | Rec=0.145 | F1=0.188\n",
      "happy: Prec=0.594 | Rec=0.874 | F1=0.707\n",
      "neutral: Prec=0.435 | Rec=0.564 | F1=0.491\n",
      "sad: Prec=0.418 | Rec=0.191 | F1=0.262\n",
      "surprise: Prec=0.621 | Rec=0.735 | F1=0.673\n",
      "\n",
      "Epoch Summary: Train Loss=1.2533 | Val Loss=1.3317 | Train Acc=0.520 | Val Acc=0.491\n",
      "Epoch time: 118.43 seconds\n",
      "\n",
      "Epoch 9/15\n"
     ]
    },
    {
     "name": "stderr",
     "output_type": "stream",
     "text": [
      "Training: 100%|██████████| 525/525 [01:42<00:00,  5.11it/s]\n",
      "Validation: 100%|██████████| 113/113 [00:17<00:00,  6.37it/s]\n"
     ]
    },
    {
     "name": "stdout",
     "output_type": "stream",
     "text": [
      "\n",
      "Validation Report:\n",
      "angry: Prec=0.347 | Rec=0.383 | F1=0.364\n",
      "disgust: Prec=0.092 | Rec=0.063 | F1=0.075\n",
      "fear: Prec=0.288 | Rec=0.119 | F1=0.169\n",
      "happy: Prec=0.588 | Rec=0.877 | F1=0.704\n",
      "neutral: Prec=0.461 | Rec=0.521 | F1=0.489\n",
      "sad: Prec=0.360 | Rec=0.289 | F1=0.321\n",
      "surprise: Prec=0.772 | Rec=0.542 | F1=0.636\n",
      "\n",
      "Epoch Summary: Train Loss=1.2289 | Val Loss=1.3239 | Train Acc=0.527 | Val Acc=0.488\n",
      "Epoch time: 120.45 seconds\n",
      "\n",
      "Epoch 10/15\n"
     ]
    },
    {
     "name": "stderr",
     "output_type": "stream",
     "text": [
      "Training: 100%|██████████| 525/525 [01:42<00:00,  5.14it/s]\n",
      "Validation: 100%|██████████| 113/113 [00:17<00:00,  6.47it/s]\n"
     ]
    },
    {
     "name": "stdout",
     "output_type": "stream",
     "text": [
      "\n",
      "Validation Report:\n",
      "angry: Prec=0.406 | Rec=0.283 | F1=0.333\n",
      "disgust: Prec=0.043 | Rec=0.009 | F1=0.015\n",
      "fear: Prec=0.278 | Rec=0.172 | F1=0.213\n",
      "happy: Prec=0.694 | Rec=0.816 | F1=0.750\n",
      "neutral: Prec=0.419 | Rec=0.632 | F1=0.504\n",
      "sad: Prec=0.380 | Rec=0.237 | F1=0.292\n",
      "surprise: Prec=0.574 | Rec=0.782 | F1=0.662\n",
      "\n",
      "Epoch Summary: Train Loss=1.2015 | Val Loss=1.2962 | Train Acc=0.540 | Val Acc=0.504\n",
      "Epoch time: 119.70 seconds\n",
      "\n",
      "Epoch 11/15\n"
     ]
    },
    {
     "name": "stderr",
     "output_type": "stream",
     "text": [
      "Training: 100%|██████████| 525/525 [01:45<00:00,  4.96it/s]\n",
      "Validation: 100%|██████████| 113/113 [00:18<00:00,  6.15it/s]\n"
     ]
    },
    {
     "name": "stdout",
     "output_type": "stream",
     "text": [
      "\n",
      "Validation Report:\n",
      "angry: Prec=0.362 | Rec=0.325 | F1=0.342\n",
      "disgust: Prec=0.095 | Rec=0.171 | F1=0.123\n",
      "fear: Prec=0.320 | Rec=0.145 | F1=0.199\n",
      "happy: Prec=0.656 | Rec=0.856 | F1=0.743\n",
      "neutral: Prec=0.475 | Rec=0.503 | F1=0.489\n",
      "sad: Prec=0.368 | Rec=0.338 | F1=0.352\n",
      "surprise: Prec=0.664 | Rec=0.714 | F1=0.688\n",
      "\n",
      "Epoch Summary: Train Loss=1.1902 | Val Loss=1.2689 | Train Acc=0.543 | Val Acc=0.506\n",
      "Epoch time: 124.36 seconds\n",
      "\n",
      "Epoch 12/15\n"
     ]
    },
    {
     "name": "stderr",
     "output_type": "stream",
     "text": [
      "Training: 100%|██████████| 525/525 [01:48<00:00,  4.85it/s]\n",
      "Validation: 100%|██████████| 113/113 [00:18<00:00,  6.19it/s]\n"
     ]
    },
    {
     "name": "stdout",
     "output_type": "stream",
     "text": [
      "\n",
      "Validation Report:\n",
      "angry: Prec=0.352 | Rec=0.404 | F1=0.376\n",
      "disgust: Prec=0.172 | Rec=0.045 | F1=0.071\n",
      "fear: Prec=0.260 | Rec=0.189 | F1=0.219\n",
      "happy: Prec=0.673 | Rec=0.864 | F1=0.756\n",
      "neutral: Prec=0.463 | Rec=0.558 | F1=0.506\n",
      "sad: Prec=0.416 | Rec=0.173 | F1=0.245\n",
      "surprise: Prec=0.633 | Rec=0.777 | F1=0.698\n",
      "\n",
      "Epoch Summary: Train Loss=1.1705 | Val Loss=1.2772 | Train Acc=0.551 | Val Acc=0.511\n",
      "Epoch time: 126.53 seconds\n",
      "\n",
      "Epoch 13/15\n"
     ]
    },
    {
     "name": "stderr",
     "output_type": "stream",
     "text": [
      "Training: 100%|██████████| 525/525 [01:46<00:00,  4.91it/s]\n",
      "Validation: 100%|██████████| 113/113 [00:17<00:00,  6.28it/s]\n"
     ]
    },
    {
     "name": "stdout",
     "output_type": "stream",
     "text": [
      "\n",
      "Validation Report:\n",
      "angry: Prec=0.340 | Rec=0.520 | F1=0.411\n",
      "disgust: Prec=0.117 | Rec=0.126 | F1=0.121\n",
      "fear: Prec=0.302 | Rec=0.174 | F1=0.221\n",
      "happy: Prec=0.728 | Rec=0.807 | F1=0.765\n",
      "neutral: Prec=0.531 | Rec=0.460 | F1=0.493\n",
      "sad: Prec=0.392 | Rec=0.271 | F1=0.321\n",
      "surprise: Prec=0.587 | Rec=0.781 | F1=0.670\n",
      "\n",
      "Epoch Summary: Train Loss=1.1598 | Val Loss=1.2722 | Train Acc=0.556 | Val Acc=0.512\n",
      "Epoch time: 124.97 seconds\n",
      "\n",
      "Epoch 14/15\n"
     ]
    },
    {
     "name": "stderr",
     "output_type": "stream",
     "text": [
      "Training: 100%|██████████| 525/525 [01:47<00:00,  4.87it/s]\n",
      "Validation: 100%|██████████| 113/113 [00:17<00:00,  6.30it/s]\n"
     ]
    },
    {
     "name": "stdout",
     "output_type": "stream",
     "text": [
      "\n",
      "Validation Report:\n",
      "angry: Prec=0.350 | Rec=0.480 | F1=0.405\n",
      "disgust: Prec=0.087 | Rec=0.234 | F1=0.127\n",
      "fear: Prec=0.319 | Rec=0.272 | F1=0.294\n",
      "happy: Prec=0.748 | Rec=0.793 | F1=0.770\n",
      "neutral: Prec=0.548 | Rec=0.455 | F1=0.497\n",
      "sad: Prec=0.397 | Rec=0.320 | F1=0.354\n",
      "surprise: Prec=0.704 | Rec=0.661 | F1=0.682\n",
      "\n",
      "Epoch Summary: Train Loss=1.1506 | Val Loss=1.2737 | Train Acc=0.559 | Val Acc=0.513\n",
      "Epoch time: 125.72 seconds\n",
      "\n",
      "Epoch 15/15\n"
     ]
    },
    {
     "name": "stderr",
     "output_type": "stream",
     "text": [
      "Training: 100%|██████████| 525/525 [01:50<00:00,  4.75it/s]\n",
      "Validation: 100%|██████████| 113/113 [00:17<00:00,  6.30it/s]\n"
     ]
    },
    {
     "name": "stdout",
     "output_type": "stream",
     "text": [
      "\n",
      "Validation Report:\n",
      "angry: Prec=0.397 | Rec=0.268 | F1=0.320\n",
      "disgust: Prec=0.098 | Rec=0.297 | F1=0.148\n",
      "fear: Prec=0.249 | Rec=0.435 | F1=0.317\n",
      "happy: Prec=0.751 | Rec=0.776 | F1=0.763\n",
      "neutral: Prec=0.550 | Rec=0.332 | F1=0.414\n",
      "sad: Prec=0.429 | Rec=0.224 | F1=0.294\n",
      "surprise: Prec=0.520 | Rec=0.739 | F1=0.611\n",
      "\n",
      "Epoch Summary: Train Loss=1.1344 | Val Loss=1.3705 | Train Acc=0.569 | Val Acc=0.476\n",
      "Epoch time: 128.49 seconds\n",
      "Saved model to 'results/adam_lr3_dropout0_bn'\n",
      "\n",
      "Training config: adam_lr3_dropout15_bn\n",
      "\n",
      "Epoch 1/15\n"
     ]
    },
    {
     "name": "stderr",
     "output_type": "stream",
     "text": [
      "Training: 100%|██████████| 525/525 [01:52<00:00,  4.68it/s]\n",
      "Validation: 100%|██████████| 113/113 [00:17<00:00,  6.34it/s]\n",
      "/Users/yuyi/Desktop/DeepLearningProject/venv/lib/python3.9/site-packages/sklearn/metrics/_classification.py:1565: UndefinedMetricWarning: Precision is ill-defined and being set to 0.0 in labels with no predicted samples. Use `zero_division` parameter to control this behavior.\n",
      "  _warn_prf(average, modifier, f\"{metric.capitalize()} is\", len(result))\n",
      "/Users/yuyi/Desktop/DeepLearningProject/venv/lib/python3.9/site-packages/sklearn/metrics/_classification.py:1565: UndefinedMetricWarning: Precision is ill-defined and being set to 0.0 in labels with no predicted samples. Use `zero_division` parameter to control this behavior.\n",
      "  _warn_prf(average, modifier, f\"{metric.capitalize()} is\", len(result))\n",
      "/Users/yuyi/Desktop/DeepLearningProject/venv/lib/python3.9/site-packages/sklearn/metrics/_classification.py:1565: UndefinedMetricWarning: Precision is ill-defined and being set to 0.0 in labels with no predicted samples. Use `zero_division` parameter to control this behavior.\n",
      "  _warn_prf(average, modifier, f\"{metric.capitalize()} is\", len(result))\n"
     ]
    },
    {
     "name": "stdout",
     "output_type": "stream",
     "text": [
      "\n",
      "Validation Report:\n",
      "angry: Prec=0.000 | Rec=0.000 | F1=0.000\n",
      "disgust: Prec=0.000 | Rec=0.000 | F1=0.000\n",
      "fear: Prec=0.000 | Rec=0.000 | F1=0.000\n",
      "happy: Prec=0.247 | Rec=1.000 | F1=0.396\n",
      "neutral: Prec=0.000 | Rec=0.000 | F1=0.000\n",
      "sad: Prec=0.000 | Rec=0.000 | F1=0.000\n",
      "surprise: Prec=0.000 | Rec=0.000 | F1=0.000\n",
      "\n",
      "Epoch Summary: Train Loss=1.9298 | Val Loss=1.8701 | Train Acc=0.212 | Val Acc=0.247\n",
      "Epoch time: 129.99 seconds\n",
      "\n",
      "Epoch 2/15\n"
     ]
    },
    {
     "name": "stderr",
     "output_type": "stream",
     "text": [
      "Training: 100%|██████████| 525/525 [01:50<00:00,  4.75it/s]\n",
      "Validation: 100%|██████████| 113/113 [00:17<00:00,  6.46it/s]\n",
      "/Users/yuyi/Desktop/DeepLearningProject/venv/lib/python3.9/site-packages/sklearn/metrics/_classification.py:1565: UndefinedMetricWarning: Precision is ill-defined and being set to 0.0 in labels with no predicted samples. Use `zero_division` parameter to control this behavior.\n",
      "  _warn_prf(average, modifier, f\"{metric.capitalize()} is\", len(result))\n",
      "/Users/yuyi/Desktop/DeepLearningProject/venv/lib/python3.9/site-packages/sklearn/metrics/_classification.py:1565: UndefinedMetricWarning: Precision is ill-defined and being set to 0.0 in labels with no predicted samples. Use `zero_division` parameter to control this behavior.\n",
      "  _warn_prf(average, modifier, f\"{metric.capitalize()} is\", len(result))\n",
      "/Users/yuyi/Desktop/DeepLearningProject/venv/lib/python3.9/site-packages/sklearn/metrics/_classification.py:1565: UndefinedMetricWarning: Precision is ill-defined and being set to 0.0 in labels with no predicted samples. Use `zero_division` parameter to control this behavior.\n",
      "  _warn_prf(average, modifier, f\"{metric.capitalize()} is\", len(result))\n"
     ]
    },
    {
     "name": "stdout",
     "output_type": "stream",
     "text": [
      "\n",
      "Validation Report:\n",
      "angry: Prec=0.000 | Rec=0.000 | F1=0.000\n",
      "disgust: Prec=0.000 | Rec=0.000 | F1=0.000\n",
      "fear: Prec=0.000 | Rec=0.000 | F1=0.000\n",
      "happy: Prec=0.251 | Rec=0.997 | F1=0.401\n",
      "neutral: Prec=0.000 | Rec=0.000 | F1=0.000\n",
      "sad: Prec=0.000 | Rec=0.000 | F1=0.000\n",
      "surprise: Prec=0.530 | Rec=0.085 | F1=0.147\n",
      "\n",
      "Epoch Summary: Train Loss=1.8927 | Val Loss=1.9649 | Train Acc=0.215 | Val Acc=0.256\n",
      "Epoch time: 128.15 seconds\n",
      "\n",
      "Epoch 3/15\n"
     ]
    },
    {
     "name": "stderr",
     "output_type": "stream",
     "text": [
      "Training: 100%|██████████| 525/525 [01:43<00:00,  5.05it/s]\n",
      "Validation: 100%|██████████| 113/113 [00:17<00:00,  6.38it/s]\n",
      "/Users/yuyi/Desktop/DeepLearningProject/venv/lib/python3.9/site-packages/sklearn/metrics/_classification.py:1565: UndefinedMetricWarning: Precision is ill-defined and being set to 0.0 in labels with no predicted samples. Use `zero_division` parameter to control this behavior.\n",
      "  _warn_prf(average, modifier, f\"{metric.capitalize()} is\", len(result))\n",
      "/Users/yuyi/Desktop/DeepLearningProject/venv/lib/python3.9/site-packages/sklearn/metrics/_classification.py:1565: UndefinedMetricWarning: Precision is ill-defined and being set to 0.0 in labels with no predicted samples. Use `zero_division` parameter to control this behavior.\n",
      "  _warn_prf(average, modifier, f\"{metric.capitalize()} is\", len(result))\n",
      "/Users/yuyi/Desktop/DeepLearningProject/venv/lib/python3.9/site-packages/sklearn/metrics/_classification.py:1565: UndefinedMetricWarning: Precision is ill-defined and being set to 0.0 in labels with no predicted samples. Use `zero_division` parameter to control this behavior.\n",
      "  _warn_prf(average, modifier, f\"{metric.capitalize()} is\", len(result))\n"
     ]
    },
    {
     "name": "stdout",
     "output_type": "stream",
     "text": [
      "\n",
      "Validation Report:\n",
      "angry: Prec=0.000 | Rec=0.000 | F1=0.000\n",
      "disgust: Prec=0.014 | Rec=0.351 | F1=0.027\n",
      "fear: Prec=0.000 | Rec=0.000 | F1=0.000\n",
      "happy: Prec=0.349 | Rec=0.857 | F1=0.497\n",
      "neutral: Prec=0.000 | Rec=0.000 | F1=0.000\n",
      "sad: Prec=0.000 | Rec=0.000 | F1=0.000\n",
      "surprise: Prec=0.000 | Rec=0.000 | F1=0.000\n",
      "\n",
      "Epoch Summary: Train Loss=1.8565 | Val Loss=1.7985 | Train Acc=0.240 | Val Acc=0.217\n",
      "Epoch time: 121.62 seconds\n",
      "\n",
      "Epoch 4/15\n"
     ]
    },
    {
     "name": "stderr",
     "output_type": "stream",
     "text": [
      "Training: 100%|██████████| 525/525 [02:08<00:00,  4.09it/s]\n",
      "Validation: 100%|██████████| 113/113 [00:18<00:00,  6.08it/s]\n",
      "/Users/yuyi/Desktop/DeepLearningProject/venv/lib/python3.9/site-packages/sklearn/metrics/_classification.py:1565: UndefinedMetricWarning: Precision is ill-defined and being set to 0.0 in labels with no predicted samples. Use `zero_division` parameter to control this behavior.\n",
      "  _warn_prf(average, modifier, f\"{metric.capitalize()} is\", len(result))\n",
      "/Users/yuyi/Desktop/DeepLearningProject/venv/lib/python3.9/site-packages/sklearn/metrics/_classification.py:1565: UndefinedMetricWarning: Precision is ill-defined and being set to 0.0 in labels with no predicted samples. Use `zero_division` parameter to control this behavior.\n",
      "  _warn_prf(average, modifier, f\"{metric.capitalize()} is\", len(result))\n",
      "/Users/yuyi/Desktop/DeepLearningProject/venv/lib/python3.9/site-packages/sklearn/metrics/_classification.py:1565: UndefinedMetricWarning: Precision is ill-defined and being set to 0.0 in labels with no predicted samples. Use `zero_division` parameter to control this behavior.\n",
      "  _warn_prf(average, modifier, f\"{metric.capitalize()} is\", len(result))\n"
     ]
    },
    {
     "name": "stdout",
     "output_type": "stream",
     "text": [
      "\n",
      "Validation Report:\n",
      "angry: Prec=0.000 | Rec=0.000 | F1=0.000\n",
      "disgust: Prec=0.013 | Rec=0.189 | F1=0.024\n",
      "fear: Prec=0.000 | Rec=0.000 | F1=0.000\n",
      "happy: Prec=0.314 | Rec=0.928 | F1=0.469\n",
      "neutral: Prec=0.199 | Rec=0.051 | F1=0.081\n",
      "sad: Prec=0.000 | Rec=0.000 | F1=0.000\n",
      "surprise: Prec=0.000 | Rec=0.000 | F1=0.000\n",
      "\n",
      "Epoch Summary: Train Loss=1.8301 | Val Loss=1.7617 | Train Acc=0.256 | Val Acc=0.241\n",
      "Epoch time: 146.81 seconds\n",
      "\n",
      "Epoch 5/15\n"
     ]
    },
    {
     "name": "stderr",
     "output_type": "stream",
     "text": [
      "Training: 100%|██████████| 525/525 [02:01<00:00,  4.31it/s]\n",
      "Validation: 100%|██████████| 113/113 [00:17<00:00,  6.44it/s]\n",
      "/Users/yuyi/Desktop/DeepLearningProject/venv/lib/python3.9/site-packages/sklearn/metrics/_classification.py:1565: UndefinedMetricWarning: Precision is ill-defined and being set to 0.0 in labels with no predicted samples. Use `zero_division` parameter to control this behavior.\n",
      "  _warn_prf(average, modifier, f\"{metric.capitalize()} is\", len(result))\n",
      "/Users/yuyi/Desktop/DeepLearningProject/venv/lib/python3.9/site-packages/sklearn/metrics/_classification.py:1565: UndefinedMetricWarning: Precision is ill-defined and being set to 0.0 in labels with no predicted samples. Use `zero_division` parameter to control this behavior.\n",
      "  _warn_prf(average, modifier, f\"{metric.capitalize()} is\", len(result))\n",
      "/Users/yuyi/Desktop/DeepLearningProject/venv/lib/python3.9/site-packages/sklearn/metrics/_classification.py:1565: UndefinedMetricWarning: Precision is ill-defined and being set to 0.0 in labels with no predicted samples. Use `zero_division` parameter to control this behavior.\n",
      "  _warn_prf(average, modifier, f\"{metric.capitalize()} is\", len(result))\n"
     ]
    },
    {
     "name": "stdout",
     "output_type": "stream",
     "text": [
      "\n",
      "Validation Report:\n",
      "angry: Prec=0.000 | Rec=0.000 | F1=0.000\n",
      "disgust: Prec=0.016 | Rec=0.396 | F1=0.032\n",
      "fear: Prec=0.000 | Rec=0.000 | F1=0.000\n",
      "happy: Prec=0.472 | Rec=0.806 | F1=0.596\n",
      "neutral: Prec=0.256 | Rec=0.291 | F1=0.272\n",
      "sad: Prec=0.184 | Rec=0.007 | F1=0.014\n",
      "surprise: Prec=0.053 | Rec=0.001 | F1=0.002\n",
      "\n",
      "Epoch Summary: Train Loss=1.7874 | Val Loss=1.7240 | Train Acc=0.288 | Val Acc=0.257\n",
      "Epoch time: 139.30 seconds\n",
      "\n",
      "Epoch 6/15\n"
     ]
    },
    {
     "name": "stderr",
     "output_type": "stream",
     "text": [
      "Training: 100%|██████████| 525/525 [01:54<00:00,  4.57it/s]\n",
      "Validation: 100%|██████████| 113/113 [00:17<00:00,  6.45it/s]\n",
      "/Users/yuyi/Desktop/DeepLearningProject/venv/lib/python3.9/site-packages/sklearn/metrics/_classification.py:1565: UndefinedMetricWarning: Precision is ill-defined and being set to 0.0 in labels with no predicted samples. Use `zero_division` parameter to control this behavior.\n",
      "  _warn_prf(average, modifier, f\"{metric.capitalize()} is\", len(result))\n",
      "/Users/yuyi/Desktop/DeepLearningProject/venv/lib/python3.9/site-packages/sklearn/metrics/_classification.py:1565: UndefinedMetricWarning: Precision is ill-defined and being set to 0.0 in labels with no predicted samples. Use `zero_division` parameter to control this behavior.\n",
      "  _warn_prf(average, modifier, f\"{metric.capitalize()} is\", len(result))\n",
      "/Users/yuyi/Desktop/DeepLearningProject/venv/lib/python3.9/site-packages/sklearn/metrics/_classification.py:1565: UndefinedMetricWarning: Precision is ill-defined and being set to 0.0 in labels with no predicted samples. Use `zero_division` parameter to control this behavior.\n",
      "  _warn_prf(average, modifier, f\"{metric.capitalize()} is\", len(result))\n"
     ]
    },
    {
     "name": "stdout",
     "output_type": "stream",
     "text": [
      "\n",
      "Validation Report:\n",
      "angry: Prec=0.000 | Rec=0.000 | F1=0.000\n",
      "disgust: Prec=0.018 | Rec=0.198 | F1=0.033\n",
      "fear: Prec=0.000 | Rec=0.000 | F1=0.000\n",
      "happy: Prec=0.537 | Rec=0.794 | F1=0.641\n",
      "neutral: Prec=0.271 | Rec=0.217 | F1=0.241\n",
      "sad: Prec=0.229 | Rec=0.432 | F1=0.300\n",
      "surprise: Prec=0.000 | Rec=0.000 | F1=0.000\n",
      "\n",
      "Epoch Summary: Train Loss=1.7449 | Val Loss=1.6536 | Train Acc=0.308 | Val Acc=0.312\n",
      "Epoch time: 132.36 seconds\n",
      "\n",
      "Epoch 7/15\n"
     ]
    },
    {
     "name": "stderr",
     "output_type": "stream",
     "text": [
      "Training: 100%|██████████| 525/525 [01:55<00:00,  4.53it/s]\n",
      "Validation: 100%|██████████| 113/113 [00:18<00:00,  6.11it/s]\n",
      "/Users/yuyi/Desktop/DeepLearningProject/venv/lib/python3.9/site-packages/sklearn/metrics/_classification.py:1565: UndefinedMetricWarning: Precision is ill-defined and being set to 0.0 in labels with no predicted samples. Use `zero_division` parameter to control this behavior.\n",
      "  _warn_prf(average, modifier, f\"{metric.capitalize()} is\", len(result))\n",
      "/Users/yuyi/Desktop/DeepLearningProject/venv/lib/python3.9/site-packages/sklearn/metrics/_classification.py:1565: UndefinedMetricWarning: Precision is ill-defined and being set to 0.0 in labels with no predicted samples. Use `zero_division` parameter to control this behavior.\n",
      "  _warn_prf(average, modifier, f\"{metric.capitalize()} is\", len(result))\n",
      "/Users/yuyi/Desktop/DeepLearningProject/venv/lib/python3.9/site-packages/sklearn/metrics/_classification.py:1565: UndefinedMetricWarning: Precision is ill-defined and being set to 0.0 in labels with no predicted samples. Use `zero_division` parameter to control this behavior.\n",
      "  _warn_prf(average, modifier, f\"{metric.capitalize()} is\", len(result))\n"
     ]
    },
    {
     "name": "stdout",
     "output_type": "stream",
     "text": [
      "\n",
      "Validation Report:\n",
      "angry: Prec=0.000 | Rec=0.000 | F1=0.000\n",
      "disgust: Prec=0.014 | Rec=0.396 | F1=0.027\n",
      "fear: Prec=0.000 | Rec=0.000 | F1=0.000\n",
      "happy: Prec=0.608 | Rec=0.720 | F1=0.659\n",
      "neutral: Prec=0.270 | Rec=0.298 | F1=0.283\n",
      "sad: Prec=0.240 | Rec=0.095 | F1=0.137\n",
      "surprise: Prec=0.120 | Rec=0.014 | F1=0.026\n",
      "\n",
      "Epoch Summary: Train Loss=1.7099 | Val Loss=1.7338 | Train Acc=0.321 | Val Acc=0.254\n",
      "Epoch time: 134.47 seconds\n",
      "\n",
      "Epoch 8/15\n"
     ]
    },
    {
     "name": "stderr",
     "output_type": "stream",
     "text": [
      "Training: 100%|██████████| 525/525 [02:01<00:00,  4.31it/s]\n",
      "Validation: 100%|██████████| 113/113 [00:18<00:00,  6.27it/s]\n",
      "/Users/yuyi/Desktop/DeepLearningProject/venv/lib/python3.9/site-packages/sklearn/metrics/_classification.py:1565: UndefinedMetricWarning: Precision is ill-defined and being set to 0.0 in labels with no predicted samples. Use `zero_division` parameter to control this behavior.\n",
      "  _warn_prf(average, modifier, f\"{metric.capitalize()} is\", len(result))\n",
      "/Users/yuyi/Desktop/DeepLearningProject/venv/lib/python3.9/site-packages/sklearn/metrics/_classification.py:1565: UndefinedMetricWarning: Precision is ill-defined and being set to 0.0 in labels with no predicted samples. Use `zero_division` parameter to control this behavior.\n",
      "  _warn_prf(average, modifier, f\"{metric.capitalize()} is\", len(result))\n",
      "/Users/yuyi/Desktop/DeepLearningProject/venv/lib/python3.9/site-packages/sklearn/metrics/_classification.py:1565: UndefinedMetricWarning: Precision is ill-defined and being set to 0.0 in labels with no predicted samples. Use `zero_division` parameter to control this behavior.\n",
      "  _warn_prf(average, modifier, f\"{metric.capitalize()} is\", len(result))\n"
     ]
    },
    {
     "name": "stdout",
     "output_type": "stream",
     "text": [
      "\n",
      "Validation Report:\n",
      "angry: Prec=0.000 | Rec=0.000 | F1=0.000\n",
      "disgust: Prec=0.018 | Rec=0.099 | F1=0.031\n",
      "fear: Prec=0.000 | Rec=0.000 | F1=0.000\n",
      "happy: Prec=0.533 | Rec=0.853 | F1=0.656\n",
      "neutral: Prec=0.249 | Rec=0.244 | F1=0.247\n",
      "sad: Prec=0.249 | Rec=0.459 | F1=0.323\n",
      "surprise: Prec=0.518 | Rec=0.141 | F1=0.221\n",
      "\n",
      "Epoch Summary: Train Loss=1.6815 | Val Loss=1.5814 | Train Acc=0.332 | Val Acc=0.350\n",
      "Epoch time: 139.79 seconds\n",
      "\n",
      "Epoch 9/15\n"
     ]
    },
    {
     "name": "stderr",
     "output_type": "stream",
     "text": [
      "Training: 100%|██████████| 525/525 [02:00<00:00,  4.37it/s]\n",
      "Validation: 100%|██████████| 113/113 [00:17<00:00,  6.29it/s]\n",
      "/Users/yuyi/Desktop/DeepLearningProject/venv/lib/python3.9/site-packages/sklearn/metrics/_classification.py:1565: UndefinedMetricWarning: Precision is ill-defined and being set to 0.0 in labels with no predicted samples. Use `zero_division` parameter to control this behavior.\n",
      "  _warn_prf(average, modifier, f\"{metric.capitalize()} is\", len(result))\n",
      "/Users/yuyi/Desktop/DeepLearningProject/venv/lib/python3.9/site-packages/sklearn/metrics/_classification.py:1565: UndefinedMetricWarning: Precision is ill-defined and being set to 0.0 in labels with no predicted samples. Use `zero_division` parameter to control this behavior.\n",
      "  _warn_prf(average, modifier, f\"{metric.capitalize()} is\", len(result))\n",
      "/Users/yuyi/Desktop/DeepLearningProject/venv/lib/python3.9/site-packages/sklearn/metrics/_classification.py:1565: UndefinedMetricWarning: Precision is ill-defined and being set to 0.0 in labels with no predicted samples. Use `zero_division` parameter to control this behavior.\n",
      "  _warn_prf(average, modifier, f\"{metric.capitalize()} is\", len(result))\n"
     ]
    },
    {
     "name": "stdout",
     "output_type": "stream",
     "text": [
      "\n",
      "Validation Report:\n",
      "angry: Prec=0.000 | Rec=0.000 | F1=0.000\n",
      "disgust: Prec=0.025 | Rec=0.234 | F1=0.045\n",
      "fear: Prec=0.208 | Rec=0.010 | F1=0.019\n",
      "happy: Prec=0.458 | Rec=0.855 | F1=0.596\n",
      "neutral: Prec=0.297 | Rec=0.266 | F1=0.281\n",
      "sad: Prec=0.276 | Rec=0.194 | F1=0.228\n",
      "surprise: Prec=0.422 | Rec=0.401 | F1=0.411\n",
      "\n",
      "Epoch Summary: Train Loss=1.6587 | Val Loss=1.6131 | Train Acc=0.353 | Val Acc=0.342\n",
      "Epoch time: 138.15 seconds\n",
      "\n",
      "Epoch 10/15\n"
     ]
    },
    {
     "name": "stderr",
     "output_type": "stream",
     "text": [
      "Training: 100%|██████████| 525/525 [02:00<00:00,  4.36it/s]\n",
      "Validation: 100%|██████████| 113/113 [00:17<00:00,  6.28it/s]\n",
      "/Users/yuyi/Desktop/DeepLearningProject/venv/lib/python3.9/site-packages/sklearn/metrics/_classification.py:1565: UndefinedMetricWarning: Precision is ill-defined and being set to 0.0 in labels with no predicted samples. Use `zero_division` parameter to control this behavior.\n",
      "  _warn_prf(average, modifier, f\"{metric.capitalize()} is\", len(result))\n",
      "/Users/yuyi/Desktop/DeepLearningProject/venv/lib/python3.9/site-packages/sklearn/metrics/_classification.py:1565: UndefinedMetricWarning: Precision is ill-defined and being set to 0.0 in labels with no predicted samples. Use `zero_division` parameter to control this behavior.\n",
      "  _warn_prf(average, modifier, f\"{metric.capitalize()} is\", len(result))\n",
      "/Users/yuyi/Desktop/DeepLearningProject/venv/lib/python3.9/site-packages/sklearn/metrics/_classification.py:1565: UndefinedMetricWarning: Precision is ill-defined and being set to 0.0 in labels with no predicted samples. Use `zero_division` parameter to control this behavior.\n",
      "  _warn_prf(average, modifier, f\"{metric.capitalize()} is\", len(result))\n"
     ]
    },
    {
     "name": "stdout",
     "output_type": "stream",
     "text": [
      "\n",
      "Validation Report:\n",
      "angry: Prec=0.000 | Rec=0.000 | F1=0.000\n",
      "disgust: Prec=0.035 | Rec=0.279 | F1=0.063\n",
      "fear: Prec=0.195 | Rec=0.017 | F1=0.031\n",
      "happy: Prec=0.511 | Rec=0.844 | F1=0.637\n",
      "neutral: Prec=0.293 | Rec=0.133 | F1=0.183\n",
      "sad: Prec=0.308 | Rec=0.348 | F1=0.327\n",
      "surprise: Prec=0.399 | Rec=0.632 | F1=0.489\n",
      "\n",
      "Epoch Summary: Train Loss=1.6245 | Val Loss=1.5657 | Train Acc=0.371 | Val Acc=0.372\n",
      "Epoch time: 138.31 seconds\n",
      "\n",
      "Epoch 11/15\n"
     ]
    },
    {
     "name": "stderr",
     "output_type": "stream",
     "text": [
      "Training: 100%|██████████| 525/525 [02:04<00:00,  4.21it/s]\n",
      "Validation: 100%|██████████| 113/113 [00:17<00:00,  6.43it/s]\n",
      "/Users/yuyi/Desktop/DeepLearningProject/venv/lib/python3.9/site-packages/sklearn/metrics/_classification.py:1565: UndefinedMetricWarning: Precision is ill-defined and being set to 0.0 in labels with no predicted samples. Use `zero_division` parameter to control this behavior.\n",
      "  _warn_prf(average, modifier, f\"{metric.capitalize()} is\", len(result))\n",
      "/Users/yuyi/Desktop/DeepLearningProject/venv/lib/python3.9/site-packages/sklearn/metrics/_classification.py:1565: UndefinedMetricWarning: Precision is ill-defined and being set to 0.0 in labels with no predicted samples. Use `zero_division` parameter to control this behavior.\n",
      "  _warn_prf(average, modifier, f\"{metric.capitalize()} is\", len(result))\n",
      "/Users/yuyi/Desktop/DeepLearningProject/venv/lib/python3.9/site-packages/sklearn/metrics/_classification.py:1565: UndefinedMetricWarning: Precision is ill-defined and being set to 0.0 in labels with no predicted samples. Use `zero_division` parameter to control this behavior.\n",
      "  _warn_prf(average, modifier, f\"{metric.capitalize()} is\", len(result))\n"
     ]
    },
    {
     "name": "stdout",
     "output_type": "stream",
     "text": [
      "\n",
      "Validation Report:\n",
      "angry: Prec=0.000 | Rec=0.000 | F1=0.000\n",
      "disgust: Prec=0.033 | Rec=0.036 | F1=0.034\n",
      "fear: Prec=0.185 | Rec=0.005 | F1=0.010\n",
      "happy: Prec=0.527 | Rec=0.886 | F1=0.661\n",
      "neutral: Prec=0.261 | Rec=0.208 | F1=0.231\n",
      "sad: Prec=0.269 | Rec=0.550 | F1=0.362\n",
      "surprise: Prec=0.691 | Rec=0.428 | F1=0.529\n",
      "\n",
      "Epoch Summary: Train Loss=1.6059 | Val Loss=1.4881 | Train Acc=0.376 | Val Acc=0.401\n",
      "Epoch time: 142.20 seconds\n",
      "\n",
      "Epoch 12/15\n"
     ]
    },
    {
     "name": "stderr",
     "output_type": "stream",
     "text": [
      "Training: 100%|██████████| 525/525 [01:58<00:00,  4.41it/s]\n",
      "Validation: 100%|██████████| 113/113 [00:18<00:00,  6.25it/s]\n",
      "/Users/yuyi/Desktop/DeepLearningProject/venv/lib/python3.9/site-packages/sklearn/metrics/_classification.py:1565: UndefinedMetricWarning: Precision is ill-defined and being set to 0.0 in labels with no predicted samples. Use `zero_division` parameter to control this behavior.\n",
      "  _warn_prf(average, modifier, f\"{metric.capitalize()} is\", len(result))\n",
      "/Users/yuyi/Desktop/DeepLearningProject/venv/lib/python3.9/site-packages/sklearn/metrics/_classification.py:1565: UndefinedMetricWarning: Precision is ill-defined and being set to 0.0 in labels with no predicted samples. Use `zero_division` parameter to control this behavior.\n",
      "  _warn_prf(average, modifier, f\"{metric.capitalize()} is\", len(result))\n",
      "/Users/yuyi/Desktop/DeepLearningProject/venv/lib/python3.9/site-packages/sklearn/metrics/_classification.py:1565: UndefinedMetricWarning: Precision is ill-defined and being set to 0.0 in labels with no predicted samples. Use `zero_division` parameter to control this behavior.\n",
      "  _warn_prf(average, modifier, f\"{metric.capitalize()} is\", len(result))\n"
     ]
    },
    {
     "name": "stdout",
     "output_type": "stream",
     "text": [
      "\n",
      "Validation Report:\n",
      "angry: Prec=0.000 | Rec=0.000 | F1=0.000\n",
      "disgust: Prec=0.074 | Rec=0.243 | F1=0.113\n",
      "fear: Prec=0.244 | Rec=0.112 | F1=0.154\n",
      "happy: Prec=0.550 | Rec=0.875 | F1=0.675\n",
      "neutral: Prec=0.329 | Rec=0.460 | F1=0.383\n",
      "sad: Prec=0.315 | Rec=0.260 | F1=0.285\n",
      "surprise: Prec=0.639 | Rec=0.586 | F1=0.611\n",
      "\n",
      "Epoch Summary: Train Loss=1.5662 | Val Loss=1.4608 | Train Acc=0.396 | Val Acc=0.428\n",
      "Epoch time: 137.13 seconds\n",
      "\n",
      "Epoch 13/15\n"
     ]
    },
    {
     "name": "stderr",
     "output_type": "stream",
     "text": [
      "Training: 100%|██████████| 525/525 [02:02<00:00,  4.28it/s]\n",
      "Validation: 100%|██████████| 113/113 [00:17<00:00,  6.31it/s]\n",
      "/Users/yuyi/Desktop/DeepLearningProject/venv/lib/python3.9/site-packages/sklearn/metrics/_classification.py:1565: UndefinedMetricWarning: Precision is ill-defined and being set to 0.0 in labels with no predicted samples. Use `zero_division` parameter to control this behavior.\n",
      "  _warn_prf(average, modifier, f\"{metric.capitalize()} is\", len(result))\n",
      "/Users/yuyi/Desktop/DeepLearningProject/venv/lib/python3.9/site-packages/sklearn/metrics/_classification.py:1565: UndefinedMetricWarning: Precision is ill-defined and being set to 0.0 in labels with no predicted samples. Use `zero_division` parameter to control this behavior.\n",
      "  _warn_prf(average, modifier, f\"{metric.capitalize()} is\", len(result))\n",
      "/Users/yuyi/Desktop/DeepLearningProject/venv/lib/python3.9/site-packages/sklearn/metrics/_classification.py:1565: UndefinedMetricWarning: Precision is ill-defined and being set to 0.0 in labels with no predicted samples. Use `zero_division` parameter to control this behavior.\n",
      "  _warn_prf(average, modifier, f\"{metric.capitalize()} is\", len(result))\n"
     ]
    },
    {
     "name": "stdout",
     "output_type": "stream",
     "text": [
      "\n",
      "Validation Report:\n",
      "angry: Prec=0.000 | Rec=0.000 | F1=0.000\n",
      "disgust: Prec=0.048 | Rec=0.036 | F1=0.041\n",
      "fear: Prec=0.223 | Rec=0.122 | F1=0.158\n",
      "happy: Prec=0.626 | Rec=0.860 | F1=0.724\n",
      "neutral: Prec=0.344 | Rec=0.473 | F1=0.398\n",
      "sad: Prec=0.308 | Rec=0.321 | F1=0.314\n",
      "surprise: Prec=0.550 | Rec=0.730 | F1=0.627\n",
      "\n",
      "Epoch Summary: Train Loss=1.5084 | Val Loss=1.3808 | Train Acc=0.427 | Val Acc=0.452\n",
      "Epoch time: 140.63 seconds\n",
      "\n",
      "Epoch 14/15\n"
     ]
    },
    {
     "name": "stderr",
     "output_type": "stream",
     "text": [
      "Training: 100%|██████████| 525/525 [02:02<00:00,  4.28it/s]\n",
      "Validation: 100%|██████████| 113/113 [00:17<00:00,  6.41it/s]\n",
      "/Users/yuyi/Desktop/DeepLearningProject/venv/lib/python3.9/site-packages/sklearn/metrics/_classification.py:1565: UndefinedMetricWarning: Precision is ill-defined and being set to 0.0 in labels with no predicted samples. Use `zero_division` parameter to control this behavior.\n",
      "  _warn_prf(average, modifier, f\"{metric.capitalize()} is\", len(result))\n",
      "/Users/yuyi/Desktop/DeepLearningProject/venv/lib/python3.9/site-packages/sklearn/metrics/_classification.py:1565: UndefinedMetricWarning: Precision is ill-defined and being set to 0.0 in labels with no predicted samples. Use `zero_division` parameter to control this behavior.\n",
      "  _warn_prf(average, modifier, f\"{metric.capitalize()} is\", len(result))\n",
      "/Users/yuyi/Desktop/DeepLearningProject/venv/lib/python3.9/site-packages/sklearn/metrics/_classification.py:1565: UndefinedMetricWarning: Precision is ill-defined and being set to 0.0 in labels with no predicted samples. Use `zero_division` parameter to control this behavior.\n",
      "  _warn_prf(average, modifier, f\"{metric.capitalize()} is\", len(result))\n"
     ]
    },
    {
     "name": "stdout",
     "output_type": "stream",
     "text": [
      "\n",
      "Validation Report:\n",
      "angry: Prec=0.000 | Rec=0.000 | F1=0.000\n",
      "disgust: Prec=0.119 | Rec=0.063 | F1=0.082\n",
      "fear: Prec=0.211 | Rec=0.056 | F1=0.088\n",
      "happy: Prec=0.663 | Rec=0.827 | F1=0.736\n",
      "neutral: Prec=0.304 | Rec=0.729 | F1=0.429\n",
      "sad: Prec=0.307 | Rec=0.120 | F1=0.173\n",
      "surprise: Prec=0.534 | Rec=0.765 | F1=0.629\n",
      "\n",
      "Epoch Summary: Train Loss=1.4762 | Val Loss=1.3697 | Train Acc=0.441 | Val Acc=0.448\n",
      "Epoch time: 140.30 seconds\n",
      "\n",
      "Epoch 15/15\n"
     ]
    },
    {
     "name": "stderr",
     "output_type": "stream",
     "text": [
      "Training: 100%|██████████| 525/525 [01:55<00:00,  4.54it/s]\n",
      "Validation: 100%|██████████| 113/113 [00:17<00:00,  6.46it/s]\n",
      "/Users/yuyi/Desktop/DeepLearningProject/venv/lib/python3.9/site-packages/sklearn/metrics/_classification.py:1565: UndefinedMetricWarning: Precision is ill-defined and being set to 0.0 in labels with no predicted samples. Use `zero_division` parameter to control this behavior.\n",
      "  _warn_prf(average, modifier, f\"{metric.capitalize()} is\", len(result))\n",
      "/Users/yuyi/Desktop/DeepLearningProject/venv/lib/python3.9/site-packages/sklearn/metrics/_classification.py:1565: UndefinedMetricWarning: Precision is ill-defined and being set to 0.0 in labels with no predicted samples. Use `zero_division` parameter to control this behavior.\n",
      "  _warn_prf(average, modifier, f\"{metric.capitalize()} is\", len(result))\n",
      "/Users/yuyi/Desktop/DeepLearningProject/venv/lib/python3.9/site-packages/sklearn/metrics/_classification.py:1565: UndefinedMetricWarning: Precision is ill-defined and being set to 0.0 in labels with no predicted samples. Use `zero_division` parameter to control this behavior.\n",
      "  _warn_prf(average, modifier, f\"{metric.capitalize()} is\", len(result))\n"
     ]
    },
    {
     "name": "stdout",
     "output_type": "stream",
     "text": [
      "\n",
      "Validation Report:\n",
      "angry: Prec=0.000 | Rec=0.000 | F1=0.000\n",
      "disgust: Prec=0.198 | Rec=0.162 | F1=0.178\n",
      "fear: Prec=0.230 | Rec=0.140 | F1=0.174\n",
      "happy: Prec=0.611 | Rec=0.878 | F1=0.721\n",
      "neutral: Prec=0.317 | Rec=0.634 | F1=0.423\n",
      "sad: Prec=0.372 | Rec=0.115 | F1=0.176\n",
      "surprise: Prec=0.568 | Rec=0.726 | F1=0.637\n",
      "\n",
      "Epoch Summary: Train Loss=1.4516 | Val Loss=1.3627 | Train Acc=0.449 | Val Acc=0.452\n",
      "Epoch time: 133.26 seconds\n",
      "Saved model to 'results/adam_lr3_dropout15_bn'\n",
      "\n",
      "Training config: adam_lr2_dropout15_bn\n",
      "\n",
      "Epoch 1/15\n"
     ]
    },
    {
     "name": "stderr",
     "output_type": "stream",
     "text": [
      "Training: 100%|██████████| 525/525 [01:54<00:00,  4.58it/s]\n",
      "Validation: 100%|██████████| 113/113 [00:19<00:00,  5.79it/s]\n",
      "/Users/yuyi/Desktop/DeepLearningProject/venv/lib/python3.9/site-packages/sklearn/metrics/_classification.py:1565: UndefinedMetricWarning: Precision is ill-defined and being set to 0.0 in labels with no predicted samples. Use `zero_division` parameter to control this behavior.\n",
      "  _warn_prf(average, modifier, f\"{metric.capitalize()} is\", len(result))\n",
      "/Users/yuyi/Desktop/DeepLearningProject/venv/lib/python3.9/site-packages/sklearn/metrics/_classification.py:1565: UndefinedMetricWarning: Precision is ill-defined and being set to 0.0 in labels with no predicted samples. Use `zero_division` parameter to control this behavior.\n",
      "  _warn_prf(average, modifier, f\"{metric.capitalize()} is\", len(result))\n",
      "/Users/yuyi/Desktop/DeepLearningProject/venv/lib/python3.9/site-packages/sklearn/metrics/_classification.py:1565: UndefinedMetricWarning: Precision is ill-defined and being set to 0.0 in labels with no predicted samples. Use `zero_division` parameter to control this behavior.\n",
      "  _warn_prf(average, modifier, f\"{metric.capitalize()} is\", len(result))\n"
     ]
    },
    {
     "name": "stdout",
     "output_type": "stream",
     "text": [
      "\n",
      "Validation Report:\n",
      "angry: Prec=0.000 | Rec=0.000 | F1=0.000\n",
      "disgust: Prec=0.000 | Rec=0.000 | F1=0.000\n",
      "fear: Prec=0.000 | Rec=0.000 | F1=0.000\n",
      "happy: Prec=0.247 | Rec=0.999 | F1=0.396\n",
      "neutral: Prec=0.000 | Rec=0.000 | F1=0.000\n",
      "sad: Prec=0.000 | Rec=0.000 | F1=0.000\n",
      "surprise: Prec=0.000 | Rec=0.000 | F1=0.000\n",
      "\n",
      "Epoch Summary: Train Loss=2.0728 | Val Loss=1.8851 | Train Acc=0.209 | Val Acc=0.247\n",
      "Epoch time: 134.28 seconds\n",
      "\n",
      "Epoch 2/15\n"
     ]
    },
    {
     "name": "stderr",
     "output_type": "stream",
     "text": [
      "Training: 100%|██████████| 525/525 [02:10<00:00,  4.01it/s]\n",
      "Validation: 100%|██████████| 113/113 [00:17<00:00,  6.34it/s]\n",
      "/Users/yuyi/Desktop/DeepLearningProject/venv/lib/python3.9/site-packages/sklearn/metrics/_classification.py:1565: UndefinedMetricWarning: Precision is ill-defined and being set to 0.0 in labels with no predicted samples. Use `zero_division` parameter to control this behavior.\n",
      "  _warn_prf(average, modifier, f\"{metric.capitalize()} is\", len(result))\n",
      "/Users/yuyi/Desktop/DeepLearningProject/venv/lib/python3.9/site-packages/sklearn/metrics/_classification.py:1565: UndefinedMetricWarning: Precision is ill-defined and being set to 0.0 in labels with no predicted samples. Use `zero_division` parameter to control this behavior.\n",
      "  _warn_prf(average, modifier, f\"{metric.capitalize()} is\", len(result))\n",
      "/Users/yuyi/Desktop/DeepLearningProject/venv/lib/python3.9/site-packages/sklearn/metrics/_classification.py:1565: UndefinedMetricWarning: Precision is ill-defined and being set to 0.0 in labels with no predicted samples. Use `zero_division` parameter to control this behavior.\n",
      "  _warn_prf(average, modifier, f\"{metric.capitalize()} is\", len(result))\n"
     ]
    },
    {
     "name": "stdout",
     "output_type": "stream",
     "text": [
      "\n",
      "Validation Report:\n",
      "angry: Prec=0.000 | Rec=0.000 | F1=0.000\n",
      "disgust: Prec=0.000 | Rec=0.000 | F1=0.000\n",
      "fear: Prec=0.333 | Rec=0.007 | F1=0.013\n",
      "happy: Prec=0.252 | Rec=0.981 | F1=0.401\n",
      "neutral: Prec=0.143 | Rec=0.001 | F1=0.002\n",
      "sad: Prec=0.000 | Rec=0.000 | F1=0.000\n",
      "surprise: Prec=0.342 | Rec=0.090 | F1=0.143\n",
      "\n",
      "Epoch Summary: Train Loss=1.9108 | Val Loss=1.8809 | Train Acc=0.218 | Val Acc=0.254\n",
      "Epoch time: 148.72 seconds\n",
      "\n",
      "Epoch 3/15\n"
     ]
    },
    {
     "name": "stderr",
     "output_type": "stream",
     "text": [
      "Training: 100%|██████████| 525/525 [01:56<00:00,  4.50it/s]\n",
      "Validation: 100%|██████████| 113/113 [00:18<00:00,  6.17it/s]\n",
      "/Users/yuyi/Desktop/DeepLearningProject/venv/lib/python3.9/site-packages/sklearn/metrics/_classification.py:1565: UndefinedMetricWarning: Precision is ill-defined and being set to 0.0 in labels with no predicted samples. Use `zero_division` parameter to control this behavior.\n",
      "  _warn_prf(average, modifier, f\"{metric.capitalize()} is\", len(result))\n",
      "/Users/yuyi/Desktop/DeepLearningProject/venv/lib/python3.9/site-packages/sklearn/metrics/_classification.py:1565: UndefinedMetricWarning: Precision is ill-defined and being set to 0.0 in labels with no predicted samples. Use `zero_division` parameter to control this behavior.\n",
      "  _warn_prf(average, modifier, f\"{metric.capitalize()} is\", len(result))\n",
      "/Users/yuyi/Desktop/DeepLearningProject/venv/lib/python3.9/site-packages/sklearn/metrics/_classification.py:1565: UndefinedMetricWarning: Precision is ill-defined and being set to 0.0 in labels with no predicted samples. Use `zero_division` parameter to control this behavior.\n",
      "  _warn_prf(average, modifier, f\"{metric.capitalize()} is\", len(result))\n"
     ]
    },
    {
     "name": "stdout",
     "output_type": "stream",
     "text": [
      "\n",
      "Validation Report:\n",
      "angry: Prec=1.000 | Rec=0.001 | F1=0.002\n",
      "disgust: Prec=0.000 | Rec=0.000 | F1=0.000\n",
      "fear: Prec=0.000 | Rec=0.000 | F1=0.000\n",
      "happy: Prec=0.254 | Rec=0.973 | F1=0.403\n",
      "neutral: Prec=0.077 | Rec=0.001 | F1=0.002\n",
      "sad: Prec=0.364 | Rec=0.006 | F1=0.013\n",
      "surprise: Prec=0.401 | Rec=0.172 | F1=0.241\n",
      "\n",
      "Epoch Summary: Train Loss=1.9055 | Val Loss=1.8703 | Train Acc=0.222 | Val Acc=0.262\n",
      "Epoch time: 135.06 seconds\n",
      "\n",
      "Epoch 4/15\n"
     ]
    },
    {
     "name": "stderr",
     "output_type": "stream",
     "text": [
      "Training: 100%|██████████| 525/525 [02:07<00:00,  4.11it/s]\n",
      "Validation: 100%|██████████| 113/113 [00:17<00:00,  6.38it/s]\n",
      "/Users/yuyi/Desktop/DeepLearningProject/venv/lib/python3.9/site-packages/sklearn/metrics/_classification.py:1565: UndefinedMetricWarning: Precision is ill-defined and being set to 0.0 in labels with no predicted samples. Use `zero_division` parameter to control this behavior.\n",
      "  _warn_prf(average, modifier, f\"{metric.capitalize()} is\", len(result))\n",
      "/Users/yuyi/Desktop/DeepLearningProject/venv/lib/python3.9/site-packages/sklearn/metrics/_classification.py:1565: UndefinedMetricWarning: Precision is ill-defined and being set to 0.0 in labels with no predicted samples. Use `zero_division` parameter to control this behavior.\n",
      "  _warn_prf(average, modifier, f\"{metric.capitalize()} is\", len(result))\n",
      "/Users/yuyi/Desktop/DeepLearningProject/venv/lib/python3.9/site-packages/sklearn/metrics/_classification.py:1565: UndefinedMetricWarning: Precision is ill-defined and being set to 0.0 in labels with no predicted samples. Use `zero_division` parameter to control this behavior.\n",
      "  _warn_prf(average, modifier, f\"{metric.capitalize()} is\", len(result))\n"
     ]
    },
    {
     "name": "stdout",
     "output_type": "stream",
     "text": [
      "\n",
      "Validation Report:\n",
      "angry: Prec=0.000 | Rec=0.000 | F1=0.000\n",
      "disgust: Prec=0.000 | Rec=0.000 | F1=0.000\n",
      "fear: Prec=0.250 | Rec=0.002 | F1=0.004\n",
      "happy: Prec=0.269 | Rec=0.885 | F1=0.413\n",
      "neutral: Prec=0.219 | Rec=0.092 | F1=0.129\n",
      "sad: Prec=0.289 | Rec=0.009 | F1=0.017\n",
      "surprise: Prec=0.438 | Rec=0.412 | F1=0.424\n",
      "\n",
      "Epoch Summary: Train Loss=1.8914 | Val Loss=1.8555 | Train Acc=0.228 | Val Acc=0.284\n",
      "Epoch time: 145.59 seconds\n",
      "\n",
      "Epoch 5/15\n"
     ]
    },
    {
     "name": "stderr",
     "output_type": "stream",
     "text": [
      "Training: 100%|██████████| 525/525 [01:57<00:00,  4.46it/s]\n",
      "Validation: 100%|██████████| 113/113 [00:18<00:00,  6.10it/s]\n",
      "/Users/yuyi/Desktop/DeepLearningProject/venv/lib/python3.9/site-packages/sklearn/metrics/_classification.py:1565: UndefinedMetricWarning: Precision is ill-defined and being set to 0.0 in labels with no predicted samples. Use `zero_division` parameter to control this behavior.\n",
      "  _warn_prf(average, modifier, f\"{metric.capitalize()} is\", len(result))\n",
      "/Users/yuyi/Desktop/DeepLearningProject/venv/lib/python3.9/site-packages/sklearn/metrics/_classification.py:1565: UndefinedMetricWarning: Precision is ill-defined and being set to 0.0 in labels with no predicted samples. Use `zero_division` parameter to control this behavior.\n",
      "  _warn_prf(average, modifier, f\"{metric.capitalize()} is\", len(result))\n",
      "/Users/yuyi/Desktop/DeepLearningProject/venv/lib/python3.9/site-packages/sklearn/metrics/_classification.py:1565: UndefinedMetricWarning: Precision is ill-defined and being set to 0.0 in labels with no predicted samples. Use `zero_division` parameter to control this behavior.\n",
      "  _warn_prf(average, modifier, f\"{metric.capitalize()} is\", len(result))\n"
     ]
    },
    {
     "name": "stdout",
     "output_type": "stream",
     "text": [
      "\n",
      "Validation Report:\n",
      "angry: Prec=0.000 | Rec=0.000 | F1=0.000\n",
      "disgust: Prec=0.015 | Rec=0.225 | F1=0.029\n",
      "fear: Prec=0.273 | Rec=0.006 | F1=0.011\n",
      "happy: Prec=0.292 | Rec=0.665 | F1=0.406\n",
      "neutral: Prec=0.219 | Rec=0.020 | F1=0.037\n",
      "sad: Prec=0.272 | Rec=0.136 | F1=0.181\n",
      "surprise: Prec=0.458 | Rec=0.408 | F1=0.432\n",
      "\n",
      "Epoch Summary: Train Loss=1.8564 | Val Loss=1.8263 | Train Acc=0.251 | Val Acc=0.243\n",
      "Epoch time: 136.17 seconds\n",
      "\n",
      "Epoch 6/15\n"
     ]
    },
    {
     "name": "stderr",
     "output_type": "stream",
     "text": [
      "Training: 100%|██████████| 525/525 [02:02<00:00,  4.27it/s]\n",
      "Validation: 100%|██████████| 113/113 [00:17<00:00,  6.32it/s]\n"
     ]
    },
    {
     "name": "stdout",
     "output_type": "stream",
     "text": [
      "\n",
      "Validation Report:\n",
      "angry: Prec=0.205 | Rec=0.009 | F1=0.018\n",
      "disgust: Prec=0.016 | Rec=0.234 | F1=0.030\n",
      "fear: Prec=0.000 | Rec=0.000 | F1=0.000\n",
      "happy: Prec=0.344 | Rec=0.660 | F1=0.452\n",
      "neutral: Prec=0.300 | Rec=0.088 | F1=0.136\n",
      "sad: Prec=0.277 | Rec=0.227 | F1=0.249\n",
      "surprise: Prec=0.502 | Rec=0.442 | F1=0.470\n",
      "\n",
      "Epoch Summary: Train Loss=1.8047 | Val Loss=1.8009 | Train Acc=0.291 | Val Acc=0.274\n",
      "Epoch time: 140.87 seconds\n",
      "\n",
      "Epoch 7/15\n"
     ]
    },
    {
     "name": "stderr",
     "output_type": "stream",
     "text": [
      "Training: 100%|██████████| 525/525 [01:58<00:00,  4.44it/s]\n",
      "Validation: 100%|██████████| 113/113 [00:17<00:00,  6.33it/s]\n"
     ]
    },
    {
     "name": "stdout",
     "output_type": "stream",
     "text": [
      "\n",
      "Validation Report:\n",
      "angry: Prec=0.246 | Rec=0.045 | F1=0.076\n",
      "disgust: Prec=0.010 | Rec=0.063 | F1=0.017\n",
      "fear: Prec=0.192 | Rec=0.070 | F1=0.103\n",
      "happy: Prec=0.440 | Rec=0.551 | F1=0.489\n",
      "neutral: Prec=0.250 | Rec=0.085 | F1=0.127\n",
      "sad: Prec=0.299 | Rec=0.286 | F1=0.293\n",
      "surprise: Prec=0.298 | Rec=0.746 | F1=0.426\n",
      "\n",
      "Epoch Summary: Train Loss=1.7395 | Val Loss=1.7390 | Train Acc=0.320 | Val Acc=0.304\n",
      "Epoch time: 136.12 seconds\n",
      "\n",
      "Epoch 8/15\n"
     ]
    },
    {
     "name": "stderr",
     "output_type": "stream",
     "text": [
      "Training: 100%|██████████| 525/525 [02:02<00:00,  4.29it/s]\n",
      "Validation: 100%|██████████| 113/113 [00:18<00:00,  6.21it/s]\n"
     ]
    },
    {
     "name": "stdout",
     "output_type": "stream",
     "text": [
      "\n",
      "Validation Report:\n",
      "angry: Prec=0.280 | Rec=0.027 | F1=0.049\n",
      "disgust: Prec=0.009 | Rec=0.036 | F1=0.014\n",
      "fear: Prec=0.217 | Rec=0.058 | F1=0.091\n",
      "happy: Prec=0.586 | Rec=0.505 | F1=0.543\n",
      "neutral: Prec=0.275 | Rec=0.078 | F1=0.121\n",
      "sad: Prec=0.262 | Rec=0.621 | F1=0.368\n",
      "surprise: Prec=0.386 | Rec=0.708 | F1=0.500\n",
      "\n",
      "Epoch Summary: Train Loss=1.6878 | Val Loss=1.6622 | Train Acc=0.339 | Val Acc=0.340\n",
      "Epoch time: 140.67 seconds\n",
      "\n",
      "Epoch 9/15\n"
     ]
    },
    {
     "name": "stderr",
     "output_type": "stream",
     "text": [
      "Training: 100%|██████████| 525/525 [02:05<00:00,  4.19it/s]\n",
      "Validation: 100%|██████████| 113/113 [00:18<00:00,  6.26it/s]\n",
      "/Users/yuyi/Desktop/DeepLearningProject/venv/lib/python3.9/site-packages/sklearn/metrics/_classification.py:1565: UndefinedMetricWarning: Precision is ill-defined and being set to 0.0 in labels with no predicted samples. Use `zero_division` parameter to control this behavior.\n",
      "  _warn_prf(average, modifier, f\"{metric.capitalize()} is\", len(result))\n",
      "/Users/yuyi/Desktop/DeepLearningProject/venv/lib/python3.9/site-packages/sklearn/metrics/_classification.py:1565: UndefinedMetricWarning: Precision is ill-defined and being set to 0.0 in labels with no predicted samples. Use `zero_division` parameter to control this behavior.\n",
      "  _warn_prf(average, modifier, f\"{metric.capitalize()} is\", len(result))\n",
      "/Users/yuyi/Desktop/DeepLearningProject/venv/lib/python3.9/site-packages/sklearn/metrics/_classification.py:1565: UndefinedMetricWarning: Precision is ill-defined and being set to 0.0 in labels with no predicted samples. Use `zero_division` parameter to control this behavior.\n",
      "  _warn_prf(average, modifier, f\"{metric.capitalize()} is\", len(result))\n"
     ]
    },
    {
     "name": "stdout",
     "output_type": "stream",
     "text": [
      "\n",
      "Validation Report:\n",
      "angry: Prec=0.000 | Rec=0.000 | F1=0.000\n",
      "disgust: Prec=0.018 | Rec=0.432 | F1=0.035\n",
      "fear: Prec=0.333 | Rec=0.003 | F1=0.006\n",
      "happy: Prec=0.444 | Rec=0.525 | F1=0.481\n",
      "neutral: Prec=0.297 | Rec=0.131 | F1=0.182\n",
      "sad: Prec=0.305 | Rec=0.164 | F1=0.213\n",
      "surprise: Prec=0.432 | Rec=0.631 | F1=0.512\n",
      "\n",
      "Epoch Summary: Train Loss=1.6546 | Val Loss=1.9881 | Train Acc=0.358 | Val Acc=0.261\n",
      "Epoch time: 143.38 seconds\n",
      "\n",
      "Epoch 10/15\n"
     ]
    },
    {
     "name": "stderr",
     "output_type": "stream",
     "text": [
      "Training: 100%|██████████| 525/525 [02:05<00:00,  4.19it/s]\n",
      "Validation: 100%|██████████| 113/113 [00:18<00:00,  6.19it/s]\n",
      "/Users/yuyi/Desktop/DeepLearningProject/venv/lib/python3.9/site-packages/sklearn/metrics/_classification.py:1565: UndefinedMetricWarning: Precision is ill-defined and being set to 0.0 in labels with no predicted samples. Use `zero_division` parameter to control this behavior.\n",
      "  _warn_prf(average, modifier, f\"{metric.capitalize()} is\", len(result))\n",
      "/Users/yuyi/Desktop/DeepLearningProject/venv/lib/python3.9/site-packages/sklearn/metrics/_classification.py:1565: UndefinedMetricWarning: Precision is ill-defined and being set to 0.0 in labels with no predicted samples. Use `zero_division` parameter to control this behavior.\n",
      "  _warn_prf(average, modifier, f\"{metric.capitalize()} is\", len(result))\n",
      "/Users/yuyi/Desktop/DeepLearningProject/venv/lib/python3.9/site-packages/sklearn/metrics/_classification.py:1565: UndefinedMetricWarning: Precision is ill-defined and being set to 0.0 in labels with no predicted samples. Use `zero_division` parameter to control this behavior.\n",
      "  _warn_prf(average, modifier, f\"{metric.capitalize()} is\", len(result))\n"
     ]
    },
    {
     "name": "stdout",
     "output_type": "stream",
     "text": [
      "\n",
      "Validation Report:\n",
      "angry: Prec=0.000 | Rec=0.000 | F1=0.000\n",
      "disgust: Prec=0.020 | Rec=0.072 | F1=0.031\n",
      "fear: Prec=0.283 | Rec=0.013 | F1=0.024\n",
      "happy: Prec=0.353 | Rec=0.865 | F1=0.502\n",
      "neutral: Prec=0.289 | Rec=0.143 | F1=0.191\n",
      "sad: Prec=0.335 | Rec=0.143 | F1=0.200\n",
      "surprise: Prec=0.450 | Rec=0.677 | F1=0.541\n",
      "\n",
      "Epoch Summary: Train Loss=1.6193 | Val Loss=1.6416 | Train Acc=0.371 | Val Acc=0.344\n",
      "Epoch time: 143.70 seconds\n",
      "\n",
      "Epoch 11/15\n"
     ]
    },
    {
     "name": "stderr",
     "output_type": "stream",
     "text": [
      "Training: 100%|██████████| 525/525 [02:05<00:00,  4.20it/s]\n",
      "Validation: 100%|██████████| 113/113 [00:17<00:00,  6.40it/s]\n"
     ]
    },
    {
     "name": "stdout",
     "output_type": "stream",
     "text": [
      "\n",
      "Validation Report:\n",
      "angry: Prec=0.206 | Rec=0.128 | F1=0.158\n",
      "disgust: Prec=0.017 | Rec=0.018 | F1=0.017\n",
      "fear: Prec=0.205 | Rec=0.083 | F1=0.118\n",
      "happy: Prec=0.489 | Rec=0.675 | F1=0.567\n",
      "neutral: Prec=0.287 | Rec=0.146 | F1=0.194\n",
      "sad: Prec=0.291 | Rec=0.379 | F1=0.329\n",
      "surprise: Prec=0.437 | Rec=0.710 | F1=0.541\n",
      "\n",
      "Epoch Summary: Train Loss=1.5973 | Val Loss=1.5941 | Train Acc=0.382 | Val Acc=0.369\n",
      "Epoch time: 142.70 seconds\n",
      "\n",
      "Epoch 12/15\n"
     ]
    },
    {
     "name": "stderr",
     "output_type": "stream",
     "text": [
      "Training: 100%|██████████| 525/525 [01:56<00:00,  4.50it/s]\n",
      "Validation: 100%|██████████| 113/113 [00:17<00:00,  6.28it/s]\n"
     ]
    },
    {
     "name": "stdout",
     "output_type": "stream",
     "text": [
      "\n",
      "Validation Report:\n",
      "angry: Prec=0.500 | Rec=0.002 | F1=0.004\n",
      "disgust: Prec=0.026 | Rec=0.135 | F1=0.044\n",
      "fear: Prec=0.233 | Rec=0.021 | F1=0.038\n",
      "happy: Prec=0.544 | Rec=0.690 | F1=0.609\n",
      "neutral: Prec=0.269 | Rec=0.400 | F1=0.321\n",
      "sad: Prec=0.288 | Rec=0.328 | F1=0.307\n",
      "surprise: Prec=0.511 | Rec=0.619 | F1=0.560\n",
      "\n",
      "Epoch Summary: Train Loss=1.5705 | Val Loss=1.6207 | Train Acc=0.390 | Val Acc=0.373\n",
      "Epoch time: 134.77 seconds\n",
      "\n",
      "Epoch 13/15\n"
     ]
    },
    {
     "name": "stderr",
     "output_type": "stream",
     "text": [
      "Training: 100%|██████████| 525/525 [01:58<00:00,  4.43it/s]\n",
      "Validation: 100%|██████████| 113/113 [00:17<00:00,  6.34it/s]\n"
     ]
    },
    {
     "name": "stdout",
     "output_type": "stream",
     "text": [
      "\n",
      "Validation Report:\n",
      "angry: Prec=0.300 | Rec=0.003 | F1=0.006\n",
      "disgust: Prec=0.028 | Rec=0.225 | F1=0.050\n",
      "fear: Prec=0.221 | Rec=0.097 | F1=0.135\n",
      "happy: Prec=0.465 | Rec=0.704 | F1=0.560\n",
      "neutral: Prec=0.282 | Rec=0.172 | F1=0.214\n",
      "sad: Prec=0.287 | Rec=0.411 | F1=0.338\n",
      "surprise: Prec=0.632 | Rec=0.463 | F1=0.535\n",
      "\n",
      "Epoch Summary: Train Loss=1.5584 | Val Loss=1.6662 | Train Acc=0.394 | Val Acc=0.346\n",
      "Epoch time: 136.31 seconds\n",
      "\n",
      "Epoch 14/15\n"
     ]
    },
    {
     "name": "stderr",
     "output_type": "stream",
     "text": [
      "Training: 100%|██████████| 525/525 [01:55<00:00,  4.54it/s]\n",
      "Validation: 100%|██████████| 113/113 [00:17<00:00,  6.48it/s]\n"
     ]
    },
    {
     "name": "stdout",
     "output_type": "stream",
     "text": [
      "\n",
      "Validation Report:\n",
      "angry: Prec=0.147 | Rec=0.005 | F1=0.010\n",
      "disgust: Prec=0.023 | Rec=0.099 | F1=0.037\n",
      "fear: Prec=0.243 | Rec=0.044 | F1=0.074\n",
      "happy: Prec=0.439 | Rec=0.799 | F1=0.567\n",
      "neutral: Prec=0.283 | Rec=0.199 | F1=0.234\n",
      "sad: Prec=0.283 | Rec=0.278 | F1=0.281\n",
      "surprise: Prec=0.489 | Rec=0.682 | F1=0.570\n",
      "\n",
      "Epoch Summary: Train Loss=1.5361 | Val Loss=1.6175 | Train Acc=0.401 | Val Acc=0.367\n",
      "Epoch time: 133.06 seconds\n",
      "\n",
      "Epoch 15/15\n"
     ]
    },
    {
     "name": "stderr",
     "output_type": "stream",
     "text": [
      "Training: 100%|██████████| 525/525 [01:57<00:00,  4.46it/s]\n",
      "Validation: 100%|██████████| 113/113 [00:18<00:00,  6.09it/s]\n"
     ]
    },
    {
     "name": "stdout",
     "output_type": "stream",
     "text": [
      "\n",
      "Validation Report:\n",
      "angry: Prec=0.167 | Rec=0.005 | F1=0.010\n",
      "disgust: Prec=0.023 | Rec=0.171 | F1=0.041\n",
      "fear: Prec=0.276 | Rec=0.016 | F1=0.030\n",
      "happy: Prec=0.590 | Rec=0.644 | F1=0.616\n",
      "neutral: Prec=0.274 | Rec=0.406 | F1=0.327\n",
      "sad: Prec=0.309 | Rec=0.438 | F1=0.363\n",
      "surprise: Prec=0.599 | Rec=0.540 | F1=0.568\n",
      "\n",
      "Epoch Summary: Train Loss=1.5383 | Val Loss=1.6606 | Train Acc=0.402 | Val Acc=0.373\n",
      "Epoch time: 136.31 seconds\n",
      "Saved model to 'results/adam_lr2_dropout15_bn'\n",
      "\n",
      "Training config: adam_lr3_dropout20_bn\n",
      "\n",
      "Epoch 1/15\n"
     ]
    },
    {
     "name": "stderr",
     "output_type": "stream",
     "text": [
      "Training: 100%|██████████| 525/525 [01:57<00:00,  4.46it/s]\n",
      "Validation: 100%|██████████| 113/113 [00:17<00:00,  6.35it/s]\n",
      "/Users/yuyi/Desktop/DeepLearningProject/venv/lib/python3.9/site-packages/sklearn/metrics/_classification.py:1565: UndefinedMetricWarning: Precision is ill-defined and being set to 0.0 in labels with no predicted samples. Use `zero_division` parameter to control this behavior.\n",
      "  _warn_prf(average, modifier, f\"{metric.capitalize()} is\", len(result))\n",
      "/Users/yuyi/Desktop/DeepLearningProject/venv/lib/python3.9/site-packages/sklearn/metrics/_classification.py:1565: UndefinedMetricWarning: Precision is ill-defined and being set to 0.0 in labels with no predicted samples. Use `zero_division` parameter to control this behavior.\n",
      "  _warn_prf(average, modifier, f\"{metric.capitalize()} is\", len(result))\n",
      "/Users/yuyi/Desktop/DeepLearningProject/venv/lib/python3.9/site-packages/sklearn/metrics/_classification.py:1565: UndefinedMetricWarning: Precision is ill-defined and being set to 0.0 in labels with no predicted samples. Use `zero_division` parameter to control this behavior.\n",
      "  _warn_prf(average, modifier, f\"{metric.capitalize()} is\", len(result))\n"
     ]
    },
    {
     "name": "stdout",
     "output_type": "stream",
     "text": [
      "\n",
      "Validation Report:\n",
      "angry: Prec=0.000 | Rec=0.000 | F1=0.000\n",
      "disgust: Prec=0.000 | Rec=0.000 | F1=0.000\n",
      "fear: Prec=0.000 | Rec=0.000 | F1=0.000\n",
      "happy: Prec=0.247 | Rec=1.000 | F1=0.396\n",
      "neutral: Prec=0.000 | Rec=0.000 | F1=0.000\n",
      "sad: Prec=0.000 | Rec=0.000 | F1=0.000\n",
      "surprise: Prec=0.000 | Rec=0.000 | F1=0.000\n",
      "\n",
      "Epoch Summary: Train Loss=1.9331 | Val Loss=1.8500 | Train Acc=0.196 | Val Acc=0.247\n",
      "Epoch time: 135.48 seconds\n",
      "\n",
      "Epoch 2/15\n"
     ]
    },
    {
     "name": "stderr",
     "output_type": "stream",
     "text": [
      "Training: 100%|██████████| 525/525 [01:56<00:00,  4.51it/s]\n",
      "Validation: 100%|██████████| 113/113 [00:17<00:00,  6.36it/s]\n",
      "/Users/yuyi/Desktop/DeepLearningProject/venv/lib/python3.9/site-packages/sklearn/metrics/_classification.py:1565: UndefinedMetricWarning: Precision is ill-defined and being set to 0.0 in labels with no predicted samples. Use `zero_division` parameter to control this behavior.\n",
      "  _warn_prf(average, modifier, f\"{metric.capitalize()} is\", len(result))\n",
      "/Users/yuyi/Desktop/DeepLearningProject/venv/lib/python3.9/site-packages/sklearn/metrics/_classification.py:1565: UndefinedMetricWarning: Precision is ill-defined and being set to 0.0 in labels with no predicted samples. Use `zero_division` parameter to control this behavior.\n",
      "  _warn_prf(average, modifier, f\"{metric.capitalize()} is\", len(result))\n",
      "/Users/yuyi/Desktop/DeepLearningProject/venv/lib/python3.9/site-packages/sklearn/metrics/_classification.py:1565: UndefinedMetricWarning: Precision is ill-defined and being set to 0.0 in labels with no predicted samples. Use `zero_division` parameter to control this behavior.\n",
      "  _warn_prf(average, modifier, f\"{metric.capitalize()} is\", len(result))\n"
     ]
    },
    {
     "name": "stdout",
     "output_type": "stream",
     "text": [
      "\n",
      "Validation Report:\n",
      "angry: Prec=0.000 | Rec=0.000 | F1=0.000\n",
      "disgust: Prec=0.012 | Rec=0.261 | F1=0.022\n",
      "fear: Prec=0.000 | Rec=0.000 | F1=0.000\n",
      "happy: Prec=0.338 | Rec=0.896 | F1=0.491\n",
      "neutral: Prec=0.000 | Rec=0.000 | F1=0.000\n",
      "sad: Prec=0.000 | Rec=0.000 | F1=0.000\n",
      "surprise: Prec=0.000 | Rec=0.000 | F1=0.000\n",
      "\n",
      "Epoch Summary: Train Loss=1.8781 | Val Loss=1.8041 | Train Acc=0.227 | Val Acc=0.226\n",
      "Epoch time: 134.12 seconds\n",
      "\n",
      "Epoch 3/15\n"
     ]
    },
    {
     "name": "stderr",
     "output_type": "stream",
     "text": [
      "Training: 100%|██████████| 525/525 [01:59<00:00,  4.38it/s]\n",
      "Validation: 100%|██████████| 113/113 [00:17<00:00,  6.38it/s]\n",
      "/Users/yuyi/Desktop/DeepLearningProject/venv/lib/python3.9/site-packages/sklearn/metrics/_classification.py:1565: UndefinedMetricWarning: Precision is ill-defined and being set to 0.0 in labels with no predicted samples. Use `zero_division` parameter to control this behavior.\n",
      "  _warn_prf(average, modifier, f\"{metric.capitalize()} is\", len(result))\n",
      "/Users/yuyi/Desktop/DeepLearningProject/venv/lib/python3.9/site-packages/sklearn/metrics/_classification.py:1565: UndefinedMetricWarning: Precision is ill-defined and being set to 0.0 in labels with no predicted samples. Use `zero_division` parameter to control this behavior.\n",
      "  _warn_prf(average, modifier, f\"{metric.capitalize()} is\", len(result))\n",
      "/Users/yuyi/Desktop/DeepLearningProject/venv/lib/python3.9/site-packages/sklearn/metrics/_classification.py:1565: UndefinedMetricWarning: Precision is ill-defined and being set to 0.0 in labels with no predicted samples. Use `zero_division` parameter to control this behavior.\n",
      "  _warn_prf(average, modifier, f\"{metric.capitalize()} is\", len(result))\n"
     ]
    },
    {
     "name": "stdout",
     "output_type": "stream",
     "text": [
      "\n",
      "Validation Report:\n",
      "angry: Prec=0.000 | Rec=0.000 | F1=0.000\n",
      "disgust: Prec=0.015 | Rec=0.631 | F1=0.029\n",
      "fear: Prec=0.000 | Rec=0.000 | F1=0.000\n",
      "happy: Prec=0.515 | Rec=0.590 | F1=0.550\n",
      "neutral: Prec=0.000 | Rec=0.000 | F1=0.000\n",
      "sad: Prec=0.269 | Rec=0.110 | F1=0.156\n",
      "surprise: Prec=0.000 | Rec=0.000 | F1=0.000\n",
      "\n",
      "Epoch Summary: Train Loss=1.8408 | Val Loss=1.8451 | Train Acc=0.254 | Val Acc=0.175\n",
      "Epoch time: 137.69 seconds\n",
      "\n",
      "Epoch 4/15\n"
     ]
    },
    {
     "name": "stderr",
     "output_type": "stream",
     "text": [
      "Training: 100%|██████████| 525/525 [02:01<00:00,  4.32it/s]\n",
      "Validation: 100%|██████████| 113/113 [00:17<00:00,  6.43it/s]\n",
      "/Users/yuyi/Desktop/DeepLearningProject/venv/lib/python3.9/site-packages/sklearn/metrics/_classification.py:1565: UndefinedMetricWarning: Precision is ill-defined and being set to 0.0 in labels with no predicted samples. Use `zero_division` parameter to control this behavior.\n",
      "  _warn_prf(average, modifier, f\"{metric.capitalize()} is\", len(result))\n",
      "/Users/yuyi/Desktop/DeepLearningProject/venv/lib/python3.9/site-packages/sklearn/metrics/_classification.py:1565: UndefinedMetricWarning: Precision is ill-defined and being set to 0.0 in labels with no predicted samples. Use `zero_division` parameter to control this behavior.\n",
      "  _warn_prf(average, modifier, f\"{metric.capitalize()} is\", len(result))\n",
      "/Users/yuyi/Desktop/DeepLearningProject/venv/lib/python3.9/site-packages/sklearn/metrics/_classification.py:1565: UndefinedMetricWarning: Precision is ill-defined and being set to 0.0 in labels with no predicted samples. Use `zero_division` parameter to control this behavior.\n",
      "  _warn_prf(average, modifier, f\"{metric.capitalize()} is\", len(result))\n"
     ]
    },
    {
     "name": "stdout",
     "output_type": "stream",
     "text": [
      "\n",
      "Validation Report:\n",
      "angry: Prec=0.000 | Rec=0.000 | F1=0.000\n",
      "disgust: Prec=0.013 | Rec=0.306 | F1=0.024\n",
      "fear: Prec=0.000 | Rec=0.000 | F1=0.000\n",
      "happy: Prec=0.504 | Rec=0.822 | F1=0.625\n",
      "neutral: Prec=0.296 | Rec=0.235 | F1=0.262\n",
      "sad: Prec=0.233 | Rec=0.113 | F1=0.152\n",
      "surprise: Prec=0.000 | Rec=0.000 | F1=0.000\n",
      "\n",
      "Epoch Summary: Train Loss=1.8046 | Val Loss=1.7198 | Train Acc=0.278 | Val Acc=0.268\n",
      "Epoch time: 139.17 seconds\n",
      "\n",
      "Epoch 5/15\n"
     ]
    },
    {
     "name": "stderr",
     "output_type": "stream",
     "text": [
      "Training: 100%|██████████| 525/525 [01:57<00:00,  4.47it/s]\n",
      "Validation: 100%|██████████| 113/113 [00:17<00:00,  6.38it/s]\n",
      "/Users/yuyi/Desktop/DeepLearningProject/venv/lib/python3.9/site-packages/sklearn/metrics/_classification.py:1565: UndefinedMetricWarning: Precision is ill-defined and being set to 0.0 in labels with no predicted samples. Use `zero_division` parameter to control this behavior.\n",
      "  _warn_prf(average, modifier, f\"{metric.capitalize()} is\", len(result))\n",
      "/Users/yuyi/Desktop/DeepLearningProject/venv/lib/python3.9/site-packages/sklearn/metrics/_classification.py:1565: UndefinedMetricWarning: Precision is ill-defined and being set to 0.0 in labels with no predicted samples. Use `zero_division` parameter to control this behavior.\n",
      "  _warn_prf(average, modifier, f\"{metric.capitalize()} is\", len(result))\n",
      "/Users/yuyi/Desktop/DeepLearningProject/venv/lib/python3.9/site-packages/sklearn/metrics/_classification.py:1565: UndefinedMetricWarning: Precision is ill-defined and being set to 0.0 in labels with no predicted samples. Use `zero_division` parameter to control this behavior.\n",
      "  _warn_prf(average, modifier, f\"{metric.capitalize()} is\", len(result))\n"
     ]
    },
    {
     "name": "stdout",
     "output_type": "stream",
     "text": [
      "\n",
      "Validation Report:\n",
      "angry: Prec=0.000 | Rec=0.000 | F1=0.000\n",
      "disgust: Prec=0.013 | Rec=0.297 | F1=0.026\n",
      "fear: Prec=0.000 | Rec=0.000 | F1=0.000\n",
      "happy: Prec=0.568 | Rec=0.827 | F1=0.673\n",
      "neutral: Prec=0.286 | Rec=0.257 | F1=0.271\n",
      "sad: Prec=0.244 | Rec=0.201 | F1=0.221\n",
      "surprise: Prec=0.000 | Rec=0.000 | F1=0.000\n",
      "\n",
      "Epoch Summary: Train Loss=1.7705 | Val Loss=1.6812 | Train Acc=0.295 | Val Acc=0.288\n",
      "Epoch time: 135.24 seconds\n",
      "\n",
      "Epoch 6/15\n"
     ]
    },
    {
     "name": "stderr",
     "output_type": "stream",
     "text": [
      "Training: 100%|██████████| 525/525 [01:57<00:00,  4.46it/s]\n",
      "Validation: 100%|██████████| 113/113 [00:17<00:00,  6.45it/s]\n",
      "/Users/yuyi/Desktop/DeepLearningProject/venv/lib/python3.9/site-packages/sklearn/metrics/_classification.py:1565: UndefinedMetricWarning: Precision is ill-defined and being set to 0.0 in labels with no predicted samples. Use `zero_division` parameter to control this behavior.\n",
      "  _warn_prf(average, modifier, f\"{metric.capitalize()} is\", len(result))\n",
      "/Users/yuyi/Desktop/DeepLearningProject/venv/lib/python3.9/site-packages/sklearn/metrics/_classification.py:1565: UndefinedMetricWarning: Precision is ill-defined and being set to 0.0 in labels with no predicted samples. Use `zero_division` parameter to control this behavior.\n",
      "  _warn_prf(average, modifier, f\"{metric.capitalize()} is\", len(result))\n",
      "/Users/yuyi/Desktop/DeepLearningProject/venv/lib/python3.9/site-packages/sklearn/metrics/_classification.py:1565: UndefinedMetricWarning: Precision is ill-defined and being set to 0.0 in labels with no predicted samples. Use `zero_division` parameter to control this behavior.\n",
      "  _warn_prf(average, modifier, f\"{metric.capitalize()} is\", len(result))\n"
     ]
    },
    {
     "name": "stdout",
     "output_type": "stream",
     "text": [
      "\n",
      "Validation Report:\n",
      "angry: Prec=0.000 | Rec=0.000 | F1=0.000\n",
      "disgust: Prec=0.017 | Rec=0.883 | F1=0.034\n",
      "fear: Prec=0.000 | Rec=0.000 | F1=0.000\n",
      "happy: Prec=0.783 | Rec=0.647 | F1=0.709\n",
      "neutral: Prec=0.519 | Rec=0.011 | F1=0.022\n",
      "sad: Prec=0.250 | Rec=0.006 | F1=0.011\n",
      "surprise: Prec=0.000 | Rec=0.000 | F1=0.000\n",
      "\n",
      "Epoch Summary: Train Loss=1.7406 | Val Loss=1.8428 | Train Acc=0.310 | Val Acc=0.177\n",
      "Epoch time: 135.36 seconds\n",
      "\n",
      "Epoch 7/15\n"
     ]
    },
    {
     "name": "stderr",
     "output_type": "stream",
     "text": [
      "Training: 100%|██████████| 525/525 [01:57<00:00,  4.47it/s]\n",
      "Validation: 100%|██████████| 113/113 [00:17<00:00,  6.32it/s]\n",
      "/Users/yuyi/Desktop/DeepLearningProject/venv/lib/python3.9/site-packages/sklearn/metrics/_classification.py:1565: UndefinedMetricWarning: Precision is ill-defined and being set to 0.0 in labels with no predicted samples. Use `zero_division` parameter to control this behavior.\n",
      "  _warn_prf(average, modifier, f\"{metric.capitalize()} is\", len(result))\n",
      "/Users/yuyi/Desktop/DeepLearningProject/venv/lib/python3.9/site-packages/sklearn/metrics/_classification.py:1565: UndefinedMetricWarning: Precision is ill-defined and being set to 0.0 in labels with no predicted samples. Use `zero_division` parameter to control this behavior.\n",
      "  _warn_prf(average, modifier, f\"{metric.capitalize()} is\", len(result))\n",
      "/Users/yuyi/Desktop/DeepLearningProject/venv/lib/python3.9/site-packages/sklearn/metrics/_classification.py:1565: UndefinedMetricWarning: Precision is ill-defined and being set to 0.0 in labels with no predicted samples. Use `zero_division` parameter to control this behavior.\n",
      "  _warn_prf(average, modifier, f\"{metric.capitalize()} is\", len(result))\n"
     ]
    },
    {
     "name": "stdout",
     "output_type": "stream",
     "text": [
      "\n",
      "Validation Report:\n",
      "angry: Prec=0.000 | Rec=0.000 | F1=0.000\n",
      "disgust: Prec=0.019 | Rec=0.541 | F1=0.037\n",
      "fear: Prec=0.000 | Rec=0.000 | F1=0.000\n",
      "happy: Prec=0.643 | Rec=0.766 | F1=0.699\n",
      "neutral: Prec=0.307 | Rec=0.367 | F1=0.334\n",
      "sad: Prec=0.259 | Rec=0.079 | F1=0.121\n",
      "surprise: Prec=0.060 | Rec=0.006 | F1=0.011\n",
      "\n",
      "Epoch Summary: Train Loss=1.7112 | Val Loss=1.7095 | Train Acc=0.323 | Val Acc=0.275\n",
      "Epoch time: 135.34 seconds\n",
      "\n",
      "Epoch 8/15\n"
     ]
    },
    {
     "name": "stderr",
     "output_type": "stream",
     "text": [
      "Training: 100%|██████████| 525/525 [01:57<00:00,  4.46it/s]\n",
      "Validation: 100%|██████████| 113/113 [00:18<00:00,  6.01it/s]\n",
      "/Users/yuyi/Desktop/DeepLearningProject/venv/lib/python3.9/site-packages/sklearn/metrics/_classification.py:1565: UndefinedMetricWarning: Precision is ill-defined and being set to 0.0 in labels with no predicted samples. Use `zero_division` parameter to control this behavior.\n",
      "  _warn_prf(average, modifier, f\"{metric.capitalize()} is\", len(result))\n",
      "/Users/yuyi/Desktop/DeepLearningProject/venv/lib/python3.9/site-packages/sklearn/metrics/_classification.py:1565: UndefinedMetricWarning: Precision is ill-defined and being set to 0.0 in labels with no predicted samples. Use `zero_division` parameter to control this behavior.\n",
      "  _warn_prf(average, modifier, f\"{metric.capitalize()} is\", len(result))\n",
      "/Users/yuyi/Desktop/DeepLearningProject/venv/lib/python3.9/site-packages/sklearn/metrics/_classification.py:1565: UndefinedMetricWarning: Precision is ill-defined and being set to 0.0 in labels with no predicted samples. Use `zero_division` parameter to control this behavior.\n",
      "  _warn_prf(average, modifier, f\"{metric.capitalize()} is\", len(result))\n"
     ]
    },
    {
     "name": "stdout",
     "output_type": "stream",
     "text": [
      "\n",
      "Validation Report:\n",
      "angry: Prec=0.000 | Rec=0.000 | F1=0.000\n",
      "disgust: Prec=0.018 | Rec=0.505 | F1=0.035\n",
      "fear: Prec=0.000 | Rec=0.000 | F1=0.000\n",
      "happy: Prec=0.566 | Rec=0.834 | F1=0.675\n",
      "neutral: Prec=0.349 | Rec=0.215 | F1=0.266\n",
      "sad: Prec=0.250 | Rec=0.113 | F1=0.156\n",
      "surprise: Prec=0.049 | Rec=0.010 | F1=0.016\n",
      "\n",
      "Epoch Summary: Train Loss=1.6960 | Val Loss=1.7063 | Train Acc=0.329 | Val Acc=0.272\n",
      "Epoch time: 136.47 seconds\n",
      "\n",
      "Epoch 9/15\n"
     ]
    },
    {
     "name": "stderr",
     "output_type": "stream",
     "text": [
      "Training: 100%|██████████| 525/525 [01:59<00:00,  4.39it/s]\n",
      "Validation: 100%|██████████| 113/113 [00:17<00:00,  6.44it/s]\n",
      "/Users/yuyi/Desktop/DeepLearningProject/venv/lib/python3.9/site-packages/sklearn/metrics/_classification.py:1565: UndefinedMetricWarning: Precision is ill-defined and being set to 0.0 in labels with no predicted samples. Use `zero_division` parameter to control this behavior.\n",
      "  _warn_prf(average, modifier, f\"{metric.capitalize()} is\", len(result))\n",
      "/Users/yuyi/Desktop/DeepLearningProject/venv/lib/python3.9/site-packages/sklearn/metrics/_classification.py:1565: UndefinedMetricWarning: Precision is ill-defined and being set to 0.0 in labels with no predicted samples. Use `zero_division` parameter to control this behavior.\n",
      "  _warn_prf(average, modifier, f\"{metric.capitalize()} is\", len(result))\n",
      "/Users/yuyi/Desktop/DeepLearningProject/venv/lib/python3.9/site-packages/sklearn/metrics/_classification.py:1565: UndefinedMetricWarning: Precision is ill-defined and being set to 0.0 in labels with no predicted samples. Use `zero_division` parameter to control this behavior.\n",
      "  _warn_prf(average, modifier, f\"{metric.capitalize()} is\", len(result))\n"
     ]
    },
    {
     "name": "stdout",
     "output_type": "stream",
     "text": [
      "\n",
      "Validation Report:\n",
      "angry: Prec=0.000 | Rec=0.000 | F1=0.000\n",
      "disgust: Prec=0.065 | Rec=0.027 | F1=0.038\n",
      "fear: Prec=0.291 | Rec=0.066 | F1=0.108\n",
      "happy: Prec=0.465 | Rec=0.917 | F1=0.617\n",
      "neutral: Prec=0.304 | Rec=0.365 | F1=0.332\n",
      "sad: Prec=0.324 | Rec=0.303 | F1=0.313\n",
      "surprise: Prec=0.589 | Rec=0.534 | F1=0.560\n",
      "\n",
      "Epoch Summary: Train Loss=1.6467 | Val Loss=1.5007 | Train Acc=0.367 | Val Acc=0.414\n",
      "Epoch time: 137.10 seconds\n",
      "\n",
      "Epoch 10/15\n"
     ]
    },
    {
     "name": "stderr",
     "output_type": "stream",
     "text": [
      "Training: 100%|██████████| 525/525 [02:00<00:00,  4.36it/s]\n",
      "Validation: 100%|██████████| 113/113 [00:17<00:00,  6.34it/s]\n",
      "/Users/yuyi/Desktop/DeepLearningProject/venv/lib/python3.9/site-packages/sklearn/metrics/_classification.py:1565: UndefinedMetricWarning: Precision is ill-defined and being set to 0.0 in labels with no predicted samples. Use `zero_division` parameter to control this behavior.\n",
      "  _warn_prf(average, modifier, f\"{metric.capitalize()} is\", len(result))\n",
      "/Users/yuyi/Desktop/DeepLearningProject/venv/lib/python3.9/site-packages/sklearn/metrics/_classification.py:1565: UndefinedMetricWarning: Precision is ill-defined and being set to 0.0 in labels with no predicted samples. Use `zero_division` parameter to control this behavior.\n",
      "  _warn_prf(average, modifier, f\"{metric.capitalize()} is\", len(result))\n",
      "/Users/yuyi/Desktop/DeepLearningProject/venv/lib/python3.9/site-packages/sklearn/metrics/_classification.py:1565: UndefinedMetricWarning: Precision is ill-defined and being set to 0.0 in labels with no predicted samples. Use `zero_division` parameter to control this behavior.\n",
      "  _warn_prf(average, modifier, f\"{metric.capitalize()} is\", len(result))\n"
     ]
    },
    {
     "name": "stdout",
     "output_type": "stream",
     "text": [
      "\n",
      "Validation Report:\n",
      "angry: Prec=0.000 | Rec=0.000 | F1=0.000\n",
      "disgust: Prec=0.053 | Rec=0.108 | F1=0.071\n",
      "fear: Prec=0.216 | Rec=0.156 | F1=0.181\n",
      "happy: Prec=0.633 | Rec=0.859 | F1=0.729\n",
      "neutral: Prec=0.332 | Rec=0.513 | F1=0.403\n",
      "sad: Prec=0.380 | Rec=0.225 | F1=0.282\n",
      "surprise: Prec=0.501 | Rec=0.700 | F1=0.584\n",
      "\n",
      "Epoch Summary: Train Loss=1.5901 | Val Loss=1.4350 | Train Acc=0.392 | Val Acc=0.445\n",
      "Epoch time: 138.27 seconds\n",
      "\n",
      "Epoch 11/15\n"
     ]
    },
    {
     "name": "stderr",
     "output_type": "stream",
     "text": [
      "Training: 100%|██████████| 525/525 [01:58<00:00,  4.44it/s]\n",
      "Validation: 100%|██████████| 113/113 [00:18<00:00,  6.26it/s]\n",
      "/Users/yuyi/Desktop/DeepLearningProject/venv/lib/python3.9/site-packages/sklearn/metrics/_classification.py:1565: UndefinedMetricWarning: Precision is ill-defined and being set to 0.0 in labels with no predicted samples. Use `zero_division` parameter to control this behavior.\n",
      "  _warn_prf(average, modifier, f\"{metric.capitalize()} is\", len(result))\n",
      "/Users/yuyi/Desktop/DeepLearningProject/venv/lib/python3.9/site-packages/sklearn/metrics/_classification.py:1565: UndefinedMetricWarning: Precision is ill-defined and being set to 0.0 in labels with no predicted samples. Use `zero_division` parameter to control this behavior.\n",
      "  _warn_prf(average, modifier, f\"{metric.capitalize()} is\", len(result))\n",
      "/Users/yuyi/Desktop/DeepLearningProject/venv/lib/python3.9/site-packages/sklearn/metrics/_classification.py:1565: UndefinedMetricWarning: Precision is ill-defined and being set to 0.0 in labels with no predicted samples. Use `zero_division` parameter to control this behavior.\n",
      "  _warn_prf(average, modifier, f\"{metric.capitalize()} is\", len(result))\n"
     ]
    },
    {
     "name": "stdout",
     "output_type": "stream",
     "text": [
      "\n",
      "Validation Report:\n",
      "angry: Prec=0.000 | Rec=0.000 | F1=0.000\n",
      "disgust: Prec=0.064 | Rec=0.135 | F1=0.087\n",
      "fear: Prec=0.225 | Rec=0.031 | F1=0.055\n",
      "happy: Prec=0.533 | Rec=0.899 | F1=0.669\n",
      "neutral: Prec=0.314 | Rec=0.524 | F1=0.393\n",
      "sad: Prec=0.339 | Rec=0.210 | F1=0.259\n",
      "surprise: Prec=0.571 | Rec=0.674 | F1=0.618\n",
      "\n",
      "Epoch Summary: Train Loss=1.5386 | Val Loss=1.4472 | Train Acc=0.402 | Val Acc=0.433\n",
      "Epoch time: 136.27 seconds\n",
      "\n",
      "Epoch 12/15\n"
     ]
    },
    {
     "name": "stderr",
     "output_type": "stream",
     "text": [
      "Training: 100%|██████████| 525/525 [01:56<00:00,  4.49it/s]\n",
      "Validation: 100%|██████████| 113/113 [00:17<00:00,  6.32it/s]\n",
      "/Users/yuyi/Desktop/DeepLearningProject/venv/lib/python3.9/site-packages/sklearn/metrics/_classification.py:1565: UndefinedMetricWarning: Precision is ill-defined and being set to 0.0 in labels with no predicted samples. Use `zero_division` parameter to control this behavior.\n",
      "  _warn_prf(average, modifier, f\"{metric.capitalize()} is\", len(result))\n",
      "/Users/yuyi/Desktop/DeepLearningProject/venv/lib/python3.9/site-packages/sklearn/metrics/_classification.py:1565: UndefinedMetricWarning: Precision is ill-defined and being set to 0.0 in labels with no predicted samples. Use `zero_division` parameter to control this behavior.\n",
      "  _warn_prf(average, modifier, f\"{metric.capitalize()} is\", len(result))\n",
      "/Users/yuyi/Desktop/DeepLearningProject/venv/lib/python3.9/site-packages/sklearn/metrics/_classification.py:1565: UndefinedMetricWarning: Precision is ill-defined and being set to 0.0 in labels with no predicted samples. Use `zero_division` parameter to control this behavior.\n",
      "  _warn_prf(average, modifier, f\"{metric.capitalize()} is\", len(result))\n"
     ]
    },
    {
     "name": "stdout",
     "output_type": "stream",
     "text": [
      "\n",
      "Validation Report:\n",
      "angry: Prec=0.000 | Rec=0.000 | F1=0.000\n",
      "disgust: Prec=0.081 | Rec=0.243 | F1=0.121\n",
      "fear: Prec=0.208 | Rec=0.048 | F1=0.078\n",
      "happy: Prec=0.619 | Rec=0.850 | F1=0.717\n",
      "neutral: Prec=0.341 | Rec=0.532 | F1=0.416\n",
      "sad: Prec=0.312 | Rec=0.215 | F1=0.254\n",
      "surprise: Prec=0.472 | Rec=0.788 | F1=0.590\n",
      "\n",
      "Epoch Summary: Train Loss=1.4887 | Val Loss=1.4213 | Train Acc=0.420 | Val Acc=0.441\n",
      "Epoch time: 134.72 seconds\n",
      "\n",
      "Epoch 13/15\n"
     ]
    },
    {
     "name": "stderr",
     "output_type": "stream",
     "text": [
      "Training: 100%|██████████| 525/525 [02:00<00:00,  4.35it/s]\n",
      "Validation: 100%|██████████| 113/113 [00:17<00:00,  6.31it/s]\n"
     ]
    },
    {
     "name": "stdout",
     "output_type": "stream",
     "text": [
      "\n",
      "Validation Report:\n",
      "angry: Prec=0.286 | Rec=0.010 | F1=0.020\n",
      "disgust: Prec=0.040 | Rec=0.550 | F1=0.075\n",
      "fear: Prec=0.185 | Rec=0.047 | F1=0.075\n",
      "happy: Prec=0.629 | Rec=0.807 | F1=0.707\n",
      "neutral: Prec=0.481 | Rec=0.152 | F1=0.232\n",
      "sad: Prec=0.322 | Rec=0.355 | F1=0.338\n",
      "surprise: Prec=0.490 | Rec=0.775 | F1=0.600\n",
      "\n",
      "Epoch Summary: Train Loss=1.4571 | Val Loss=1.6150 | Train Acc=0.433 | Val Acc=0.394\n",
      "Epoch time: 138.75 seconds\n",
      "\n",
      "Epoch 14/15\n"
     ]
    },
    {
     "name": "stderr",
     "output_type": "stream",
     "text": [
      "Training: 100%|██████████| 525/525 [01:56<00:00,  4.49it/s]\n",
      "Validation: 100%|██████████| 113/113 [00:17<00:00,  6.41it/s]\n"
     ]
    },
    {
     "name": "stdout",
     "output_type": "stream",
     "text": [
      "\n",
      "Validation Report:\n",
      "angry: Prec=0.263 | Rec=0.005 | F1=0.010\n",
      "disgust: Prec=0.107 | Rec=0.099 | F1=0.103\n",
      "fear: Prec=0.260 | Rec=0.046 | F1=0.078\n",
      "happy: Prec=0.482 | Rec=0.930 | F1=0.635\n",
      "neutral: Prec=0.350 | Rec=0.521 | F1=0.419\n",
      "sad: Prec=0.309 | Rec=0.253 | F1=0.278\n",
      "surprise: Prec=0.720 | Rec=0.519 | F1=0.603\n",
      "\n",
      "Epoch Summary: Train Loss=1.4366 | Val Loss=1.4959 | Train Acc=0.443 | Val Acc=0.432\n",
      "Epoch time: 134.54 seconds\n",
      "\n",
      "Epoch 15/15\n"
     ]
    },
    {
     "name": "stderr",
     "output_type": "stream",
     "text": [
      "Training: 100%|██████████| 525/525 [02:08<00:00,  4.09it/s]\n",
      "Validation: 100%|██████████| 113/113 [00:18<00:00,  6.20it/s]\n"
     ]
    },
    {
     "name": "stdout",
     "output_type": "stream",
     "text": [
      "\n",
      "Validation Report:\n",
      "angry: Prec=0.320 | Rec=0.091 | F1=0.141\n",
      "disgust: Prec=0.064 | Rec=0.342 | F1=0.108\n",
      "fear: Prec=0.245 | Rec=0.087 | F1=0.128\n",
      "happy: Prec=0.666 | Rec=0.842 | F1=0.744\n",
      "neutral: Prec=0.401 | Rec=0.461 | F1=0.429\n",
      "sad: Prec=0.344 | Rec=0.322 | F1=0.332\n",
      "surprise: Prec=0.551 | Rec=0.746 | F1=0.634\n",
      "\n",
      "Epoch Summary: Train Loss=1.4139 | Val Loss=1.3936 | Train Acc=0.450 | Val Acc=0.459\n",
      "Epoch time: 146.45 seconds\n",
      "Saved model to 'results/adam_lr3_dropout20_bn'\n",
      "\n",
      "Training config: sgd_mom09_lr3_dropout15_bn\n",
      "\n",
      "Epoch 1/15\n"
     ]
    },
    {
     "name": "stderr",
     "output_type": "stream",
     "text": [
      "Training: 100%|██████████| 525/525 [01:57<00:00,  4.46it/s]\n",
      "Validation: 100%|██████████| 113/113 [00:17<00:00,  6.39it/s]\n",
      "/Users/yuyi/Desktop/DeepLearningProject/venv/lib/python3.9/site-packages/sklearn/metrics/_classification.py:1565: UndefinedMetricWarning: Precision is ill-defined and being set to 0.0 in labels with no predicted samples. Use `zero_division` parameter to control this behavior.\n",
      "  _warn_prf(average, modifier, f\"{metric.capitalize()} is\", len(result))\n",
      "/Users/yuyi/Desktop/DeepLearningProject/venv/lib/python3.9/site-packages/sklearn/metrics/_classification.py:1565: UndefinedMetricWarning: Precision is ill-defined and being set to 0.0 in labels with no predicted samples. Use `zero_division` parameter to control this behavior.\n",
      "  _warn_prf(average, modifier, f\"{metric.capitalize()} is\", len(result))\n",
      "/Users/yuyi/Desktop/DeepLearningProject/venv/lib/python3.9/site-packages/sklearn/metrics/_classification.py:1565: UndefinedMetricWarning: Precision is ill-defined and being set to 0.0 in labels with no predicted samples. Use `zero_division` parameter to control this behavior.\n",
      "  _warn_prf(average, modifier, f\"{metric.capitalize()} is\", len(result))\n"
     ]
    },
    {
     "name": "stdout",
     "output_type": "stream",
     "text": [
      "\n",
      "Validation Report:\n",
      "angry: Prec=0.400 | Rec=0.002 | F1=0.004\n",
      "disgust: Prec=0.009 | Rec=0.027 | F1=0.014\n",
      "fear: Prec=0.000 | Rec=0.000 | F1=0.000\n",
      "happy: Prec=0.262 | Rec=0.852 | F1=0.401\n",
      "neutral: Prec=0.000 | Rec=0.000 | F1=0.000\n",
      "sad: Prec=0.000 | Rec=0.000 | F1=0.000\n",
      "surprise: Prec=0.253 | Rec=0.330 | F1=0.286\n",
      "\n",
      "Epoch Summary: Train Loss=1.9176 | Val Loss=1.8791 | Train Acc=0.207 | Val Acc=0.249\n",
      "Epoch time: 135.44 seconds\n",
      "\n",
      "Epoch 2/15\n"
     ]
    },
    {
     "name": "stderr",
     "output_type": "stream",
     "text": [
      "Training: 100%|██████████| 525/525 [02:01<00:00,  4.32it/s]\n",
      "Validation: 100%|██████████| 113/113 [00:17<00:00,  6.29it/s]\n",
      "/Users/yuyi/Desktop/DeepLearningProject/venv/lib/python3.9/site-packages/sklearn/metrics/_classification.py:1565: UndefinedMetricWarning: Precision is ill-defined and being set to 0.0 in labels with no predicted samples. Use `zero_division` parameter to control this behavior.\n",
      "  _warn_prf(average, modifier, f\"{metric.capitalize()} is\", len(result))\n",
      "/Users/yuyi/Desktop/DeepLearningProject/venv/lib/python3.9/site-packages/sklearn/metrics/_classification.py:1565: UndefinedMetricWarning: Precision is ill-defined and being set to 0.0 in labels with no predicted samples. Use `zero_division` parameter to control this behavior.\n",
      "  _warn_prf(average, modifier, f\"{metric.capitalize()} is\", len(result))\n",
      "/Users/yuyi/Desktop/DeepLearningProject/venv/lib/python3.9/site-packages/sklearn/metrics/_classification.py:1565: UndefinedMetricWarning: Precision is ill-defined and being set to 0.0 in labels with no predicted samples. Use `zero_division` parameter to control this behavior.\n",
      "  _warn_prf(average, modifier, f\"{metric.capitalize()} is\", len(result))\n"
     ]
    },
    {
     "name": "stdout",
     "output_type": "stream",
     "text": [
      "\n",
      "Validation Report:\n",
      "angry: Prec=0.000 | Rec=0.000 | F1=0.000\n",
      "disgust: Prec=0.006 | Rec=0.009 | F1=0.007\n",
      "fear: Prec=0.000 | Rec=0.000 | F1=0.000\n",
      "happy: Prec=0.263 | Rec=0.944 | F1=0.412\n",
      "neutral: Prec=0.600 | Rec=0.007 | F1=0.014\n",
      "sad: Prec=0.266 | Rec=0.043 | F1=0.073\n",
      "surprise: Prec=0.359 | Rec=0.193 | F1=0.251\n",
      "\n",
      "Epoch Summary: Train Loss=1.9010 | Val Loss=1.8312 | Train Acc=0.218 | Val Acc=0.264\n",
      "Epoch time: 139.62 seconds\n",
      "\n",
      "Epoch 3/15\n"
     ]
    },
    {
     "name": "stderr",
     "output_type": "stream",
     "text": [
      "Training: 100%|██████████| 525/525 [02:00<00:00,  4.37it/s]\n",
      "Validation: 100%|██████████| 113/113 [00:17<00:00,  6.44it/s]\n",
      "/Users/yuyi/Desktop/DeepLearningProject/venv/lib/python3.9/site-packages/sklearn/metrics/_classification.py:1565: UndefinedMetricWarning: Precision is ill-defined and being set to 0.0 in labels with no predicted samples. Use `zero_division` parameter to control this behavior.\n",
      "  _warn_prf(average, modifier, f\"{metric.capitalize()} is\", len(result))\n",
      "/Users/yuyi/Desktop/DeepLearningProject/venv/lib/python3.9/site-packages/sklearn/metrics/_classification.py:1565: UndefinedMetricWarning: Precision is ill-defined and being set to 0.0 in labels with no predicted samples. Use `zero_division` parameter to control this behavior.\n",
      "  _warn_prf(average, modifier, f\"{metric.capitalize()} is\", len(result))\n",
      "/Users/yuyi/Desktop/DeepLearningProject/venv/lib/python3.9/site-packages/sklearn/metrics/_classification.py:1565: UndefinedMetricWarning: Precision is ill-defined and being set to 0.0 in labels with no predicted samples. Use `zero_division` parameter to control this behavior.\n",
      "  _warn_prf(average, modifier, f\"{metric.capitalize()} is\", len(result))\n"
     ]
    },
    {
     "name": "stdout",
     "output_type": "stream",
     "text": [
      "\n",
      "Validation Report:\n",
      "angry: Prec=0.000 | Rec=0.000 | F1=0.000\n",
      "disgust: Prec=0.013 | Rec=0.261 | F1=0.024\n",
      "fear: Prec=0.000 | Rec=0.000 | F1=0.000\n",
      "happy: Prec=0.310 | Rec=0.740 | F1=0.437\n",
      "neutral: Prec=0.308 | Rec=0.067 | F1=0.109\n",
      "sad: Prec=0.265 | Rec=0.018 | F1=0.033\n",
      "surprise: Prec=0.408 | Rec=0.141 | F1=0.209\n",
      "\n",
      "Epoch Summary: Train Loss=1.8699 | Val Loss=1.8737 | Train Acc=0.251 | Val Acc=0.218\n",
      "Epoch time: 137.86 seconds\n",
      "\n",
      "Epoch 4/15\n"
     ]
    },
    {
     "name": "stderr",
     "output_type": "stream",
     "text": [
      "Training: 100%|██████████| 525/525 [01:57<00:00,  4.48it/s]\n",
      "Validation: 100%|██████████| 113/113 [00:17<00:00,  6.39it/s]\n",
      "/Users/yuyi/Desktop/DeepLearningProject/venv/lib/python3.9/site-packages/sklearn/metrics/_classification.py:1565: UndefinedMetricWarning: Precision is ill-defined and being set to 0.0 in labels with no predicted samples. Use `zero_division` parameter to control this behavior.\n",
      "  _warn_prf(average, modifier, f\"{metric.capitalize()} is\", len(result))\n",
      "/Users/yuyi/Desktop/DeepLearningProject/venv/lib/python3.9/site-packages/sklearn/metrics/_classification.py:1565: UndefinedMetricWarning: Precision is ill-defined and being set to 0.0 in labels with no predicted samples. Use `zero_division` parameter to control this behavior.\n",
      "  _warn_prf(average, modifier, f\"{metric.capitalize()} is\", len(result))\n",
      "/Users/yuyi/Desktop/DeepLearningProject/venv/lib/python3.9/site-packages/sklearn/metrics/_classification.py:1565: UndefinedMetricWarning: Precision is ill-defined and being set to 0.0 in labels with no predicted samples. Use `zero_division` parameter to control this behavior.\n",
      "  _warn_prf(average, modifier, f\"{metric.capitalize()} is\", len(result))\n"
     ]
    },
    {
     "name": "stdout",
     "output_type": "stream",
     "text": [
      "\n",
      "Validation Report:\n",
      "angry: Prec=0.000 | Rec=0.000 | F1=0.000\n",
      "disgust: Prec=0.013 | Rec=0.090 | F1=0.022\n",
      "fear: Prec=0.000 | Rec=0.000 | F1=0.000\n",
      "happy: Prec=0.306 | Rec=0.843 | F1=0.449\n",
      "neutral: Prec=0.295 | Rec=0.076 | F1=0.121\n",
      "sad: Prec=0.333 | Rec=0.032 | F1=0.059\n",
      "surprise: Prec=0.388 | Rec=0.499 | F1=0.437\n",
      "\n",
      "Epoch Summary: Train Loss=1.8009 | Val Loss=1.7690 | Train Acc=0.291 | Val Acc=0.286\n",
      "Epoch time: 134.98 seconds\n",
      "\n",
      "Epoch 5/15\n"
     ]
    },
    {
     "name": "stderr",
     "output_type": "stream",
     "text": [
      "Training: 100%|██████████| 525/525 [01:55<00:00,  4.53it/s]\n",
      "Validation: 100%|██████████| 113/113 [00:17<00:00,  6.32it/s]\n"
     ]
    },
    {
     "name": "stdout",
     "output_type": "stream",
     "text": [
      "\n",
      "Validation Report:\n",
      "angry: Prec=0.000 | Rec=0.000 | F1=0.000\n",
      "disgust: Prec=0.019 | Rec=0.505 | F1=0.036\n",
      "fear: Prec=0.381 | Rec=0.008 | F1=0.015\n",
      "happy: Prec=0.418 | Rec=0.490 | F1=0.451\n",
      "neutral: Prec=0.312 | Rec=0.158 | F1=0.210\n",
      "sad: Prec=0.305 | Rec=0.038 | F1=0.067\n",
      "surprise: Prec=0.331 | Rec=0.528 | F1=0.407\n",
      "\n",
      "Epoch Summary: Train Loss=1.7551 | Val Loss=2.0240 | Train Acc=0.314 | Val Acc=0.225\n",
      "Epoch time: 133.74 seconds\n",
      "\n",
      "Epoch 6/15\n"
     ]
    },
    {
     "name": "stderr",
     "output_type": "stream",
     "text": [
      "Training: 100%|██████████| 525/525 [02:06<00:00,  4.15it/s]\n",
      "Validation: 100%|██████████| 113/113 [00:18<00:00,  6.06it/s]\n",
      "/Users/yuyi/Desktop/DeepLearningProject/venv/lib/python3.9/site-packages/sklearn/metrics/_classification.py:1565: UndefinedMetricWarning: Precision is ill-defined and being set to 0.0 in labels with no predicted samples. Use `zero_division` parameter to control this behavior.\n",
      "  _warn_prf(average, modifier, f\"{metric.capitalize()} is\", len(result))\n",
      "/Users/yuyi/Desktop/DeepLearningProject/venv/lib/python3.9/site-packages/sklearn/metrics/_classification.py:1565: UndefinedMetricWarning: Precision is ill-defined and being set to 0.0 in labels with no predicted samples. Use `zero_division` parameter to control this behavior.\n",
      "  _warn_prf(average, modifier, f\"{metric.capitalize()} is\", len(result))\n",
      "/Users/yuyi/Desktop/DeepLearningProject/venv/lib/python3.9/site-packages/sklearn/metrics/_classification.py:1565: UndefinedMetricWarning: Precision is ill-defined and being set to 0.0 in labels with no predicted samples. Use `zero_division` parameter to control this behavior.\n",
      "  _warn_prf(average, modifier, f\"{metric.capitalize()} is\", len(result))\n"
     ]
    },
    {
     "name": "stdout",
     "output_type": "stream",
     "text": [
      "\n",
      "Validation Report:\n",
      "angry: Prec=0.000 | Rec=0.000 | F1=0.000\n",
      "disgust: Prec=0.000 | Rec=0.000 | F1=0.000\n",
      "fear: Prec=0.243 | Rec=0.017 | F1=0.031\n",
      "happy: Prec=0.347 | Rec=0.860 | F1=0.494\n",
      "neutral: Prec=0.273 | Rec=0.354 | F1=0.308\n",
      "sad: Prec=0.328 | Rec=0.062 | F1=0.104\n",
      "surprise: Prec=0.485 | Rec=0.457 | F1=0.471\n",
      "\n",
      "Epoch Summary: Train Loss=1.7137 | Val Loss=1.6769 | Train Acc=0.332 | Val Acc=0.340\n",
      "Epoch time: 145.22 seconds\n",
      "\n",
      "Epoch 7/15\n"
     ]
    },
    {
     "name": "stderr",
     "output_type": "stream",
     "text": [
      "Training: 100%|██████████| 525/525 [02:07<00:00,  4.10it/s]\n",
      "Validation: 100%|██████████| 113/113 [00:18<00:00,  6.11it/s]\n"
     ]
    },
    {
     "name": "stdout",
     "output_type": "stream",
     "text": [
      "\n",
      "Validation Report:\n",
      "angry: Prec=0.293 | Rec=0.013 | F1=0.024\n",
      "disgust: Prec=0.018 | Rec=0.189 | F1=0.034\n",
      "fear: Prec=0.000 | Rec=0.000 | F1=0.000\n",
      "happy: Prec=0.478 | Rec=0.635 | F1=0.545\n",
      "neutral: Prec=0.352 | Rec=0.355 | F1=0.353\n",
      "sad: Prec=0.349 | Rec=0.054 | F1=0.093\n",
      "surprise: Prec=0.284 | Rec=0.753 | F1=0.413\n",
      "\n",
      "Epoch Summary: Train Loss=1.6754 | Val Loss=1.7804 | Train Acc=0.351 | Val Acc=0.319\n",
      "Epoch time: 146.50 seconds\n",
      "\n",
      "Epoch 8/15\n"
     ]
    },
    {
     "name": "stderr",
     "output_type": "stream",
     "text": [
      "Training: 100%|██████████| 525/525 [02:18<00:00,  3.80it/s]\n",
      "Validation: 100%|██████████| 113/113 [00:18<00:00,  6.02it/s]\n"
     ]
    },
    {
     "name": "stdout",
     "output_type": "stream",
     "text": [
      "\n",
      "Validation Report:\n",
      "angry: Prec=0.333 | Rec=0.003 | F1=0.006\n",
      "disgust: Prec=0.013 | Rec=0.027 | F1=0.017\n",
      "fear: Prec=0.127 | Rec=0.010 | F1=0.018\n",
      "happy: Prec=0.485 | Rec=0.702 | F1=0.574\n",
      "neutral: Prec=0.361 | Rec=0.307 | F1=0.332\n",
      "sad: Prec=0.345 | Rec=0.066 | F1=0.110\n",
      "surprise: Prec=0.237 | Rec=0.856 | F1=0.371\n",
      "\n",
      "Epoch Summary: Train Loss=1.6451 | Val Loss=1.6633 | Train Acc=0.363 | Val Acc=0.339\n",
      "Epoch time: 156.83 seconds\n",
      "\n",
      "Epoch 9/15\n"
     ]
    },
    {
     "name": "stderr",
     "output_type": "stream",
     "text": [
      "Training: 100%|██████████| 525/525 [02:21<00:00,  3.71it/s]\n",
      "Validation: 100%|██████████| 113/113 [00:19<00:00,  5.81it/s]\n"
     ]
    },
    {
     "name": "stdout",
     "output_type": "stream",
     "text": [
      "\n",
      "Validation Report:\n",
      "angry: Prec=0.266 | Rec=0.022 | F1=0.041\n",
      "disgust: Prec=0.000 | Rec=0.000 | F1=0.000\n",
      "fear: Prec=0.229 | Rec=0.040 | F1=0.068\n",
      "happy: Prec=0.343 | Rec=0.921 | F1=0.499\n",
      "neutral: Prec=0.337 | Rec=0.363 | F1=0.350\n",
      "sad: Prec=0.340 | Rec=0.069 | F1=0.115\n",
      "surprise: Prec=0.618 | Rec=0.381 | F1=0.472\n",
      "\n",
      "Epoch Summary: Train Loss=1.6122 | Val Loss=1.6773 | Train Acc=0.377 | Val Acc=0.355\n",
      "Epoch time: 160.97 seconds\n",
      "\n",
      "Epoch 10/15\n"
     ]
    },
    {
     "name": "stderr",
     "output_type": "stream",
     "text": [
      "Training: 100%|██████████| 525/525 [02:14<00:00,  3.90it/s]\n",
      "Validation: 100%|██████████| 113/113 [00:18<00:00,  5.98it/s]\n"
     ]
    },
    {
     "name": "stdout",
     "output_type": "stream",
     "text": [
      "\n",
      "Validation Report:\n",
      "angry: Prec=0.240 | Rec=0.026 | F1=0.047\n",
      "disgust: Prec=0.005 | Rec=0.009 | F1=0.006\n",
      "fear: Prec=0.278 | Rec=0.041 | F1=0.071\n",
      "happy: Prec=0.390 | Rec=0.869 | F1=0.539\n",
      "neutral: Prec=0.335 | Rec=0.441 | F1=0.381\n",
      "sad: Prec=0.367 | Rec=0.101 | F1=0.158\n",
      "surprise: Prec=0.541 | Rec=0.527 | F1=0.534\n",
      "\n",
      "Epoch Summary: Train Loss=1.5894 | Val Loss=1.6244 | Train Acc=0.387 | Val Acc=0.379\n",
      "Epoch time: 153.39 seconds\n",
      "\n",
      "Epoch 11/15\n"
     ]
    },
    {
     "name": "stderr",
     "output_type": "stream",
     "text": [
      "Training: 100%|██████████| 525/525 [02:18<00:00,  3.79it/s]\n",
      "Validation: 100%|██████████| 113/113 [00:19<00:00,  5.90it/s]\n"
     ]
    },
    {
     "name": "stdout",
     "output_type": "stream",
     "text": [
      "\n",
      "Validation Report:\n",
      "angry: Prec=0.237 | Rec=0.020 | F1=0.037\n",
      "disgust: Prec=0.020 | Rec=0.090 | F1=0.033\n",
      "fear: Prec=0.277 | Rec=0.018 | F1=0.033\n",
      "happy: Prec=0.396 | Rec=0.865 | F1=0.544\n",
      "neutral: Prec=0.353 | Rec=0.460 | F1=0.399\n",
      "sad: Prec=0.389 | Rec=0.056 | F1=0.098\n",
      "surprise: Prec=0.549 | Rec=0.581 | F1=0.565\n",
      "\n",
      "Epoch Summary: Train Loss=1.5594 | Val Loss=1.6589 | Train Acc=0.402 | Val Acc=0.376\n",
      "Epoch time: 157.74 seconds\n",
      "\n",
      "Epoch 12/15\n"
     ]
    },
    {
     "name": "stderr",
     "output_type": "stream",
     "text": [
      "Training: 100%|██████████| 525/525 [02:14<00:00,  3.90it/s]\n",
      "Validation: 100%|██████████| 113/113 [00:18<00:00,  6.22it/s]\n"
     ]
    },
    {
     "name": "stdout",
     "output_type": "stream",
     "text": [
      "\n",
      "Validation Report:\n",
      "angry: Prec=0.277 | Rec=0.073 | F1=0.116\n",
      "disgust: Prec=0.018 | Rec=0.018 | F1=0.018\n",
      "fear: Prec=0.242 | Rec=0.022 | F1=0.041\n",
      "happy: Prec=0.425 | Rec=0.868 | F1=0.570\n",
      "neutral: Prec=0.345 | Rec=0.517 | F1=0.413\n",
      "sad: Prec=0.384 | Rec=0.132 | F1=0.196\n",
      "surprise: Prec=0.562 | Rec=0.554 | F1=0.558\n",
      "\n",
      "Epoch Summary: Train Loss=1.5371 | Val Loss=1.5476 | Train Acc=0.409 | Val Acc=0.403\n",
      "Epoch time: 152.85 seconds\n",
      "\n",
      "Epoch 13/15\n"
     ]
    },
    {
     "name": "stderr",
     "output_type": "stream",
     "text": [
      "Training: 100%|██████████| 525/525 [02:15<00:00,  3.88it/s]\n",
      "Validation: 100%|██████████| 113/113 [00:19<00:00,  5.65it/s]\n"
     ]
    },
    {
     "name": "stdout",
     "output_type": "stream",
     "text": [
      "\n",
      "Validation Report:\n",
      "angry: Prec=0.298 | Rec=0.140 | F1=0.190\n",
      "disgust: Prec=0.000 | Rec=0.000 | F1=0.000\n",
      "fear: Prec=0.267 | Rec=0.129 | F1=0.174\n",
      "happy: Prec=0.449 | Rec=0.881 | F1=0.595\n",
      "neutral: Prec=0.355 | Rec=0.436 | F1=0.391\n",
      "sad: Prec=0.382 | Rec=0.156 | F1=0.222\n",
      "surprise: Prec=0.648 | Rec=0.529 | F1=0.583\n",
      "\n",
      "Epoch Summary: Train Loss=1.5114 | Val Loss=1.5351 | Train Acc=0.421 | Val Acc=0.418\n",
      "Epoch time: 155.21 seconds\n",
      "\n",
      "Epoch 14/15\n"
     ]
    },
    {
     "name": "stderr",
     "output_type": "stream",
     "text": [
      "Training: 100%|██████████| 525/525 [02:13<00:00,  3.94it/s]\n",
      "Validation: 100%|██████████| 113/113 [00:17<00:00,  6.30it/s]\n"
     ]
    },
    {
     "name": "stdout",
     "output_type": "stream",
     "text": [
      "\n",
      "Validation Report:\n",
      "angry: Prec=0.351 | Rec=0.071 | F1=0.118\n",
      "disgust: Prec=0.030 | Rec=0.126 | F1=0.048\n",
      "fear: Prec=0.268 | Rec=0.078 | F1=0.121\n",
      "happy: Prec=0.457 | Rec=0.865 | F1=0.598\n",
      "neutral: Prec=0.397 | Rec=0.392 | F1=0.394\n",
      "sad: Prec=0.406 | Rec=0.195 | F1=0.263\n",
      "surprise: Prec=0.521 | Rec=0.656 | F1=0.581\n",
      "\n",
      "Epoch Summary: Train Loss=1.4960 | Val Loss=1.5822 | Train Acc=0.428 | Val Acc=0.413\n",
      "Epoch time: 151.36 seconds\n",
      "\n",
      "Epoch 15/15\n"
     ]
    },
    {
     "name": "stderr",
     "output_type": "stream",
     "text": [
      "Training: 100%|██████████| 525/525 [01:58<00:00,  4.45it/s]\n",
      "Validation: 100%|██████████| 113/113 [00:17<00:00,  6.41it/s]"
     ]
    },
    {
     "name": "stdout",
     "output_type": "stream",
     "text": [
      "\n",
      "Validation Report:\n",
      "angry: Prec=0.303 | Rec=0.151 | F1=0.202\n",
      "disgust: Prec=0.022 | Rec=0.099 | F1=0.035\n",
      "fear: Prec=0.234 | Rec=0.124 | F1=0.162\n",
      "happy: Prec=0.538 | Rec=0.771 | F1=0.634\n",
      "neutral: Prec=0.424 | Rec=0.376 | F1=0.399\n",
      "sad: Prec=0.343 | Rec=0.298 | F1=0.319\n",
      "surprise: Prec=0.574 | Rec=0.639 | F1=0.605\n",
      "\n",
      "Epoch Summary: Train Loss=1.4685 | Val Loss=1.5332 | Train Acc=0.440 | Val Acc=0.420\n",
      "Epoch time: 135.73 seconds\n",
      "Saved model to 'results/sgd_mom09_lr3_dropout15_bn'\n"
     ]
    },
    {
     "name": "stderr",
     "output_type": "stream",
     "text": [
      "\n"
     ]
    }
   ],
   "source": [
    "def build_model(dropout):\n",
    "    return ResSim(num_classes=len(class_names), dropout_rate=dropout).to(device)\n",
    "\n",
    "# Define settings to test\n",
    "configs = [\n",
    "    {'name': 'adam_lr3_dropout0_bn', 'optimizer': 'adam', 'lr': 1e-3, 'dropout': 0},\n",
    "    {'name': 'adam_lr3_dropout15_bn', 'optimizer': 'adam', 'lr': 1e-3, 'dropout': 0.15},\n",
    "    {'name': 'adam_lr2_dropout15_bn', 'optimizer': 'adam', 'lr': 1e-2, 'dropout': 0.15},\n",
    "    {'name': 'adam_lr3_dropout20_bn', 'optimizer': 'adam', 'lr': 1e-3, 'dropout': 0.20},\n",
    "    {'name': 'sgd_mom09_lr3_dropout15_bn', 'optimizer': 'sgd', 'lr': 1e-3, 'dropout': 0.15},\n",
    "]\n",
    "\n",
    "\n",
    "for config in configs:\n",
    "    print(f\"\\nTraining config: {config['name']}\")\n",
    "\n",
    "    model = build_model(config['dropout'])\n",
    "    if config['optimizer'] == 'adam':\n",
    "        optimizer = optim.Adam(model.parameters(), lr=config['lr'])\n",
    "    else:\n",
    "        optimizer = optim.SGD(model.parameters(), lr=config['lr'], momentum=0.9)\n",
    "\n",
    "    criterion = nn.CrossEntropyLoss()\n",
    "    history = train(model, train_loader, val_loader, optimizer, criterion, num_epochs=15, model_name=config['name'])\n",
    "    pd.DataFrame(history).to_csv(f'results/history_{config[\"name\"]}.csv', index=False)"
   ]
  },
  {
   "cell_type": "code",
   "execution_count": null,
   "id": "503f54f1",
   "metadata": {},
   "outputs": [],
   "source": [
    "mode = build_model(0.0)\n",
    "metrics_history = train(model, train_loader, val_loader, optimizer, criterion, num_epochs=50, model_name='resnet_model_final.pth')\n",
    "df_metrics = pd.DataFrame(metrics_history)\n",
    "display(df_metrics.head())"
   ]
  },
  {
   "cell_type": "markdown",
   "id": "e06000e2",
   "metadata": {},
   "source": [
    "# Small test"
   ]
  },
  {
   "cell_type": "code",
   "execution_count": 130,
   "id": "47f09ff3",
   "metadata": {},
   "outputs": [],
   "source": [
    "from torchvision import datasets, transforms\n",
    "from torch.utils.data import DataLoader, Subset\n",
    "from collections import defaultdict\n",
    "import numpy as np\n",
    "import random\n",
    "\n",
    "# Transform (with normalization to [-1, 1] range)\n",
    "transform = transforms.Compose([\n",
    "    transforms.Resize((48, 48)),\n",
    "    transforms.ToTensor(),\n",
    "    transforms.Normalize((0.5,), (0.5,))  # For 3 channels, use 3 values if needed\n",
    "])\n",
    "\n",
    "# Load full dataset\n",
    "full_train_dataset = datasets.ImageFolder('./data/train', transform=transform)\n",
    "\n",
    "# Limit to 500 samples per class\n",
    "class_counts = defaultdict(list)\n",
    "for idx, (_, label) in enumerate(full_train_dataset):\n",
    "    if len(class_counts[label]) < 500:\n",
    "        class_counts[label].append(idx)\n",
    "\n",
    "# Flatten selected indices\n",
    "subset_indices = [idx for indices in class_counts.values() for idx in indices]\n",
    "\n",
    "# Create subset dataset\n",
    "small_train_dataset = Subset(full_train_dataset, subset_indices)\n",
    "train_loader = DataLoader(small_train_dataset, batch_size=32, shuffle=True)\n",
    "\n",
    "# Validation loader (no subsample here, or you can do similarly)\n",
    "val_dataset = datasets.ImageFolder('./data/test', transform=transform)\n",
    "val_loader = DataLoader(val_dataset, batch_size=32, shuffle=False)"
   ]
  },
  {
   "cell_type": "code",
   "execution_count": 131,
   "id": "0647a018",
   "metadata": {},
   "outputs": [
    {
     "name": "stdout",
     "output_type": "stream",
     "text": [
      "\n",
      "Epoch 1/15\n"
     ]
    },
    {
     "name": "stderr",
     "output_type": "stream",
     "text": [
      "Training: 100%|██████████| 110/110 [00:11<00:00,  9.48it/s]\n",
      "Validation: 100%|██████████| 225/225 [00:07<00:00, 30.87it/s]\n"
     ]
    },
    {
     "name": "stdout",
     "output_type": "stream",
     "text": [
      "\n",
      "Validation Report:\n",
      "angry: Prec=0.276 | Rec=0.301 | F1=0.288\n",
      "disgust: Prec=0.099 | Rec=0.450 | F1=0.162\n",
      "fear: Prec=0.305 | Rec=0.031 | F1=0.057\n",
      "happy: Prec=0.594 | Rec=0.807 | F1=0.684\n",
      "neutral: Prec=0.406 | Rec=0.474 | F1=0.437\n",
      "sad: Prec=0.444 | Rec=0.208 | F1=0.283\n",
      "surprise: Prec=0.531 | Rec=0.697 | F1=0.603\n",
      "\n",
      "Epoch Summary: Train Loss=1.6365 | Val Loss=1.4681 | Train Acc=0.371 | Val Acc=0.449\n",
      "Epoch time: 18.90 seconds\n",
      "\n",
      "Epoch 2/15\n"
     ]
    },
    {
     "name": "stderr",
     "output_type": "stream",
     "text": [
      "Training: 100%|██████████| 110/110 [00:11<00:00,  9.43it/s]\n",
      "Validation: 100%|██████████| 225/225 [00:07<00:00, 30.56it/s]\n"
     ]
    },
    {
     "name": "stdout",
     "output_type": "stream",
     "text": [
      "\n",
      "Validation Report:\n",
      "angry: Prec=0.386 | Rec=0.138 | F1=0.203\n",
      "disgust: Prec=0.044 | Rec=0.784 | F1=0.083\n",
      "fear: Prec=0.211 | Rec=0.154 | F1=0.178\n",
      "happy: Prec=0.804 | Rec=0.556 | F1=0.657\n",
      "neutral: Prec=0.497 | Rec=0.182 | F1=0.267\n",
      "sad: Prec=0.346 | Rec=0.362 | F1=0.354\n",
      "surprise: Prec=0.523 | Rec=0.702 | F1=0.599\n",
      "\n",
      "Epoch Summary: Train Loss=1.5475 | Val Loss=1.6246 | Train Acc=0.413 | Val Acc=0.365\n",
      "Epoch time: 19.04 seconds\n",
      "\n",
      "Epoch 3/15\n"
     ]
    },
    {
     "name": "stderr",
     "output_type": "stream",
     "text": [
      "Training: 100%|██████████| 110/110 [00:12<00:00,  8.81it/s]\n",
      "Validation: 100%|██████████| 225/225 [00:08<00:00, 25.61it/s]\n"
     ]
    },
    {
     "name": "stdout",
     "output_type": "stream",
     "text": [
      "\n",
      "Validation Report:\n",
      "angry: Prec=0.319 | Rec=0.167 | F1=0.219\n",
      "disgust: Prec=0.103 | Rec=0.640 | F1=0.177\n",
      "fear: Prec=0.303 | Rec=0.070 | F1=0.114\n",
      "happy: Prec=0.631 | Rec=0.789 | F1=0.701\n",
      "neutral: Prec=0.392 | Rec=0.483 | F1=0.433\n",
      "sad: Prec=0.364 | Rec=0.389 | F1=0.376\n",
      "surprise: Prec=0.698 | Rec=0.569 | F1=0.627\n",
      "\n",
      "Epoch Summary: Train Loss=1.4797 | Val Loss=1.4300 | Train Acc=0.438 | Val Acc=0.454\n",
      "Epoch time: 21.29 seconds\n",
      "\n",
      "Epoch 4/15\n"
     ]
    },
    {
     "name": "stderr",
     "output_type": "stream",
     "text": [
      "Training: 100%|██████████| 110/110 [00:13<00:00,  8.06it/s]\n",
      "Validation: 100%|██████████| 225/225 [00:09<00:00, 24.76it/s]\n"
     ]
    },
    {
     "name": "stdout",
     "output_type": "stream",
     "text": [
      "\n",
      "Validation Report:\n",
      "angry: Prec=0.342 | Rec=0.262 | F1=0.297\n",
      "disgust: Prec=0.125 | Rec=0.495 | F1=0.200\n",
      "fear: Prec=0.264 | Rec=0.135 | F1=0.178\n",
      "happy: Prec=0.726 | Rec=0.689 | F1=0.707\n",
      "neutral: Prec=0.411 | Rec=0.534 | F1=0.465\n",
      "sad: Prec=0.387 | Rec=0.348 | F1=0.366\n",
      "surprise: Prec=0.550 | Rec=0.711 | F1=0.620\n",
      "\n",
      "Epoch Summary: Train Loss=1.4139 | Val Loss=1.4059 | Train Acc=0.456 | Val Acc=0.467\n",
      "Epoch time: 22.75 seconds\n",
      "\n",
      "Epoch 5/15\n"
     ]
    },
    {
     "name": "stderr",
     "output_type": "stream",
     "text": [
      "Training: 100%|██████████| 110/110 [00:13<00:00,  8.10it/s]\n",
      "Validation: 100%|██████████| 225/225 [00:09<00:00, 24.53it/s]\n"
     ]
    },
    {
     "name": "stdout",
     "output_type": "stream",
     "text": [
      "\n",
      "Validation Report:\n",
      "angry: Prec=0.377 | Rec=0.256 | F1=0.305\n",
      "disgust: Prec=0.190 | Rec=0.378 | F1=0.253\n",
      "fear: Prec=0.338 | Rec=0.089 | F1=0.141\n",
      "happy: Prec=0.647 | Rec=0.762 | F1=0.700\n",
      "neutral: Prec=0.448 | Rec=0.446 | F1=0.447\n",
      "sad: Prec=0.366 | Rec=0.496 | F1=0.421\n",
      "surprise: Prec=0.577 | Rec=0.715 | F1=0.638\n",
      "\n",
      "Epoch Summary: Train Loss=1.3521 | Val Loss=1.3555 | Train Acc=0.488 | Val Acc=0.486\n",
      "Epoch time: 22.77 seconds\n",
      "\n",
      "Epoch 6/15\n"
     ]
    },
    {
     "name": "stderr",
     "output_type": "stream",
     "text": [
      "Training: 100%|██████████| 110/110 [00:13<00:00,  7.93it/s]\n",
      "Validation: 100%|██████████| 225/225 [00:08<00:00, 25.82it/s]\n"
     ]
    },
    {
     "name": "stdout",
     "output_type": "stream",
     "text": [
      "\n",
      "Validation Report:\n",
      "angry: Prec=0.338 | Rec=0.284 | F1=0.309\n",
      "disgust: Prec=0.204 | Rec=0.550 | F1=0.298\n",
      "fear: Prec=0.343 | Rec=0.070 | F1=0.117\n",
      "happy: Prec=0.652 | Rec=0.784 | F1=0.712\n",
      "neutral: Prec=0.414 | Rec=0.543 | F1=0.470\n",
      "sad: Prec=0.394 | Rec=0.371 | F1=0.382\n",
      "surprise: Prec=0.619 | Rec=0.699 | F1=0.656\n",
      "\n",
      "Epoch Summary: Train Loss=1.3108 | Val Loss=1.3404 | Train Acc=0.507 | Val Acc=0.489\n",
      "Epoch time: 22.60 seconds\n",
      "\n",
      "Epoch 7/15\n"
     ]
    },
    {
     "name": "stderr",
     "output_type": "stream",
     "text": [
      "Training: 100%|██████████| 110/110 [00:13<00:00,  8.03it/s]\n",
      "Validation: 100%|██████████| 225/225 [00:10<00:00, 21.55it/s]\n"
     ]
    },
    {
     "name": "stdout",
     "output_type": "stream",
     "text": [
      "\n",
      "Validation Report:\n",
      "angry: Prec=0.385 | Rec=0.258 | F1=0.309\n",
      "disgust: Prec=0.218 | Rec=0.577 | F1=0.316\n",
      "fear: Prec=0.324 | Rec=0.216 | F1=0.259\n",
      "happy: Prec=0.612 | Rec=0.807 | F1=0.696\n",
      "neutral: Prec=0.433 | Rec=0.497 | F1=0.463\n",
      "sad: Prec=0.410 | Rec=0.322 | F1=0.361\n",
      "surprise: Prec=0.655 | Rec=0.651 | F1=0.653\n",
      "\n",
      "Epoch Summary: Train Loss=1.2699 | Val Loss=1.3453 | Train Acc=0.522 | Val Acc=0.490\n",
      "Epoch time: 24.15 seconds\n",
      "\n",
      "Epoch 8/15\n"
     ]
    },
    {
     "name": "stderr",
     "output_type": "stream",
     "text": [
      "Training: 100%|██████████| 110/110 [00:14<00:00,  7.77it/s]\n",
      "Validation: 100%|██████████| 225/225 [00:09<00:00, 24.77it/s]\n"
     ]
    },
    {
     "name": "stdout",
     "output_type": "stream",
     "text": [
      "\n",
      "Validation Report:\n",
      "angry: Prec=0.358 | Rec=0.302 | F1=0.327\n",
      "disgust: Prec=0.126 | Rec=0.667 | F1=0.212\n",
      "fear: Prec=0.279 | Rec=0.138 | F1=0.184\n",
      "happy: Prec=0.766 | Rec=0.653 | F1=0.705\n",
      "neutral: Prec=0.444 | Rec=0.487 | F1=0.464\n",
      "sad: Prec=0.404 | Rec=0.349 | F1=0.374\n",
      "surprise: Prec=0.495 | Rec=0.793 | F1=0.610\n",
      "\n",
      "Epoch Summary: Train Loss=1.2271 | Val Loss=1.4238 | Train Acc=0.536 | Val Acc=0.468\n",
      "Epoch time: 23.26 seconds\n",
      "\n",
      "Epoch 9/15\n"
     ]
    },
    {
     "name": "stderr",
     "output_type": "stream",
     "text": [
      "Training: 100%|██████████| 110/110 [00:14<00:00,  7.56it/s]\n",
      "Validation: 100%|██████████| 225/225 [00:09<00:00, 24.89it/s]\n"
     ]
    },
    {
     "name": "stdout",
     "output_type": "stream",
     "text": [
      "\n",
      "Validation Report:\n",
      "angry: Prec=0.395 | Rec=0.213 | F1=0.277\n",
      "disgust: Prec=0.245 | Rec=0.505 | F1=0.329\n",
      "fear: Prec=0.294 | Rec=0.176 | F1=0.220\n",
      "happy: Prec=0.713 | Rec=0.713 | F1=0.713\n",
      "neutral: Prec=0.479 | Rec=0.408 | F1=0.441\n",
      "sad: Prec=0.340 | Rec=0.605 | F1=0.435\n",
      "surprise: Prec=0.671 | Rec=0.627 | F1=0.648\n",
      "\n",
      "Epoch Summary: Train Loss=1.1686 | Val Loss=1.3383 | Train Acc=0.555 | Val Acc=0.485\n",
      "Epoch time: 23.61 seconds\n",
      "\n",
      "Epoch 10/15\n"
     ]
    },
    {
     "name": "stderr",
     "output_type": "stream",
     "text": [
      "Training: 100%|██████████| 110/110 [00:15<00:00,  7.18it/s]\n",
      "Validation: 100%|██████████| 225/225 [00:09<00:00, 22.67it/s]\n"
     ]
    },
    {
     "name": "stdout",
     "output_type": "stream",
     "text": [
      "\n",
      "Validation Report:\n",
      "angry: Prec=0.338 | Rec=0.231 | F1=0.274\n",
      "disgust: Prec=0.162 | Rec=0.631 | F1=0.257\n",
      "fear: Prec=0.293 | Rec=0.104 | F1=0.153\n",
      "happy: Prec=0.660 | Rec=0.749 | F1=0.702\n",
      "neutral: Prec=0.410 | Rec=0.590 | F1=0.483\n",
      "sad: Prec=0.445 | Rec=0.225 | F1=0.299\n",
      "surprise: Prec=0.505 | Rec=0.797 | F1=0.618\n",
      "\n",
      "Epoch Summary: Train Loss=1.1217 | Val Loss=1.4107 | Train Acc=0.573 | Val Acc=0.473\n",
      "Epoch time: 25.26 seconds\n",
      "\n",
      "Epoch 11/15\n"
     ]
    },
    {
     "name": "stderr",
     "output_type": "stream",
     "text": [
      "Training: 100%|██████████| 110/110 [00:14<00:00,  7.44it/s]\n",
      "Validation: 100%|██████████| 225/225 [00:09<00:00, 22.88it/s]\n"
     ]
    },
    {
     "name": "stdout",
     "output_type": "stream",
     "text": [
      "\n",
      "Validation Report:\n",
      "angry: Prec=0.302 | Rec=0.403 | F1=0.345\n",
      "disgust: Prec=0.167 | Rec=0.649 | F1=0.265\n",
      "fear: Prec=0.355 | Rec=0.121 | F1=0.181\n",
      "happy: Prec=0.753 | Rec=0.674 | F1=0.711\n",
      "neutral: Prec=0.440 | Rec=0.509 | F1=0.472\n",
      "sad: Prec=0.404 | Rec=0.352 | F1=0.376\n",
      "surprise: Prec=0.591 | Rec=0.722 | F1=0.650\n",
      "\n",
      "Epoch Summary: Train Loss=1.0741 | Val Loss=1.4009 | Train Acc=0.602 | Val Acc=0.480\n",
      "Epoch time: 24.63 seconds\n",
      "\n",
      "Epoch 12/15\n"
     ]
    },
    {
     "name": "stderr",
     "output_type": "stream",
     "text": [
      "Training: 100%|██████████| 110/110 [00:13<00:00,  8.23it/s]\n",
      "Validation: 100%|██████████| 225/225 [00:09<00:00, 24.46it/s]\n"
     ]
    },
    {
     "name": "stdout",
     "output_type": "stream",
     "text": [
      "\n",
      "Validation Report:\n",
      "angry: Prec=0.343 | Rec=0.254 | F1=0.292\n",
      "disgust: Prec=0.076 | Rec=0.766 | F1=0.138\n",
      "fear: Prec=0.287 | Rec=0.164 | F1=0.209\n",
      "happy: Prec=0.801 | Rec=0.611 | F1=0.693\n",
      "neutral: Prec=0.465 | Rec=0.413 | F1=0.437\n",
      "sad: Prec=0.359 | Rec=0.482 | F1=0.412\n",
      "surprise: Prec=0.719 | Rec=0.551 | F1=0.624\n",
      "\n",
      "Epoch Summary: Train Loss=1.0035 | Val Loss=1.5968 | Train Acc=0.621 | Val Acc=0.439\n",
      "Epoch time: 22.58 seconds\n",
      "\n",
      "Epoch 13/15\n"
     ]
    },
    {
     "name": "stderr",
     "output_type": "stream",
     "text": [
      "Training: 100%|██████████| 110/110 [00:13<00:00,  8.27it/s]\n",
      "Validation: 100%|██████████| 225/225 [00:08<00:00, 25.48it/s]\n"
     ]
    },
    {
     "name": "stdout",
     "output_type": "stream",
     "text": [
      "\n",
      "Validation Report:\n",
      "angry: Prec=0.404 | Rec=0.177 | F1=0.247\n",
      "disgust: Prec=0.241 | Rec=0.604 | F1=0.344\n",
      "fear: Prec=0.312 | Rec=0.234 | F1=0.268\n",
      "happy: Prec=0.702 | Rec=0.724 | F1=0.713\n",
      "neutral: Prec=0.410 | Rec=0.531 | F1=0.463\n",
      "sad: Prec=0.367 | Rec=0.496 | F1=0.422\n",
      "surprise: Prec=0.749 | Rec=0.538 | F1=0.626\n",
      "\n",
      "Epoch Summary: Train Loss=0.9664 | Val Loss=1.3812 | Train Acc=0.648 | Val Acc=0.485\n",
      "Epoch time: 22.14 seconds\n",
      "\n",
      "Epoch 14/15\n"
     ]
    },
    {
     "name": "stderr",
     "output_type": "stream",
     "text": [
      "Training: 100%|██████████| 110/110 [00:13<00:00,  7.95it/s]\n",
      "Validation: 100%|██████████| 225/225 [00:09<00:00, 22.77it/s]\n"
     ]
    },
    {
     "name": "stdout",
     "output_type": "stream",
     "text": [
      "\n",
      "Validation Report:\n",
      "angry: Prec=0.407 | Rec=0.234 | F1=0.297\n",
      "disgust: Prec=0.202 | Rec=0.604 | F1=0.302\n",
      "fear: Prec=0.284 | Rec=0.319 | F1=0.301\n",
      "happy: Prec=0.711 | Rec=0.713 | F1=0.712\n",
      "neutral: Prec=0.443 | Rec=0.501 | F1=0.470\n",
      "sad: Prec=0.402 | Rec=0.354 | F1=0.376\n",
      "surprise: Prec=0.625 | Rec=0.657 | F1=0.640\n",
      "\n",
      "Epoch Summary: Train Loss=0.9668 | Val Loss=1.3780 | Train Acc=0.648 | Val Acc=0.486\n",
      "Epoch time: 23.74 seconds\n",
      "\n",
      "Epoch 15/15\n"
     ]
    },
    {
     "name": "stderr",
     "output_type": "stream",
     "text": [
      "Training: 100%|██████████| 110/110 [00:13<00:00,  8.12it/s]\n",
      "Validation: 100%|██████████| 225/225 [00:08<00:00, 25.40it/s]\n"
     ]
    },
    {
     "name": "stdout",
     "output_type": "stream",
     "text": [
      "\n",
      "Validation Report:\n",
      "angry: Prec=0.374 | Rec=0.219 | F1=0.276\n",
      "disgust: Prec=0.152 | Rec=0.694 | F1=0.250\n",
      "fear: Prec=0.278 | Rec=0.261 | F1=0.269\n",
      "happy: Prec=0.715 | Rec=0.707 | F1=0.711\n",
      "neutral: Prec=0.467 | Rec=0.463 | F1=0.465\n",
      "sad: Prec=0.406 | Rec=0.354 | F1=0.378\n",
      "surprise: Prec=0.559 | Rec=0.730 | F1=0.633\n",
      "\n",
      "Epoch Summary: Train Loss=0.8985 | Val Loss=1.4449 | Train Acc=0.669 | Val Acc=0.478\n",
      "Epoch time: 22.42 seconds\n",
      "Saved model to 'results/resnet_model.pth'\n"
     ]
    }
   ],
   "source": [
    "metrics_history = train(model, train_loader, val_loader, optimizer, criterion, num_epochs=15)"
   ]
  },
  {
   "cell_type": "code",
   "execution_count": 132,
   "id": "06cc9bf0",
   "metadata": {},
   "outputs": [
    {
     "data": {
      "text/html": [
       "<div>\n",
       "<style scoped>\n",
       "    .dataframe tbody tr th:only-of-type {\n",
       "        vertical-align: middle;\n",
       "    }\n",
       "\n",
       "    .dataframe tbody tr th {\n",
       "        vertical-align: top;\n",
       "    }\n",
       "\n",
       "    .dataframe thead th {\n",
       "        text-align: right;\n",
       "    }\n",
       "</style>\n",
       "<table border=\"1\" class=\"dataframe\">\n",
       "  <thead>\n",
       "    <tr style=\"text-align: right;\">\n",
       "      <th></th>\n",
       "      <th>epoch</th>\n",
       "      <th>train_loss</th>\n",
       "      <th>val_loss</th>\n",
       "      <th>train_acc</th>\n",
       "      <th>val_acc</th>\n",
       "      <th>val_f1_macro</th>\n",
       "      <th>epoch_time_sec</th>\n",
       "      <th>angry_precision</th>\n",
       "      <th>angry_recall</th>\n",
       "      <th>angry_f1-score</th>\n",
       "      <th>...</th>\n",
       "      <th>happy_f1-score</th>\n",
       "      <th>neutral_precision</th>\n",
       "      <th>neutral_recall</th>\n",
       "      <th>neutral_f1-score</th>\n",
       "      <th>sad_precision</th>\n",
       "      <th>sad_recall</th>\n",
       "      <th>sad_f1-score</th>\n",
       "      <th>surprise_precision</th>\n",
       "      <th>surprise_recall</th>\n",
       "      <th>surprise_f1-score</th>\n",
       "    </tr>\n",
       "  </thead>\n",
       "  <tbody>\n",
       "    <tr>\n",
       "      <th>0</th>\n",
       "      <td>1</td>\n",
       "      <td>1.636541</td>\n",
       "      <td>1.468103</td>\n",
       "      <td>0.370571</td>\n",
       "      <td>0.449011</td>\n",
       "      <td>0.359029</td>\n",
       "      <td>18.902437</td>\n",
       "      <td>0.276392</td>\n",
       "      <td>0.300626</td>\n",
       "      <td>0.288000</td>\n",
       "      <td>...</td>\n",
       "      <td>0.683871</td>\n",
       "      <td>0.405556</td>\n",
       "      <td>0.473642</td>\n",
       "      <td>0.436962</td>\n",
       "      <td>0.444254</td>\n",
       "      <td>0.207698</td>\n",
       "      <td>0.283060</td>\n",
       "      <td>0.531193</td>\n",
       "      <td>0.696751</td>\n",
       "      <td>0.602811</td>\n",
       "    </tr>\n",
       "    <tr>\n",
       "      <th>1</th>\n",
       "      <td>2</td>\n",
       "      <td>1.547459</td>\n",
       "      <td>1.624593</td>\n",
       "      <td>0.412571</td>\n",
       "      <td>0.365283</td>\n",
       "      <td>0.334528</td>\n",
       "      <td>19.039200</td>\n",
       "      <td>0.385965</td>\n",
       "      <td>0.137787</td>\n",
       "      <td>0.203077</td>\n",
       "      <td>...</td>\n",
       "      <td>0.657333</td>\n",
       "      <td>0.496689</td>\n",
       "      <td>0.182482</td>\n",
       "      <td>0.266904</td>\n",
       "      <td>0.346390</td>\n",
       "      <td>0.361668</td>\n",
       "      <td>0.353864</td>\n",
       "      <td>0.523339</td>\n",
       "      <td>0.701564</td>\n",
       "      <td>0.599486</td>\n",
       "    </tr>\n",
       "    <tr>\n",
       "      <th>2</th>\n",
       "      <td>3</td>\n",
       "      <td>1.479716</td>\n",
       "      <td>1.430039</td>\n",
       "      <td>0.438000</td>\n",
       "      <td>0.453608</td>\n",
       "      <td>0.378196</td>\n",
       "      <td>21.285646</td>\n",
       "      <td>0.318725</td>\n",
       "      <td>0.167015</td>\n",
       "      <td>0.219178</td>\n",
       "      <td>...</td>\n",
       "      <td>0.701253</td>\n",
       "      <td>0.392105</td>\n",
       "      <td>0.483374</td>\n",
       "      <td>0.432982</td>\n",
       "      <td>0.364114</td>\n",
       "      <td>0.388933</td>\n",
       "      <td>0.376115</td>\n",
       "      <td>0.697640</td>\n",
       "      <td>0.569194</td>\n",
       "      <td>0.626905</td>\n",
       "    </tr>\n",
       "    <tr>\n",
       "      <th>3</th>\n",
       "      <td>4</td>\n",
       "      <td>1.413888</td>\n",
       "      <td>1.405892</td>\n",
       "      <td>0.456000</td>\n",
       "      <td>0.466704</td>\n",
       "      <td>0.404813</td>\n",
       "      <td>22.752694</td>\n",
       "      <td>0.342428</td>\n",
       "      <td>0.262004</td>\n",
       "      <td>0.296866</td>\n",
       "      <td>...</td>\n",
       "      <td>0.706971</td>\n",
       "      <td>0.410848</td>\n",
       "      <td>0.534469</td>\n",
       "      <td>0.464575</td>\n",
       "      <td>0.386809</td>\n",
       "      <td>0.348035</td>\n",
       "      <td>0.366399</td>\n",
       "      <td>0.550279</td>\n",
       "      <td>0.711191</td>\n",
       "      <td>0.620472</td>\n",
       "    </tr>\n",
       "    <tr>\n",
       "      <th>4</th>\n",
       "      <td>5</td>\n",
       "      <td>1.352093</td>\n",
       "      <td>1.355522</td>\n",
       "      <td>0.488286</td>\n",
       "      <td>0.486486</td>\n",
       "      <td>0.414913</td>\n",
       "      <td>22.773255</td>\n",
       "      <td>0.376923</td>\n",
       "      <td>0.255741</td>\n",
       "      <td>0.304726</td>\n",
       "      <td>...</td>\n",
       "      <td>0.699612</td>\n",
       "      <td>0.447518</td>\n",
       "      <td>0.446067</td>\n",
       "      <td>0.446791</td>\n",
       "      <td>0.366114</td>\n",
       "      <td>0.495589</td>\n",
       "      <td>0.421124</td>\n",
       "      <td>0.576699</td>\n",
       "      <td>0.714801</td>\n",
       "      <td>0.638366</td>\n",
       "    </tr>\n",
       "  </tbody>\n",
       "</table>\n",
       "<p>5 rows × 28 columns</p>\n",
       "</div>"
      ],
      "text/plain": [
       "   epoch  train_loss  val_loss  train_acc   val_acc  val_f1_macro  \\\n",
       "0      1    1.636541  1.468103   0.370571  0.449011      0.359029   \n",
       "1      2    1.547459  1.624593   0.412571  0.365283      0.334528   \n",
       "2      3    1.479716  1.430039   0.438000  0.453608      0.378196   \n",
       "3      4    1.413888  1.405892   0.456000  0.466704      0.404813   \n",
       "4      5    1.352093  1.355522   0.488286  0.486486      0.414913   \n",
       "\n",
       "   epoch_time_sec  angry_precision  angry_recall  angry_f1-score  ...  \\\n",
       "0       18.902437         0.276392      0.300626        0.288000  ...   \n",
       "1       19.039200         0.385965      0.137787        0.203077  ...   \n",
       "2       21.285646         0.318725      0.167015        0.219178  ...   \n",
       "3       22.752694         0.342428      0.262004        0.296866  ...   \n",
       "4       22.773255         0.376923      0.255741        0.304726  ...   \n",
       "\n",
       "   happy_f1-score  neutral_precision  neutral_recall  neutral_f1-score  \\\n",
       "0        0.683871           0.405556        0.473642          0.436962   \n",
       "1        0.657333           0.496689        0.182482          0.266904   \n",
       "2        0.701253           0.392105        0.483374          0.432982   \n",
       "3        0.706971           0.410848        0.534469          0.464575   \n",
       "4        0.699612           0.447518        0.446067          0.446791   \n",
       "\n",
       "   sad_precision  sad_recall  sad_f1-score  surprise_precision  \\\n",
       "0       0.444254    0.207698      0.283060            0.531193   \n",
       "1       0.346390    0.361668      0.353864            0.523339   \n",
       "2       0.364114    0.388933      0.376115            0.697640   \n",
       "3       0.386809    0.348035      0.366399            0.550279   \n",
       "4       0.366114    0.495589      0.421124            0.576699   \n",
       "\n",
       "   surprise_recall  surprise_f1-score  \n",
       "0         0.696751           0.602811  \n",
       "1         0.701564           0.599486  \n",
       "2         0.569194           0.626905  \n",
       "3         0.711191           0.620472  \n",
       "4         0.714801           0.638366  \n",
       "\n",
       "[5 rows x 28 columns]"
      ]
     },
     "metadata": {},
     "output_type": "display_data"
    }
   ],
   "source": [
    "df_metrics = pd.DataFrame(metrics_history)\n",
    "display(df_metrics.head())"
   ]
  },
  {
   "cell_type": "code",
   "execution_count": 133,
   "id": "b61cc9ff",
   "metadata": {},
   "outputs": [
    {
     "ename": "TypeError",
     "evalue": "train() missing 2 required positional arguments: 'optimizer' and 'criterion'",
     "output_type": "error",
     "traceback": [
      "\u001b[0;31m---------------------------------------------------------------------------\u001b[0m",
      "\u001b[0;31mTypeError\u001b[0m                                 Traceback (most recent call last)",
      "Cell \u001b[0;32mIn[133], line 1\u001b[0m\n\u001b[0;32m----> 1\u001b[0m \u001b[43mtrain\u001b[49m\u001b[43m(\u001b[49m\u001b[43mmodel\u001b[49m\u001b[43m,\u001b[49m\u001b[43m \u001b[49m\u001b[43mtrain_loader\u001b[49m\u001b[43m,\u001b[49m\u001b[43m \u001b[49m\u001b[43mval_loader\u001b[49m\u001b[43m,\u001b[49m\u001b[43m \u001b[49m\u001b[43mnum_epochs\u001b[49m\u001b[38;5;241;43m=\u001b[39;49m\u001b[38;5;241;43m15\u001b[39;49m\u001b[43m)\u001b[49m\n",
      "\u001b[0;31mTypeError\u001b[0m: train() missing 2 required positional arguments: 'optimizer' and 'criterion'"
     ]
    }
   ],
   "source": [
    "train(model, train_loader, val_loader, num_epochs=15)"
   ]
  },
  {
   "cell_type": "markdown",
   "id": "5371ba71",
   "metadata": {},
   "source": [
    "## Freeze Layers"
   ]
  },
  {
   "cell_type": "code",
   "execution_count": null,
   "id": "ca764111",
   "metadata": {},
   "outputs": [],
   "source": [
    "import torch.nn as nn\n",
    "import torchvision.models as models\n",
    "\n",
    "def build_light_resnet(num_classes):\n",
    "    # Load pretrained resnet18\n",
    "    base_model = models.resnet18(pretrained=True)\n",
    "\n",
    "    # Freeze all layers\n",
    "    for param in base_model.parameters():\n",
    "        param.requires_grad = False\n",
    "\n",
    "    # Replace the final classifier\n",
    "    base_model.fc = nn.Sequential(\n",
    "        nn.Linear(base_model.fc.in_features, 64),\n",
    "        nn.BatchNorm1d(64),\n",
    "        nn.ReLU(),\n",
    "        nn.Dropout(0.3),\n",
    "        nn.Linear(64, num_classes)\n",
    "    )\n",
    "\n",
    "    return base_model"
   ]
  },
  {
   "cell_type": "code",
   "execution_count": null,
   "id": "046f573b",
   "metadata": {},
   "outputs": [
    {
     "name": "stderr",
     "output_type": "stream",
     "text": [
      "/Users/yuyi/Desktop/DeepLearningProject/venv/lib/python3.9/site-packages/torchvision/models/_utils.py:208: UserWarning: The parameter 'pretrained' is deprecated since 0.13 and may be removed in the future, please use 'weights' instead.\n",
      "  warnings.warn(\n",
      "/Users/yuyi/Desktop/DeepLearningProject/venv/lib/python3.9/site-packages/torchvision/models/_utils.py:223: UserWarning: Arguments other than a weight enum or `None` for 'weights' are deprecated since 0.13 and may be removed in the future. The current behavior is equivalent to passing `weights=ResNet18_Weights.IMAGENET1K_V1`. You can also use `weights=ResNet18_Weights.DEFAULT` to get the most up-to-date weights.\n",
      "  warnings.warn(msg)\n"
     ]
    },
    {
     "name": "stdout",
     "output_type": "stream",
     "text": [
      "Downloading: \"https://download.pytorch.org/models/resnet18-f37072fd.pth\" to /Users/yuyi/.cache/torch/hub/checkpoints/resnet18-f37072fd.pth\n"
     ]
    },
    {
     "name": "stderr",
     "output_type": "stream",
     "text": [
      "100%|██████████| 44.7M/44.7M [00:06<00:00, 7.14MB/s]"
     ]
    },
    {
     "name": "stdout",
     "output_type": "stream",
     "text": [
      "Total Parameters: 11209927\n",
      "Trainable Parameters: 33415\n"
     ]
    },
    {
     "name": "stderr",
     "output_type": "stream",
     "text": [
      "\n"
     ]
    }
   ],
   "source": [
    "model = build_light_resnet(num_classes=len(class_names))\n",
    "\n",
    "total_params = sum(p.numel() for p in model.parameters())\n",
    "trainable_params = sum(p.numel() for p in model.parameters() if p.requires_grad)\n",
    "\n",
    "print(f\"Total Parameters: {total_params}\")\n",
    "print(f\"Trainable Parameters: {trainable_params}\")"
   ]
  }
 ],
 "metadata": {
  "kernelspec": {
   "display_name": "venv",
   "language": "python",
   "name": "python3"
  },
  "language_info": {
   "codemirror_mode": {
    "name": "ipython",
    "version": 3
   },
   "file_extension": ".py",
   "mimetype": "text/x-python",
   "name": "python",
   "nbconvert_exporter": "python",
   "pygments_lexer": "ipython3",
   "version": "3.9.6"
  }
 },
 "nbformat": 4,
 "nbformat_minor": 5
}
