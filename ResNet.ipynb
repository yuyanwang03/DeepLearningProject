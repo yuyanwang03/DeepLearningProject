{
 "cells": [
  {
   "cell_type": "code",
   "execution_count": 122,
   "id": "5d901e94",
   "metadata": {},
   "outputs": [],
   "source": [
    "import torch\n",
    "from torchvision import datasets, transforms\n",
    "from torch.utils.data import DataLoader, random_split\n",
    "from pathlib import Path\n",
    "import torch.nn as nn\n",
    "import warnings\n",
    "import torch.optim as optim\n",
    "from sklearn.utils.class_weight import compute_class_weight\n",
    "from sklearn.metrics import classification_report\n",
    "from tqdm import tqdm\n",
    "import time\n",
    "import numpy as np\n",
    "from PIL import Image\n",
    "from collections import Counter\n",
    "import numpy as np\n",
    "import os\n",
    "import pandas as pd\n",
    "import matplotlib.pyplot as plt\n",
    "import random\n",
    "from sklearn.manifold import TSNE\n",
    "from sklearn.decomposition import PCA\n",
    "import matplotlib.pyplot as plt"
   ]
  },
  {
   "cell_type": "code",
   "execution_count": 123,
   "id": "a28d16f0",
   "metadata": {},
   "outputs": [
    {
     "name": "stdout",
     "output_type": "stream",
     "text": [
      "Train images: 33595\n",
      "Val images: 7178\n",
      "Classes: ['angry', 'disgust', 'fear', 'happy', 'neutral', 'sad', 'surprise']\n"
     ]
    }
   ],
   "source": [
    "# Settings\n",
    "train_dir = Path('./data/train')\n",
    "val_dir   = Path('./data/test')\n",
    "img_size = 48\n",
    "batch_size = 64\n",
    "\n",
    "# Transforms\n",
    "train_transforms = transforms.Compose([\n",
    "    transforms.Resize((img_size, img_size)),\n",
    "    transforms.RandomHorizontalFlip(),\n",
    "    transforms.RandomRotation(5),\n",
    "    transforms.RandomAffine(degrees=0, shear=10, translate=(0.2, 0.2)),\n",
    "    transforms.ToTensor(),\n",
    "    transforms.Normalize(mean=[0.5]*3, std=[0.5]*3)  # normalize to [-1, 1]\n",
    "])\n",
    "\n",
    "val_transforms = transforms.Compose([\n",
    "    transforms.Resize((img_size, img_size)),\n",
    "    transforms.ToTensor(),\n",
    "    transforms.Normalize(mean=[0.5]*3, std=[0.5]*3)\n",
    "])\n",
    "\n",
    "# Datasets\n",
    "train_dataset = datasets.ImageFolder(root=train_dir, transform=train_transforms)\n",
    "val_dataset   = datasets.ImageFolder(root=val_dir, transform=val_transforms)\n",
    "print(f\"Train images: {len(train_dataset)}\")\n",
    "print(f\"Val images: {len(val_dataset)}\")\n",
    "\n",
    "# DataLoaders\n",
    "train_loader = DataLoader(train_dataset, batch_size=batch_size, shuffle=True, num_workers=2)\n",
    "val_loader   = DataLoader(val_dataset, batch_size=batch_size, shuffle=False, num_workers=2)\n",
    "\n",
    "# Class names\n",
    "class_names = train_dataset.classes\n",
    "print(\"Classes:\", class_names)"
   ]
  },
  {
   "cell_type": "code",
   "execution_count": 124,
   "id": "984650ec",
   "metadata": {},
   "outputs": [],
   "source": [
    "import torch.nn as nn\n",
    "import torch.nn.functional as F\n",
    "\n",
    "class ResSim(nn.Module):\n",
    "    def __init__(self, num_classes=7, dropout_rate=0.15):\n",
    "        super(ResSim, self).__init__()\n",
    "        self.dropout = nn.Dropout(dropout_rate)\n",
    "\n",
    "        # Block 1\n",
    "        self.block1 = nn.Sequential(\n",
    "            nn.Conv2d(3, 24, kernel_size=3, padding=1),\n",
    "            nn.BatchNorm2d(24),\n",
    "            nn.ReLU(),\n",
    "            nn.Conv2d(24, 24, kernel_size=3, padding=1),\n",
    "            nn.BatchNorm2d(24)\n",
    "        )\n",
    "        self.shortcut1 = nn.Conv2d(3, 24, kernel_size=1)\n",
    "\n",
    "        # Block 2\n",
    "        self.block2 = nn.Sequential(\n",
    "            nn.Conv2d(24, 48, kernel_size=3, padding=1),\n",
    "            nn.BatchNorm2d(48),\n",
    "            nn.ReLU(),\n",
    "            nn.Conv2d(48, 48, kernel_size=3, padding=1),\n",
    "            nn.BatchNorm2d(48)\n",
    "        )\n",
    "        self.shortcut2 = nn.Conv2d(24, 48, kernel_size=1)\n",
    "\n",
    "        self.pool = nn.MaxPool2d(2, 2)\n",
    "\n",
    "        # Final FC layer stays at 64\n",
    "        self.fc = nn.Sequential(\n",
    "            nn.Linear(12 * 12 * 48, 64),\n",
    "            nn.ReLU(),\n",
    "            nn.Dropout(dropout_rate),\n",
    "            nn.Linear(64, num_classes)\n",
    "        )\n",
    "\n",
    "    def forward(self, x):\n",
    "        x1 = self.block1(x)\n",
    "        x = self.pool(F.relu(x1 + self.shortcut1(x)))\n",
    "        x = self.dropout(x)\n",
    "\n",
    "        x2 = self.block2(x)\n",
    "        x = self.pool(F.relu(x2 + self.shortcut2(x)))\n",
    "        x = self.dropout(x)\n",
    "\n",
    "        x = x.view(x.size(0), -1)\n",
    "        return self.fc(x)"
   ]
  },
  {
   "cell_type": "code",
   "execution_count": 125,
   "id": "6e27c9d8",
   "metadata": {},
   "outputs": [
    {
     "name": "stdout",
     "output_type": "stream",
     "text": [
      "Total parameters: 481551\n"
     ]
    }
   ],
   "source": [
    "model = ResSim(num_classes=7)\n",
    "total_params = sum(p.numel() for p in model.parameters())\n",
    "print(f\"Total parameters: {total_params}\")"
   ]
  },
  {
   "cell_type": "code",
   "execution_count": 126,
   "id": "2469f2e7",
   "metadata": {},
   "outputs": [],
   "source": [
    "device = torch.device(\"cuda\" if torch.cuda.is_available() else \"cpu\")\n",
    "model = ResSim(num_classes=7).to(device)\n",
    "\n",
    "criterion = nn.CrossEntropyLoss()\n",
    "optimizer = optim.Adam(model.parameters(), lr=0.001)"
   ]
  },
  {
   "cell_type": "code",
   "execution_count": 127,
   "id": "668c81eb",
   "metadata": {},
   "outputs": [],
   "source": [
    "from sklearn.metrics import classification_report\n",
    "import time\n",
    "from tqdm import tqdm\n",
    "\n",
    "def train(model, train_loader, val_loader, optimizer, criterion, num_epochs=15, model_name='resnet_model.pth'):\n",
    "    history = []  # collect metrics per epoch\n",
    "\n",
    "    for epoch in range(num_epochs):\n",
    "        print(f\"\\nEpoch {epoch+1}/{num_epochs}\")\n",
    "        start_time = time.time()\n",
    "\n",
    "        # Training phase\n",
    "        model.train()\n",
    "        train_loss, correct, total = 0, 0, 0\n",
    "        for images, labels in tqdm(train_loader, desc=\"Training\"):\n",
    "            images, labels = images.to(device), labels.to(device)\n",
    "\n",
    "            optimizer.zero_grad()\n",
    "            outputs = model(images)\n",
    "            loss = criterion(outputs, labels)\n",
    "            loss.backward()\n",
    "            optimizer.step()\n",
    "\n",
    "            train_loss += loss.item() * images.size(0)\n",
    "            _, predicted = outputs.max(1)\n",
    "            correct += (predicted == labels).sum().item()\n",
    "            total += labels.size(0)\n",
    "\n",
    "        train_acc = correct / total\n",
    "        train_loss /= total\n",
    "\n",
    "        # Validation phase\n",
    "        model.eval()\n",
    "        val_loss, correct, total = 0, 0, 0\n",
    "        y_true, y_pred = [], []\n",
    "\n",
    "        with torch.no_grad():\n",
    "            for images, labels in tqdm(val_loader, desc=\"Validation\"):\n",
    "                images, labels = images.to(device), labels.to(device)\n",
    "                outputs = model(images)\n",
    "                loss = criterion(outputs, labels)\n",
    "                val_loss += loss.item() * images.size(0)\n",
    "\n",
    "                _, predicted = outputs.max(1)\n",
    "                correct += (predicted == labels).sum().item()\n",
    "                total += labels.size(0)\n",
    "\n",
    "                y_true.extend(labels.cpu().numpy())\n",
    "                y_pred.extend(predicted.cpu().numpy())\n",
    "\n",
    "        val_acc = correct / total\n",
    "        val_loss /= total\n",
    "\n",
    "        # Classification report\n",
    "        report = classification_report(y_true, y_pred, target_names=class_names, output_dict=True)\n",
    "        val_f1_macro = report['macro avg']['f1-score']\n",
    "\n",
    "        epoch_time = time.time() - start_time\n",
    "\n",
    "        # Collect metrics\n",
    "        epoch_data = {\n",
    "            'epoch': epoch + 1,\n",
    "            'train_loss': train_loss,\n",
    "            'val_loss': val_loss,\n",
    "            'train_acc': train_acc,\n",
    "            'val_acc': val_acc,\n",
    "            'val_f1_macro': val_f1_macro,\n",
    "            'epoch_time_sec': epoch_time\n",
    "        }\n",
    "\n",
    "        # Add per-class metrics\n",
    "        for cls in class_names:\n",
    "            for metric in ['precision', 'recall', 'f1-score']:\n",
    "                key = f'{cls}_{metric}'\n",
    "                epoch_data[key] = report[cls][metric]\n",
    "\n",
    "        history.append(epoch_data)\n",
    "\n",
    "        # Console output\n",
    "        print(\"\\nValidation Report:\")\n",
    "        for cls in class_names:\n",
    "            cls_metrics = report[cls]\n",
    "            print(f\"{cls}: Prec={cls_metrics['precision']:.3f} | Rec={cls_metrics['recall']:.3f} | F1={cls_metrics['f1-score']:.3f}\")\n",
    "\n",
    "        print(f\"\\nEpoch Summary: Train Loss={train_loss:.4f} | Val Loss={val_loss:.4f} | Train Acc={train_acc:.3f} | Val Acc={val_acc:.3f}\")\n",
    "        print(f\"Epoch time: {epoch_time:.2f} seconds\")\n",
    "\n",
    "    torch.save(model.state_dict(), f\"results/{model_name}\")\n",
    "    print(f\"Saved model to 'results/{model_name}'\")\n",
    "\n",
    "    return history"
   ]
  },
  {
   "cell_type": "code",
   "execution_count": 128,
   "id": "6d48ac36",
   "metadata": {},
   "outputs": [],
   "source": [
    "# metrics_history = train(model, train_loader, val_loader, optimizer, criterion, num_epochs=15)\n",
    "# df_metrics = pd.DataFrame(metrics_history)\n",
    "# display(df_metrics.head())"
   ]
  },
  {
   "cell_type": "code",
   "execution_count": null,
   "id": "45bb768f",
   "metadata": {},
   "outputs": [
    {
     "name": "stdout",
     "output_type": "stream",
     "text": [
      "\n",
      "Training config: adam_lr3_dropout0_bn\n",
      "\n",
      "Epoch 1/15\n"
     ]
    },
    {
     "name": "stderr",
     "output_type": "stream",
     "text": [
      "Training:  14%|█▍        | 76/525 [00:17<01:18,  5.72it/s]"
     ]
    }
   ],
   "source": [
    "def build_model(dropout):\n",
    "    return ResSim(num_classes=len(class_names), dropout_rate=dropout).to(device)\n",
    "\n",
    "# Define settings to test\n",
    "configs = [\n",
    "    {'name': 'adam_lr3_dropout0_bn', 'optimizer': 'adam', 'lr': 1e-3, 'dropout': 0},\n",
    "    {'name': 'adam_lr3_dropout15_bn', 'optimizer': 'adam', 'lr': 1e-3, 'dropout': 0.15},\n",
    "    {'name': 'adam_lr2_dropout15_bn', 'optimizer': 'adam', 'lr': 1e-2, 'dropout': 0.15},\n",
    "    {'name': 'adam_lr3_dropout20_bn', 'optimizer': 'adam', 'lr': 1e-3, 'dropout': 0.20},\n",
    "    {'name': 'sgd_mom09_lr3_dropout15_bn', 'optimizer': 'sgd', 'lr': 1e-3, 'dropout': 0.15},\n",
    "]\n",
    "\n",
    "\n",
    "for config in configs:\n",
    "    print(f\"\\nTraining config: {config['name']}\")\n",
    "\n",
    "    model = build_model(config['dropout'])\n",
    "    if config['optimizer'] == 'adam':\n",
    "        optimizer = optim.Adam(model.parameters(), lr=config['lr'])\n",
    "    else:\n",
    "        optimizer = optim.SGD(model.parameters(), lr=config['lr'], momentum=0.9)\n",
    "\n",
    "    criterion = nn.CrossEntropyLoss()\n",
    "    history = train(model, train_loader, val_loader, optimizer, criterion, num_epochs=15, model_name=config['name'])\n",
    "    pd.DataFrame(history).to_csv(f'results/history_{config[\"name\"]}.csv', index=False)"
   ]
  },
  {
   "cell_type": "markdown",
   "id": "e06000e2",
   "metadata": {},
   "source": [
    "# Small test"
   ]
  },
  {
   "cell_type": "code",
   "execution_count": null,
   "id": "47f09ff3",
   "metadata": {},
   "outputs": [],
   "source": [
    "from torchvision import datasets, transforms\n",
    "from torch.utils.data import DataLoader, Subset\n",
    "from collections import defaultdict\n",
    "import numpy as np\n",
    "import random\n",
    "\n",
    "# Transform (with normalization to [-1, 1] range)\n",
    "transform = transforms.Compose([\n",
    "    transforms.Resize((48, 48)),\n",
    "    transforms.ToTensor(),\n",
    "    transforms.Normalize((0.5,), (0.5,))  # For 3 channels, use 3 values if needed\n",
    "])\n",
    "\n",
    "# Load full dataset\n",
    "full_train_dataset = datasets.ImageFolder('./data/train', transform=transform)\n",
    "\n",
    "# Limit to 500 samples per class\n",
    "class_counts = defaultdict(list)\n",
    "for idx, (_, label) in enumerate(full_train_dataset):\n",
    "    if len(class_counts[label]) < 500:\n",
    "        class_counts[label].append(idx)\n",
    "\n",
    "# Flatten selected indices\n",
    "subset_indices = [idx for indices in class_counts.values() for idx in indices]\n",
    "\n",
    "# Create subset dataset\n",
    "small_train_dataset = Subset(full_train_dataset, subset_indices)\n",
    "train_loader = DataLoader(small_train_dataset, batch_size=32, shuffle=True)\n",
    "\n",
    "# Validation loader (no subsample here, or you can do similarly)\n",
    "val_dataset = datasets.ImageFolder('./data/test', transform=transform)\n",
    "val_loader = DataLoader(val_dataset, batch_size=32, shuffle=False)"
   ]
  },
  {
   "cell_type": "code",
   "execution_count": null,
   "id": "0647a018",
   "metadata": {},
   "outputs": [
    {
     "name": "stdout",
     "output_type": "stream",
     "text": [
      "\n",
      "Epoch 1/15\n"
     ]
    },
    {
     "name": "stderr",
     "output_type": "stream",
     "text": [
      "Training: 100%|██████████| 110/110 [00:24<00:00,  4.42it/s]\n",
      "Validation: 100%|██████████| 225/225 [00:17<00:00, 12.95it/s]\n"
     ]
    },
    {
     "name": "stdout",
     "output_type": "stream",
     "text": [
      "\n",
      "Validation Report:\n",
      "angry: Prec=0.271 | Rec=0.062 | F1=0.100\n",
      "disgust: Prec=0.184 | Rec=0.568 | F1=0.278\n",
      "fear: Prec=0.232 | Rec=0.132 | F1=0.168\n",
      "happy: Prec=0.703 | Rec=0.623 | F1=0.660\n",
      "neutral: Prec=0.305 | Rec=0.426 | F1=0.356\n",
      "sad: Prec=0.251 | Rec=0.260 | F1=0.255\n",
      "surprise: Prec=0.392 | Rec=0.686 | F1=0.499\n",
      "\n",
      "Epoch Summary: Train Loss=1.4209 | Val Loss=1.6420 | Train Acc=0.425 | Val Acc=0.387\n",
      "Epoch time: 42.38 seconds\n",
      "\n",
      "Epoch 2/15\n"
     ]
    },
    {
     "name": "stderr",
     "output_type": "stream",
     "text": [
      "Training: 100%|██████████| 110/110 [00:14<00:00,  7.68it/s]\n",
      "Validation: 100%|██████████| 225/225 [00:07<00:00, 30.92it/s]\n"
     ]
    },
    {
     "name": "stdout",
     "output_type": "stream",
     "text": [
      "\n",
      "Validation Report:\n",
      "angry: Prec=0.203 | Rec=0.073 | F1=0.107\n",
      "disgust: Prec=0.151 | Rec=0.604 | F1=0.241\n",
      "fear: Prec=0.200 | Rec=0.118 | F1=0.149\n",
      "happy: Prec=0.725 | Rec=0.557 | F1=0.630\n",
      "neutral: Prec=0.295 | Rec=0.441 | F1=0.354\n",
      "sad: Prec=0.261 | Rec=0.163 | F1=0.200\n",
      "surprise: Prec=0.350 | Rec=0.758 | F1=0.479\n",
      "\n",
      "Epoch Summary: Train Loss=1.4369 | Val Loss=1.6770 | Train Acc=0.414 | Val Acc=0.365\n",
      "Epoch time: 21.61 seconds\n",
      "\n",
      "Epoch 3/15\n"
     ]
    },
    {
     "name": "stderr",
     "output_type": "stream",
     "text": [
      "Training: 100%|██████████| 110/110 [00:11<00:00,  9.70it/s]\n",
      "Validation: 100%|██████████| 225/225 [00:06<00:00, 32.24it/s]\n"
     ]
    },
    {
     "name": "stdout",
     "output_type": "stream",
     "text": [
      "\n",
      "Validation Report:\n",
      "angry: Prec=0.202 | Rec=0.130 | F1=0.158\n",
      "disgust: Prec=0.117 | Rec=0.658 | F1=0.198\n",
      "fear: Prec=0.184 | Rec=0.094 | F1=0.124\n",
      "happy: Prec=0.794 | Rec=0.486 | F1=0.603\n",
      "neutral: Prec=0.322 | Rec=0.453 | F1=0.376\n",
      "sad: Prec=0.240 | Rec=0.131 | F1=0.169\n",
      "surprise: Prec=0.334 | Rec=0.767 | F1=0.465\n",
      "\n",
      "Epoch Summary: Train Loss=1.3898 | Val Loss=1.7324 | Train Acc=0.437 | Val Acc=0.351\n",
      "Epoch time: 18.32 seconds\n",
      "\n",
      "Epoch 4/15\n"
     ]
    },
    {
     "name": "stderr",
     "output_type": "stream",
     "text": [
      "Training: 100%|██████████| 110/110 [00:11<00:00,  9.73it/s]\n",
      "Validation: 100%|██████████| 225/225 [00:06<00:00, 32.37it/s]\n"
     ]
    },
    {
     "name": "stdout",
     "output_type": "stream",
     "text": [
      "\n",
      "Validation Report:\n",
      "angry: Prec=0.218 | Rec=0.087 | F1=0.124\n",
      "disgust: Prec=0.148 | Rec=0.613 | F1=0.239\n",
      "fear: Prec=0.229 | Rec=0.114 | F1=0.153\n",
      "happy: Prec=0.658 | Rec=0.660 | F1=0.659\n",
      "neutral: Prec=0.317 | Rec=0.377 | F1=0.345\n",
      "sad: Prec=0.240 | Rec=0.202 | F1=0.219\n",
      "surprise: Prec=0.382 | Rec=0.704 | F1=0.495\n",
      "\n",
      "Epoch Summary: Train Loss=1.3986 | Val Loss=1.6961 | Train Acc=0.433 | Val Acc=0.382\n",
      "Epoch time: 18.26 seconds\n",
      "\n",
      "Epoch 5/15\n"
     ]
    },
    {
     "name": "stderr",
     "output_type": "stream",
     "text": [
      "Training: 100%|██████████| 110/110 [00:11<00:00,  9.70it/s]\n",
      "Validation: 100%|██████████| 225/225 [00:06<00:00, 32.83it/s]\n"
     ]
    },
    {
     "name": "stdout",
     "output_type": "stream",
     "text": [
      "\n",
      "Validation Report:\n",
      "angry: Prec=0.191 | Rec=0.182 | F1=0.186\n",
      "disgust: Prec=0.076 | Rec=0.739 | F1=0.138\n",
      "fear: Prec=0.193 | Rec=0.074 | F1=0.107\n",
      "happy: Prec=0.791 | Rec=0.483 | F1=0.600\n",
      "neutral: Prec=0.327 | Rec=0.243 | F1=0.279\n",
      "sad: Prec=0.240 | Rec=0.265 | F1=0.252\n",
      "surprise: Prec=0.400 | Rec=0.681 | F1=0.504\n",
      "\n",
      "Epoch Summary: Train Loss=1.3927 | Val Loss=1.8724 | Train Acc=0.435 | Val Acc=0.332\n",
      "Epoch time: 18.20 seconds\n",
      "\n",
      "Epoch 6/15\n"
     ]
    },
    {
     "name": "stderr",
     "output_type": "stream",
     "text": [
      "Training: 100%|██████████| 110/110 [00:11<00:00,  9.61it/s]\n",
      "Validation: 100%|██████████| 225/225 [00:07<00:00, 31.07it/s]\n"
     ]
    },
    {
     "name": "stdout",
     "output_type": "stream",
     "text": [
      "\n",
      "Validation Report:\n",
      "angry: Prec=0.211 | Rec=0.101 | F1=0.137\n",
      "disgust: Prec=0.124 | Rec=0.640 | F1=0.208\n",
      "fear: Prec=0.148 | Rec=0.089 | F1=0.111\n",
      "happy: Prec=0.809 | Rec=0.484 | F1=0.605\n",
      "neutral: Prec=0.369 | Rec=0.178 | F1=0.240\n",
      "sad: Prec=0.238 | Rec=0.301 | F1=0.266\n",
      "surprise: Prec=0.286 | Rec=0.793 | F1=0.421\n",
      "\n",
      "Epoch Summary: Train Loss=1.3760 | Val Loss=1.7447 | Train Acc=0.441 | Val Acc=0.330\n",
      "Epoch time: 18.70 seconds\n",
      "\n",
      "Epoch 7/15\n"
     ]
    },
    {
     "name": "stderr",
     "output_type": "stream",
     "text": [
      "Training: 100%|██████████| 110/110 [00:11<00:00,  9.46it/s]\n",
      "Validation: 100%|██████████| 225/225 [00:07<00:00, 28.44it/s]\n"
     ]
    },
    {
     "name": "stdout",
     "output_type": "stream",
     "text": [
      "\n",
      "Validation Report:\n",
      "angry: Prec=0.204 | Rec=0.125 | F1=0.155\n",
      "disgust: Prec=0.137 | Rec=0.613 | F1=0.224\n",
      "fear: Prec=0.200 | Rec=0.084 | F1=0.118\n",
      "happy: Prec=0.799 | Rec=0.503 | F1=0.618\n",
      "neutral: Prec=0.305 | Rec=0.411 | F1=0.350\n",
      "sad: Prec=0.235 | Rec=0.258 | F1=0.246\n",
      "surprise: Prec=0.383 | Rec=0.699 | F1=0.495\n",
      "\n",
      "Epoch Summary: Train Loss=1.3620 | Val Loss=1.7609 | Train Acc=0.446 | Val Acc=0.359\n",
      "Epoch time: 19.55 seconds\n",
      "\n",
      "Epoch 8/15\n"
     ]
    },
    {
     "name": "stderr",
     "output_type": "stream",
     "text": [
      "Training: 100%|██████████| 110/110 [00:11<00:00,  9.55it/s]\n",
      "Validation: 100%|██████████| 225/225 [00:07<00:00, 28.97it/s]\n"
     ]
    },
    {
     "name": "stdout",
     "output_type": "stream",
     "text": [
      "\n",
      "Validation Report:\n",
      "angry: Prec=0.252 | Rec=0.153 | F1=0.191\n",
      "disgust: Prec=0.197 | Rec=0.550 | F1=0.290\n",
      "fear: Prec=0.245 | Rec=0.093 | F1=0.135\n",
      "happy: Prec=0.728 | Rec=0.593 | F1=0.654\n",
      "neutral: Prec=0.306 | Rec=0.483 | F1=0.375\n",
      "sad: Prec=0.247 | Rec=0.256 | F1=0.252\n",
      "surprise: Prec=0.440 | Rec=0.643 | F1=0.522\n",
      "\n",
      "Epoch Summary: Train Loss=1.3254 | Val Loss=1.7891 | Train Acc=0.455 | Val Acc=0.391\n",
      "Epoch time: 19.30 seconds\n",
      "\n",
      "Epoch 9/15\n"
     ]
    },
    {
     "name": "stderr",
     "output_type": "stream",
     "text": [
      "Training: 100%|██████████| 110/110 [00:11<00:00,  9.50it/s]\n",
      "Validation: 100%|██████████| 225/225 [00:08<00:00, 25.64it/s]\n"
     ]
    },
    {
     "name": "stdout",
     "output_type": "stream",
     "text": [
      "\n",
      "Validation Report:\n",
      "angry: Prec=0.231 | Rec=0.097 | F1=0.137\n",
      "disgust: Prec=0.238 | Rec=0.477 | F1=0.317\n",
      "fear: Prec=0.222 | Rec=0.104 | F1=0.142\n",
      "happy: Prec=0.761 | Rec=0.494 | F1=0.599\n",
      "neutral: Prec=0.311 | Rec=0.445 | F1=0.366\n",
      "sad: Prec=0.239 | Rec=0.325 | F1=0.275\n",
      "surprise: Prec=0.392 | Rec=0.687 | F1=0.499\n",
      "\n",
      "Epoch Summary: Train Loss=1.3279 | Val Loss=1.7571 | Train Acc=0.456 | Val Acc=0.370\n",
      "Epoch time: 20.36 seconds\n",
      "\n",
      "Epoch 10/15\n"
     ]
    },
    {
     "name": "stderr",
     "output_type": "stream",
     "text": [
      "Training: 100%|██████████| 110/110 [00:12<00:00,  8.90it/s]\n",
      "Validation: 100%|██████████| 225/225 [00:07<00:00, 29.68it/s]\n"
     ]
    },
    {
     "name": "stdout",
     "output_type": "stream",
     "text": [
      "\n",
      "Validation Report:\n",
      "angry: Prec=0.201 | Rec=0.198 | F1=0.199\n",
      "disgust: Prec=0.100 | Rec=0.622 | F1=0.172\n",
      "fear: Prec=0.205 | Rec=0.093 | F1=0.128\n",
      "happy: Prec=0.840 | Rec=0.433 | F1=0.572\n",
      "neutral: Prec=0.336 | Rec=0.431 | F1=0.378\n",
      "sad: Prec=0.244 | Rec=0.231 | F1=0.237\n",
      "surprise: Prec=0.383 | Rec=0.644 | F1=0.480\n",
      "\n",
      "Epoch Summary: Train Loss=1.3492 | Val Loss=1.8815 | Train Acc=0.443 | Val Acc=0.345\n",
      "Epoch time: 19.95 seconds\n",
      "\n",
      "Epoch 11/15\n"
     ]
    },
    {
     "name": "stderr",
     "output_type": "stream",
     "text": [
      "Training: 100%|██████████| 110/110 [00:11<00:00,  9.46it/s]\n",
      "Validation: 100%|██████████| 225/225 [00:07<00:00, 29.92it/s]\n"
     ]
    },
    {
     "name": "stdout",
     "output_type": "stream",
     "text": [
      "\n",
      "Validation Report:\n",
      "angry: Prec=0.216 | Rec=0.177 | F1=0.195\n",
      "disgust: Prec=0.102 | Rec=0.658 | F1=0.177\n",
      "fear: Prec=0.210 | Rec=0.087 | F1=0.123\n",
      "happy: Prec=0.815 | Rec=0.457 | F1=0.586\n",
      "neutral: Prec=0.364 | Rec=0.354 | F1=0.359\n",
      "sad: Prec=0.238 | Rec=0.273 | F1=0.254\n",
      "surprise: Prec=0.357 | Rec=0.700 | F1=0.473\n",
      "\n",
      "Epoch Summary: Train Loss=1.3171 | Val Loss=1.8704 | Train Acc=0.457 | Val Acc=0.348\n",
      "Epoch time: 19.15 seconds\n",
      "\n",
      "Epoch 12/15\n"
     ]
    },
    {
     "name": "stderr",
     "output_type": "stream",
     "text": [
      "Training: 100%|██████████| 110/110 [00:11<00:00,  9.45it/s]\n",
      "Validation: 100%|██████████| 225/225 [00:07<00:00, 30.02it/s]\n"
     ]
    },
    {
     "name": "stdout",
     "output_type": "stream",
     "text": [
      "\n",
      "Validation Report:\n",
      "angry: Prec=0.211 | Rec=0.128 | F1=0.160\n",
      "disgust: Prec=0.145 | Rec=0.622 | F1=0.235\n",
      "fear: Prec=0.196 | Rec=0.098 | F1=0.130\n",
      "happy: Prec=0.870 | Rec=0.411 | F1=0.559\n",
      "neutral: Prec=0.354 | Rec=0.344 | F1=0.349\n",
      "sad: Prec=0.234 | Rec=0.349 | F1=0.280\n",
      "surprise: Prec=0.343 | Rec=0.706 | F1=0.462\n",
      "\n",
      "Epoch Summary: Train Loss=1.3107 | Val Loss=1.8332 | Train Acc=0.456 | Val Acc=0.344\n",
      "Epoch time: 19.15 seconds\n",
      "\n",
      "Epoch 13/15\n"
     ]
    },
    {
     "name": "stderr",
     "output_type": "stream",
     "text": [
      "Training: 100%|██████████| 110/110 [00:12<00:00,  8.61it/s]\n",
      "Validation: 100%|██████████| 225/225 [00:08<00:00, 27.52it/s]\n"
     ]
    },
    {
     "name": "stdout",
     "output_type": "stream",
     "text": [
      "\n",
      "Validation Report:\n",
      "angry: Prec=0.225 | Rec=0.154 | F1=0.183\n",
      "disgust: Prec=0.125 | Rec=0.649 | F1=0.210\n",
      "fear: Prec=0.181 | Rec=0.079 | F1=0.110\n",
      "happy: Prec=0.764 | Rec=0.521 | F1=0.620\n",
      "neutral: Prec=0.331 | Rec=0.347 | F1=0.339\n",
      "sad: Prec=0.242 | Rec=0.267 | F1=0.254\n",
      "surprise: Prec=0.364 | Rec=0.709 | F1=0.481\n",
      "\n",
      "Epoch Summary: Train Loss=1.2935 | Val Loss=1.8403 | Train Acc=0.472 | Val Acc=0.359\n",
      "Epoch time: 20.96 seconds\n",
      "\n",
      "Epoch 14/15\n"
     ]
    },
    {
     "name": "stderr",
     "output_type": "stream",
     "text": [
      "Training: 100%|██████████| 110/110 [00:13<00:00,  8.18it/s]\n",
      "Validation: 100%|██████████| 225/225 [00:08<00:00, 27.18it/s]\n"
     ]
    },
    {
     "name": "stdout",
     "output_type": "stream",
     "text": [
      "\n",
      "Validation Report:\n",
      "angry: Prec=0.198 | Rec=0.156 | F1=0.174\n",
      "disgust: Prec=0.103 | Rec=0.595 | F1=0.175\n",
      "fear: Prec=0.202 | Rec=0.096 | F1=0.130\n",
      "happy: Prec=0.878 | Rec=0.348 | F1=0.499\n",
      "neutral: Prec=0.343 | Rec=0.289 | F1=0.314\n",
      "sad: Prec=0.243 | Rec=0.326 | F1=0.278\n",
      "surprise: Prec=0.321 | Rec=0.727 | F1=0.446\n",
      "\n",
      "Epoch Summary: Train Loss=1.2997 | Val Loss=1.8798 | Train Acc=0.460 | Val Acc=0.320\n",
      "Epoch time: 21.74 seconds\n",
      "\n",
      "Epoch 15/15\n"
     ]
    },
    {
     "name": "stderr",
     "output_type": "stream",
     "text": [
      "Training: 100%|██████████| 110/110 [00:11<00:00,  9.49it/s]\n",
      "Validation: 100%|██████████| 225/225 [00:07<00:00, 29.84it/s]"
     ]
    },
    {
     "name": "stdout",
     "output_type": "stream",
     "text": [
      "\n",
      "Validation Report:\n",
      "angry: Prec=0.249 | Rec=0.106 | F1=0.149\n",
      "disgust: Prec=0.132 | Rec=0.604 | F1=0.217\n",
      "fear: Prec=0.200 | Rec=0.105 | F1=0.138\n",
      "happy: Prec=0.765 | Rec=0.523 | F1=0.621\n",
      "neutral: Prec=0.380 | Rec=0.200 | F1=0.262\n",
      "sad: Prec=0.251 | Rec=0.369 | F1=0.299\n",
      "surprise: Prec=0.308 | Rec=0.755 | F1=0.438\n",
      "\n",
      "Epoch Summary: Train Loss=1.2884 | Val Loss=1.7998 | Train Acc=0.466 | Val Acc=0.353\n",
      "Epoch time: 19.14 seconds\n",
      "Saved model to 'resnet_model.pth'\n"
     ]
    },
    {
     "name": "stderr",
     "output_type": "stream",
     "text": [
      "\n"
     ]
    }
   ],
   "source": [
    "metrics_history = train(model, train_loader, val_loader, optimizer, criterion, num_epochs=15)"
   ]
  },
  {
   "cell_type": "code",
   "execution_count": null,
   "id": "06cc9bf0",
   "metadata": {},
   "outputs": [
    {
     "data": {
      "text/html": [
       "<div>\n",
       "<style scoped>\n",
       "    .dataframe tbody tr th:only-of-type {\n",
       "        vertical-align: middle;\n",
       "    }\n",
       "\n",
       "    .dataframe tbody tr th {\n",
       "        vertical-align: top;\n",
       "    }\n",
       "\n",
       "    .dataframe thead th {\n",
       "        text-align: right;\n",
       "    }\n",
       "</style>\n",
       "<table border=\"1\" class=\"dataframe\">\n",
       "  <thead>\n",
       "    <tr style=\"text-align: right;\">\n",
       "      <th></th>\n",
       "      <th>epoch</th>\n",
       "      <th>train_loss</th>\n",
       "      <th>val_loss</th>\n",
       "      <th>train_acc</th>\n",
       "      <th>val_acc</th>\n",
       "      <th>val_f1_macro</th>\n",
       "      <th>epoch_time_sec</th>\n",
       "      <th>angry_precision</th>\n",
       "      <th>angry_recall</th>\n",
       "      <th>angry_f1-score</th>\n",
       "      <th>...</th>\n",
       "      <th>happy_f1-score</th>\n",
       "      <th>neutral_precision</th>\n",
       "      <th>neutral_recall</th>\n",
       "      <th>neutral_f1-score</th>\n",
       "      <th>sad_precision</th>\n",
       "      <th>sad_recall</th>\n",
       "      <th>sad_f1-score</th>\n",
       "      <th>surprise_precision</th>\n",
       "      <th>surprise_recall</th>\n",
       "      <th>surprise_f1-score</th>\n",
       "    </tr>\n",
       "  </thead>\n",
       "  <tbody>\n",
       "    <tr>\n",
       "      <th>0</th>\n",
       "      <td>1</td>\n",
       "      <td>1.420878</td>\n",
       "      <td>1.642038</td>\n",
       "      <td>0.424857</td>\n",
       "      <td>0.387434</td>\n",
       "      <td>0.330929</td>\n",
       "      <td>42.379916</td>\n",
       "      <td>0.270642</td>\n",
       "      <td>0.061587</td>\n",
       "      <td>0.100340</td>\n",
       "      <td>...</td>\n",
       "      <td>0.660490</td>\n",
       "      <td>0.305410</td>\n",
       "      <td>0.425791</td>\n",
       "      <td>0.355691</td>\n",
       "      <td>0.251163</td>\n",
       "      <td>0.259824</td>\n",
       "      <td>0.255420</td>\n",
       "      <td>0.392022</td>\n",
       "      <td>0.685921</td>\n",
       "      <td>0.498906</td>\n",
       "    </tr>\n",
       "    <tr>\n",
       "      <th>1</th>\n",
       "      <td>2</td>\n",
       "      <td>1.436899</td>\n",
       "      <td>1.676996</td>\n",
       "      <td>0.414286</td>\n",
       "      <td>0.365422</td>\n",
       "      <td>0.308582</td>\n",
       "      <td>21.605242</td>\n",
       "      <td>0.202899</td>\n",
       "      <td>0.073069</td>\n",
       "      <td>0.107444</td>\n",
       "      <td>...</td>\n",
       "      <td>0.630102</td>\n",
       "      <td>0.295492</td>\n",
       "      <td>0.441200</td>\n",
       "      <td>0.353936</td>\n",
       "      <td>0.260591</td>\n",
       "      <td>0.162791</td>\n",
       "      <td>0.200395</td>\n",
       "      <td>0.349612</td>\n",
       "      <td>0.758123</td>\n",
       "      <td>0.478542</td>\n",
       "    </tr>\n",
       "    <tr>\n",
       "      <th>2</th>\n",
       "      <td>3</td>\n",
       "      <td>1.389826</td>\n",
       "      <td>1.732358</td>\n",
       "      <td>0.436571</td>\n",
       "      <td>0.350515</td>\n",
       "      <td>0.299288</td>\n",
       "      <td>18.324173</td>\n",
       "      <td>0.201613</td>\n",
       "      <td>0.130480</td>\n",
       "      <td>0.158428</td>\n",
       "      <td>...</td>\n",
       "      <td>0.603286</td>\n",
       "      <td>0.321819</td>\n",
       "      <td>0.453366</td>\n",
       "      <td>0.376431</td>\n",
       "      <td>0.240059</td>\n",
       "      <td>0.130714</td>\n",
       "      <td>0.169263</td>\n",
       "      <td>0.333683</td>\n",
       "      <td>0.766546</td>\n",
       "      <td>0.464964</td>\n",
       "    </tr>\n",
       "    <tr>\n",
       "      <th>3</th>\n",
       "      <td>4</td>\n",
       "      <td>1.398585</td>\n",
       "      <td>1.696068</td>\n",
       "      <td>0.432857</td>\n",
       "      <td>0.381861</td>\n",
       "      <td>0.319046</td>\n",
       "      <td>18.263938</td>\n",
       "      <td>0.218421</td>\n",
       "      <td>0.086639</td>\n",
       "      <td>0.124066</td>\n",
       "      <td>...</td>\n",
       "      <td>0.658976</td>\n",
       "      <td>0.317190</td>\n",
       "      <td>0.377129</td>\n",
       "      <td>0.344572</td>\n",
       "      <td>0.239544</td>\n",
       "      <td>0.202085</td>\n",
       "      <td>0.219226</td>\n",
       "      <td>0.382103</td>\n",
       "      <td>0.703971</td>\n",
       "      <td>0.495343</td>\n",
       "    </tr>\n",
       "    <tr>\n",
       "      <th>4</th>\n",
       "      <td>5</td>\n",
       "      <td>1.392669</td>\n",
       "      <td>1.872429</td>\n",
       "      <td>0.434857</td>\n",
       "      <td>0.332405</td>\n",
       "      <td>0.295151</td>\n",
       "      <td>18.198030</td>\n",
       "      <td>0.191419</td>\n",
       "      <td>0.181628</td>\n",
       "      <td>0.186395</td>\n",
       "      <td>...</td>\n",
       "      <td>0.599720</td>\n",
       "      <td>0.326797</td>\n",
       "      <td>0.243309</td>\n",
       "      <td>0.278940</td>\n",
       "      <td>0.239681</td>\n",
       "      <td>0.265437</td>\n",
       "      <td>0.251903</td>\n",
       "      <td>0.399718</td>\n",
       "      <td>0.681107</td>\n",
       "      <td>0.503783</td>\n",
       "    </tr>\n",
       "  </tbody>\n",
       "</table>\n",
       "<p>5 rows × 28 columns</p>\n",
       "</div>"
      ],
      "text/plain": [
       "   epoch  train_loss  val_loss  train_acc   val_acc  val_f1_macro  \\\n",
       "0      1    1.420878  1.642038   0.424857  0.387434      0.330929   \n",
       "1      2    1.436899  1.676996   0.414286  0.365422      0.308582   \n",
       "2      3    1.389826  1.732358   0.436571  0.350515      0.299288   \n",
       "3      4    1.398585  1.696068   0.432857  0.381861      0.319046   \n",
       "4      5    1.392669  1.872429   0.434857  0.332405      0.295151   \n",
       "\n",
       "   epoch_time_sec  angry_precision  angry_recall  angry_f1-score  ...  \\\n",
       "0       42.379916         0.270642      0.061587        0.100340  ...   \n",
       "1       21.605242         0.202899      0.073069        0.107444  ...   \n",
       "2       18.324173         0.201613      0.130480        0.158428  ...   \n",
       "3       18.263938         0.218421      0.086639        0.124066  ...   \n",
       "4       18.198030         0.191419      0.181628        0.186395  ...   \n",
       "\n",
       "   happy_f1-score  neutral_precision  neutral_recall  neutral_f1-score  \\\n",
       "0        0.660490           0.305410        0.425791          0.355691   \n",
       "1        0.630102           0.295492        0.441200          0.353936   \n",
       "2        0.603286           0.321819        0.453366          0.376431   \n",
       "3        0.658976           0.317190        0.377129          0.344572   \n",
       "4        0.599720           0.326797        0.243309          0.278940   \n",
       "\n",
       "   sad_precision  sad_recall  sad_f1-score  surprise_precision  \\\n",
       "0       0.251163    0.259824      0.255420            0.392022   \n",
       "1       0.260591    0.162791      0.200395            0.349612   \n",
       "2       0.240059    0.130714      0.169263            0.333683   \n",
       "3       0.239544    0.202085      0.219226            0.382103   \n",
       "4       0.239681    0.265437      0.251903            0.399718   \n",
       "\n",
       "   surprise_recall  surprise_f1-score  \n",
       "0         0.685921           0.498906  \n",
       "1         0.758123           0.478542  \n",
       "2         0.766546           0.464964  \n",
       "3         0.703971           0.495343  \n",
       "4         0.681107           0.503783  \n",
       "\n",
       "[5 rows x 28 columns]"
      ]
     },
     "metadata": {},
     "output_type": "display_data"
    }
   ],
   "source": [
    "df_metrics = pd.DataFrame(metrics_history)\n",
    "display(df_metrics.head())"
   ]
  },
  {
   "cell_type": "code",
   "execution_count": null,
   "id": "b61cc9ff",
   "metadata": {},
   "outputs": [
    {
     "name": "stdout",
     "output_type": "stream",
     "text": [
      "\n",
      "Epoch 1/15\n"
     ]
    },
    {
     "name": "stderr",
     "output_type": "stream",
     "text": [
      "Training: 100%|██████████| 110/110 [00:11<00:00,  9.42it/s]\n",
      "Validation: 100%|██████████| 225/225 [00:07<00:00, 28.24it/s]\n",
      "/Users/yuyi/Desktop/DeepLearningProject/venv/lib/python3.9/site-packages/sklearn/metrics/_classification.py:1565: UndefinedMetricWarning: Precision is ill-defined and being set to 0.0 in labels with no predicted samples. Use `zero_division` parameter to control this behavior.\n",
      "  _warn_prf(average, modifier, f\"{metric.capitalize()} is\", len(result))\n",
      "/Users/yuyi/Desktop/DeepLearningProject/venv/lib/python3.9/site-packages/sklearn/metrics/_classification.py:1565: UndefinedMetricWarning: Precision is ill-defined and being set to 0.0 in labels with no predicted samples. Use `zero_division` parameter to control this behavior.\n",
      "  _warn_prf(average, modifier, f\"{metric.capitalize()} is\", len(result))\n",
      "/Users/yuyi/Desktop/DeepLearningProject/venv/lib/python3.9/site-packages/sklearn/metrics/_classification.py:1565: UndefinedMetricWarning: Precision is ill-defined and being set to 0.0 in labels with no predicted samples. Use `zero_division` parameter to control this behavior.\n",
      "  _warn_prf(average, modifier, f\"{metric.capitalize()} is\", len(result))\n"
     ]
    },
    {
     "name": "stdout",
     "output_type": "stream",
     "text": [
      "\n",
      "Validation Report:\n",
      "angry: Prec=0.000 | Rec=0.000 | F1=0.000\n",
      "disgust: Prec=0.000 | Rec=0.000 | F1=0.000\n",
      "fear: Prec=0.294 | Rec=0.005 | F1=0.010\n",
      "happy: Prec=0.516 | Rec=0.745 | F1=0.609\n",
      "neutral: Prec=0.282 | Rec=0.294 | F1=0.288\n",
      "sad: Prec=0.233 | Rec=0.262 | F1=0.247\n",
      "surprise: Prec=0.326 | Rec=0.750 | F1=0.455\n",
      "✅ Saved new best model!\n",
      "\n",
      "Epoch Summary: Train Loss=1.8949 | Val Loss=1.7561 | Train Acc=0.234 | Val Acc=0.368\n",
      "⏱️ Epoch time: 19.77 seconds\n",
      "\n",
      "Epoch 2/15\n"
     ]
    },
    {
     "name": "stderr",
     "output_type": "stream",
     "text": [
      "Training: 100%|██████████| 110/110 [00:12<00:00,  9.04it/s]\n",
      "Validation: 100%|██████████| 225/225 [00:07<00:00, 28.84it/s]\n",
      "/Users/yuyi/Desktop/DeepLearningProject/venv/lib/python3.9/site-packages/sklearn/metrics/_classification.py:1565: UndefinedMetricWarning: Precision is ill-defined and being set to 0.0 in labels with no predicted samples. Use `zero_division` parameter to control this behavior.\n",
      "  _warn_prf(average, modifier, f\"{metric.capitalize()} is\", len(result))\n",
      "/Users/yuyi/Desktop/DeepLearningProject/venv/lib/python3.9/site-packages/sklearn/metrics/_classification.py:1565: UndefinedMetricWarning: Precision is ill-defined and being set to 0.0 in labels with no predicted samples. Use `zero_division` parameter to control this behavior.\n",
      "  _warn_prf(average, modifier, f\"{metric.capitalize()} is\", len(result))\n",
      "/Users/yuyi/Desktop/DeepLearningProject/venv/lib/python3.9/site-packages/sklearn/metrics/_classification.py:1565: UndefinedMetricWarning: Precision is ill-defined and being set to 0.0 in labels with no predicted samples. Use `zero_division` parameter to control this behavior.\n",
      "  _warn_prf(average, modifier, f\"{metric.capitalize()} is\", len(result))\n"
     ]
    },
    {
     "name": "stdout",
     "output_type": "stream",
     "text": [
      "\n",
      "Validation Report:\n",
      "angry: Prec=0.000 | Rec=0.000 | F1=0.000\n",
      "disgust: Prec=0.000 | Rec=0.000 | F1=0.000\n",
      "fear: Prec=0.143 | Rec=0.001 | F1=0.002\n",
      "happy: Prec=0.622 | Rec=0.652 | F1=0.636\n",
      "neutral: Prec=0.302 | Rec=0.303 | F1=0.303\n",
      "sad: Prec=0.243 | Rec=0.329 | F1=0.279\n",
      "surprise: Prec=0.284 | Rec=0.813 | F1=0.421\n",
      "✅ Saved new best model!\n",
      "\n",
      "Epoch Summary: Train Loss=1.8487 | Val Loss=1.7447 | Train Acc=0.251 | Val Acc=0.365\n",
      "⏱️ Epoch time: 19.99 seconds\n",
      "\n",
      "Epoch 3/15\n"
     ]
    },
    {
     "name": "stderr",
     "output_type": "stream",
     "text": [
      "Training: 100%|██████████| 110/110 [00:11<00:00,  9.48it/s]\n",
      "Validation: 100%|██████████| 225/225 [00:07<00:00, 30.65it/s]\n",
      "/Users/yuyi/Desktop/DeepLearningProject/venv/lib/python3.9/site-packages/sklearn/metrics/_classification.py:1565: UndefinedMetricWarning: Precision is ill-defined and being set to 0.0 in labels with no predicted samples. Use `zero_division` parameter to control this behavior.\n",
      "  _warn_prf(average, modifier, f\"{metric.capitalize()} is\", len(result))\n",
      "/Users/yuyi/Desktop/DeepLearningProject/venv/lib/python3.9/site-packages/sklearn/metrics/_classification.py:1565: UndefinedMetricWarning: Precision is ill-defined and being set to 0.0 in labels with no predicted samples. Use `zero_division` parameter to control this behavior.\n",
      "  _warn_prf(average, modifier, f\"{metric.capitalize()} is\", len(result))\n",
      "/Users/yuyi/Desktop/DeepLearningProject/venv/lib/python3.9/site-packages/sklearn/metrics/_classification.py:1565: UndefinedMetricWarning: Precision is ill-defined and being set to 0.0 in labels with no predicted samples. Use `zero_division` parameter to control this behavior.\n",
      "  _warn_prf(average, modifier, f\"{metric.capitalize()} is\", len(result))\n"
     ]
    },
    {
     "name": "stdout",
     "output_type": "stream",
     "text": [
      "\n",
      "Validation Report:\n",
      "angry: Prec=0.000 | Rec=0.000 | F1=0.000\n",
      "disgust: Prec=0.036 | Rec=0.342 | F1=0.065\n",
      "fear: Prec=0.208 | Rec=0.021 | F1=0.037\n",
      "happy: Prec=0.606 | Rec=0.582 | F1=0.594\n",
      "neutral: Prec=0.241 | Rec=0.492 | F1=0.323\n",
      "sad: Prec=0.243 | Rec=0.115 | F1=0.156\n",
      "surprise: Prec=0.455 | Rec=0.657 | F1=0.537\n",
      "✅ Saved new best model!\n",
      "\n",
      "Epoch Summary: Train Loss=1.8004 | Val Loss=1.7535 | Train Acc=0.276 | Val Acc=0.333\n",
      "⏱️ Epoch time: 18.96 seconds\n",
      "\n",
      "Epoch 4/15\n"
     ]
    },
    {
     "name": "stderr",
     "output_type": "stream",
     "text": [
      "Training: 100%|██████████| 110/110 [00:11<00:00,  9.36it/s]\n",
      "Validation: 100%|██████████| 225/225 [00:07<00:00, 29.58it/s]\n",
      "/Users/yuyi/Desktop/DeepLearningProject/venv/lib/python3.9/site-packages/sklearn/metrics/_classification.py:1565: UndefinedMetricWarning: Precision is ill-defined and being set to 0.0 in labels with no predicted samples. Use `zero_division` parameter to control this behavior.\n",
      "  _warn_prf(average, modifier, f\"{metric.capitalize()} is\", len(result))\n",
      "/Users/yuyi/Desktop/DeepLearningProject/venv/lib/python3.9/site-packages/sklearn/metrics/_classification.py:1565: UndefinedMetricWarning: Precision is ill-defined and being set to 0.0 in labels with no predicted samples. Use `zero_division` parameter to control this behavior.\n",
      "  _warn_prf(average, modifier, f\"{metric.capitalize()} is\", len(result))\n",
      "/Users/yuyi/Desktop/DeepLearningProject/venv/lib/python3.9/site-packages/sklearn/metrics/_classification.py:1565: UndefinedMetricWarning: Precision is ill-defined and being set to 0.0 in labels with no predicted samples. Use `zero_division` parameter to control this behavior.\n",
      "  _warn_prf(average, modifier, f\"{metric.capitalize()} is\", len(result))\n"
     ]
    },
    {
     "name": "stdout",
     "output_type": "stream",
     "text": [
      "\n",
      "Validation Report:\n",
      "angry: Prec=0.000 | Rec=0.000 | F1=0.000\n",
      "disgust: Prec=0.152 | Rec=0.306 | F1=0.204\n",
      "fear: Prec=0.202 | Rec=0.049 | F1=0.079\n",
      "happy: Prec=0.624 | Rec=0.676 | F1=0.649\n",
      "neutral: Prec=0.300 | Rec=0.107 | F1=0.158\n",
      "sad: Prec=0.251 | Rec=0.433 | F1=0.318\n",
      "surprise: Prec=0.307 | Rec=0.812 | F1=0.446\n",
      "✅ Saved new best model!\n",
      "\n",
      "Epoch Summary: Train Loss=1.7705 | Val Loss=1.7069 | Train Acc=0.297 | Val Acc=0.367\n",
      "⏱️ Epoch time: 19.37 seconds\n",
      "\n",
      "Epoch 5/15\n"
     ]
    },
    {
     "name": "stderr",
     "output_type": "stream",
     "text": [
      "Training: 100%|██████████| 110/110 [00:11<00:00,  9.48it/s]\n",
      "Validation: 100%|██████████| 225/225 [00:07<00:00, 29.71it/s]\n"
     ]
    },
    {
     "name": "stdout",
     "output_type": "stream",
     "text": [
      "\n",
      "Validation Report:\n",
      "angry: Prec=0.145 | Rec=0.105 | F1=0.122\n",
      "disgust: Prec=0.045 | Rec=0.703 | F1=0.085\n",
      "fear: Prec=0.159 | Rec=0.045 | F1=0.070\n",
      "happy: Prec=0.707 | Rec=0.529 | F1=0.605\n",
      "neutral: Prec=0.271 | Rec=0.339 | F1=0.301\n",
      "sad: Prec=0.136 | Rec=0.019 | F1=0.034\n",
      "surprise: Prec=0.405 | Rec=0.691 | F1=0.511\n",
      "\n",
      "Epoch Summary: Train Loss=1.7157 | Val Loss=1.7549 | Train Acc=0.323 | Val Acc=0.304\n",
      "⏱️ Epoch time: 19.19 seconds\n",
      "\n",
      "Epoch 6/15\n"
     ]
    },
    {
     "name": "stderr",
     "output_type": "stream",
     "text": [
      "Training: 100%|██████████| 110/110 [00:11<00:00,  9.97it/s]\n",
      "Validation: 100%|██████████| 225/225 [00:07<00:00, 31.94it/s]\n"
     ]
    },
    {
     "name": "stdout",
     "output_type": "stream",
     "text": [
      "\n",
      "Validation Report:\n",
      "angry: Prec=0.000 | Rec=0.000 | F1=0.000\n",
      "disgust: Prec=0.188 | Rec=0.441 | F1=0.263\n",
      "fear: Prec=0.162 | Rec=0.073 | F1=0.101\n",
      "happy: Prec=0.688 | Rec=0.581 | F1=0.630\n",
      "neutral: Prec=0.271 | Rec=0.092 | F1=0.138\n",
      "sad: Prec=0.263 | Rec=0.360 | F1=0.304\n",
      "surprise: Prec=0.254 | Rec=0.862 | F1=0.392\n",
      "\n",
      "Epoch Summary: Train Loss=1.6803 | Val Loss=1.7071 | Train Acc=0.333 | Val Acc=0.339\n",
      "⏱️ Epoch time: 18.09 seconds\n",
      "\n",
      "Epoch 7/15\n"
     ]
    },
    {
     "name": "stderr",
     "output_type": "stream",
     "text": [
      "Training: 100%|██████████| 110/110 [00:11<00:00,  9.90it/s]\n",
      "Validation: 100%|██████████| 225/225 [00:07<00:00, 31.15it/s]\n"
     ]
    },
    {
     "name": "stdout",
     "output_type": "stream",
     "text": [
      "\n",
      "Validation Report:\n",
      "angry: Prec=0.204 | Rec=0.020 | F1=0.036\n",
      "disgust: Prec=0.108 | Rec=0.532 | F1=0.179\n",
      "fear: Prec=0.176 | Rec=0.124 | F1=0.146\n",
      "happy: Prec=0.785 | Rec=0.379 | F1=0.512\n",
      "neutral: Prec=0.268 | Rec=0.607 | F1=0.372\n",
      "sad: Prec=0.213 | Rec=0.028 | F1=0.050\n",
      "surprise: Prec=0.336 | Rec=0.810 | F1=0.475\n",
      "\n",
      "Epoch Summary: Train Loss=1.6358 | Val Loss=1.7509 | Train Acc=0.355 | Val Acc=0.325\n",
      "⏱️ Epoch time: 18.34 seconds\n",
      "\n",
      "Epoch 8/15\n"
     ]
    },
    {
     "name": "stderr",
     "output_type": "stream",
     "text": [
      "Training: 100%|██████████| 110/110 [00:13<00:00,  8.41it/s]\n",
      "Validation: 100%|██████████| 225/225 [07:15<00:00,  1.94s/it] \n"
     ]
    },
    {
     "name": "stdout",
     "output_type": "stream",
     "text": [
      "\n",
      "Validation Report:\n",
      "angry: Prec=0.210 | Rec=0.057 | F1=0.090\n",
      "disgust: Prec=0.081 | Rec=0.685 | F1=0.145\n",
      "fear: Prec=0.188 | Rec=0.117 | F1=0.144\n",
      "happy: Prec=0.765 | Rec=0.533 | F1=0.628\n",
      "neutral: Prec=0.271 | Rec=0.485 | F1=0.348\n",
      "sad: Prec=0.245 | Rec=0.091 | F1=0.133\n",
      "surprise: Prec=0.422 | Rec=0.728 | F1=0.535\n",
      "✅ Saved new best model!\n",
      "\n",
      "Epoch Summary: Train Loss=1.6048 | Val Loss=1.6828 | Train Acc=0.366 | Val Acc=0.350\n",
      "⏱️ Epoch time: 449.03 seconds\n",
      "\n",
      "Epoch 9/15\n"
     ]
    },
    {
     "name": "stderr",
     "output_type": "stream",
     "text": [
      "Training: 100%|██████████| 110/110 [16:07<00:00,  8.79s/it] \n",
      "Validation: 100%|██████████| 225/225 [17:55<00:00,  4.78s/it]  \n"
     ]
    },
    {
     "name": "stdout",
     "output_type": "stream",
     "text": [
      "\n",
      "Validation Report:\n",
      "angry: Prec=0.184 | Rec=0.030 | F1=0.052\n",
      "disgust: Prec=0.113 | Rec=0.649 | F1=0.192\n",
      "fear: Prec=0.217 | Rec=0.123 | F1=0.157\n",
      "happy: Prec=0.726 | Rec=0.555 | F1=0.629\n",
      "neutral: Prec=0.287 | Rec=0.489 | F1=0.362\n",
      "sad: Prec=0.238 | Rec=0.156 | F1=0.189\n",
      "surprise: Prec=0.402 | Rec=0.740 | F1=0.521\n",
      "✅ Saved new best model!\n",
      "\n",
      "Epoch Summary: Train Loss=1.5673 | Val Loss=1.6679 | Train Acc=0.381 | Val Acc=0.366\n",
      "⏱️ Epoch time: 2042.78 seconds\n",
      "\n",
      "Epoch 10/15\n"
     ]
    },
    {
     "name": "stderr",
     "output_type": "stream",
     "text": [
      "Training: 100%|██████████| 110/110 [50:07<00:00, 27.34s/it]  \n",
      "Validation: 100%|██████████| 225/225 [15:14<00:00,  4.07s/it]  \n"
     ]
    },
    {
     "name": "stdout",
     "output_type": "stream",
     "text": [
      "\n",
      "Validation Report:\n",
      "angry: Prec=0.225 | Rec=0.035 | F1=0.061\n",
      "disgust: Prec=0.101 | Rec=0.721 | F1=0.176\n",
      "fear: Prec=0.203 | Rec=0.116 | F1=0.148\n",
      "happy: Prec=0.691 | Rec=0.618 | F1=0.653\n",
      "neutral: Prec=0.309 | Rec=0.397 | F1=0.347\n",
      "sad: Prec=0.273 | Rec=0.101 | F1=0.148\n",
      "surprise: Prec=0.334 | Rec=0.807 | F1=0.472\n",
      "\n",
      "Epoch Summary: Train Loss=1.5534 | Val Loss=1.6628 | Train Acc=0.391 | Val Acc=0.364\n",
      "⏱️ Epoch time: 3922.24 seconds\n",
      "\n",
      "Epoch 11/15\n"
     ]
    },
    {
     "name": "stderr",
     "output_type": "stream",
     "text": [
      "Training: 100%|██████████| 110/110 [14:27<00:00,  7.88s/it]  \n",
      "Validation: 100%|██████████| 225/225 [33:42<00:00,  8.99s/it]   \n"
     ]
    },
    {
     "name": "stdout",
     "output_type": "stream",
     "text": [
      "\n",
      "Validation Report:\n",
      "angry: Prec=0.206 | Rec=0.023 | F1=0.041\n",
      "disgust: Prec=0.188 | Rec=0.595 | F1=0.285\n",
      "fear: Prec=0.211 | Rec=0.089 | F1=0.125\n",
      "happy: Prec=0.731 | Rec=0.568 | F1=0.639\n",
      "neutral: Prec=0.258 | Rec=0.771 | F1=0.387\n",
      "sad: Prec=0.181 | Rec=0.030 | F1=0.051\n",
      "surprise: Prec=0.499 | Rec=0.614 | F1=0.550\n",
      "\n",
      "Epoch Summary: Train Loss=1.5117 | Val Loss=1.6373 | Train Acc=0.402 | Val Acc=0.374\n",
      "⏱️ Epoch time: 2889.82 seconds\n",
      "\n",
      "Epoch 12/15\n"
     ]
    },
    {
     "name": "stderr",
     "output_type": "stream",
     "text": [
      "Training: 100%|██████████| 110/110 [27:11<00:00, 14.84s/it]  \n",
      "Validation: 100%|██████████| 225/225 [33:07<00:00,  8.84s/it]  \n"
     ]
    },
    {
     "name": "stdout",
     "output_type": "stream",
     "text": [
      "\n",
      "Validation Report:\n",
      "angry: Prec=0.204 | Rec=0.089 | F1=0.124\n",
      "disgust: Prec=0.084 | Rec=0.730 | F1=0.151\n",
      "fear: Prec=0.207 | Rec=0.135 | F1=0.163\n",
      "happy: Prec=0.732 | Rec=0.552 | F1=0.630\n",
      "neutral: Prec=0.291 | Rec=0.416 | F1=0.343\n",
      "sad: Prec=0.246 | Rec=0.108 | F1=0.150\n",
      "surprise: Prec=0.408 | Rec=0.727 | F1=0.522\n",
      "\n",
      "Epoch Summary: Train Loss=1.4968 | Val Loss=1.6881 | Train Acc=0.412 | Val Acc=0.353\n",
      "⏱️ Epoch time: 3619.82 seconds\n",
      "\n",
      "Epoch 13/15\n"
     ]
    },
    {
     "name": "stderr",
     "output_type": "stream",
     "text": [
      "Training: 100%|██████████| 110/110 [00:13<00:00,  8.34it/s]\n",
      "Validation: 100%|██████████| 225/225 [27:34<00:00,  7.35s/it] \n"
     ]
    },
    {
     "name": "stdout",
     "output_type": "stream",
     "text": [
      "\n",
      "Validation Report:\n",
      "angry: Prec=0.190 | Rec=0.099 | F1=0.130\n",
      "disgust: Prec=0.121 | Rec=0.649 | F1=0.204\n",
      "fear: Prec=0.206 | Rec=0.130 | F1=0.159\n",
      "happy: Prec=0.771 | Rec=0.551 | F1=0.642\n",
      "neutral: Prec=0.277 | Rec=0.522 | F1=0.362\n",
      "sad: Prec=0.217 | Rec=0.069 | F1=0.105\n",
      "surprise: Prec=0.416 | Rec=0.722 | F1=0.527\n",
      "✅ Saved new best model!\n",
      "\n",
      "Epoch Summary: Train Loss=1.4808 | Val Loss=1.6571 | Train Acc=0.409 | Val Acc=0.363\n",
      "⏱️ Epoch time: 1667.29 seconds\n",
      "\n",
      "Epoch 14/15\n"
     ]
    },
    {
     "name": "stderr",
     "output_type": "stream",
     "text": [
      "Training: 100%|██████████| 110/110 [32:02<00:00, 17.48s/it]  \n",
      "Validation: 100%|██████████| 225/225 [17:44<00:00,  4.73s/it]  \n"
     ]
    },
    {
     "name": "stdout",
     "output_type": "stream",
     "text": [
      "\n",
      "Validation Report:\n",
      "angry: Prec=0.185 | Rec=0.063 | F1=0.094\n",
      "disgust: Prec=0.085 | Rec=0.685 | F1=0.151\n",
      "fear: Prec=0.181 | Rec=0.091 | F1=0.121\n",
      "happy: Prec=0.745 | Rec=0.564 | F1=0.642\n",
      "neutral: Prec=0.325 | Rec=0.182 | F1=0.234\n",
      "sad: Prec=0.256 | Rec=0.296 | F1=0.275\n",
      "surprise: Prec=0.328 | Rec=0.779 | F1=0.461\n",
      "\n",
      "Epoch Summary: Train Loss=1.4382 | Val Loss=1.6970 | Train Acc=0.426 | Val Acc=0.344\n",
      "⏱️ Epoch time: 2987.17 seconds\n",
      "\n",
      "Epoch 15/15\n"
     ]
    },
    {
     "name": "stderr",
     "output_type": "stream",
     "text": [
      "Training: 100%|██████████| 110/110 [16:26<00:00,  8.97s/it]  \n",
      "Validation: 100%|██████████| 225/225 [17:13<00:00,  4.59s/it] "
     ]
    },
    {
     "name": "stdout",
     "output_type": "stream",
     "text": [
      "\n",
      "Validation Report:\n",
      "angry: Prec=0.184 | Rec=0.057 | F1=0.088\n",
      "disgust: Prec=0.111 | Rec=0.595 | F1=0.187\n",
      "fear: Prec=0.215 | Rec=0.141 | F1=0.170\n",
      "happy: Prec=0.748 | Rec=0.555 | F1=0.638\n",
      "neutral: Prec=0.307 | Rec=0.430 | F1=0.358\n",
      "sad: Prec=0.232 | Rec=0.162 | F1=0.191\n",
      "surprise: Prec=0.364 | Rec=0.745 | F1=0.489\n",
      "\n",
      "Epoch Summary: Train Loss=1.4497 | Val Loss=1.6597 | Train Acc=0.423 | Val Acc=0.362\n",
      "⏱️ Epoch time: 2019.59 seconds\n"
     ]
    },
    {
     "name": "stderr",
     "output_type": "stream",
     "text": [
      "\n"
     ]
    }
   ],
   "source": [
    "train(model, train_loader, val_loader, num_epochs=15)"
   ]
  },
  {
   "cell_type": "markdown",
   "id": "5371ba71",
   "metadata": {},
   "source": [
    "## Freeze Layers"
   ]
  },
  {
   "cell_type": "code",
   "execution_count": null,
   "id": "ca764111",
   "metadata": {},
   "outputs": [],
   "source": [
    "import torch.nn as nn\n",
    "import torchvision.models as models\n",
    "\n",
    "def build_light_resnet(num_classes):\n",
    "    # Load pretrained resnet18\n",
    "    base_model = models.resnet18(pretrained=True)\n",
    "\n",
    "    # Freeze all layers\n",
    "    for param in base_model.parameters():\n",
    "        param.requires_grad = False\n",
    "\n",
    "    # Replace the final classifier\n",
    "    base_model.fc = nn.Sequential(\n",
    "        nn.Linear(base_model.fc.in_features, 64),\n",
    "        nn.BatchNorm1d(64),\n",
    "        nn.ReLU(),\n",
    "        nn.Dropout(0.3),\n",
    "        nn.Linear(64, num_classes)\n",
    "    )\n",
    "\n",
    "    return base_model"
   ]
  },
  {
   "cell_type": "code",
   "execution_count": null,
   "id": "046f573b",
   "metadata": {},
   "outputs": [
    {
     "name": "stderr",
     "output_type": "stream",
     "text": [
      "/Users/yuyi/Desktop/DeepLearningProject/venv/lib/python3.9/site-packages/torchvision/models/_utils.py:208: UserWarning: The parameter 'pretrained' is deprecated since 0.13 and may be removed in the future, please use 'weights' instead.\n",
      "  warnings.warn(\n",
      "/Users/yuyi/Desktop/DeepLearningProject/venv/lib/python3.9/site-packages/torchvision/models/_utils.py:223: UserWarning: Arguments other than a weight enum or `None` for 'weights' are deprecated since 0.13 and may be removed in the future. The current behavior is equivalent to passing `weights=ResNet18_Weights.IMAGENET1K_V1`. You can also use `weights=ResNet18_Weights.DEFAULT` to get the most up-to-date weights.\n",
      "  warnings.warn(msg)\n"
     ]
    },
    {
     "name": "stdout",
     "output_type": "stream",
     "text": [
      "Downloading: \"https://download.pytorch.org/models/resnet18-f37072fd.pth\" to /Users/yuyi/.cache/torch/hub/checkpoints/resnet18-f37072fd.pth\n"
     ]
    },
    {
     "name": "stderr",
     "output_type": "stream",
     "text": [
      "100%|██████████| 44.7M/44.7M [00:06<00:00, 7.14MB/s]"
     ]
    },
    {
     "name": "stdout",
     "output_type": "stream",
     "text": [
      "Total Parameters: 11209927\n",
      "Trainable Parameters: 33415\n"
     ]
    },
    {
     "name": "stderr",
     "output_type": "stream",
     "text": [
      "\n"
     ]
    }
   ],
   "source": [
    "model = build_light_resnet(num_classes=len(class_names))\n",
    "\n",
    "total_params = sum(p.numel() for p in model.parameters())\n",
    "trainable_params = sum(p.numel() for p in model.parameters() if p.requires_grad)\n",
    "\n",
    "print(f\"Total Parameters: {total_params}\")\n",
    "print(f\"Trainable Parameters: {trainable_params}\")"
   ]
  }
 ],
 "metadata": {
  "kernelspec": {
   "display_name": "venv",
   "language": "python",
   "name": "python3"
  },
  "language_info": {
   "codemirror_mode": {
    "name": "ipython",
    "version": 3
   },
   "file_extension": ".py",
   "mimetype": "text/x-python",
   "name": "python",
   "nbconvert_exporter": "python",
   "pygments_lexer": "ipython3",
   "version": "3.9.6"
  }
 },
 "nbformat": 4,
 "nbformat_minor": 5
}
