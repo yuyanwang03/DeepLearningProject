{
 "cells": [
  {
   "cell_type": "code",
   "execution_count": null,
   "id": "5d901e94",
   "metadata": {},
   "outputs": [],
   "source": [
    "import torch\n",
    "from torchvision import datasets, transforms\n",
    "from torch.utils.data import DataLoader, random_split\n",
    "from pathlib import Path\n",
    "import torch.nn as nn\n",
    "import warnings\n",
    "import torch.optim as optim\n",
    "from sklearn.utils.class_weight import compute_class_weight\n",
    "from sklearn.metrics import classification_report\n",
    "from tqdm import tqdm\n",
    "import time\n",
    "import numpy as np\n",
    "from PIL import Image\n",
    "from collections import Counter\n",
    "import numpy as np\n",
    "import os\n",
    "import pandas as pd\n",
    "import matplotlib.pyplot as plt\n",
    "import random\n",
    "from sklearn.manifold import TSNE\n",
    "from sklearn.decomposition import PCA\n",
    "import matplotlib.pyplot as plt\n",
    "import torch.nn.functional as F"
   ]
  },
  {
   "cell_type": "code",
   "execution_count": 136,
   "id": "a28d16f0",
   "metadata": {},
   "outputs": [
    {
     "name": "stdout",
     "output_type": "stream",
     "text": [
      "Train images: 33595\n",
      "Val images: 7178\n",
      "Classes: ['angry', 'disgust', 'fear', 'happy', 'neutral', 'sad', 'surprise']\n"
     ]
    }
   ],
   "source": [
    "# Settings\n",
    "train_dir = Path('./data/train')\n",
    "val_dir   = Path('./data/test')\n",
    "img_size = 48\n",
    "batch_size = 64\n",
    "\n",
    "# Transforms\n",
    "train_transforms = transforms.Compose([\n",
    "    transforms.Resize((img_size, img_size)),\n",
    "    transforms.RandomHorizontalFlip(),\n",
    "    transforms.RandomRotation(5),\n",
    "    transforms.RandomAffine(degrees=0, shear=10, translate=(0.2, 0.2)),\n",
    "    transforms.ToTensor(),\n",
    "    transforms.Normalize(mean=[0.5]*3, std=[0.5]*3)  # normalize to [-1, 1]\n",
    "])\n",
    "\n",
    "val_transforms = transforms.Compose([\n",
    "    transforms.Resize((img_size, img_size)),\n",
    "    transforms.ToTensor(),\n",
    "    transforms.Normalize(mean=[0.5]*3, std=[0.5]*3)\n",
    "])\n",
    "\n",
    "# Datasets\n",
    "train_dataset = datasets.ImageFolder(root=train_dir, transform=train_transforms)\n",
    "val_dataset   = datasets.ImageFolder(root=val_dir, transform=val_transforms)\n",
    "print(f\"Train images: {len(train_dataset)}\")\n",
    "print(f\"Val images: {len(val_dataset)}\")\n",
    "\n",
    "# DataLoaders\n",
    "train_loader = DataLoader(train_dataset, batch_size=batch_size, shuffle=True, num_workers=2)\n",
    "val_loader   = DataLoader(val_dataset, batch_size=batch_size, shuffle=False, num_workers=2)\n",
    "\n",
    "# Class names\n",
    "class_names = train_dataset.classes\n",
    "print(\"Classes:\", class_names)"
   ]
  },
  {
   "cell_type": "code",
   "execution_count": 124,
   "id": "984650ec",
   "metadata": {},
   "outputs": [],
   "source": [
    "import torch.nn as nn\n",
    "import torch.nn.functional as F\n",
    "\n",
    "class ResSim(nn.Module):\n",
    "    def __init__(self, num_classes=7, dropout_rate=0.15):\n",
    "        super(ResSim, self).__init__()\n",
    "        self.dropout = nn.Dropout(dropout_rate)\n",
    "\n",
    "        # Block 1\n",
    "        self.block1 = nn.Sequential(\n",
    "            nn.Conv2d(3, 24, kernel_size=3, padding=1),\n",
    "            nn.BatchNorm2d(24),\n",
    "            nn.ReLU(),\n",
    "            nn.Conv2d(24, 24, kernel_size=3, padding=1),\n",
    "            nn.BatchNorm2d(24)\n",
    "        )\n",
    "        self.shortcut1 = nn.Conv2d(3, 24, kernel_size=1)\n",
    "\n",
    "        # Block 2\n",
    "        self.block2 = nn.Sequential(\n",
    "            nn.Conv2d(24, 48, kernel_size=3, padding=1),\n",
    "            nn.BatchNorm2d(48),\n",
    "            nn.ReLU(),\n",
    "            nn.Conv2d(48, 48, kernel_size=3, padding=1),\n",
    "            nn.BatchNorm2d(48)\n",
    "        )\n",
    "        self.shortcut2 = nn.Conv2d(24, 48, kernel_size=1)\n",
    "\n",
    "        self.pool = nn.MaxPool2d(2, 2)\n",
    "\n",
    "        # Final FC layer stays at 64\n",
    "        self.fc = nn.Sequential(\n",
    "            nn.Linear(12 * 12 * 48, 64),\n",
    "            nn.ReLU(),\n",
    "            nn.Dropout(dropout_rate),\n",
    "            nn.Linear(64, num_classes)\n",
    "        )\n",
    "\n",
    "    def forward(self, x):\n",
    "        x1 = self.block1(x)\n",
    "        x = self.pool(F.relu(x1 + self.shortcut1(x)))\n",
    "        x = self.dropout(x)\n",
    "\n",
    "        x2 = self.block2(x)\n",
    "        x = self.pool(F.relu(x2 + self.shortcut2(x)))\n",
    "        x = self.dropout(x)\n",
    "\n",
    "        x = x.view(x.size(0), -1)\n",
    "        return self.fc(x)"
   ]
  },
  {
   "cell_type": "code",
   "execution_count": 125,
   "id": "6e27c9d8",
   "metadata": {},
   "outputs": [
    {
     "name": "stdout",
     "output_type": "stream",
     "text": [
      "Total parameters: 481551\n"
     ]
    }
   ],
   "source": [
    "model = ResSim(num_classes=7)\n",
    "total_params = sum(p.numel() for p in model.parameters())\n",
    "print(f\"Total parameters: {total_params}\")"
   ]
  },
  {
   "cell_type": "code",
   "execution_count": 126,
   "id": "2469f2e7",
   "metadata": {},
   "outputs": [],
   "source": [
    "device = torch.device(\"cuda\" if torch.cuda.is_available() else \"cpu\")\n",
    "model = ResSim(num_classes=7).to(device)\n",
    "\n",
    "criterion = nn.CrossEntropyLoss()\n",
    "optimizer = optim.Adam(model.parameters(), lr=0.001)"
   ]
  },
  {
   "cell_type": "code",
   "execution_count": null,
   "id": "668c81eb",
   "metadata": {},
   "outputs": [],
   "source": [
    "from sklearn.metrics import classification_report\n",
    "import time\n",
    "from tqdm import tqdm\n",
    "\n",
    "def train(model, train_loader, val_loader, optimizer, criterion, num_epochs=15, model_name='resnet_model.pth'):\n",
    "    history = []  # collect metrics per epoch\n",
    "\n",
    "    for epoch in range(num_epochs):\n",
    "        print(f\"\\nEpoch {epoch+1}/{num_epochs}\")\n",
    "        start_time = time.time()\n",
    "\n",
    "        # Training phase\n",
    "        model.train()\n",
    "        train_loss, correct, total = 0, 0, 0\n",
    "        for images, labels in tqdm(train_loader, desc=\"Training\"):\n",
    "            images, labels = images.to(device), labels.to(device)\n",
    "\n",
    "            optimizer.zero_grad()\n",
    "            outputs = model(images)\n",
    "            loss = criterion(outputs, labels)\n",
    "            loss.backward()\n",
    "            optimizer.step()\n",
    "\n",
    "            train_loss += loss.item() * images.size(0)\n",
    "            _, predicted = outputs.max(1)\n",
    "            correct += (predicted == labels).sum().item()\n",
    "            total += labels.size(0)\n",
    "\n",
    "        train_acc = correct / total\n",
    "        train_loss /= total\n",
    "\n",
    "        # Validation phase\n",
    "        model.eval()\n",
    "        val_loss, correct, total = 0, 0, 0\n",
    "        y_true, y_pred = [], []\n",
    "\n",
    "        with torch.no_grad():\n",
    "            for images, labels in tqdm(val_loader, desc=\"Validation\"):\n",
    "                images, labels = images.to(device), labels.to(device)\n",
    "                outputs = model(images)\n",
    "                loss = criterion(outputs, labels)\n",
    "                val_loss += loss.item() * images.size(0)\n",
    "\n",
    "                _, predicted = outputs.max(1)\n",
    "                correct += (predicted == labels).sum().item()\n",
    "                total += labels.size(0)\n",
    "\n",
    "                y_true.extend(labels.cpu().numpy())\n",
    "                y_pred.extend(predicted.cpu().numpy())\n",
    "\n",
    "        val_acc = correct / total\n",
    "        val_loss /= total\n",
    "\n",
    "        # Classification report\n",
    "        report = classification_report(y_true, y_pred, target_names=class_names, output_dict=True)\n",
    "        val_f1_macro = report['macro avg']['f1-score']\n",
    "\n",
    "        epoch_time = time.time() - start_time\n",
    "\n",
    "        # Collect metrics\n",
    "        epoch_data = {\n",
    "            'epoch': epoch + 1,\n",
    "            'train_loss': train_loss,\n",
    "            'val_loss': val_loss,\n",
    "            'train_acc': train_acc,\n",
    "            'val_acc': val_acc,\n",
    "            'val_f1_macro': val_f1_macro,\n",
    "            'epoch_time_sec': epoch_time\n",
    "        }\n",
    "\n",
    "        # Add per-class metrics\n",
    "        for cls in class_names:\n",
    "            for metric in ['precision', 'recall', 'f1-score']:\n",
    "                key = f'{cls}_{metric}'\n",
    "                epoch_data[key] = report[cls][metric]\n",
    "\n",
    "        history.append(epoch_data)\n",
    "\n",
    "        # Console output\n",
    "        print(\"\\nValidation Report:\")\n",
    "        for cls in class_names:\n",
    "            cls_metrics = report[cls]\n",
    "            print(f\"{cls}: Prec={cls_metrics['precision']:.3f} | Rec={cls_metrics['recall']:.3f} | F1={cls_metrics['f1-score']:.3f}\")\n",
    "\n",
    "        print(f\"\\nEpoch Summary: Train Loss={train_loss:.4f} | Val Loss={val_loss:.4f} | Train Acc={train_acc:.3f} | Val Acc={val_acc:.3f}\")\n",
    "        print(f\"Epoch time: {epoch_time:.2f} seconds\")\n",
    "\n",
    "    torch.save(model.state_dict(), f\"results/resnet_{model_name}\")\n",
    "    print(f\"Saved model to 'results/resnet_{model_name}'\")\n",
    "\n",
    "    return history"
   ]
  },
  {
   "cell_type": "code",
   "execution_count": null,
   "id": "45bb768f",
   "metadata": {},
   "outputs": [
    {
     "name": "stdout",
     "output_type": "stream",
     "text": [
      "\n",
      "Training config: adam_lr3_dropout0_bn\n",
      "\n",
      "Epoch 1/15\n"
     ]
    },
    {
     "name": "stderr",
     "output_type": "stream",
     "text": [
      "Training: 100%|██████████| 525/525 [01:58<00:00,  4.42it/s]\n",
      "Validation: 100%|██████████| 113/113 [00:17<00:00,  6.41it/s]\n",
      "/Users/yuyi/Desktop/DeepLearningProject/venv/lib/python3.9/site-packages/sklearn/metrics/_classification.py:1565: UndefinedMetricWarning: Precision is ill-defined and being set to 0.0 in labels with no predicted samples. Use `zero_division` parameter to control this behavior.\n",
      "  _warn_prf(average, modifier, f\"{metric.capitalize()} is\", len(result))\n",
      "/Users/yuyi/Desktop/DeepLearningProject/venv/lib/python3.9/site-packages/sklearn/metrics/_classification.py:1565: UndefinedMetricWarning: Precision is ill-defined and being set to 0.0 in labels with no predicted samples. Use `zero_division` parameter to control this behavior.\n",
      "  _warn_prf(average, modifier, f\"{metric.capitalize()} is\", len(result))\n",
      "/Users/yuyi/Desktop/DeepLearningProject/venv/lib/python3.9/site-packages/sklearn/metrics/_classification.py:1565: UndefinedMetricWarning: Precision is ill-defined and being set to 0.0 in labels with no predicted samples. Use `zero_division` parameter to control this behavior.\n",
      "  _warn_prf(average, modifier, f\"{metric.capitalize()} is\", len(result))\n"
     ]
    },
    {
     "name": "stdout",
     "output_type": "stream",
     "text": [
      "\n",
      "Validation Report:\n",
      "angry: Prec=0.000 | Rec=0.000 | F1=0.000\n",
      "disgust: Prec=0.005 | Rec=0.009 | F1=0.006\n",
      "fear: Prec=0.176 | Rec=0.092 | F1=0.121\n",
      "happy: Prec=0.375 | Rec=0.711 | F1=0.491\n",
      "neutral: Prec=0.361 | Rec=0.011 | F1=0.020\n",
      "sad: Prec=0.290 | Rec=0.200 | F1=0.236\n",
      "surprise: Prec=0.294 | Rec=0.769 | F1=0.426\n",
      "\n",
      "Epoch Summary: Train Loss=1.8889 | Val Loss=1.7705 | Train Acc=0.234 | Val Acc=0.314\n",
      "Epoch time: 136.50 seconds\n",
      "\n",
      "Epoch 2/15\n"
     ]
    },
    {
     "name": "stderr",
     "output_type": "stream",
     "text": [
      "Training: 100%|██████████| 525/525 [01:41<00:00,  5.18it/s]\n",
      "Validation: 100%|██████████| 113/113 [00:18<00:00,  6.12it/s]\n",
      "/Users/yuyi/Desktop/DeepLearningProject/venv/lib/python3.9/site-packages/sklearn/metrics/_classification.py:1565: UndefinedMetricWarning: Precision is ill-defined and being set to 0.0 in labels with no predicted samples. Use `zero_division` parameter to control this behavior.\n",
      "  _warn_prf(average, modifier, f\"{metric.capitalize()} is\", len(result))\n",
      "/Users/yuyi/Desktop/DeepLearningProject/venv/lib/python3.9/site-packages/sklearn/metrics/_classification.py:1565: UndefinedMetricWarning: Precision is ill-defined and being set to 0.0 in labels with no predicted samples. Use `zero_division` parameter to control this behavior.\n",
      "  _warn_prf(average, modifier, f\"{metric.capitalize()} is\", len(result))\n",
      "/Users/yuyi/Desktop/DeepLearningProject/venv/lib/python3.9/site-packages/sklearn/metrics/_classification.py:1565: UndefinedMetricWarning: Precision is ill-defined and being set to 0.0 in labels with no predicted samples. Use `zero_division` parameter to control this behavior.\n",
      "  _warn_prf(average, modifier, f\"{metric.capitalize()} is\", len(result))\n"
     ]
    },
    {
     "name": "stdout",
     "output_type": "stream",
     "text": [
      "\n",
      "Validation Report:\n",
      "angry: Prec=0.000 | Rec=0.000 | F1=0.000\n",
      "disgust: Prec=0.027 | Rec=0.144 | F1=0.045\n",
      "fear: Prec=0.067 | Rec=0.002 | F1=0.004\n",
      "happy: Prec=0.306 | Rec=0.889 | F1=0.456\n",
      "neutral: Prec=0.000 | Rec=0.000 | F1=0.000\n",
      "sad: Prec=0.278 | Rec=0.067 | F1=0.107\n",
      "surprise: Prec=0.494 | Rec=0.655 | F1=0.563\n",
      "\n",
      "Epoch Summary: Train Loss=1.6914 | Val Loss=1.7773 | Train Acc=0.340 | Val Acc=0.310\n",
      "Epoch time: 119.90 seconds\n",
      "\n",
      "Epoch 3/15\n"
     ]
    },
    {
     "name": "stderr",
     "output_type": "stream",
     "text": [
      "Training: 100%|██████████| 525/525 [01:44<00:00,  5.01it/s]\n",
      "Validation: 100%|██████████| 113/113 [00:17<00:00,  6.30it/s]\n",
      "/Users/yuyi/Desktop/DeepLearningProject/venv/lib/python3.9/site-packages/sklearn/metrics/_classification.py:1565: UndefinedMetricWarning: Precision is ill-defined and being set to 0.0 in labels with no predicted samples. Use `zero_division` parameter to control this behavior.\n",
      "  _warn_prf(average, modifier, f\"{metric.capitalize()} is\", len(result))\n",
      "/Users/yuyi/Desktop/DeepLearningProject/venv/lib/python3.9/site-packages/sklearn/metrics/_classification.py:1565: UndefinedMetricWarning: Precision is ill-defined and being set to 0.0 in labels with no predicted samples. Use `zero_division` parameter to control this behavior.\n",
      "  _warn_prf(average, modifier, f\"{metric.capitalize()} is\", len(result))\n",
      "/Users/yuyi/Desktop/DeepLearningProject/venv/lib/python3.9/site-packages/sklearn/metrics/_classification.py:1565: UndefinedMetricWarning: Precision is ill-defined and being set to 0.0 in labels with no predicted samples. Use `zero_division` parameter to control this behavior.\n",
      "  _warn_prf(average, modifier, f\"{metric.capitalize()} is\", len(result))\n"
     ]
    },
    {
     "name": "stdout",
     "output_type": "stream",
     "text": [
      "\n",
      "Validation Report:\n",
      "angry: Prec=0.000 | Rec=0.000 | F1=0.000\n",
      "disgust: Prec=0.000 | Rec=0.000 | F1=0.000\n",
      "fear: Prec=0.217 | Rec=0.033 | F1=0.058\n",
      "happy: Prec=0.286 | Rec=0.976 | F1=0.442\n",
      "neutral: Prec=0.153 | Rec=0.012 | F1=0.023\n",
      "sad: Prec=0.309 | Rec=0.047 | F1=0.081\n",
      "surprise: Prec=0.682 | Rec=0.555 | F1=0.612\n",
      "\n",
      "Epoch Summary: Train Loss=1.5252 | Val Loss=1.6745 | Train Acc=0.398 | Val Acc=0.320\n",
      "Epoch time: 122.79 seconds\n",
      "\n",
      "Epoch 4/15\n"
     ]
    },
    {
     "name": "stderr",
     "output_type": "stream",
     "text": [
      "Training: 100%|██████████| 525/525 [01:45<00:00,  4.99it/s]\n",
      "Validation: 100%|██████████| 113/113 [00:17<00:00,  6.36it/s]\n",
      "/Users/yuyi/Desktop/DeepLearningProject/venv/lib/python3.9/site-packages/sklearn/metrics/_classification.py:1565: UndefinedMetricWarning: Precision is ill-defined and being set to 0.0 in labels with no predicted samples. Use `zero_division` parameter to control this behavior.\n",
      "  _warn_prf(average, modifier, f\"{metric.capitalize()} is\", len(result))\n",
      "/Users/yuyi/Desktop/DeepLearningProject/venv/lib/python3.9/site-packages/sklearn/metrics/_classification.py:1565: UndefinedMetricWarning: Precision is ill-defined and being set to 0.0 in labels with no predicted samples. Use `zero_division` parameter to control this behavior.\n",
      "  _warn_prf(average, modifier, f\"{metric.capitalize()} is\", len(result))\n",
      "/Users/yuyi/Desktop/DeepLearningProject/venv/lib/python3.9/site-packages/sklearn/metrics/_classification.py:1565: UndefinedMetricWarning: Precision is ill-defined and being set to 0.0 in labels with no predicted samples. Use `zero_division` parameter to control this behavior.\n",
      "  _warn_prf(average, modifier, f\"{metric.capitalize()} is\", len(result))\n"
     ]
    },
    {
     "name": "stdout",
     "output_type": "stream",
     "text": [
      "\n",
      "Validation Report:\n",
      "angry: Prec=0.000 | Rec=0.000 | F1=0.000\n",
      "disgust: Prec=0.033 | Rec=0.171 | F1=0.056\n",
      "fear: Prec=0.184 | Rec=0.125 | F1=0.149\n",
      "happy: Prec=0.553 | Rec=0.777 | F1=0.646\n",
      "neutral: Prec=0.314 | Rec=0.094 | F1=0.145\n",
      "sad: Prec=0.298 | Rec=0.361 | F1=0.326\n",
      "surprise: Prec=0.419 | Rec=0.774 | F1=0.544\n",
      "\n",
      "Epoch Summary: Train Loss=1.4547 | Val Loss=1.5956 | Train Acc=0.429 | Val Acc=0.381\n",
      "Epoch time: 122.98 seconds\n",
      "\n",
      "Epoch 5/15\n"
     ]
    },
    {
     "name": "stderr",
     "output_type": "stream",
     "text": [
      "Training: 100%|██████████| 525/525 [01:44<00:00,  5.03it/s]\n",
      "Validation: 100%|██████████| 113/113 [00:17<00:00,  6.32it/s]\n",
      "/Users/yuyi/Desktop/DeepLearningProject/venv/lib/python3.9/site-packages/sklearn/metrics/_classification.py:1565: UndefinedMetricWarning: Precision is ill-defined and being set to 0.0 in labels with no predicted samples. Use `zero_division` parameter to control this behavior.\n",
      "  _warn_prf(average, modifier, f\"{metric.capitalize()} is\", len(result))\n",
      "/Users/yuyi/Desktop/DeepLearningProject/venv/lib/python3.9/site-packages/sklearn/metrics/_classification.py:1565: UndefinedMetricWarning: Precision is ill-defined and being set to 0.0 in labels with no predicted samples. Use `zero_division` parameter to control this behavior.\n",
      "  _warn_prf(average, modifier, f\"{metric.capitalize()} is\", len(result))\n",
      "/Users/yuyi/Desktop/DeepLearningProject/venv/lib/python3.9/site-packages/sklearn/metrics/_classification.py:1565: UndefinedMetricWarning: Precision is ill-defined and being set to 0.0 in labels with no predicted samples. Use `zero_division` parameter to control this behavior.\n",
      "  _warn_prf(average, modifier, f\"{metric.capitalize()} is\", len(result))\n"
     ]
    },
    {
     "name": "stdout",
     "output_type": "stream",
     "text": [
      "\n",
      "Validation Report:\n",
      "angry: Prec=0.000 | Rec=0.000 | F1=0.000\n",
      "disgust: Prec=0.040 | Rec=0.216 | F1=0.068\n",
      "fear: Prec=0.186 | Rec=0.059 | F1=0.089\n",
      "happy: Prec=0.626 | Rec=0.758 | F1=0.686\n",
      "neutral: Prec=0.373 | Rec=0.558 | F1=0.447\n",
      "sad: Prec=0.330 | Rec=0.185 | F1=0.237\n",
      "surprise: Prec=0.429 | Rec=0.812 | F1=0.562\n",
      "\n",
      "Epoch Summary: Train Loss=1.3940 | Val Loss=1.5238 | Train Acc=0.460 | Val Acc=0.421\n",
      "Epoch time: 122.32 seconds\n",
      "\n",
      "Epoch 6/15\n"
     ]
    },
    {
     "name": "stderr",
     "output_type": "stream",
     "text": [
      "Training: 100%|██████████| 525/525 [01:46<00:00,  4.94it/s]\n",
      "Validation: 100%|██████████| 113/113 [00:17<00:00,  6.29it/s]\n"
     ]
    },
    {
     "name": "stdout",
     "output_type": "stream",
     "text": [
      "\n",
      "Validation Report:\n",
      "angry: Prec=0.287 | Rec=0.314 | F1=0.300\n",
      "disgust: Prec=0.055 | Rec=0.234 | F1=0.090\n",
      "fear: Prec=0.234 | Rec=0.141 | F1=0.176\n",
      "happy: Prec=0.743 | Rec=0.650 | F1=0.694\n",
      "neutral: Prec=0.393 | Rec=0.467 | F1=0.427\n",
      "sad: Prec=0.353 | Rec=0.244 | F1=0.288\n",
      "surprise: Prec=0.532 | Rec=0.750 | F1=0.623\n",
      "\n",
      "Epoch Summary: Train Loss=1.3413 | Val Loss=1.4602 | Train Acc=0.482 | Val Acc=0.436\n",
      "Epoch time: 124.16 seconds\n",
      "\n",
      "Epoch 7/15\n"
     ]
    },
    {
     "name": "stderr",
     "output_type": "stream",
     "text": [
      "Training: 100%|██████████| 525/525 [01:43<00:00,  5.08it/s]\n",
      "Validation: 100%|██████████| 113/113 [00:17<00:00,  6.47it/s]\n"
     ]
    },
    {
     "name": "stdout",
     "output_type": "stream",
     "text": [
      "\n",
      "Validation Report:\n",
      "angry: Prec=0.337 | Rec=0.326 | F1=0.331\n",
      "disgust: Prec=0.058 | Rec=0.153 | F1=0.085\n",
      "fear: Prec=0.247 | Rec=0.144 | F1=0.181\n",
      "happy: Prec=0.660 | Rec=0.799 | F1=0.723\n",
      "neutral: Prec=0.452 | Rec=0.448 | F1=0.450\n",
      "sad: Prec=0.375 | Rec=0.237 | F1=0.291\n",
      "surprise: Prec=0.524 | Rec=0.761 | F1=0.621\n",
      "\n",
      "Epoch Summary: Train Loss=1.2817 | Val Loss=1.3709 | Train Acc=0.508 | Val Acc=0.470\n",
      "Epoch time: 120.74 seconds\n",
      "\n",
      "Epoch 8/15\n"
     ]
    },
    {
     "name": "stderr",
     "output_type": "stream",
     "text": [
      "Training: 100%|██████████| 525/525 [01:41<00:00,  5.19it/s]\n",
      "Validation: 100%|██████████| 113/113 [00:17<00:00,  6.53it/s]\n"
     ]
    },
    {
     "name": "stdout",
     "output_type": "stream",
     "text": [
      "\n",
      "Validation Report:\n",
      "angry: Prec=0.359 | Rec=0.285 | F1=0.318\n",
      "disgust: Prec=0.075 | Rec=0.072 | F1=0.074\n",
      "fear: Prec=0.269 | Rec=0.145 | F1=0.188\n",
      "happy: Prec=0.594 | Rec=0.874 | F1=0.707\n",
      "neutral: Prec=0.435 | Rec=0.564 | F1=0.491\n",
      "sad: Prec=0.418 | Rec=0.191 | F1=0.262\n",
      "surprise: Prec=0.621 | Rec=0.735 | F1=0.673\n",
      "\n",
      "Epoch Summary: Train Loss=1.2533 | Val Loss=1.3317 | Train Acc=0.520 | Val Acc=0.491\n",
      "Epoch time: 118.43 seconds\n",
      "\n",
      "Epoch 9/15\n"
     ]
    },
    {
     "name": "stderr",
     "output_type": "stream",
     "text": [
      "Training: 100%|██████████| 525/525 [01:42<00:00,  5.11it/s]\n",
      "Validation: 100%|██████████| 113/113 [00:17<00:00,  6.37it/s]\n"
     ]
    },
    {
     "name": "stdout",
     "output_type": "stream",
     "text": [
      "\n",
      "Validation Report:\n",
      "angry: Prec=0.347 | Rec=0.383 | F1=0.364\n",
      "disgust: Prec=0.092 | Rec=0.063 | F1=0.075\n",
      "fear: Prec=0.288 | Rec=0.119 | F1=0.169\n",
      "happy: Prec=0.588 | Rec=0.877 | F1=0.704\n",
      "neutral: Prec=0.461 | Rec=0.521 | F1=0.489\n",
      "sad: Prec=0.360 | Rec=0.289 | F1=0.321\n",
      "surprise: Prec=0.772 | Rec=0.542 | F1=0.636\n",
      "\n",
      "Epoch Summary: Train Loss=1.2289 | Val Loss=1.3239 | Train Acc=0.527 | Val Acc=0.488\n",
      "Epoch time: 120.45 seconds\n",
      "\n",
      "Epoch 10/15\n"
     ]
    },
    {
     "name": "stderr",
     "output_type": "stream",
     "text": [
      "Training: 100%|██████████| 525/525 [01:42<00:00,  5.14it/s]\n",
      "Validation: 100%|██████████| 113/113 [00:17<00:00,  6.47it/s]\n"
     ]
    },
    {
     "name": "stdout",
     "output_type": "stream",
     "text": [
      "\n",
      "Validation Report:\n",
      "angry: Prec=0.406 | Rec=0.283 | F1=0.333\n",
      "disgust: Prec=0.043 | Rec=0.009 | F1=0.015\n",
      "fear: Prec=0.278 | Rec=0.172 | F1=0.213\n",
      "happy: Prec=0.694 | Rec=0.816 | F1=0.750\n",
      "neutral: Prec=0.419 | Rec=0.632 | F1=0.504\n",
      "sad: Prec=0.380 | Rec=0.237 | F1=0.292\n",
      "surprise: Prec=0.574 | Rec=0.782 | F1=0.662\n",
      "\n",
      "Epoch Summary: Train Loss=1.2015 | Val Loss=1.2962 | Train Acc=0.540 | Val Acc=0.504\n",
      "Epoch time: 119.70 seconds\n",
      "\n",
      "Epoch 11/15\n"
     ]
    },
    {
     "name": "stderr",
     "output_type": "stream",
     "text": [
      "Training: 100%|██████████| 525/525 [01:45<00:00,  4.96it/s]\n",
      "Validation: 100%|██████████| 113/113 [00:18<00:00,  6.15it/s]\n"
     ]
    },
    {
     "name": "stdout",
     "output_type": "stream",
     "text": [
      "\n",
      "Validation Report:\n",
      "angry: Prec=0.362 | Rec=0.325 | F1=0.342\n",
      "disgust: Prec=0.095 | Rec=0.171 | F1=0.123\n",
      "fear: Prec=0.320 | Rec=0.145 | F1=0.199\n",
      "happy: Prec=0.656 | Rec=0.856 | F1=0.743\n",
      "neutral: Prec=0.475 | Rec=0.503 | F1=0.489\n",
      "sad: Prec=0.368 | Rec=0.338 | F1=0.352\n",
      "surprise: Prec=0.664 | Rec=0.714 | F1=0.688\n",
      "\n",
      "Epoch Summary: Train Loss=1.1902 | Val Loss=1.2689 | Train Acc=0.543 | Val Acc=0.506\n",
      "Epoch time: 124.36 seconds\n",
      "\n",
      "Epoch 12/15\n"
     ]
    },
    {
     "name": "stderr",
     "output_type": "stream",
     "text": [
      "Training: 100%|██████████| 525/525 [01:48<00:00,  4.85it/s]\n",
      "Validation: 100%|██████████| 113/113 [00:18<00:00,  6.19it/s]\n"
     ]
    },
    {
     "name": "stdout",
     "output_type": "stream",
     "text": [
      "\n",
      "Validation Report:\n",
      "angry: Prec=0.352 | Rec=0.404 | F1=0.376\n",
      "disgust: Prec=0.172 | Rec=0.045 | F1=0.071\n",
      "fear: Prec=0.260 | Rec=0.189 | F1=0.219\n",
      "happy: Prec=0.673 | Rec=0.864 | F1=0.756\n",
      "neutral: Prec=0.463 | Rec=0.558 | F1=0.506\n",
      "sad: Prec=0.416 | Rec=0.173 | F1=0.245\n",
      "surprise: Prec=0.633 | Rec=0.777 | F1=0.698\n",
      "\n",
      "Epoch Summary: Train Loss=1.1705 | Val Loss=1.2772 | Train Acc=0.551 | Val Acc=0.511\n",
      "Epoch time: 126.53 seconds\n",
      "\n",
      "Epoch 13/15\n"
     ]
    },
    {
     "name": "stderr",
     "output_type": "stream",
     "text": [
      "Training: 100%|██████████| 525/525 [01:46<00:00,  4.91it/s]\n",
      "Validation: 100%|██████████| 113/113 [00:17<00:00,  6.28it/s]\n"
     ]
    },
    {
     "name": "stdout",
     "output_type": "stream",
     "text": [
      "\n",
      "Validation Report:\n",
      "angry: Prec=0.340 | Rec=0.520 | F1=0.411\n",
      "disgust: Prec=0.117 | Rec=0.126 | F1=0.121\n",
      "fear: Prec=0.302 | Rec=0.174 | F1=0.221\n",
      "happy: Prec=0.728 | Rec=0.807 | F1=0.765\n",
      "neutral: Prec=0.531 | Rec=0.460 | F1=0.493\n",
      "sad: Prec=0.392 | Rec=0.271 | F1=0.321\n",
      "surprise: Prec=0.587 | Rec=0.781 | F1=0.670\n",
      "\n",
      "Epoch Summary: Train Loss=1.1598 | Val Loss=1.2722 | Train Acc=0.556 | Val Acc=0.512\n",
      "Epoch time: 124.97 seconds\n",
      "\n",
      "Epoch 14/15\n"
     ]
    },
    {
     "name": "stderr",
     "output_type": "stream",
     "text": [
      "Training: 100%|██████████| 525/525 [01:47<00:00,  4.87it/s]\n",
      "Validation: 100%|██████████| 113/113 [00:17<00:00,  6.30it/s]\n"
     ]
    },
    {
     "name": "stdout",
     "output_type": "stream",
     "text": [
      "\n",
      "Validation Report:\n",
      "angry: Prec=0.350 | Rec=0.480 | F1=0.405\n",
      "disgust: Prec=0.087 | Rec=0.234 | F1=0.127\n",
      "fear: Prec=0.319 | Rec=0.272 | F1=0.294\n",
      "happy: Prec=0.748 | Rec=0.793 | F1=0.770\n",
      "neutral: Prec=0.548 | Rec=0.455 | F1=0.497\n",
      "sad: Prec=0.397 | Rec=0.320 | F1=0.354\n",
      "surprise: Prec=0.704 | Rec=0.661 | F1=0.682\n",
      "\n",
      "Epoch Summary: Train Loss=1.1506 | Val Loss=1.2737 | Train Acc=0.559 | Val Acc=0.513\n",
      "Epoch time: 125.72 seconds\n",
      "\n",
      "Epoch 15/15\n"
     ]
    },
    {
     "name": "stderr",
     "output_type": "stream",
     "text": [
      "Training: 100%|██████████| 525/525 [01:50<00:00,  4.75it/s]\n",
      "Validation: 100%|██████████| 113/113 [00:17<00:00,  6.30it/s]\n"
     ]
    },
    {
     "name": "stdout",
     "output_type": "stream",
     "text": [
      "\n",
      "Validation Report:\n",
      "angry: Prec=0.397 | Rec=0.268 | F1=0.320\n",
      "disgust: Prec=0.098 | Rec=0.297 | F1=0.148\n",
      "fear: Prec=0.249 | Rec=0.435 | F1=0.317\n",
      "happy: Prec=0.751 | Rec=0.776 | F1=0.763\n",
      "neutral: Prec=0.550 | Rec=0.332 | F1=0.414\n",
      "sad: Prec=0.429 | Rec=0.224 | F1=0.294\n",
      "surprise: Prec=0.520 | Rec=0.739 | F1=0.611\n",
      "\n",
      "Epoch Summary: Train Loss=1.1344 | Val Loss=1.3705 | Train Acc=0.569 | Val Acc=0.476\n",
      "Epoch time: 128.49 seconds\n",
      "Saved model to 'results/adam_lr3_dropout0_bn'\n",
      "\n",
      "Training config: adam_lr3_dropout15_bn\n",
      "\n",
      "Epoch 1/15\n"
     ]
    },
    {
     "name": "stderr",
     "output_type": "stream",
     "text": [
      "Training: 100%|██████████| 525/525 [01:52<00:00,  4.68it/s]\n",
      "Validation: 100%|██████████| 113/113 [00:17<00:00,  6.34it/s]\n",
      "/Users/yuyi/Desktop/DeepLearningProject/venv/lib/python3.9/site-packages/sklearn/metrics/_classification.py:1565: UndefinedMetricWarning: Precision is ill-defined and being set to 0.0 in labels with no predicted samples. Use `zero_division` parameter to control this behavior.\n",
      "  _warn_prf(average, modifier, f\"{metric.capitalize()} is\", len(result))\n",
      "/Users/yuyi/Desktop/DeepLearningProject/venv/lib/python3.9/site-packages/sklearn/metrics/_classification.py:1565: UndefinedMetricWarning: Precision is ill-defined and being set to 0.0 in labels with no predicted samples. Use `zero_division` parameter to control this behavior.\n",
      "  _warn_prf(average, modifier, f\"{metric.capitalize()} is\", len(result))\n",
      "/Users/yuyi/Desktop/DeepLearningProject/venv/lib/python3.9/site-packages/sklearn/metrics/_classification.py:1565: UndefinedMetricWarning: Precision is ill-defined and being set to 0.0 in labels with no predicted samples. Use `zero_division` parameter to control this behavior.\n",
      "  _warn_prf(average, modifier, f\"{metric.capitalize()} is\", len(result))\n"
     ]
    },
    {
     "name": "stdout",
     "output_type": "stream",
     "text": [
      "\n",
      "Validation Report:\n",
      "angry: Prec=0.000 | Rec=0.000 | F1=0.000\n",
      "disgust: Prec=0.000 | Rec=0.000 | F1=0.000\n",
      "fear: Prec=0.000 | Rec=0.000 | F1=0.000\n",
      "happy: Prec=0.247 | Rec=1.000 | F1=0.396\n",
      "neutral: Prec=0.000 | Rec=0.000 | F1=0.000\n",
      "sad: Prec=0.000 | Rec=0.000 | F1=0.000\n",
      "surprise: Prec=0.000 | Rec=0.000 | F1=0.000\n",
      "\n",
      "Epoch Summary: Train Loss=1.9298 | Val Loss=1.8701 | Train Acc=0.212 | Val Acc=0.247\n",
      "Epoch time: 129.99 seconds\n",
      "\n",
      "Epoch 2/15\n"
     ]
    },
    {
     "name": "stderr",
     "output_type": "stream",
     "text": [
      "Training: 100%|██████████| 525/525 [01:50<00:00,  4.75it/s]\n",
      "Validation: 100%|██████████| 113/113 [00:17<00:00,  6.46it/s]\n",
      "/Users/yuyi/Desktop/DeepLearningProject/venv/lib/python3.9/site-packages/sklearn/metrics/_classification.py:1565: UndefinedMetricWarning: Precision is ill-defined and being set to 0.0 in labels with no predicted samples. Use `zero_division` parameter to control this behavior.\n",
      "  _warn_prf(average, modifier, f\"{metric.capitalize()} is\", len(result))\n",
      "/Users/yuyi/Desktop/DeepLearningProject/venv/lib/python3.9/site-packages/sklearn/metrics/_classification.py:1565: UndefinedMetricWarning: Precision is ill-defined and being set to 0.0 in labels with no predicted samples. Use `zero_division` parameter to control this behavior.\n",
      "  _warn_prf(average, modifier, f\"{metric.capitalize()} is\", len(result))\n",
      "/Users/yuyi/Desktop/DeepLearningProject/venv/lib/python3.9/site-packages/sklearn/metrics/_classification.py:1565: UndefinedMetricWarning: Precision is ill-defined and being set to 0.0 in labels with no predicted samples. Use `zero_division` parameter to control this behavior.\n",
      "  _warn_prf(average, modifier, f\"{metric.capitalize()} is\", len(result))\n"
     ]
    },
    {
     "name": "stdout",
     "output_type": "stream",
     "text": [
      "\n",
      "Validation Report:\n",
      "angry: Prec=0.000 | Rec=0.000 | F1=0.000\n",
      "disgust: Prec=0.000 | Rec=0.000 | F1=0.000\n",
      "fear: Prec=0.000 | Rec=0.000 | F1=0.000\n",
      "happy: Prec=0.251 | Rec=0.997 | F1=0.401\n",
      "neutral: Prec=0.000 | Rec=0.000 | F1=0.000\n",
      "sad: Prec=0.000 | Rec=0.000 | F1=0.000\n",
      "surprise: Prec=0.530 | Rec=0.085 | F1=0.147\n",
      "\n",
      "Epoch Summary: Train Loss=1.8927 | Val Loss=1.9649 | Train Acc=0.215 | Val Acc=0.256\n",
      "Epoch time: 128.15 seconds\n",
      "\n",
      "Epoch 3/15\n"
     ]
    },
    {
     "name": "stderr",
     "output_type": "stream",
     "text": [
      "Training: 100%|██████████| 525/525 [01:43<00:00,  5.05it/s]\n",
      "Validation: 100%|██████████| 113/113 [00:17<00:00,  6.38it/s]\n",
      "/Users/yuyi/Desktop/DeepLearningProject/venv/lib/python3.9/site-packages/sklearn/metrics/_classification.py:1565: UndefinedMetricWarning: Precision is ill-defined and being set to 0.0 in labels with no predicted samples. Use `zero_division` parameter to control this behavior.\n",
      "  _warn_prf(average, modifier, f\"{metric.capitalize()} is\", len(result))\n",
      "/Users/yuyi/Desktop/DeepLearningProject/venv/lib/python3.9/site-packages/sklearn/metrics/_classification.py:1565: UndefinedMetricWarning: Precision is ill-defined and being set to 0.0 in labels with no predicted samples. Use `zero_division` parameter to control this behavior.\n",
      "  _warn_prf(average, modifier, f\"{metric.capitalize()} is\", len(result))\n",
      "/Users/yuyi/Desktop/DeepLearningProject/venv/lib/python3.9/site-packages/sklearn/metrics/_classification.py:1565: UndefinedMetricWarning: Precision is ill-defined and being set to 0.0 in labels with no predicted samples. Use `zero_division` parameter to control this behavior.\n",
      "  _warn_prf(average, modifier, f\"{metric.capitalize()} is\", len(result))\n"
     ]
    },
    {
     "name": "stdout",
     "output_type": "stream",
     "text": [
      "\n",
      "Validation Report:\n",
      "angry: Prec=0.000 | Rec=0.000 | F1=0.000\n",
      "disgust: Prec=0.014 | Rec=0.351 | F1=0.027\n",
      "fear: Prec=0.000 | Rec=0.000 | F1=0.000\n",
      "happy: Prec=0.349 | Rec=0.857 | F1=0.497\n",
      "neutral: Prec=0.000 | Rec=0.000 | F1=0.000\n",
      "sad: Prec=0.000 | Rec=0.000 | F1=0.000\n",
      "surprise: Prec=0.000 | Rec=0.000 | F1=0.000\n",
      "\n",
      "Epoch Summary: Train Loss=1.8565 | Val Loss=1.7985 | Train Acc=0.240 | Val Acc=0.217\n",
      "Epoch time: 121.62 seconds\n",
      "\n",
      "Epoch 4/15\n"
     ]
    },
    {
     "name": "stderr",
     "output_type": "stream",
     "text": [
      "Training: 100%|██████████| 525/525 [02:08<00:00,  4.09it/s]\n",
      "Validation: 100%|██████████| 113/113 [00:18<00:00,  6.08it/s]\n",
      "/Users/yuyi/Desktop/DeepLearningProject/venv/lib/python3.9/site-packages/sklearn/metrics/_classification.py:1565: UndefinedMetricWarning: Precision is ill-defined and being set to 0.0 in labels with no predicted samples. Use `zero_division` parameter to control this behavior.\n",
      "  _warn_prf(average, modifier, f\"{metric.capitalize()} is\", len(result))\n",
      "/Users/yuyi/Desktop/DeepLearningProject/venv/lib/python3.9/site-packages/sklearn/metrics/_classification.py:1565: UndefinedMetricWarning: Precision is ill-defined and being set to 0.0 in labels with no predicted samples. Use `zero_division` parameter to control this behavior.\n",
      "  _warn_prf(average, modifier, f\"{metric.capitalize()} is\", len(result))\n",
      "/Users/yuyi/Desktop/DeepLearningProject/venv/lib/python3.9/site-packages/sklearn/metrics/_classification.py:1565: UndefinedMetricWarning: Precision is ill-defined and being set to 0.0 in labels with no predicted samples. Use `zero_division` parameter to control this behavior.\n",
      "  _warn_prf(average, modifier, f\"{metric.capitalize()} is\", len(result))\n"
     ]
    },
    {
     "name": "stdout",
     "output_type": "stream",
     "text": [
      "\n",
      "Validation Report:\n",
      "angry: Prec=0.000 | Rec=0.000 | F1=0.000\n",
      "disgust: Prec=0.013 | Rec=0.189 | F1=0.024\n",
      "fear: Prec=0.000 | Rec=0.000 | F1=0.000\n",
      "happy: Prec=0.314 | Rec=0.928 | F1=0.469\n",
      "neutral: Prec=0.199 | Rec=0.051 | F1=0.081\n",
      "sad: Prec=0.000 | Rec=0.000 | F1=0.000\n",
      "surprise: Prec=0.000 | Rec=0.000 | F1=0.000\n",
      "\n",
      "Epoch Summary: Train Loss=1.8301 | Val Loss=1.7617 | Train Acc=0.256 | Val Acc=0.241\n",
      "Epoch time: 146.81 seconds\n",
      "\n",
      "Epoch 5/15\n"
     ]
    },
    {
     "name": "stderr",
     "output_type": "stream",
     "text": [
      "Training: 100%|██████████| 525/525 [02:01<00:00,  4.31it/s]\n",
      "Validation: 100%|██████████| 113/113 [00:17<00:00,  6.44it/s]\n",
      "/Users/yuyi/Desktop/DeepLearningProject/venv/lib/python3.9/site-packages/sklearn/metrics/_classification.py:1565: UndefinedMetricWarning: Precision is ill-defined and being set to 0.0 in labels with no predicted samples. Use `zero_division` parameter to control this behavior.\n",
      "  _warn_prf(average, modifier, f\"{metric.capitalize()} is\", len(result))\n",
      "/Users/yuyi/Desktop/DeepLearningProject/venv/lib/python3.9/site-packages/sklearn/metrics/_classification.py:1565: UndefinedMetricWarning: Precision is ill-defined and being set to 0.0 in labels with no predicted samples. Use `zero_division` parameter to control this behavior.\n",
      "  _warn_prf(average, modifier, f\"{metric.capitalize()} is\", len(result))\n",
      "/Users/yuyi/Desktop/DeepLearningProject/venv/lib/python3.9/site-packages/sklearn/metrics/_classification.py:1565: UndefinedMetricWarning: Precision is ill-defined and being set to 0.0 in labels with no predicted samples. Use `zero_division` parameter to control this behavior.\n",
      "  _warn_prf(average, modifier, f\"{metric.capitalize()} is\", len(result))\n"
     ]
    },
    {
     "name": "stdout",
     "output_type": "stream",
     "text": [
      "\n",
      "Validation Report:\n",
      "angry: Prec=0.000 | Rec=0.000 | F1=0.000\n",
      "disgust: Prec=0.016 | Rec=0.396 | F1=0.032\n",
      "fear: Prec=0.000 | Rec=0.000 | F1=0.000\n",
      "happy: Prec=0.472 | Rec=0.806 | F1=0.596\n",
      "neutral: Prec=0.256 | Rec=0.291 | F1=0.272\n",
      "sad: Prec=0.184 | Rec=0.007 | F1=0.014\n",
      "surprise: Prec=0.053 | Rec=0.001 | F1=0.002\n",
      "\n",
      "Epoch Summary: Train Loss=1.7874 | Val Loss=1.7240 | Train Acc=0.288 | Val Acc=0.257\n",
      "Epoch time: 139.30 seconds\n",
      "\n",
      "Epoch 6/15\n"
     ]
    },
    {
     "name": "stderr",
     "output_type": "stream",
     "text": [
      "Training: 100%|██████████| 525/525 [01:54<00:00,  4.57it/s]\n",
      "Validation: 100%|██████████| 113/113 [00:17<00:00,  6.45it/s]\n",
      "/Users/yuyi/Desktop/DeepLearningProject/venv/lib/python3.9/site-packages/sklearn/metrics/_classification.py:1565: UndefinedMetricWarning: Precision is ill-defined and being set to 0.0 in labels with no predicted samples. Use `zero_division` parameter to control this behavior.\n",
      "  _warn_prf(average, modifier, f\"{metric.capitalize()} is\", len(result))\n",
      "/Users/yuyi/Desktop/DeepLearningProject/venv/lib/python3.9/site-packages/sklearn/metrics/_classification.py:1565: UndefinedMetricWarning: Precision is ill-defined and being set to 0.0 in labels with no predicted samples. Use `zero_division` parameter to control this behavior.\n",
      "  _warn_prf(average, modifier, f\"{metric.capitalize()} is\", len(result))\n",
      "/Users/yuyi/Desktop/DeepLearningProject/venv/lib/python3.9/site-packages/sklearn/metrics/_classification.py:1565: UndefinedMetricWarning: Precision is ill-defined and being set to 0.0 in labels with no predicted samples. Use `zero_division` parameter to control this behavior.\n",
      "  _warn_prf(average, modifier, f\"{metric.capitalize()} is\", len(result))\n"
     ]
    },
    {
     "name": "stdout",
     "output_type": "stream",
     "text": [
      "\n",
      "Validation Report:\n",
      "angry: Prec=0.000 | Rec=0.000 | F1=0.000\n",
      "disgust: Prec=0.018 | Rec=0.198 | F1=0.033\n",
      "fear: Prec=0.000 | Rec=0.000 | F1=0.000\n",
      "happy: Prec=0.537 | Rec=0.794 | F1=0.641\n",
      "neutral: Prec=0.271 | Rec=0.217 | F1=0.241\n",
      "sad: Prec=0.229 | Rec=0.432 | F1=0.300\n",
      "surprise: Prec=0.000 | Rec=0.000 | F1=0.000\n",
      "\n",
      "Epoch Summary: Train Loss=1.7449 | Val Loss=1.6536 | Train Acc=0.308 | Val Acc=0.312\n",
      "Epoch time: 132.36 seconds\n",
      "\n",
      "Epoch 7/15\n"
     ]
    },
    {
     "name": "stderr",
     "output_type": "stream",
     "text": [
      "Training: 100%|██████████| 525/525 [01:55<00:00,  4.53it/s]\n",
      "Validation: 100%|██████████| 113/113 [00:18<00:00,  6.11it/s]\n",
      "/Users/yuyi/Desktop/DeepLearningProject/venv/lib/python3.9/site-packages/sklearn/metrics/_classification.py:1565: UndefinedMetricWarning: Precision is ill-defined and being set to 0.0 in labels with no predicted samples. Use `zero_division` parameter to control this behavior.\n",
      "  _warn_prf(average, modifier, f\"{metric.capitalize()} is\", len(result))\n",
      "/Users/yuyi/Desktop/DeepLearningProject/venv/lib/python3.9/site-packages/sklearn/metrics/_classification.py:1565: UndefinedMetricWarning: Precision is ill-defined and being set to 0.0 in labels with no predicted samples. Use `zero_division` parameter to control this behavior.\n",
      "  _warn_prf(average, modifier, f\"{metric.capitalize()} is\", len(result))\n",
      "/Users/yuyi/Desktop/DeepLearningProject/venv/lib/python3.9/site-packages/sklearn/metrics/_classification.py:1565: UndefinedMetricWarning: Precision is ill-defined and being set to 0.0 in labels with no predicted samples. Use `zero_division` parameter to control this behavior.\n",
      "  _warn_prf(average, modifier, f\"{metric.capitalize()} is\", len(result))\n"
     ]
    },
    {
     "name": "stdout",
     "output_type": "stream",
     "text": [
      "\n",
      "Validation Report:\n",
      "angry: Prec=0.000 | Rec=0.000 | F1=0.000\n",
      "disgust: Prec=0.014 | Rec=0.396 | F1=0.027\n",
      "fear: Prec=0.000 | Rec=0.000 | F1=0.000\n",
      "happy: Prec=0.608 | Rec=0.720 | F1=0.659\n",
      "neutral: Prec=0.270 | Rec=0.298 | F1=0.283\n",
      "sad: Prec=0.240 | Rec=0.095 | F1=0.137\n",
      "surprise: Prec=0.120 | Rec=0.014 | F1=0.026\n",
      "\n",
      "Epoch Summary: Train Loss=1.7099 | Val Loss=1.7338 | Train Acc=0.321 | Val Acc=0.254\n",
      "Epoch time: 134.47 seconds\n",
      "\n",
      "Epoch 8/15\n"
     ]
    },
    {
     "name": "stderr",
     "output_type": "stream",
     "text": [
      "Training: 100%|██████████| 525/525 [02:01<00:00,  4.31it/s]\n",
      "Validation: 100%|██████████| 113/113 [00:18<00:00,  6.27it/s]\n",
      "/Users/yuyi/Desktop/DeepLearningProject/venv/lib/python3.9/site-packages/sklearn/metrics/_classification.py:1565: UndefinedMetricWarning: Precision is ill-defined and being set to 0.0 in labels with no predicted samples. Use `zero_division` parameter to control this behavior.\n",
      "  _warn_prf(average, modifier, f\"{metric.capitalize()} is\", len(result))\n",
      "/Users/yuyi/Desktop/DeepLearningProject/venv/lib/python3.9/site-packages/sklearn/metrics/_classification.py:1565: UndefinedMetricWarning: Precision is ill-defined and being set to 0.0 in labels with no predicted samples. Use `zero_division` parameter to control this behavior.\n",
      "  _warn_prf(average, modifier, f\"{metric.capitalize()} is\", len(result))\n",
      "/Users/yuyi/Desktop/DeepLearningProject/venv/lib/python3.9/site-packages/sklearn/metrics/_classification.py:1565: UndefinedMetricWarning: Precision is ill-defined and being set to 0.0 in labels with no predicted samples. Use `zero_division` parameter to control this behavior.\n",
      "  _warn_prf(average, modifier, f\"{metric.capitalize()} is\", len(result))\n"
     ]
    },
    {
     "name": "stdout",
     "output_type": "stream",
     "text": [
      "\n",
      "Validation Report:\n",
      "angry: Prec=0.000 | Rec=0.000 | F1=0.000\n",
      "disgust: Prec=0.018 | Rec=0.099 | F1=0.031\n",
      "fear: Prec=0.000 | Rec=0.000 | F1=0.000\n",
      "happy: Prec=0.533 | Rec=0.853 | F1=0.656\n",
      "neutral: Prec=0.249 | Rec=0.244 | F1=0.247\n",
      "sad: Prec=0.249 | Rec=0.459 | F1=0.323\n",
      "surprise: Prec=0.518 | Rec=0.141 | F1=0.221\n",
      "\n",
      "Epoch Summary: Train Loss=1.6815 | Val Loss=1.5814 | Train Acc=0.332 | Val Acc=0.350\n",
      "Epoch time: 139.79 seconds\n",
      "\n",
      "Epoch 9/15\n"
     ]
    },
    {
     "name": "stderr",
     "output_type": "stream",
     "text": [
      "Training: 100%|██████████| 525/525 [02:00<00:00,  4.37it/s]\n",
      "Validation: 100%|██████████| 113/113 [00:17<00:00,  6.29it/s]\n",
      "/Users/yuyi/Desktop/DeepLearningProject/venv/lib/python3.9/site-packages/sklearn/metrics/_classification.py:1565: UndefinedMetricWarning: Precision is ill-defined and being set to 0.0 in labels with no predicted samples. Use `zero_division` parameter to control this behavior.\n",
      "  _warn_prf(average, modifier, f\"{metric.capitalize()} is\", len(result))\n",
      "/Users/yuyi/Desktop/DeepLearningProject/venv/lib/python3.9/site-packages/sklearn/metrics/_classification.py:1565: UndefinedMetricWarning: Precision is ill-defined and being set to 0.0 in labels with no predicted samples. Use `zero_division` parameter to control this behavior.\n",
      "  _warn_prf(average, modifier, f\"{metric.capitalize()} is\", len(result))\n",
      "/Users/yuyi/Desktop/DeepLearningProject/venv/lib/python3.9/site-packages/sklearn/metrics/_classification.py:1565: UndefinedMetricWarning: Precision is ill-defined and being set to 0.0 in labels with no predicted samples. Use `zero_division` parameter to control this behavior.\n",
      "  _warn_prf(average, modifier, f\"{metric.capitalize()} is\", len(result))\n"
     ]
    },
    {
     "name": "stdout",
     "output_type": "stream",
     "text": [
      "\n",
      "Validation Report:\n",
      "angry: Prec=0.000 | Rec=0.000 | F1=0.000\n",
      "disgust: Prec=0.025 | Rec=0.234 | F1=0.045\n",
      "fear: Prec=0.208 | Rec=0.010 | F1=0.019\n",
      "happy: Prec=0.458 | Rec=0.855 | F1=0.596\n",
      "neutral: Prec=0.297 | Rec=0.266 | F1=0.281\n",
      "sad: Prec=0.276 | Rec=0.194 | F1=0.228\n",
      "surprise: Prec=0.422 | Rec=0.401 | F1=0.411\n",
      "\n",
      "Epoch Summary: Train Loss=1.6587 | Val Loss=1.6131 | Train Acc=0.353 | Val Acc=0.342\n",
      "Epoch time: 138.15 seconds\n",
      "\n",
      "Epoch 10/15\n"
     ]
    },
    {
     "name": "stderr",
     "output_type": "stream",
     "text": [
      "Training: 100%|██████████| 525/525 [02:00<00:00,  4.36it/s]\n",
      "Validation: 100%|██████████| 113/113 [00:17<00:00,  6.28it/s]\n",
      "/Users/yuyi/Desktop/DeepLearningProject/venv/lib/python3.9/site-packages/sklearn/metrics/_classification.py:1565: UndefinedMetricWarning: Precision is ill-defined and being set to 0.0 in labels with no predicted samples. Use `zero_division` parameter to control this behavior.\n",
      "  _warn_prf(average, modifier, f\"{metric.capitalize()} is\", len(result))\n",
      "/Users/yuyi/Desktop/DeepLearningProject/venv/lib/python3.9/site-packages/sklearn/metrics/_classification.py:1565: UndefinedMetricWarning: Precision is ill-defined and being set to 0.0 in labels with no predicted samples. Use `zero_division` parameter to control this behavior.\n",
      "  _warn_prf(average, modifier, f\"{metric.capitalize()} is\", len(result))\n",
      "/Users/yuyi/Desktop/DeepLearningProject/venv/lib/python3.9/site-packages/sklearn/metrics/_classification.py:1565: UndefinedMetricWarning: Precision is ill-defined and being set to 0.0 in labels with no predicted samples. Use `zero_division` parameter to control this behavior.\n",
      "  _warn_prf(average, modifier, f\"{metric.capitalize()} is\", len(result))\n"
     ]
    },
    {
     "name": "stdout",
     "output_type": "stream",
     "text": [
      "\n",
      "Validation Report:\n",
      "angry: Prec=0.000 | Rec=0.000 | F1=0.000\n",
      "disgust: Prec=0.035 | Rec=0.279 | F1=0.063\n",
      "fear: Prec=0.195 | Rec=0.017 | F1=0.031\n",
      "happy: Prec=0.511 | Rec=0.844 | F1=0.637\n",
      "neutral: Prec=0.293 | Rec=0.133 | F1=0.183\n",
      "sad: Prec=0.308 | Rec=0.348 | F1=0.327\n",
      "surprise: Prec=0.399 | Rec=0.632 | F1=0.489\n",
      "\n",
      "Epoch Summary: Train Loss=1.6245 | Val Loss=1.5657 | Train Acc=0.371 | Val Acc=0.372\n",
      "Epoch time: 138.31 seconds\n",
      "\n",
      "Epoch 11/15\n"
     ]
    },
    {
     "name": "stderr",
     "output_type": "stream",
     "text": [
      "Training: 100%|██████████| 525/525 [02:04<00:00,  4.21it/s]\n",
      "Validation: 100%|██████████| 113/113 [00:17<00:00,  6.43it/s]\n",
      "/Users/yuyi/Desktop/DeepLearningProject/venv/lib/python3.9/site-packages/sklearn/metrics/_classification.py:1565: UndefinedMetricWarning: Precision is ill-defined and being set to 0.0 in labels with no predicted samples. Use `zero_division` parameter to control this behavior.\n",
      "  _warn_prf(average, modifier, f\"{metric.capitalize()} is\", len(result))\n",
      "/Users/yuyi/Desktop/DeepLearningProject/venv/lib/python3.9/site-packages/sklearn/metrics/_classification.py:1565: UndefinedMetricWarning: Precision is ill-defined and being set to 0.0 in labels with no predicted samples. Use `zero_division` parameter to control this behavior.\n",
      "  _warn_prf(average, modifier, f\"{metric.capitalize()} is\", len(result))\n",
      "/Users/yuyi/Desktop/DeepLearningProject/venv/lib/python3.9/site-packages/sklearn/metrics/_classification.py:1565: UndefinedMetricWarning: Precision is ill-defined and being set to 0.0 in labels with no predicted samples. Use `zero_division` parameter to control this behavior.\n",
      "  _warn_prf(average, modifier, f\"{metric.capitalize()} is\", len(result))\n"
     ]
    },
    {
     "name": "stdout",
     "output_type": "stream",
     "text": [
      "\n",
      "Validation Report:\n",
      "angry: Prec=0.000 | Rec=0.000 | F1=0.000\n",
      "disgust: Prec=0.033 | Rec=0.036 | F1=0.034\n",
      "fear: Prec=0.185 | Rec=0.005 | F1=0.010\n",
      "happy: Prec=0.527 | Rec=0.886 | F1=0.661\n",
      "neutral: Prec=0.261 | Rec=0.208 | F1=0.231\n",
      "sad: Prec=0.269 | Rec=0.550 | F1=0.362\n",
      "surprise: Prec=0.691 | Rec=0.428 | F1=0.529\n",
      "\n",
      "Epoch Summary: Train Loss=1.6059 | Val Loss=1.4881 | Train Acc=0.376 | Val Acc=0.401\n",
      "Epoch time: 142.20 seconds\n",
      "\n",
      "Epoch 12/15\n"
     ]
    },
    {
     "name": "stderr",
     "output_type": "stream",
     "text": [
      "Training: 100%|██████████| 525/525 [01:58<00:00,  4.41it/s]\n",
      "Validation: 100%|██████████| 113/113 [00:18<00:00,  6.25it/s]\n",
      "/Users/yuyi/Desktop/DeepLearningProject/venv/lib/python3.9/site-packages/sklearn/metrics/_classification.py:1565: UndefinedMetricWarning: Precision is ill-defined and being set to 0.0 in labels with no predicted samples. Use `zero_division` parameter to control this behavior.\n",
      "  _warn_prf(average, modifier, f\"{metric.capitalize()} is\", len(result))\n",
      "/Users/yuyi/Desktop/DeepLearningProject/venv/lib/python3.9/site-packages/sklearn/metrics/_classification.py:1565: UndefinedMetricWarning: Precision is ill-defined and being set to 0.0 in labels with no predicted samples. Use `zero_division` parameter to control this behavior.\n",
      "  _warn_prf(average, modifier, f\"{metric.capitalize()} is\", len(result))\n",
      "/Users/yuyi/Desktop/DeepLearningProject/venv/lib/python3.9/site-packages/sklearn/metrics/_classification.py:1565: UndefinedMetricWarning: Precision is ill-defined and being set to 0.0 in labels with no predicted samples. Use `zero_division` parameter to control this behavior.\n",
      "  _warn_prf(average, modifier, f\"{metric.capitalize()} is\", len(result))\n"
     ]
    },
    {
     "name": "stdout",
     "output_type": "stream",
     "text": [
      "\n",
      "Validation Report:\n",
      "angry: Prec=0.000 | Rec=0.000 | F1=0.000\n",
      "disgust: Prec=0.074 | Rec=0.243 | F1=0.113\n",
      "fear: Prec=0.244 | Rec=0.112 | F1=0.154\n",
      "happy: Prec=0.550 | Rec=0.875 | F1=0.675\n",
      "neutral: Prec=0.329 | Rec=0.460 | F1=0.383\n",
      "sad: Prec=0.315 | Rec=0.260 | F1=0.285\n",
      "surprise: Prec=0.639 | Rec=0.586 | F1=0.611\n",
      "\n",
      "Epoch Summary: Train Loss=1.5662 | Val Loss=1.4608 | Train Acc=0.396 | Val Acc=0.428\n",
      "Epoch time: 137.13 seconds\n",
      "\n",
      "Epoch 13/15\n"
     ]
    },
    {
     "name": "stderr",
     "output_type": "stream",
     "text": [
      "Training: 100%|██████████| 525/525 [02:02<00:00,  4.28it/s]\n",
      "Validation: 100%|██████████| 113/113 [00:17<00:00,  6.31it/s]\n",
      "/Users/yuyi/Desktop/DeepLearningProject/venv/lib/python3.9/site-packages/sklearn/metrics/_classification.py:1565: UndefinedMetricWarning: Precision is ill-defined and being set to 0.0 in labels with no predicted samples. Use `zero_division` parameter to control this behavior.\n",
      "  _warn_prf(average, modifier, f\"{metric.capitalize()} is\", len(result))\n",
      "/Users/yuyi/Desktop/DeepLearningProject/venv/lib/python3.9/site-packages/sklearn/metrics/_classification.py:1565: UndefinedMetricWarning: Precision is ill-defined and being set to 0.0 in labels with no predicted samples. Use `zero_division` parameter to control this behavior.\n",
      "  _warn_prf(average, modifier, f\"{metric.capitalize()} is\", len(result))\n",
      "/Users/yuyi/Desktop/DeepLearningProject/venv/lib/python3.9/site-packages/sklearn/metrics/_classification.py:1565: UndefinedMetricWarning: Precision is ill-defined and being set to 0.0 in labels with no predicted samples. Use `zero_division` parameter to control this behavior.\n",
      "  _warn_prf(average, modifier, f\"{metric.capitalize()} is\", len(result))\n"
     ]
    },
    {
     "name": "stdout",
     "output_type": "stream",
     "text": [
      "\n",
      "Validation Report:\n",
      "angry: Prec=0.000 | Rec=0.000 | F1=0.000\n",
      "disgust: Prec=0.048 | Rec=0.036 | F1=0.041\n",
      "fear: Prec=0.223 | Rec=0.122 | F1=0.158\n",
      "happy: Prec=0.626 | Rec=0.860 | F1=0.724\n",
      "neutral: Prec=0.344 | Rec=0.473 | F1=0.398\n",
      "sad: Prec=0.308 | Rec=0.321 | F1=0.314\n",
      "surprise: Prec=0.550 | Rec=0.730 | F1=0.627\n",
      "\n",
      "Epoch Summary: Train Loss=1.5084 | Val Loss=1.3808 | Train Acc=0.427 | Val Acc=0.452\n",
      "Epoch time: 140.63 seconds\n",
      "\n",
      "Epoch 14/15\n"
     ]
    },
    {
     "name": "stderr",
     "output_type": "stream",
     "text": [
      "Training: 100%|██████████| 525/525 [02:02<00:00,  4.28it/s]\n",
      "Validation: 100%|██████████| 113/113 [00:17<00:00,  6.41it/s]\n",
      "/Users/yuyi/Desktop/DeepLearningProject/venv/lib/python3.9/site-packages/sklearn/metrics/_classification.py:1565: UndefinedMetricWarning: Precision is ill-defined and being set to 0.0 in labels with no predicted samples. Use `zero_division` parameter to control this behavior.\n",
      "  _warn_prf(average, modifier, f\"{metric.capitalize()} is\", len(result))\n",
      "/Users/yuyi/Desktop/DeepLearningProject/venv/lib/python3.9/site-packages/sklearn/metrics/_classification.py:1565: UndefinedMetricWarning: Precision is ill-defined and being set to 0.0 in labels with no predicted samples. Use `zero_division` parameter to control this behavior.\n",
      "  _warn_prf(average, modifier, f\"{metric.capitalize()} is\", len(result))\n",
      "/Users/yuyi/Desktop/DeepLearningProject/venv/lib/python3.9/site-packages/sklearn/metrics/_classification.py:1565: UndefinedMetricWarning: Precision is ill-defined and being set to 0.0 in labels with no predicted samples. Use `zero_division` parameter to control this behavior.\n",
      "  _warn_prf(average, modifier, f\"{metric.capitalize()} is\", len(result))\n"
     ]
    },
    {
     "name": "stdout",
     "output_type": "stream",
     "text": [
      "\n",
      "Validation Report:\n",
      "angry: Prec=0.000 | Rec=0.000 | F1=0.000\n",
      "disgust: Prec=0.119 | Rec=0.063 | F1=0.082\n",
      "fear: Prec=0.211 | Rec=0.056 | F1=0.088\n",
      "happy: Prec=0.663 | Rec=0.827 | F1=0.736\n",
      "neutral: Prec=0.304 | Rec=0.729 | F1=0.429\n",
      "sad: Prec=0.307 | Rec=0.120 | F1=0.173\n",
      "surprise: Prec=0.534 | Rec=0.765 | F1=0.629\n",
      "\n",
      "Epoch Summary: Train Loss=1.4762 | Val Loss=1.3697 | Train Acc=0.441 | Val Acc=0.448\n",
      "Epoch time: 140.30 seconds\n",
      "\n",
      "Epoch 15/15\n"
     ]
    },
    {
     "name": "stderr",
     "output_type": "stream",
     "text": [
      "Training: 100%|██████████| 525/525 [01:55<00:00,  4.54it/s]\n",
      "Validation: 100%|██████████| 113/113 [00:17<00:00,  6.46it/s]\n",
      "/Users/yuyi/Desktop/DeepLearningProject/venv/lib/python3.9/site-packages/sklearn/metrics/_classification.py:1565: UndefinedMetricWarning: Precision is ill-defined and being set to 0.0 in labels with no predicted samples. Use `zero_division` parameter to control this behavior.\n",
      "  _warn_prf(average, modifier, f\"{metric.capitalize()} is\", len(result))\n",
      "/Users/yuyi/Desktop/DeepLearningProject/venv/lib/python3.9/site-packages/sklearn/metrics/_classification.py:1565: UndefinedMetricWarning: Precision is ill-defined and being set to 0.0 in labels with no predicted samples. Use `zero_division` parameter to control this behavior.\n",
      "  _warn_prf(average, modifier, f\"{metric.capitalize()} is\", len(result))\n",
      "/Users/yuyi/Desktop/DeepLearningProject/venv/lib/python3.9/site-packages/sklearn/metrics/_classification.py:1565: UndefinedMetricWarning: Precision is ill-defined and being set to 0.0 in labels with no predicted samples. Use `zero_division` parameter to control this behavior.\n",
      "  _warn_prf(average, modifier, f\"{metric.capitalize()} is\", len(result))\n"
     ]
    },
    {
     "name": "stdout",
     "output_type": "stream",
     "text": [
      "\n",
      "Validation Report:\n",
      "angry: Prec=0.000 | Rec=0.000 | F1=0.000\n",
      "disgust: Prec=0.198 | Rec=0.162 | F1=0.178\n",
      "fear: Prec=0.230 | Rec=0.140 | F1=0.174\n",
      "happy: Prec=0.611 | Rec=0.878 | F1=0.721\n",
      "neutral: Prec=0.317 | Rec=0.634 | F1=0.423\n",
      "sad: Prec=0.372 | Rec=0.115 | F1=0.176\n",
      "surprise: Prec=0.568 | Rec=0.726 | F1=0.637\n",
      "\n",
      "Epoch Summary: Train Loss=1.4516 | Val Loss=1.3627 | Train Acc=0.449 | Val Acc=0.452\n",
      "Epoch time: 133.26 seconds\n",
      "Saved model to 'results/adam_lr3_dropout15_bn'\n",
      "\n",
      "Training config: adam_lr2_dropout15_bn\n",
      "\n",
      "Epoch 1/15\n"
     ]
    },
    {
     "name": "stderr",
     "output_type": "stream",
     "text": [
      "Training: 100%|██████████| 525/525 [01:54<00:00,  4.58it/s]\n",
      "Validation: 100%|██████████| 113/113 [00:19<00:00,  5.79it/s]\n",
      "/Users/yuyi/Desktop/DeepLearningProject/venv/lib/python3.9/site-packages/sklearn/metrics/_classification.py:1565: UndefinedMetricWarning: Precision is ill-defined and being set to 0.0 in labels with no predicted samples. Use `zero_division` parameter to control this behavior.\n",
      "  _warn_prf(average, modifier, f\"{metric.capitalize()} is\", len(result))\n",
      "/Users/yuyi/Desktop/DeepLearningProject/venv/lib/python3.9/site-packages/sklearn/metrics/_classification.py:1565: UndefinedMetricWarning: Precision is ill-defined and being set to 0.0 in labels with no predicted samples. Use `zero_division` parameter to control this behavior.\n",
      "  _warn_prf(average, modifier, f\"{metric.capitalize()} is\", len(result))\n",
      "/Users/yuyi/Desktop/DeepLearningProject/venv/lib/python3.9/site-packages/sklearn/metrics/_classification.py:1565: UndefinedMetricWarning: Precision is ill-defined and being set to 0.0 in labels with no predicted samples. Use `zero_division` parameter to control this behavior.\n",
      "  _warn_prf(average, modifier, f\"{metric.capitalize()} is\", len(result))\n"
     ]
    },
    {
     "name": "stdout",
     "output_type": "stream",
     "text": [
      "\n",
      "Validation Report:\n",
      "angry: Prec=0.000 | Rec=0.000 | F1=0.000\n",
      "disgust: Prec=0.000 | Rec=0.000 | F1=0.000\n",
      "fear: Prec=0.000 | Rec=0.000 | F1=0.000\n",
      "happy: Prec=0.247 | Rec=0.999 | F1=0.396\n",
      "neutral: Prec=0.000 | Rec=0.000 | F1=0.000\n",
      "sad: Prec=0.000 | Rec=0.000 | F1=0.000\n",
      "surprise: Prec=0.000 | Rec=0.000 | F1=0.000\n",
      "\n",
      "Epoch Summary: Train Loss=2.0728 | Val Loss=1.8851 | Train Acc=0.209 | Val Acc=0.247\n",
      "Epoch time: 134.28 seconds\n",
      "\n",
      "Epoch 2/15\n"
     ]
    },
    {
     "name": "stderr",
     "output_type": "stream",
     "text": [
      "Training: 100%|██████████| 525/525 [02:10<00:00,  4.01it/s]\n",
      "Validation: 100%|██████████| 113/113 [00:17<00:00,  6.34it/s]\n",
      "/Users/yuyi/Desktop/DeepLearningProject/venv/lib/python3.9/site-packages/sklearn/metrics/_classification.py:1565: UndefinedMetricWarning: Precision is ill-defined and being set to 0.0 in labels with no predicted samples. Use `zero_division` parameter to control this behavior.\n",
      "  _warn_prf(average, modifier, f\"{metric.capitalize()} is\", len(result))\n",
      "/Users/yuyi/Desktop/DeepLearningProject/venv/lib/python3.9/site-packages/sklearn/metrics/_classification.py:1565: UndefinedMetricWarning: Precision is ill-defined and being set to 0.0 in labels with no predicted samples. Use `zero_division` parameter to control this behavior.\n",
      "  _warn_prf(average, modifier, f\"{metric.capitalize()} is\", len(result))\n",
      "/Users/yuyi/Desktop/DeepLearningProject/venv/lib/python3.9/site-packages/sklearn/metrics/_classification.py:1565: UndefinedMetricWarning: Precision is ill-defined and being set to 0.0 in labels with no predicted samples. Use `zero_division` parameter to control this behavior.\n",
      "  _warn_prf(average, modifier, f\"{metric.capitalize()} is\", len(result))\n"
     ]
    },
    {
     "name": "stdout",
     "output_type": "stream",
     "text": [
      "\n",
      "Validation Report:\n",
      "angry: Prec=0.000 | Rec=0.000 | F1=0.000\n",
      "disgust: Prec=0.000 | Rec=0.000 | F1=0.000\n",
      "fear: Prec=0.333 | Rec=0.007 | F1=0.013\n",
      "happy: Prec=0.252 | Rec=0.981 | F1=0.401\n",
      "neutral: Prec=0.143 | Rec=0.001 | F1=0.002\n",
      "sad: Prec=0.000 | Rec=0.000 | F1=0.000\n",
      "surprise: Prec=0.342 | Rec=0.090 | F1=0.143\n",
      "\n",
      "Epoch Summary: Train Loss=1.9108 | Val Loss=1.8809 | Train Acc=0.218 | Val Acc=0.254\n",
      "Epoch time: 148.72 seconds\n",
      "\n",
      "Epoch 3/15\n"
     ]
    },
    {
     "name": "stderr",
     "output_type": "stream",
     "text": [
      "Training: 100%|██████████| 525/525 [01:56<00:00,  4.50it/s]\n",
      "Validation: 100%|██████████| 113/113 [00:18<00:00,  6.17it/s]\n",
      "/Users/yuyi/Desktop/DeepLearningProject/venv/lib/python3.9/site-packages/sklearn/metrics/_classification.py:1565: UndefinedMetricWarning: Precision is ill-defined and being set to 0.0 in labels with no predicted samples. Use `zero_division` parameter to control this behavior.\n",
      "  _warn_prf(average, modifier, f\"{metric.capitalize()} is\", len(result))\n",
      "/Users/yuyi/Desktop/DeepLearningProject/venv/lib/python3.9/site-packages/sklearn/metrics/_classification.py:1565: UndefinedMetricWarning: Precision is ill-defined and being set to 0.0 in labels with no predicted samples. Use `zero_division` parameter to control this behavior.\n",
      "  _warn_prf(average, modifier, f\"{metric.capitalize()} is\", len(result))\n",
      "/Users/yuyi/Desktop/DeepLearningProject/venv/lib/python3.9/site-packages/sklearn/metrics/_classification.py:1565: UndefinedMetricWarning: Precision is ill-defined and being set to 0.0 in labels with no predicted samples. Use `zero_division` parameter to control this behavior.\n",
      "  _warn_prf(average, modifier, f\"{metric.capitalize()} is\", len(result))\n"
     ]
    },
    {
     "name": "stdout",
     "output_type": "stream",
     "text": [
      "\n",
      "Validation Report:\n",
      "angry: Prec=1.000 | Rec=0.001 | F1=0.002\n",
      "disgust: Prec=0.000 | Rec=0.000 | F1=0.000\n",
      "fear: Prec=0.000 | Rec=0.000 | F1=0.000\n",
      "happy: Prec=0.254 | Rec=0.973 | F1=0.403\n",
      "neutral: Prec=0.077 | Rec=0.001 | F1=0.002\n",
      "sad: Prec=0.364 | Rec=0.006 | F1=0.013\n",
      "surprise: Prec=0.401 | Rec=0.172 | F1=0.241\n",
      "\n",
      "Epoch Summary: Train Loss=1.9055 | Val Loss=1.8703 | Train Acc=0.222 | Val Acc=0.262\n",
      "Epoch time: 135.06 seconds\n",
      "\n",
      "Epoch 4/15\n"
     ]
    },
    {
     "name": "stderr",
     "output_type": "stream",
     "text": [
      "Training: 100%|██████████| 525/525 [02:07<00:00,  4.11it/s]\n",
      "Validation: 100%|██████████| 113/113 [00:17<00:00,  6.38it/s]\n",
      "/Users/yuyi/Desktop/DeepLearningProject/venv/lib/python3.9/site-packages/sklearn/metrics/_classification.py:1565: UndefinedMetricWarning: Precision is ill-defined and being set to 0.0 in labels with no predicted samples. Use `zero_division` parameter to control this behavior.\n",
      "  _warn_prf(average, modifier, f\"{metric.capitalize()} is\", len(result))\n",
      "/Users/yuyi/Desktop/DeepLearningProject/venv/lib/python3.9/site-packages/sklearn/metrics/_classification.py:1565: UndefinedMetricWarning: Precision is ill-defined and being set to 0.0 in labels with no predicted samples. Use `zero_division` parameter to control this behavior.\n",
      "  _warn_prf(average, modifier, f\"{metric.capitalize()} is\", len(result))\n",
      "/Users/yuyi/Desktop/DeepLearningProject/venv/lib/python3.9/site-packages/sklearn/metrics/_classification.py:1565: UndefinedMetricWarning: Precision is ill-defined and being set to 0.0 in labels with no predicted samples. Use `zero_division` parameter to control this behavior.\n",
      "  _warn_prf(average, modifier, f\"{metric.capitalize()} is\", len(result))\n"
     ]
    },
    {
     "name": "stdout",
     "output_type": "stream",
     "text": [
      "\n",
      "Validation Report:\n",
      "angry: Prec=0.000 | Rec=0.000 | F1=0.000\n",
      "disgust: Prec=0.000 | Rec=0.000 | F1=0.000\n",
      "fear: Prec=0.250 | Rec=0.002 | F1=0.004\n",
      "happy: Prec=0.269 | Rec=0.885 | F1=0.413\n",
      "neutral: Prec=0.219 | Rec=0.092 | F1=0.129\n",
      "sad: Prec=0.289 | Rec=0.009 | F1=0.017\n",
      "surprise: Prec=0.438 | Rec=0.412 | F1=0.424\n",
      "\n",
      "Epoch Summary: Train Loss=1.8914 | Val Loss=1.8555 | Train Acc=0.228 | Val Acc=0.284\n",
      "Epoch time: 145.59 seconds\n",
      "\n",
      "Epoch 5/15\n"
     ]
    },
    {
     "name": "stderr",
     "output_type": "stream",
     "text": [
      "Training: 100%|██████████| 525/525 [01:57<00:00,  4.46it/s]\n",
      "Validation: 100%|██████████| 113/113 [00:18<00:00,  6.10it/s]\n",
      "/Users/yuyi/Desktop/DeepLearningProject/venv/lib/python3.9/site-packages/sklearn/metrics/_classification.py:1565: UndefinedMetricWarning: Precision is ill-defined and being set to 0.0 in labels with no predicted samples. Use `zero_division` parameter to control this behavior.\n",
      "  _warn_prf(average, modifier, f\"{metric.capitalize()} is\", len(result))\n",
      "/Users/yuyi/Desktop/DeepLearningProject/venv/lib/python3.9/site-packages/sklearn/metrics/_classification.py:1565: UndefinedMetricWarning: Precision is ill-defined and being set to 0.0 in labels with no predicted samples. Use `zero_division` parameter to control this behavior.\n",
      "  _warn_prf(average, modifier, f\"{metric.capitalize()} is\", len(result))\n",
      "/Users/yuyi/Desktop/DeepLearningProject/venv/lib/python3.9/site-packages/sklearn/metrics/_classification.py:1565: UndefinedMetricWarning: Precision is ill-defined and being set to 0.0 in labels with no predicted samples. Use `zero_division` parameter to control this behavior.\n",
      "  _warn_prf(average, modifier, f\"{metric.capitalize()} is\", len(result))\n"
     ]
    },
    {
     "name": "stdout",
     "output_type": "stream",
     "text": [
      "\n",
      "Validation Report:\n",
      "angry: Prec=0.000 | Rec=0.000 | F1=0.000\n",
      "disgust: Prec=0.015 | Rec=0.225 | F1=0.029\n",
      "fear: Prec=0.273 | Rec=0.006 | F1=0.011\n",
      "happy: Prec=0.292 | Rec=0.665 | F1=0.406\n",
      "neutral: Prec=0.219 | Rec=0.020 | F1=0.037\n",
      "sad: Prec=0.272 | Rec=0.136 | F1=0.181\n",
      "surprise: Prec=0.458 | Rec=0.408 | F1=0.432\n",
      "\n",
      "Epoch Summary: Train Loss=1.8564 | Val Loss=1.8263 | Train Acc=0.251 | Val Acc=0.243\n",
      "Epoch time: 136.17 seconds\n",
      "\n",
      "Epoch 6/15\n"
     ]
    },
    {
     "name": "stderr",
     "output_type": "stream",
     "text": [
      "Training: 100%|██████████| 525/525 [02:02<00:00,  4.27it/s]\n",
      "Validation: 100%|██████████| 113/113 [00:17<00:00,  6.32it/s]\n"
     ]
    },
    {
     "name": "stdout",
     "output_type": "stream",
     "text": [
      "\n",
      "Validation Report:\n",
      "angry: Prec=0.205 | Rec=0.009 | F1=0.018\n",
      "disgust: Prec=0.016 | Rec=0.234 | F1=0.030\n",
      "fear: Prec=0.000 | Rec=0.000 | F1=0.000\n",
      "happy: Prec=0.344 | Rec=0.660 | F1=0.452\n",
      "neutral: Prec=0.300 | Rec=0.088 | F1=0.136\n",
      "sad: Prec=0.277 | Rec=0.227 | F1=0.249\n",
      "surprise: Prec=0.502 | Rec=0.442 | F1=0.470\n",
      "\n",
      "Epoch Summary: Train Loss=1.8047 | Val Loss=1.8009 | Train Acc=0.291 | Val Acc=0.274\n",
      "Epoch time: 140.87 seconds\n",
      "\n",
      "Epoch 7/15\n"
     ]
    },
    {
     "name": "stderr",
     "output_type": "stream",
     "text": [
      "Training: 100%|██████████| 525/525 [01:58<00:00,  4.44it/s]\n",
      "Validation: 100%|██████████| 113/113 [00:17<00:00,  6.33it/s]\n"
     ]
    },
    {
     "name": "stdout",
     "output_type": "stream",
     "text": [
      "\n",
      "Validation Report:\n",
      "angry: Prec=0.246 | Rec=0.045 | F1=0.076\n",
      "disgust: Prec=0.010 | Rec=0.063 | F1=0.017\n",
      "fear: Prec=0.192 | Rec=0.070 | F1=0.103\n",
      "happy: Prec=0.440 | Rec=0.551 | F1=0.489\n",
      "neutral: Prec=0.250 | Rec=0.085 | F1=0.127\n",
      "sad: Prec=0.299 | Rec=0.286 | F1=0.293\n",
      "surprise: Prec=0.298 | Rec=0.746 | F1=0.426\n",
      "\n",
      "Epoch Summary: Train Loss=1.7395 | Val Loss=1.7390 | Train Acc=0.320 | Val Acc=0.304\n",
      "Epoch time: 136.12 seconds\n",
      "\n",
      "Epoch 8/15\n"
     ]
    },
    {
     "name": "stderr",
     "output_type": "stream",
     "text": [
      "Training: 100%|██████████| 525/525 [02:02<00:00,  4.29it/s]\n",
      "Validation: 100%|██████████| 113/113 [00:18<00:00,  6.21it/s]\n"
     ]
    },
    {
     "name": "stdout",
     "output_type": "stream",
     "text": [
      "\n",
      "Validation Report:\n",
      "angry: Prec=0.280 | Rec=0.027 | F1=0.049\n",
      "disgust: Prec=0.009 | Rec=0.036 | F1=0.014\n",
      "fear: Prec=0.217 | Rec=0.058 | F1=0.091\n",
      "happy: Prec=0.586 | Rec=0.505 | F1=0.543\n",
      "neutral: Prec=0.275 | Rec=0.078 | F1=0.121\n",
      "sad: Prec=0.262 | Rec=0.621 | F1=0.368\n",
      "surprise: Prec=0.386 | Rec=0.708 | F1=0.500\n",
      "\n",
      "Epoch Summary: Train Loss=1.6878 | Val Loss=1.6622 | Train Acc=0.339 | Val Acc=0.340\n",
      "Epoch time: 140.67 seconds\n",
      "\n",
      "Epoch 9/15\n"
     ]
    },
    {
     "name": "stderr",
     "output_type": "stream",
     "text": [
      "Training: 100%|██████████| 525/525 [02:05<00:00,  4.19it/s]\n",
      "Validation: 100%|██████████| 113/113 [00:18<00:00,  6.26it/s]\n",
      "/Users/yuyi/Desktop/DeepLearningProject/venv/lib/python3.9/site-packages/sklearn/metrics/_classification.py:1565: UndefinedMetricWarning: Precision is ill-defined and being set to 0.0 in labels with no predicted samples. Use `zero_division` parameter to control this behavior.\n",
      "  _warn_prf(average, modifier, f\"{metric.capitalize()} is\", len(result))\n",
      "/Users/yuyi/Desktop/DeepLearningProject/venv/lib/python3.9/site-packages/sklearn/metrics/_classification.py:1565: UndefinedMetricWarning: Precision is ill-defined and being set to 0.0 in labels with no predicted samples. Use `zero_division` parameter to control this behavior.\n",
      "  _warn_prf(average, modifier, f\"{metric.capitalize()} is\", len(result))\n",
      "/Users/yuyi/Desktop/DeepLearningProject/venv/lib/python3.9/site-packages/sklearn/metrics/_classification.py:1565: UndefinedMetricWarning: Precision is ill-defined and being set to 0.0 in labels with no predicted samples. Use `zero_division` parameter to control this behavior.\n",
      "  _warn_prf(average, modifier, f\"{metric.capitalize()} is\", len(result))\n"
     ]
    },
    {
     "name": "stdout",
     "output_type": "stream",
     "text": [
      "\n",
      "Validation Report:\n",
      "angry: Prec=0.000 | Rec=0.000 | F1=0.000\n",
      "disgust: Prec=0.018 | Rec=0.432 | F1=0.035\n",
      "fear: Prec=0.333 | Rec=0.003 | F1=0.006\n",
      "happy: Prec=0.444 | Rec=0.525 | F1=0.481\n",
      "neutral: Prec=0.297 | Rec=0.131 | F1=0.182\n",
      "sad: Prec=0.305 | Rec=0.164 | F1=0.213\n",
      "surprise: Prec=0.432 | Rec=0.631 | F1=0.512\n",
      "\n",
      "Epoch Summary: Train Loss=1.6546 | Val Loss=1.9881 | Train Acc=0.358 | Val Acc=0.261\n",
      "Epoch time: 143.38 seconds\n",
      "\n",
      "Epoch 10/15\n"
     ]
    },
    {
     "name": "stderr",
     "output_type": "stream",
     "text": [
      "Training: 100%|██████████| 525/525 [02:05<00:00,  4.19it/s]\n",
      "Validation: 100%|██████████| 113/113 [00:18<00:00,  6.19it/s]\n",
      "/Users/yuyi/Desktop/DeepLearningProject/venv/lib/python3.9/site-packages/sklearn/metrics/_classification.py:1565: UndefinedMetricWarning: Precision is ill-defined and being set to 0.0 in labels with no predicted samples. Use `zero_division` parameter to control this behavior.\n",
      "  _warn_prf(average, modifier, f\"{metric.capitalize()} is\", len(result))\n",
      "/Users/yuyi/Desktop/DeepLearningProject/venv/lib/python3.9/site-packages/sklearn/metrics/_classification.py:1565: UndefinedMetricWarning: Precision is ill-defined and being set to 0.0 in labels with no predicted samples. Use `zero_division` parameter to control this behavior.\n",
      "  _warn_prf(average, modifier, f\"{metric.capitalize()} is\", len(result))\n",
      "/Users/yuyi/Desktop/DeepLearningProject/venv/lib/python3.9/site-packages/sklearn/metrics/_classification.py:1565: UndefinedMetricWarning: Precision is ill-defined and being set to 0.0 in labels with no predicted samples. Use `zero_division` parameter to control this behavior.\n",
      "  _warn_prf(average, modifier, f\"{metric.capitalize()} is\", len(result))\n"
     ]
    },
    {
     "name": "stdout",
     "output_type": "stream",
     "text": [
      "\n",
      "Validation Report:\n",
      "angry: Prec=0.000 | Rec=0.000 | F1=0.000\n",
      "disgust: Prec=0.020 | Rec=0.072 | F1=0.031\n",
      "fear: Prec=0.283 | Rec=0.013 | F1=0.024\n",
      "happy: Prec=0.353 | Rec=0.865 | F1=0.502\n",
      "neutral: Prec=0.289 | Rec=0.143 | F1=0.191\n",
      "sad: Prec=0.335 | Rec=0.143 | F1=0.200\n",
      "surprise: Prec=0.450 | Rec=0.677 | F1=0.541\n",
      "\n",
      "Epoch Summary: Train Loss=1.6193 | Val Loss=1.6416 | Train Acc=0.371 | Val Acc=0.344\n",
      "Epoch time: 143.70 seconds\n",
      "\n",
      "Epoch 11/15\n"
     ]
    },
    {
     "name": "stderr",
     "output_type": "stream",
     "text": [
      "Training: 100%|██████████| 525/525 [02:05<00:00,  4.20it/s]\n",
      "Validation: 100%|██████████| 113/113 [00:17<00:00,  6.40it/s]\n"
     ]
    },
    {
     "name": "stdout",
     "output_type": "stream",
     "text": [
      "\n",
      "Validation Report:\n",
      "angry: Prec=0.206 | Rec=0.128 | F1=0.158\n",
      "disgust: Prec=0.017 | Rec=0.018 | F1=0.017\n",
      "fear: Prec=0.205 | Rec=0.083 | F1=0.118\n",
      "happy: Prec=0.489 | Rec=0.675 | F1=0.567\n",
      "neutral: Prec=0.287 | Rec=0.146 | F1=0.194\n",
      "sad: Prec=0.291 | Rec=0.379 | F1=0.329\n",
      "surprise: Prec=0.437 | Rec=0.710 | F1=0.541\n",
      "\n",
      "Epoch Summary: Train Loss=1.5973 | Val Loss=1.5941 | Train Acc=0.382 | Val Acc=0.369\n",
      "Epoch time: 142.70 seconds\n",
      "\n",
      "Epoch 12/15\n"
     ]
    },
    {
     "name": "stderr",
     "output_type": "stream",
     "text": [
      "Training: 100%|██████████| 525/525 [01:56<00:00,  4.50it/s]\n",
      "Validation: 100%|██████████| 113/113 [00:17<00:00,  6.28it/s]\n"
     ]
    },
    {
     "name": "stdout",
     "output_type": "stream",
     "text": [
      "\n",
      "Validation Report:\n",
      "angry: Prec=0.500 | Rec=0.002 | F1=0.004\n",
      "disgust: Prec=0.026 | Rec=0.135 | F1=0.044\n",
      "fear: Prec=0.233 | Rec=0.021 | F1=0.038\n",
      "happy: Prec=0.544 | Rec=0.690 | F1=0.609\n",
      "neutral: Prec=0.269 | Rec=0.400 | F1=0.321\n",
      "sad: Prec=0.288 | Rec=0.328 | F1=0.307\n",
      "surprise: Prec=0.511 | Rec=0.619 | F1=0.560\n",
      "\n",
      "Epoch Summary: Train Loss=1.5705 | Val Loss=1.6207 | Train Acc=0.390 | Val Acc=0.373\n",
      "Epoch time: 134.77 seconds\n",
      "\n",
      "Epoch 13/15\n"
     ]
    },
    {
     "name": "stderr",
     "output_type": "stream",
     "text": [
      "Training: 100%|██████████| 525/525 [01:58<00:00,  4.43it/s]\n",
      "Validation: 100%|██████████| 113/113 [00:17<00:00,  6.34it/s]\n"
     ]
    },
    {
     "name": "stdout",
     "output_type": "stream",
     "text": [
      "\n",
      "Validation Report:\n",
      "angry: Prec=0.300 | Rec=0.003 | F1=0.006\n",
      "disgust: Prec=0.028 | Rec=0.225 | F1=0.050\n",
      "fear: Prec=0.221 | Rec=0.097 | F1=0.135\n",
      "happy: Prec=0.465 | Rec=0.704 | F1=0.560\n",
      "neutral: Prec=0.282 | Rec=0.172 | F1=0.214\n",
      "sad: Prec=0.287 | Rec=0.411 | F1=0.338\n",
      "surprise: Prec=0.632 | Rec=0.463 | F1=0.535\n",
      "\n",
      "Epoch Summary: Train Loss=1.5584 | Val Loss=1.6662 | Train Acc=0.394 | Val Acc=0.346\n",
      "Epoch time: 136.31 seconds\n",
      "\n",
      "Epoch 14/15\n"
     ]
    },
    {
     "name": "stderr",
     "output_type": "stream",
     "text": [
      "Training: 100%|██████████| 525/525 [01:55<00:00,  4.54it/s]\n",
      "Validation: 100%|██████████| 113/113 [00:17<00:00,  6.48it/s]\n"
     ]
    },
    {
     "name": "stdout",
     "output_type": "stream",
     "text": [
      "\n",
      "Validation Report:\n",
      "angry: Prec=0.147 | Rec=0.005 | F1=0.010\n",
      "disgust: Prec=0.023 | Rec=0.099 | F1=0.037\n",
      "fear: Prec=0.243 | Rec=0.044 | F1=0.074\n",
      "happy: Prec=0.439 | Rec=0.799 | F1=0.567\n",
      "neutral: Prec=0.283 | Rec=0.199 | F1=0.234\n",
      "sad: Prec=0.283 | Rec=0.278 | F1=0.281\n",
      "surprise: Prec=0.489 | Rec=0.682 | F1=0.570\n",
      "\n",
      "Epoch Summary: Train Loss=1.5361 | Val Loss=1.6175 | Train Acc=0.401 | Val Acc=0.367\n",
      "Epoch time: 133.06 seconds\n",
      "\n",
      "Epoch 15/15\n"
     ]
    },
    {
     "name": "stderr",
     "output_type": "stream",
     "text": [
      "Training: 100%|██████████| 525/525 [01:57<00:00,  4.46it/s]\n",
      "Validation: 100%|██████████| 113/113 [00:18<00:00,  6.09it/s]\n"
     ]
    },
    {
     "name": "stdout",
     "output_type": "stream",
     "text": [
      "\n",
      "Validation Report:\n",
      "angry: Prec=0.167 | Rec=0.005 | F1=0.010\n",
      "disgust: Prec=0.023 | Rec=0.171 | F1=0.041\n",
      "fear: Prec=0.276 | Rec=0.016 | F1=0.030\n",
      "happy: Prec=0.590 | Rec=0.644 | F1=0.616\n",
      "neutral: Prec=0.274 | Rec=0.406 | F1=0.327\n",
      "sad: Prec=0.309 | Rec=0.438 | F1=0.363\n",
      "surprise: Prec=0.599 | Rec=0.540 | F1=0.568\n",
      "\n",
      "Epoch Summary: Train Loss=1.5383 | Val Loss=1.6606 | Train Acc=0.402 | Val Acc=0.373\n",
      "Epoch time: 136.31 seconds\n",
      "Saved model to 'results/adam_lr2_dropout15_bn'\n",
      "\n",
      "Training config: adam_lr3_dropout20_bn\n",
      "\n",
      "Epoch 1/15\n"
     ]
    },
    {
     "name": "stderr",
     "output_type": "stream",
     "text": [
      "Training: 100%|██████████| 525/525 [01:57<00:00,  4.46it/s]\n",
      "Validation: 100%|██████████| 113/113 [00:17<00:00,  6.35it/s]\n",
      "/Users/yuyi/Desktop/DeepLearningProject/venv/lib/python3.9/site-packages/sklearn/metrics/_classification.py:1565: UndefinedMetricWarning: Precision is ill-defined and being set to 0.0 in labels with no predicted samples. Use `zero_division` parameter to control this behavior.\n",
      "  _warn_prf(average, modifier, f\"{metric.capitalize()} is\", len(result))\n",
      "/Users/yuyi/Desktop/DeepLearningProject/venv/lib/python3.9/site-packages/sklearn/metrics/_classification.py:1565: UndefinedMetricWarning: Precision is ill-defined and being set to 0.0 in labels with no predicted samples. Use `zero_division` parameter to control this behavior.\n",
      "  _warn_prf(average, modifier, f\"{metric.capitalize()} is\", len(result))\n",
      "/Users/yuyi/Desktop/DeepLearningProject/venv/lib/python3.9/site-packages/sklearn/metrics/_classification.py:1565: UndefinedMetricWarning: Precision is ill-defined and being set to 0.0 in labels with no predicted samples. Use `zero_division` parameter to control this behavior.\n",
      "  _warn_prf(average, modifier, f\"{metric.capitalize()} is\", len(result))\n"
     ]
    },
    {
     "name": "stdout",
     "output_type": "stream",
     "text": [
      "\n",
      "Validation Report:\n",
      "angry: Prec=0.000 | Rec=0.000 | F1=0.000\n",
      "disgust: Prec=0.000 | Rec=0.000 | F1=0.000\n",
      "fear: Prec=0.000 | Rec=0.000 | F1=0.000\n",
      "happy: Prec=0.247 | Rec=1.000 | F1=0.396\n",
      "neutral: Prec=0.000 | Rec=0.000 | F1=0.000\n",
      "sad: Prec=0.000 | Rec=0.000 | F1=0.000\n",
      "surprise: Prec=0.000 | Rec=0.000 | F1=0.000\n",
      "\n",
      "Epoch Summary: Train Loss=1.9331 | Val Loss=1.8500 | Train Acc=0.196 | Val Acc=0.247\n",
      "Epoch time: 135.48 seconds\n",
      "\n",
      "Epoch 2/15\n"
     ]
    },
    {
     "name": "stderr",
     "output_type": "stream",
     "text": [
      "Training: 100%|██████████| 525/525 [01:56<00:00,  4.51it/s]\n",
      "Validation: 100%|██████████| 113/113 [00:17<00:00,  6.36it/s]\n",
      "/Users/yuyi/Desktop/DeepLearningProject/venv/lib/python3.9/site-packages/sklearn/metrics/_classification.py:1565: UndefinedMetricWarning: Precision is ill-defined and being set to 0.0 in labels with no predicted samples. Use `zero_division` parameter to control this behavior.\n",
      "  _warn_prf(average, modifier, f\"{metric.capitalize()} is\", len(result))\n",
      "/Users/yuyi/Desktop/DeepLearningProject/venv/lib/python3.9/site-packages/sklearn/metrics/_classification.py:1565: UndefinedMetricWarning: Precision is ill-defined and being set to 0.0 in labels with no predicted samples. Use `zero_division` parameter to control this behavior.\n",
      "  _warn_prf(average, modifier, f\"{metric.capitalize()} is\", len(result))\n",
      "/Users/yuyi/Desktop/DeepLearningProject/venv/lib/python3.9/site-packages/sklearn/metrics/_classification.py:1565: UndefinedMetricWarning: Precision is ill-defined and being set to 0.0 in labels with no predicted samples. Use `zero_division` parameter to control this behavior.\n",
      "  _warn_prf(average, modifier, f\"{metric.capitalize()} is\", len(result))\n"
     ]
    },
    {
     "name": "stdout",
     "output_type": "stream",
     "text": [
      "\n",
      "Validation Report:\n",
      "angry: Prec=0.000 | Rec=0.000 | F1=0.000\n",
      "disgust: Prec=0.012 | Rec=0.261 | F1=0.022\n",
      "fear: Prec=0.000 | Rec=0.000 | F1=0.000\n",
      "happy: Prec=0.338 | Rec=0.896 | F1=0.491\n",
      "neutral: Prec=0.000 | Rec=0.000 | F1=0.000\n",
      "sad: Prec=0.000 | Rec=0.000 | F1=0.000\n",
      "surprise: Prec=0.000 | Rec=0.000 | F1=0.000\n",
      "\n",
      "Epoch Summary: Train Loss=1.8781 | Val Loss=1.8041 | Train Acc=0.227 | Val Acc=0.226\n",
      "Epoch time: 134.12 seconds\n",
      "\n",
      "Epoch 3/15\n"
     ]
    },
    {
     "name": "stderr",
     "output_type": "stream",
     "text": [
      "Training: 100%|██████████| 525/525 [01:59<00:00,  4.38it/s]\n",
      "Validation: 100%|██████████| 113/113 [00:17<00:00,  6.38it/s]\n",
      "/Users/yuyi/Desktop/DeepLearningProject/venv/lib/python3.9/site-packages/sklearn/metrics/_classification.py:1565: UndefinedMetricWarning: Precision is ill-defined and being set to 0.0 in labels with no predicted samples. Use `zero_division` parameter to control this behavior.\n",
      "  _warn_prf(average, modifier, f\"{metric.capitalize()} is\", len(result))\n",
      "/Users/yuyi/Desktop/DeepLearningProject/venv/lib/python3.9/site-packages/sklearn/metrics/_classification.py:1565: UndefinedMetricWarning: Precision is ill-defined and being set to 0.0 in labels with no predicted samples. Use `zero_division` parameter to control this behavior.\n",
      "  _warn_prf(average, modifier, f\"{metric.capitalize()} is\", len(result))\n",
      "/Users/yuyi/Desktop/DeepLearningProject/venv/lib/python3.9/site-packages/sklearn/metrics/_classification.py:1565: UndefinedMetricWarning: Precision is ill-defined and being set to 0.0 in labels with no predicted samples. Use `zero_division` parameter to control this behavior.\n",
      "  _warn_prf(average, modifier, f\"{metric.capitalize()} is\", len(result))\n"
     ]
    },
    {
     "name": "stdout",
     "output_type": "stream",
     "text": [
      "\n",
      "Validation Report:\n",
      "angry: Prec=0.000 | Rec=0.000 | F1=0.000\n",
      "disgust: Prec=0.015 | Rec=0.631 | F1=0.029\n",
      "fear: Prec=0.000 | Rec=0.000 | F1=0.000\n",
      "happy: Prec=0.515 | Rec=0.590 | F1=0.550\n",
      "neutral: Prec=0.000 | Rec=0.000 | F1=0.000\n",
      "sad: Prec=0.269 | Rec=0.110 | F1=0.156\n",
      "surprise: Prec=0.000 | Rec=0.000 | F1=0.000\n",
      "\n",
      "Epoch Summary: Train Loss=1.8408 | Val Loss=1.8451 | Train Acc=0.254 | Val Acc=0.175\n",
      "Epoch time: 137.69 seconds\n",
      "\n",
      "Epoch 4/15\n"
     ]
    },
    {
     "name": "stderr",
     "output_type": "stream",
     "text": [
      "Training: 100%|██████████| 525/525 [02:01<00:00,  4.32it/s]\n",
      "Validation: 100%|██████████| 113/113 [00:17<00:00,  6.43it/s]\n",
      "/Users/yuyi/Desktop/DeepLearningProject/venv/lib/python3.9/site-packages/sklearn/metrics/_classification.py:1565: UndefinedMetricWarning: Precision is ill-defined and being set to 0.0 in labels with no predicted samples. Use `zero_division` parameter to control this behavior.\n",
      "  _warn_prf(average, modifier, f\"{metric.capitalize()} is\", len(result))\n",
      "/Users/yuyi/Desktop/DeepLearningProject/venv/lib/python3.9/site-packages/sklearn/metrics/_classification.py:1565: UndefinedMetricWarning: Precision is ill-defined and being set to 0.0 in labels with no predicted samples. Use `zero_division` parameter to control this behavior.\n",
      "  _warn_prf(average, modifier, f\"{metric.capitalize()} is\", len(result))\n",
      "/Users/yuyi/Desktop/DeepLearningProject/venv/lib/python3.9/site-packages/sklearn/metrics/_classification.py:1565: UndefinedMetricWarning: Precision is ill-defined and being set to 0.0 in labels with no predicted samples. Use `zero_division` parameter to control this behavior.\n",
      "  _warn_prf(average, modifier, f\"{metric.capitalize()} is\", len(result))\n"
     ]
    },
    {
     "name": "stdout",
     "output_type": "stream",
     "text": [
      "\n",
      "Validation Report:\n",
      "angry: Prec=0.000 | Rec=0.000 | F1=0.000\n",
      "disgust: Prec=0.013 | Rec=0.306 | F1=0.024\n",
      "fear: Prec=0.000 | Rec=0.000 | F1=0.000\n",
      "happy: Prec=0.504 | Rec=0.822 | F1=0.625\n",
      "neutral: Prec=0.296 | Rec=0.235 | F1=0.262\n",
      "sad: Prec=0.233 | Rec=0.113 | F1=0.152\n",
      "surprise: Prec=0.000 | Rec=0.000 | F1=0.000\n",
      "\n",
      "Epoch Summary: Train Loss=1.8046 | Val Loss=1.7198 | Train Acc=0.278 | Val Acc=0.268\n",
      "Epoch time: 139.17 seconds\n",
      "\n",
      "Epoch 5/15\n"
     ]
    },
    {
     "name": "stderr",
     "output_type": "stream",
     "text": [
      "Training: 100%|██████████| 525/525 [01:57<00:00,  4.47it/s]\n",
      "Validation: 100%|██████████| 113/113 [00:17<00:00,  6.38it/s]\n",
      "/Users/yuyi/Desktop/DeepLearningProject/venv/lib/python3.9/site-packages/sklearn/metrics/_classification.py:1565: UndefinedMetricWarning: Precision is ill-defined and being set to 0.0 in labels with no predicted samples. Use `zero_division` parameter to control this behavior.\n",
      "  _warn_prf(average, modifier, f\"{metric.capitalize()} is\", len(result))\n",
      "/Users/yuyi/Desktop/DeepLearningProject/venv/lib/python3.9/site-packages/sklearn/metrics/_classification.py:1565: UndefinedMetricWarning: Precision is ill-defined and being set to 0.0 in labels with no predicted samples. Use `zero_division` parameter to control this behavior.\n",
      "  _warn_prf(average, modifier, f\"{metric.capitalize()} is\", len(result))\n",
      "/Users/yuyi/Desktop/DeepLearningProject/venv/lib/python3.9/site-packages/sklearn/metrics/_classification.py:1565: UndefinedMetricWarning: Precision is ill-defined and being set to 0.0 in labels with no predicted samples. Use `zero_division` parameter to control this behavior.\n",
      "  _warn_prf(average, modifier, f\"{metric.capitalize()} is\", len(result))\n"
     ]
    },
    {
     "name": "stdout",
     "output_type": "stream",
     "text": [
      "\n",
      "Validation Report:\n",
      "angry: Prec=0.000 | Rec=0.000 | F1=0.000\n",
      "disgust: Prec=0.013 | Rec=0.297 | F1=0.026\n",
      "fear: Prec=0.000 | Rec=0.000 | F1=0.000\n",
      "happy: Prec=0.568 | Rec=0.827 | F1=0.673\n",
      "neutral: Prec=0.286 | Rec=0.257 | F1=0.271\n",
      "sad: Prec=0.244 | Rec=0.201 | F1=0.221\n",
      "surprise: Prec=0.000 | Rec=0.000 | F1=0.000\n",
      "\n",
      "Epoch Summary: Train Loss=1.7705 | Val Loss=1.6812 | Train Acc=0.295 | Val Acc=0.288\n",
      "Epoch time: 135.24 seconds\n",
      "\n",
      "Epoch 6/15\n"
     ]
    },
    {
     "name": "stderr",
     "output_type": "stream",
     "text": [
      "Training: 100%|██████████| 525/525 [01:57<00:00,  4.46it/s]\n",
      "Validation: 100%|██████████| 113/113 [00:17<00:00,  6.45it/s]\n",
      "/Users/yuyi/Desktop/DeepLearningProject/venv/lib/python3.9/site-packages/sklearn/metrics/_classification.py:1565: UndefinedMetricWarning: Precision is ill-defined and being set to 0.0 in labels with no predicted samples. Use `zero_division` parameter to control this behavior.\n",
      "  _warn_prf(average, modifier, f\"{metric.capitalize()} is\", len(result))\n",
      "/Users/yuyi/Desktop/DeepLearningProject/venv/lib/python3.9/site-packages/sklearn/metrics/_classification.py:1565: UndefinedMetricWarning: Precision is ill-defined and being set to 0.0 in labels with no predicted samples. Use `zero_division` parameter to control this behavior.\n",
      "  _warn_prf(average, modifier, f\"{metric.capitalize()} is\", len(result))\n",
      "/Users/yuyi/Desktop/DeepLearningProject/venv/lib/python3.9/site-packages/sklearn/metrics/_classification.py:1565: UndefinedMetricWarning: Precision is ill-defined and being set to 0.0 in labels with no predicted samples. Use `zero_division` parameter to control this behavior.\n",
      "  _warn_prf(average, modifier, f\"{metric.capitalize()} is\", len(result))\n"
     ]
    },
    {
     "name": "stdout",
     "output_type": "stream",
     "text": [
      "\n",
      "Validation Report:\n",
      "angry: Prec=0.000 | Rec=0.000 | F1=0.000\n",
      "disgust: Prec=0.017 | Rec=0.883 | F1=0.034\n",
      "fear: Prec=0.000 | Rec=0.000 | F1=0.000\n",
      "happy: Prec=0.783 | Rec=0.647 | F1=0.709\n",
      "neutral: Prec=0.519 | Rec=0.011 | F1=0.022\n",
      "sad: Prec=0.250 | Rec=0.006 | F1=0.011\n",
      "surprise: Prec=0.000 | Rec=0.000 | F1=0.000\n",
      "\n",
      "Epoch Summary: Train Loss=1.7406 | Val Loss=1.8428 | Train Acc=0.310 | Val Acc=0.177\n",
      "Epoch time: 135.36 seconds\n",
      "\n",
      "Epoch 7/15\n"
     ]
    },
    {
     "name": "stderr",
     "output_type": "stream",
     "text": [
      "Training: 100%|██████████| 525/525 [01:57<00:00,  4.47it/s]\n",
      "Validation: 100%|██████████| 113/113 [00:17<00:00,  6.32it/s]\n",
      "/Users/yuyi/Desktop/DeepLearningProject/venv/lib/python3.9/site-packages/sklearn/metrics/_classification.py:1565: UndefinedMetricWarning: Precision is ill-defined and being set to 0.0 in labels with no predicted samples. Use `zero_division` parameter to control this behavior.\n",
      "  _warn_prf(average, modifier, f\"{metric.capitalize()} is\", len(result))\n",
      "/Users/yuyi/Desktop/DeepLearningProject/venv/lib/python3.9/site-packages/sklearn/metrics/_classification.py:1565: UndefinedMetricWarning: Precision is ill-defined and being set to 0.0 in labels with no predicted samples. Use `zero_division` parameter to control this behavior.\n",
      "  _warn_prf(average, modifier, f\"{metric.capitalize()} is\", len(result))\n",
      "/Users/yuyi/Desktop/DeepLearningProject/venv/lib/python3.9/site-packages/sklearn/metrics/_classification.py:1565: UndefinedMetricWarning: Precision is ill-defined and being set to 0.0 in labels with no predicted samples. Use `zero_division` parameter to control this behavior.\n",
      "  _warn_prf(average, modifier, f\"{metric.capitalize()} is\", len(result))\n"
     ]
    },
    {
     "name": "stdout",
     "output_type": "stream",
     "text": [
      "\n",
      "Validation Report:\n",
      "angry: Prec=0.000 | Rec=0.000 | F1=0.000\n",
      "disgust: Prec=0.019 | Rec=0.541 | F1=0.037\n",
      "fear: Prec=0.000 | Rec=0.000 | F1=0.000\n",
      "happy: Prec=0.643 | Rec=0.766 | F1=0.699\n",
      "neutral: Prec=0.307 | Rec=0.367 | F1=0.334\n",
      "sad: Prec=0.259 | Rec=0.079 | F1=0.121\n",
      "surprise: Prec=0.060 | Rec=0.006 | F1=0.011\n",
      "\n",
      "Epoch Summary: Train Loss=1.7112 | Val Loss=1.7095 | Train Acc=0.323 | Val Acc=0.275\n",
      "Epoch time: 135.34 seconds\n",
      "\n",
      "Epoch 8/15\n"
     ]
    },
    {
     "name": "stderr",
     "output_type": "stream",
     "text": [
      "Training: 100%|██████████| 525/525 [01:57<00:00,  4.46it/s]\n",
      "Validation: 100%|██████████| 113/113 [00:18<00:00,  6.01it/s]\n",
      "/Users/yuyi/Desktop/DeepLearningProject/venv/lib/python3.9/site-packages/sklearn/metrics/_classification.py:1565: UndefinedMetricWarning: Precision is ill-defined and being set to 0.0 in labels with no predicted samples. Use `zero_division` parameter to control this behavior.\n",
      "  _warn_prf(average, modifier, f\"{metric.capitalize()} is\", len(result))\n",
      "/Users/yuyi/Desktop/DeepLearningProject/venv/lib/python3.9/site-packages/sklearn/metrics/_classification.py:1565: UndefinedMetricWarning: Precision is ill-defined and being set to 0.0 in labels with no predicted samples. Use `zero_division` parameter to control this behavior.\n",
      "  _warn_prf(average, modifier, f\"{metric.capitalize()} is\", len(result))\n",
      "/Users/yuyi/Desktop/DeepLearningProject/venv/lib/python3.9/site-packages/sklearn/metrics/_classification.py:1565: UndefinedMetricWarning: Precision is ill-defined and being set to 0.0 in labels with no predicted samples. Use `zero_division` parameter to control this behavior.\n",
      "  _warn_prf(average, modifier, f\"{metric.capitalize()} is\", len(result))\n"
     ]
    },
    {
     "name": "stdout",
     "output_type": "stream",
     "text": [
      "\n",
      "Validation Report:\n",
      "angry: Prec=0.000 | Rec=0.000 | F1=0.000\n",
      "disgust: Prec=0.018 | Rec=0.505 | F1=0.035\n",
      "fear: Prec=0.000 | Rec=0.000 | F1=0.000\n",
      "happy: Prec=0.566 | Rec=0.834 | F1=0.675\n",
      "neutral: Prec=0.349 | Rec=0.215 | F1=0.266\n",
      "sad: Prec=0.250 | Rec=0.113 | F1=0.156\n",
      "surprise: Prec=0.049 | Rec=0.010 | F1=0.016\n",
      "\n",
      "Epoch Summary: Train Loss=1.6960 | Val Loss=1.7063 | Train Acc=0.329 | Val Acc=0.272\n",
      "Epoch time: 136.47 seconds\n",
      "\n",
      "Epoch 9/15\n"
     ]
    },
    {
     "name": "stderr",
     "output_type": "stream",
     "text": [
      "Training: 100%|██████████| 525/525 [01:59<00:00,  4.39it/s]\n",
      "Validation: 100%|██████████| 113/113 [00:17<00:00,  6.44it/s]\n",
      "/Users/yuyi/Desktop/DeepLearningProject/venv/lib/python3.9/site-packages/sklearn/metrics/_classification.py:1565: UndefinedMetricWarning: Precision is ill-defined and being set to 0.0 in labels with no predicted samples. Use `zero_division` parameter to control this behavior.\n",
      "  _warn_prf(average, modifier, f\"{metric.capitalize()} is\", len(result))\n",
      "/Users/yuyi/Desktop/DeepLearningProject/venv/lib/python3.9/site-packages/sklearn/metrics/_classification.py:1565: UndefinedMetricWarning: Precision is ill-defined and being set to 0.0 in labels with no predicted samples. Use `zero_division` parameter to control this behavior.\n",
      "  _warn_prf(average, modifier, f\"{metric.capitalize()} is\", len(result))\n",
      "/Users/yuyi/Desktop/DeepLearningProject/venv/lib/python3.9/site-packages/sklearn/metrics/_classification.py:1565: UndefinedMetricWarning: Precision is ill-defined and being set to 0.0 in labels with no predicted samples. Use `zero_division` parameter to control this behavior.\n",
      "  _warn_prf(average, modifier, f\"{metric.capitalize()} is\", len(result))\n"
     ]
    },
    {
     "name": "stdout",
     "output_type": "stream",
     "text": [
      "\n",
      "Validation Report:\n",
      "angry: Prec=0.000 | Rec=0.000 | F1=0.000\n",
      "disgust: Prec=0.065 | Rec=0.027 | F1=0.038\n",
      "fear: Prec=0.291 | Rec=0.066 | F1=0.108\n",
      "happy: Prec=0.465 | Rec=0.917 | F1=0.617\n",
      "neutral: Prec=0.304 | Rec=0.365 | F1=0.332\n",
      "sad: Prec=0.324 | Rec=0.303 | F1=0.313\n",
      "surprise: Prec=0.589 | Rec=0.534 | F1=0.560\n",
      "\n",
      "Epoch Summary: Train Loss=1.6467 | Val Loss=1.5007 | Train Acc=0.367 | Val Acc=0.414\n",
      "Epoch time: 137.10 seconds\n",
      "\n",
      "Epoch 10/15\n"
     ]
    },
    {
     "name": "stderr",
     "output_type": "stream",
     "text": [
      "Training: 100%|██████████| 525/525 [02:00<00:00,  4.36it/s]\n",
      "Validation: 100%|██████████| 113/113 [00:17<00:00,  6.34it/s]\n",
      "/Users/yuyi/Desktop/DeepLearningProject/venv/lib/python3.9/site-packages/sklearn/metrics/_classification.py:1565: UndefinedMetricWarning: Precision is ill-defined and being set to 0.0 in labels with no predicted samples. Use `zero_division` parameter to control this behavior.\n",
      "  _warn_prf(average, modifier, f\"{metric.capitalize()} is\", len(result))\n",
      "/Users/yuyi/Desktop/DeepLearningProject/venv/lib/python3.9/site-packages/sklearn/metrics/_classification.py:1565: UndefinedMetricWarning: Precision is ill-defined and being set to 0.0 in labels with no predicted samples. Use `zero_division` parameter to control this behavior.\n",
      "  _warn_prf(average, modifier, f\"{metric.capitalize()} is\", len(result))\n",
      "/Users/yuyi/Desktop/DeepLearningProject/venv/lib/python3.9/site-packages/sklearn/metrics/_classification.py:1565: UndefinedMetricWarning: Precision is ill-defined and being set to 0.0 in labels with no predicted samples. Use `zero_division` parameter to control this behavior.\n",
      "  _warn_prf(average, modifier, f\"{metric.capitalize()} is\", len(result))\n"
     ]
    },
    {
     "name": "stdout",
     "output_type": "stream",
     "text": [
      "\n",
      "Validation Report:\n",
      "angry: Prec=0.000 | Rec=0.000 | F1=0.000\n",
      "disgust: Prec=0.053 | Rec=0.108 | F1=0.071\n",
      "fear: Prec=0.216 | Rec=0.156 | F1=0.181\n",
      "happy: Prec=0.633 | Rec=0.859 | F1=0.729\n",
      "neutral: Prec=0.332 | Rec=0.513 | F1=0.403\n",
      "sad: Prec=0.380 | Rec=0.225 | F1=0.282\n",
      "surprise: Prec=0.501 | Rec=0.700 | F1=0.584\n",
      "\n",
      "Epoch Summary: Train Loss=1.5901 | Val Loss=1.4350 | Train Acc=0.392 | Val Acc=0.445\n",
      "Epoch time: 138.27 seconds\n",
      "\n",
      "Epoch 11/15\n"
     ]
    },
    {
     "name": "stderr",
     "output_type": "stream",
     "text": [
      "Training: 100%|██████████| 525/525 [01:58<00:00,  4.44it/s]\n",
      "Validation: 100%|██████████| 113/113 [00:18<00:00,  6.26it/s]\n",
      "/Users/yuyi/Desktop/DeepLearningProject/venv/lib/python3.9/site-packages/sklearn/metrics/_classification.py:1565: UndefinedMetricWarning: Precision is ill-defined and being set to 0.0 in labels with no predicted samples. Use `zero_division` parameter to control this behavior.\n",
      "  _warn_prf(average, modifier, f\"{metric.capitalize()} is\", len(result))\n",
      "/Users/yuyi/Desktop/DeepLearningProject/venv/lib/python3.9/site-packages/sklearn/metrics/_classification.py:1565: UndefinedMetricWarning: Precision is ill-defined and being set to 0.0 in labels with no predicted samples. Use `zero_division` parameter to control this behavior.\n",
      "  _warn_prf(average, modifier, f\"{metric.capitalize()} is\", len(result))\n",
      "/Users/yuyi/Desktop/DeepLearningProject/venv/lib/python3.9/site-packages/sklearn/metrics/_classification.py:1565: UndefinedMetricWarning: Precision is ill-defined and being set to 0.0 in labels with no predicted samples. Use `zero_division` parameter to control this behavior.\n",
      "  _warn_prf(average, modifier, f\"{metric.capitalize()} is\", len(result))\n"
     ]
    },
    {
     "name": "stdout",
     "output_type": "stream",
     "text": [
      "\n",
      "Validation Report:\n",
      "angry: Prec=0.000 | Rec=0.000 | F1=0.000\n",
      "disgust: Prec=0.064 | Rec=0.135 | F1=0.087\n",
      "fear: Prec=0.225 | Rec=0.031 | F1=0.055\n",
      "happy: Prec=0.533 | Rec=0.899 | F1=0.669\n",
      "neutral: Prec=0.314 | Rec=0.524 | F1=0.393\n",
      "sad: Prec=0.339 | Rec=0.210 | F1=0.259\n",
      "surprise: Prec=0.571 | Rec=0.674 | F1=0.618\n",
      "\n",
      "Epoch Summary: Train Loss=1.5386 | Val Loss=1.4472 | Train Acc=0.402 | Val Acc=0.433\n",
      "Epoch time: 136.27 seconds\n",
      "\n",
      "Epoch 12/15\n"
     ]
    },
    {
     "name": "stderr",
     "output_type": "stream",
     "text": [
      "Training: 100%|██████████| 525/525 [01:56<00:00,  4.49it/s]\n",
      "Validation: 100%|██████████| 113/113 [00:17<00:00,  6.32it/s]\n",
      "/Users/yuyi/Desktop/DeepLearningProject/venv/lib/python3.9/site-packages/sklearn/metrics/_classification.py:1565: UndefinedMetricWarning: Precision is ill-defined and being set to 0.0 in labels with no predicted samples. Use `zero_division` parameter to control this behavior.\n",
      "  _warn_prf(average, modifier, f\"{metric.capitalize()} is\", len(result))\n",
      "/Users/yuyi/Desktop/DeepLearningProject/venv/lib/python3.9/site-packages/sklearn/metrics/_classification.py:1565: UndefinedMetricWarning: Precision is ill-defined and being set to 0.0 in labels with no predicted samples. Use `zero_division` parameter to control this behavior.\n",
      "  _warn_prf(average, modifier, f\"{metric.capitalize()} is\", len(result))\n",
      "/Users/yuyi/Desktop/DeepLearningProject/venv/lib/python3.9/site-packages/sklearn/metrics/_classification.py:1565: UndefinedMetricWarning: Precision is ill-defined and being set to 0.0 in labels with no predicted samples. Use `zero_division` parameter to control this behavior.\n",
      "  _warn_prf(average, modifier, f\"{metric.capitalize()} is\", len(result))\n"
     ]
    },
    {
     "name": "stdout",
     "output_type": "stream",
     "text": [
      "\n",
      "Validation Report:\n",
      "angry: Prec=0.000 | Rec=0.000 | F1=0.000\n",
      "disgust: Prec=0.081 | Rec=0.243 | F1=0.121\n",
      "fear: Prec=0.208 | Rec=0.048 | F1=0.078\n",
      "happy: Prec=0.619 | Rec=0.850 | F1=0.717\n",
      "neutral: Prec=0.341 | Rec=0.532 | F1=0.416\n",
      "sad: Prec=0.312 | Rec=0.215 | F1=0.254\n",
      "surprise: Prec=0.472 | Rec=0.788 | F1=0.590\n",
      "\n",
      "Epoch Summary: Train Loss=1.4887 | Val Loss=1.4213 | Train Acc=0.420 | Val Acc=0.441\n",
      "Epoch time: 134.72 seconds\n",
      "\n",
      "Epoch 13/15\n"
     ]
    },
    {
     "name": "stderr",
     "output_type": "stream",
     "text": [
      "Training: 100%|██████████| 525/525 [02:00<00:00,  4.35it/s]\n",
      "Validation: 100%|██████████| 113/113 [00:17<00:00,  6.31it/s]\n"
     ]
    },
    {
     "name": "stdout",
     "output_type": "stream",
     "text": [
      "\n",
      "Validation Report:\n",
      "angry: Prec=0.286 | Rec=0.010 | F1=0.020\n",
      "disgust: Prec=0.040 | Rec=0.550 | F1=0.075\n",
      "fear: Prec=0.185 | Rec=0.047 | F1=0.075\n",
      "happy: Prec=0.629 | Rec=0.807 | F1=0.707\n",
      "neutral: Prec=0.481 | Rec=0.152 | F1=0.232\n",
      "sad: Prec=0.322 | Rec=0.355 | F1=0.338\n",
      "surprise: Prec=0.490 | Rec=0.775 | F1=0.600\n",
      "\n",
      "Epoch Summary: Train Loss=1.4571 | Val Loss=1.6150 | Train Acc=0.433 | Val Acc=0.394\n",
      "Epoch time: 138.75 seconds\n",
      "\n",
      "Epoch 14/15\n"
     ]
    },
    {
     "name": "stderr",
     "output_type": "stream",
     "text": [
      "Training: 100%|██████████| 525/525 [01:56<00:00,  4.49it/s]\n",
      "Validation: 100%|██████████| 113/113 [00:17<00:00,  6.41it/s]\n"
     ]
    },
    {
     "name": "stdout",
     "output_type": "stream",
     "text": [
      "\n",
      "Validation Report:\n",
      "angry: Prec=0.263 | Rec=0.005 | F1=0.010\n",
      "disgust: Prec=0.107 | Rec=0.099 | F1=0.103\n",
      "fear: Prec=0.260 | Rec=0.046 | F1=0.078\n",
      "happy: Prec=0.482 | Rec=0.930 | F1=0.635\n",
      "neutral: Prec=0.350 | Rec=0.521 | F1=0.419\n",
      "sad: Prec=0.309 | Rec=0.253 | F1=0.278\n",
      "surprise: Prec=0.720 | Rec=0.519 | F1=0.603\n",
      "\n",
      "Epoch Summary: Train Loss=1.4366 | Val Loss=1.4959 | Train Acc=0.443 | Val Acc=0.432\n",
      "Epoch time: 134.54 seconds\n",
      "\n",
      "Epoch 15/15\n"
     ]
    },
    {
     "name": "stderr",
     "output_type": "stream",
     "text": [
      "Training: 100%|██████████| 525/525 [02:08<00:00,  4.09it/s]\n",
      "Validation: 100%|██████████| 113/113 [00:18<00:00,  6.20it/s]\n"
     ]
    },
    {
     "name": "stdout",
     "output_type": "stream",
     "text": [
      "\n",
      "Validation Report:\n",
      "angry: Prec=0.320 | Rec=0.091 | F1=0.141\n",
      "disgust: Prec=0.064 | Rec=0.342 | F1=0.108\n",
      "fear: Prec=0.245 | Rec=0.087 | F1=0.128\n",
      "happy: Prec=0.666 | Rec=0.842 | F1=0.744\n",
      "neutral: Prec=0.401 | Rec=0.461 | F1=0.429\n",
      "sad: Prec=0.344 | Rec=0.322 | F1=0.332\n",
      "surprise: Prec=0.551 | Rec=0.746 | F1=0.634\n",
      "\n",
      "Epoch Summary: Train Loss=1.4139 | Val Loss=1.3936 | Train Acc=0.450 | Val Acc=0.459\n",
      "Epoch time: 146.45 seconds\n",
      "Saved model to 'results/adam_lr3_dropout20_bn'\n",
      "\n",
      "Training config: sgd_mom09_lr3_dropout15_bn\n",
      "\n",
      "Epoch 1/15\n"
     ]
    },
    {
     "name": "stderr",
     "output_type": "stream",
     "text": [
      "Training: 100%|██████████| 525/525 [01:57<00:00,  4.46it/s]\n",
      "Validation: 100%|██████████| 113/113 [00:17<00:00,  6.39it/s]\n",
      "/Users/yuyi/Desktop/DeepLearningProject/venv/lib/python3.9/site-packages/sklearn/metrics/_classification.py:1565: UndefinedMetricWarning: Precision is ill-defined and being set to 0.0 in labels with no predicted samples. Use `zero_division` parameter to control this behavior.\n",
      "  _warn_prf(average, modifier, f\"{metric.capitalize()} is\", len(result))\n",
      "/Users/yuyi/Desktop/DeepLearningProject/venv/lib/python3.9/site-packages/sklearn/metrics/_classification.py:1565: UndefinedMetricWarning: Precision is ill-defined and being set to 0.0 in labels with no predicted samples. Use `zero_division` parameter to control this behavior.\n",
      "  _warn_prf(average, modifier, f\"{metric.capitalize()} is\", len(result))\n",
      "/Users/yuyi/Desktop/DeepLearningProject/venv/lib/python3.9/site-packages/sklearn/metrics/_classification.py:1565: UndefinedMetricWarning: Precision is ill-defined and being set to 0.0 in labels with no predicted samples. Use `zero_division` parameter to control this behavior.\n",
      "  _warn_prf(average, modifier, f\"{metric.capitalize()} is\", len(result))\n"
     ]
    },
    {
     "name": "stdout",
     "output_type": "stream",
     "text": [
      "\n",
      "Validation Report:\n",
      "angry: Prec=0.400 | Rec=0.002 | F1=0.004\n",
      "disgust: Prec=0.009 | Rec=0.027 | F1=0.014\n",
      "fear: Prec=0.000 | Rec=0.000 | F1=0.000\n",
      "happy: Prec=0.262 | Rec=0.852 | F1=0.401\n",
      "neutral: Prec=0.000 | Rec=0.000 | F1=0.000\n",
      "sad: Prec=0.000 | Rec=0.000 | F1=0.000\n",
      "surprise: Prec=0.253 | Rec=0.330 | F1=0.286\n",
      "\n",
      "Epoch Summary: Train Loss=1.9176 | Val Loss=1.8791 | Train Acc=0.207 | Val Acc=0.249\n",
      "Epoch time: 135.44 seconds\n",
      "\n",
      "Epoch 2/15\n"
     ]
    },
    {
     "name": "stderr",
     "output_type": "stream",
     "text": [
      "Training: 100%|██████████| 525/525 [02:01<00:00,  4.32it/s]\n",
      "Validation: 100%|██████████| 113/113 [00:17<00:00,  6.29it/s]\n",
      "/Users/yuyi/Desktop/DeepLearningProject/venv/lib/python3.9/site-packages/sklearn/metrics/_classification.py:1565: UndefinedMetricWarning: Precision is ill-defined and being set to 0.0 in labels with no predicted samples. Use `zero_division` parameter to control this behavior.\n",
      "  _warn_prf(average, modifier, f\"{metric.capitalize()} is\", len(result))\n",
      "/Users/yuyi/Desktop/DeepLearningProject/venv/lib/python3.9/site-packages/sklearn/metrics/_classification.py:1565: UndefinedMetricWarning: Precision is ill-defined and being set to 0.0 in labels with no predicted samples. Use `zero_division` parameter to control this behavior.\n",
      "  _warn_prf(average, modifier, f\"{metric.capitalize()} is\", len(result))\n",
      "/Users/yuyi/Desktop/DeepLearningProject/venv/lib/python3.9/site-packages/sklearn/metrics/_classification.py:1565: UndefinedMetricWarning: Precision is ill-defined and being set to 0.0 in labels with no predicted samples. Use `zero_division` parameter to control this behavior.\n",
      "  _warn_prf(average, modifier, f\"{metric.capitalize()} is\", len(result))\n"
     ]
    },
    {
     "name": "stdout",
     "output_type": "stream",
     "text": [
      "\n",
      "Validation Report:\n",
      "angry: Prec=0.000 | Rec=0.000 | F1=0.000\n",
      "disgust: Prec=0.006 | Rec=0.009 | F1=0.007\n",
      "fear: Prec=0.000 | Rec=0.000 | F1=0.000\n",
      "happy: Prec=0.263 | Rec=0.944 | F1=0.412\n",
      "neutral: Prec=0.600 | Rec=0.007 | F1=0.014\n",
      "sad: Prec=0.266 | Rec=0.043 | F1=0.073\n",
      "surprise: Prec=0.359 | Rec=0.193 | F1=0.251\n",
      "\n",
      "Epoch Summary: Train Loss=1.9010 | Val Loss=1.8312 | Train Acc=0.218 | Val Acc=0.264\n",
      "Epoch time: 139.62 seconds\n",
      "\n",
      "Epoch 3/15\n"
     ]
    },
    {
     "name": "stderr",
     "output_type": "stream",
     "text": [
      "Training: 100%|██████████| 525/525 [02:00<00:00,  4.37it/s]\n",
      "Validation: 100%|██████████| 113/113 [00:17<00:00,  6.44it/s]\n",
      "/Users/yuyi/Desktop/DeepLearningProject/venv/lib/python3.9/site-packages/sklearn/metrics/_classification.py:1565: UndefinedMetricWarning: Precision is ill-defined and being set to 0.0 in labels with no predicted samples. Use `zero_division` parameter to control this behavior.\n",
      "  _warn_prf(average, modifier, f\"{metric.capitalize()} is\", len(result))\n",
      "/Users/yuyi/Desktop/DeepLearningProject/venv/lib/python3.9/site-packages/sklearn/metrics/_classification.py:1565: UndefinedMetricWarning: Precision is ill-defined and being set to 0.0 in labels with no predicted samples. Use `zero_division` parameter to control this behavior.\n",
      "  _warn_prf(average, modifier, f\"{metric.capitalize()} is\", len(result))\n",
      "/Users/yuyi/Desktop/DeepLearningProject/venv/lib/python3.9/site-packages/sklearn/metrics/_classification.py:1565: UndefinedMetricWarning: Precision is ill-defined and being set to 0.0 in labels with no predicted samples. Use `zero_division` parameter to control this behavior.\n",
      "  _warn_prf(average, modifier, f\"{metric.capitalize()} is\", len(result))\n"
     ]
    },
    {
     "name": "stdout",
     "output_type": "stream",
     "text": [
      "\n",
      "Validation Report:\n",
      "angry: Prec=0.000 | Rec=0.000 | F1=0.000\n",
      "disgust: Prec=0.013 | Rec=0.261 | F1=0.024\n",
      "fear: Prec=0.000 | Rec=0.000 | F1=0.000\n",
      "happy: Prec=0.310 | Rec=0.740 | F1=0.437\n",
      "neutral: Prec=0.308 | Rec=0.067 | F1=0.109\n",
      "sad: Prec=0.265 | Rec=0.018 | F1=0.033\n",
      "surprise: Prec=0.408 | Rec=0.141 | F1=0.209\n",
      "\n",
      "Epoch Summary: Train Loss=1.8699 | Val Loss=1.8737 | Train Acc=0.251 | Val Acc=0.218\n",
      "Epoch time: 137.86 seconds\n",
      "\n",
      "Epoch 4/15\n"
     ]
    },
    {
     "name": "stderr",
     "output_type": "stream",
     "text": [
      "Training: 100%|██████████| 525/525 [01:57<00:00,  4.48it/s]\n",
      "Validation: 100%|██████████| 113/113 [00:17<00:00,  6.39it/s]\n",
      "/Users/yuyi/Desktop/DeepLearningProject/venv/lib/python3.9/site-packages/sklearn/metrics/_classification.py:1565: UndefinedMetricWarning: Precision is ill-defined and being set to 0.0 in labels with no predicted samples. Use `zero_division` parameter to control this behavior.\n",
      "  _warn_prf(average, modifier, f\"{metric.capitalize()} is\", len(result))\n",
      "/Users/yuyi/Desktop/DeepLearningProject/venv/lib/python3.9/site-packages/sklearn/metrics/_classification.py:1565: UndefinedMetricWarning: Precision is ill-defined and being set to 0.0 in labels with no predicted samples. Use `zero_division` parameter to control this behavior.\n",
      "  _warn_prf(average, modifier, f\"{metric.capitalize()} is\", len(result))\n",
      "/Users/yuyi/Desktop/DeepLearningProject/venv/lib/python3.9/site-packages/sklearn/metrics/_classification.py:1565: UndefinedMetricWarning: Precision is ill-defined and being set to 0.0 in labels with no predicted samples. Use `zero_division` parameter to control this behavior.\n",
      "  _warn_prf(average, modifier, f\"{metric.capitalize()} is\", len(result))\n"
     ]
    },
    {
     "name": "stdout",
     "output_type": "stream",
     "text": [
      "\n",
      "Validation Report:\n",
      "angry: Prec=0.000 | Rec=0.000 | F1=0.000\n",
      "disgust: Prec=0.013 | Rec=0.090 | F1=0.022\n",
      "fear: Prec=0.000 | Rec=0.000 | F1=0.000\n",
      "happy: Prec=0.306 | Rec=0.843 | F1=0.449\n",
      "neutral: Prec=0.295 | Rec=0.076 | F1=0.121\n",
      "sad: Prec=0.333 | Rec=0.032 | F1=0.059\n",
      "surprise: Prec=0.388 | Rec=0.499 | F1=0.437\n",
      "\n",
      "Epoch Summary: Train Loss=1.8009 | Val Loss=1.7690 | Train Acc=0.291 | Val Acc=0.286\n",
      "Epoch time: 134.98 seconds\n",
      "\n",
      "Epoch 5/15\n"
     ]
    },
    {
     "name": "stderr",
     "output_type": "stream",
     "text": [
      "Training: 100%|██████████| 525/525 [01:55<00:00,  4.53it/s]\n",
      "Validation: 100%|██████████| 113/113 [00:17<00:00,  6.32it/s]\n"
     ]
    },
    {
     "name": "stdout",
     "output_type": "stream",
     "text": [
      "\n",
      "Validation Report:\n",
      "angry: Prec=0.000 | Rec=0.000 | F1=0.000\n",
      "disgust: Prec=0.019 | Rec=0.505 | F1=0.036\n",
      "fear: Prec=0.381 | Rec=0.008 | F1=0.015\n",
      "happy: Prec=0.418 | Rec=0.490 | F1=0.451\n",
      "neutral: Prec=0.312 | Rec=0.158 | F1=0.210\n",
      "sad: Prec=0.305 | Rec=0.038 | F1=0.067\n",
      "surprise: Prec=0.331 | Rec=0.528 | F1=0.407\n",
      "\n",
      "Epoch Summary: Train Loss=1.7551 | Val Loss=2.0240 | Train Acc=0.314 | Val Acc=0.225\n",
      "Epoch time: 133.74 seconds\n",
      "\n",
      "Epoch 6/15\n"
     ]
    },
    {
     "name": "stderr",
     "output_type": "stream",
     "text": [
      "Training: 100%|██████████| 525/525 [02:06<00:00,  4.15it/s]\n",
      "Validation: 100%|██████████| 113/113 [00:18<00:00,  6.06it/s]\n",
      "/Users/yuyi/Desktop/DeepLearningProject/venv/lib/python3.9/site-packages/sklearn/metrics/_classification.py:1565: UndefinedMetricWarning: Precision is ill-defined and being set to 0.0 in labels with no predicted samples. Use `zero_division` parameter to control this behavior.\n",
      "  _warn_prf(average, modifier, f\"{metric.capitalize()} is\", len(result))\n",
      "/Users/yuyi/Desktop/DeepLearningProject/venv/lib/python3.9/site-packages/sklearn/metrics/_classification.py:1565: UndefinedMetricWarning: Precision is ill-defined and being set to 0.0 in labels with no predicted samples. Use `zero_division` parameter to control this behavior.\n",
      "  _warn_prf(average, modifier, f\"{metric.capitalize()} is\", len(result))\n",
      "/Users/yuyi/Desktop/DeepLearningProject/venv/lib/python3.9/site-packages/sklearn/metrics/_classification.py:1565: UndefinedMetricWarning: Precision is ill-defined and being set to 0.0 in labels with no predicted samples. Use `zero_division` parameter to control this behavior.\n",
      "  _warn_prf(average, modifier, f\"{metric.capitalize()} is\", len(result))\n"
     ]
    },
    {
     "name": "stdout",
     "output_type": "stream",
     "text": [
      "\n",
      "Validation Report:\n",
      "angry: Prec=0.000 | Rec=0.000 | F1=0.000\n",
      "disgust: Prec=0.000 | Rec=0.000 | F1=0.000\n",
      "fear: Prec=0.243 | Rec=0.017 | F1=0.031\n",
      "happy: Prec=0.347 | Rec=0.860 | F1=0.494\n",
      "neutral: Prec=0.273 | Rec=0.354 | F1=0.308\n",
      "sad: Prec=0.328 | Rec=0.062 | F1=0.104\n",
      "surprise: Prec=0.485 | Rec=0.457 | F1=0.471\n",
      "\n",
      "Epoch Summary: Train Loss=1.7137 | Val Loss=1.6769 | Train Acc=0.332 | Val Acc=0.340\n",
      "Epoch time: 145.22 seconds\n",
      "\n",
      "Epoch 7/15\n"
     ]
    },
    {
     "name": "stderr",
     "output_type": "stream",
     "text": [
      "Training: 100%|██████████| 525/525 [02:07<00:00,  4.10it/s]\n",
      "Validation: 100%|██████████| 113/113 [00:18<00:00,  6.11it/s]\n"
     ]
    },
    {
     "name": "stdout",
     "output_type": "stream",
     "text": [
      "\n",
      "Validation Report:\n",
      "angry: Prec=0.293 | Rec=0.013 | F1=0.024\n",
      "disgust: Prec=0.018 | Rec=0.189 | F1=0.034\n",
      "fear: Prec=0.000 | Rec=0.000 | F1=0.000\n",
      "happy: Prec=0.478 | Rec=0.635 | F1=0.545\n",
      "neutral: Prec=0.352 | Rec=0.355 | F1=0.353\n",
      "sad: Prec=0.349 | Rec=0.054 | F1=0.093\n",
      "surprise: Prec=0.284 | Rec=0.753 | F1=0.413\n",
      "\n",
      "Epoch Summary: Train Loss=1.6754 | Val Loss=1.7804 | Train Acc=0.351 | Val Acc=0.319\n",
      "Epoch time: 146.50 seconds\n",
      "\n",
      "Epoch 8/15\n"
     ]
    },
    {
     "name": "stderr",
     "output_type": "stream",
     "text": [
      "Training: 100%|██████████| 525/525 [02:18<00:00,  3.80it/s]\n",
      "Validation: 100%|██████████| 113/113 [00:18<00:00,  6.02it/s]\n"
     ]
    },
    {
     "name": "stdout",
     "output_type": "stream",
     "text": [
      "\n",
      "Validation Report:\n",
      "angry: Prec=0.333 | Rec=0.003 | F1=0.006\n",
      "disgust: Prec=0.013 | Rec=0.027 | F1=0.017\n",
      "fear: Prec=0.127 | Rec=0.010 | F1=0.018\n",
      "happy: Prec=0.485 | Rec=0.702 | F1=0.574\n",
      "neutral: Prec=0.361 | Rec=0.307 | F1=0.332\n",
      "sad: Prec=0.345 | Rec=0.066 | F1=0.110\n",
      "surprise: Prec=0.237 | Rec=0.856 | F1=0.371\n",
      "\n",
      "Epoch Summary: Train Loss=1.6451 | Val Loss=1.6633 | Train Acc=0.363 | Val Acc=0.339\n",
      "Epoch time: 156.83 seconds\n",
      "\n",
      "Epoch 9/15\n"
     ]
    },
    {
     "name": "stderr",
     "output_type": "stream",
     "text": [
      "Training: 100%|██████████| 525/525 [02:21<00:00,  3.71it/s]\n",
      "Validation: 100%|██████████| 113/113 [00:19<00:00,  5.81it/s]\n"
     ]
    },
    {
     "name": "stdout",
     "output_type": "stream",
     "text": [
      "\n",
      "Validation Report:\n",
      "angry: Prec=0.266 | Rec=0.022 | F1=0.041\n",
      "disgust: Prec=0.000 | Rec=0.000 | F1=0.000\n",
      "fear: Prec=0.229 | Rec=0.040 | F1=0.068\n",
      "happy: Prec=0.343 | Rec=0.921 | F1=0.499\n",
      "neutral: Prec=0.337 | Rec=0.363 | F1=0.350\n",
      "sad: Prec=0.340 | Rec=0.069 | F1=0.115\n",
      "surprise: Prec=0.618 | Rec=0.381 | F1=0.472\n",
      "\n",
      "Epoch Summary: Train Loss=1.6122 | Val Loss=1.6773 | Train Acc=0.377 | Val Acc=0.355\n",
      "Epoch time: 160.97 seconds\n",
      "\n",
      "Epoch 10/15\n"
     ]
    },
    {
     "name": "stderr",
     "output_type": "stream",
     "text": [
      "Training: 100%|██████████| 525/525 [02:14<00:00,  3.90it/s]\n",
      "Validation: 100%|██████████| 113/113 [00:18<00:00,  5.98it/s]\n"
     ]
    },
    {
     "name": "stdout",
     "output_type": "stream",
     "text": [
      "\n",
      "Validation Report:\n",
      "angry: Prec=0.240 | Rec=0.026 | F1=0.047\n",
      "disgust: Prec=0.005 | Rec=0.009 | F1=0.006\n",
      "fear: Prec=0.278 | Rec=0.041 | F1=0.071\n",
      "happy: Prec=0.390 | Rec=0.869 | F1=0.539\n",
      "neutral: Prec=0.335 | Rec=0.441 | F1=0.381\n",
      "sad: Prec=0.367 | Rec=0.101 | F1=0.158\n",
      "surprise: Prec=0.541 | Rec=0.527 | F1=0.534\n",
      "\n",
      "Epoch Summary: Train Loss=1.5894 | Val Loss=1.6244 | Train Acc=0.387 | Val Acc=0.379\n",
      "Epoch time: 153.39 seconds\n",
      "\n",
      "Epoch 11/15\n"
     ]
    },
    {
     "name": "stderr",
     "output_type": "stream",
     "text": [
      "Training: 100%|██████████| 525/525 [02:18<00:00,  3.79it/s]\n",
      "Validation: 100%|██████████| 113/113 [00:19<00:00,  5.90it/s]\n"
     ]
    },
    {
     "name": "stdout",
     "output_type": "stream",
     "text": [
      "\n",
      "Validation Report:\n",
      "angry: Prec=0.237 | Rec=0.020 | F1=0.037\n",
      "disgust: Prec=0.020 | Rec=0.090 | F1=0.033\n",
      "fear: Prec=0.277 | Rec=0.018 | F1=0.033\n",
      "happy: Prec=0.396 | Rec=0.865 | F1=0.544\n",
      "neutral: Prec=0.353 | Rec=0.460 | F1=0.399\n",
      "sad: Prec=0.389 | Rec=0.056 | F1=0.098\n",
      "surprise: Prec=0.549 | Rec=0.581 | F1=0.565\n",
      "\n",
      "Epoch Summary: Train Loss=1.5594 | Val Loss=1.6589 | Train Acc=0.402 | Val Acc=0.376\n",
      "Epoch time: 157.74 seconds\n",
      "\n",
      "Epoch 12/15\n"
     ]
    },
    {
     "name": "stderr",
     "output_type": "stream",
     "text": [
      "Training: 100%|██████████| 525/525 [02:14<00:00,  3.90it/s]\n",
      "Validation: 100%|██████████| 113/113 [00:18<00:00,  6.22it/s]\n"
     ]
    },
    {
     "name": "stdout",
     "output_type": "stream",
     "text": [
      "\n",
      "Validation Report:\n",
      "angry: Prec=0.277 | Rec=0.073 | F1=0.116\n",
      "disgust: Prec=0.018 | Rec=0.018 | F1=0.018\n",
      "fear: Prec=0.242 | Rec=0.022 | F1=0.041\n",
      "happy: Prec=0.425 | Rec=0.868 | F1=0.570\n",
      "neutral: Prec=0.345 | Rec=0.517 | F1=0.413\n",
      "sad: Prec=0.384 | Rec=0.132 | F1=0.196\n",
      "surprise: Prec=0.562 | Rec=0.554 | F1=0.558\n",
      "\n",
      "Epoch Summary: Train Loss=1.5371 | Val Loss=1.5476 | Train Acc=0.409 | Val Acc=0.403\n",
      "Epoch time: 152.85 seconds\n",
      "\n",
      "Epoch 13/15\n"
     ]
    },
    {
     "name": "stderr",
     "output_type": "stream",
     "text": [
      "Training: 100%|██████████| 525/525 [02:15<00:00,  3.88it/s]\n",
      "Validation: 100%|██████████| 113/113 [00:19<00:00,  5.65it/s]\n"
     ]
    },
    {
     "name": "stdout",
     "output_type": "stream",
     "text": [
      "\n",
      "Validation Report:\n",
      "angry: Prec=0.298 | Rec=0.140 | F1=0.190\n",
      "disgust: Prec=0.000 | Rec=0.000 | F1=0.000\n",
      "fear: Prec=0.267 | Rec=0.129 | F1=0.174\n",
      "happy: Prec=0.449 | Rec=0.881 | F1=0.595\n",
      "neutral: Prec=0.355 | Rec=0.436 | F1=0.391\n",
      "sad: Prec=0.382 | Rec=0.156 | F1=0.222\n",
      "surprise: Prec=0.648 | Rec=0.529 | F1=0.583\n",
      "\n",
      "Epoch Summary: Train Loss=1.5114 | Val Loss=1.5351 | Train Acc=0.421 | Val Acc=0.418\n",
      "Epoch time: 155.21 seconds\n",
      "\n",
      "Epoch 14/15\n"
     ]
    },
    {
     "name": "stderr",
     "output_type": "stream",
     "text": [
      "Training: 100%|██████████| 525/525 [02:13<00:00,  3.94it/s]\n",
      "Validation: 100%|██████████| 113/113 [00:17<00:00,  6.30it/s]\n"
     ]
    },
    {
     "name": "stdout",
     "output_type": "stream",
     "text": [
      "\n",
      "Validation Report:\n",
      "angry: Prec=0.351 | Rec=0.071 | F1=0.118\n",
      "disgust: Prec=0.030 | Rec=0.126 | F1=0.048\n",
      "fear: Prec=0.268 | Rec=0.078 | F1=0.121\n",
      "happy: Prec=0.457 | Rec=0.865 | F1=0.598\n",
      "neutral: Prec=0.397 | Rec=0.392 | F1=0.394\n",
      "sad: Prec=0.406 | Rec=0.195 | F1=0.263\n",
      "surprise: Prec=0.521 | Rec=0.656 | F1=0.581\n",
      "\n",
      "Epoch Summary: Train Loss=1.4960 | Val Loss=1.5822 | Train Acc=0.428 | Val Acc=0.413\n",
      "Epoch time: 151.36 seconds\n",
      "\n",
      "Epoch 15/15\n"
     ]
    },
    {
     "name": "stderr",
     "output_type": "stream",
     "text": [
      "Training: 100%|██████████| 525/525 [01:58<00:00,  4.45it/s]\n",
      "Validation: 100%|██████████| 113/113 [00:17<00:00,  6.41it/s]"
     ]
    },
    {
     "name": "stdout",
     "output_type": "stream",
     "text": [
      "\n",
      "Validation Report:\n",
      "angry: Prec=0.303 | Rec=0.151 | F1=0.202\n",
      "disgust: Prec=0.022 | Rec=0.099 | F1=0.035\n",
      "fear: Prec=0.234 | Rec=0.124 | F1=0.162\n",
      "happy: Prec=0.538 | Rec=0.771 | F1=0.634\n",
      "neutral: Prec=0.424 | Rec=0.376 | F1=0.399\n",
      "sad: Prec=0.343 | Rec=0.298 | F1=0.319\n",
      "surprise: Prec=0.574 | Rec=0.639 | F1=0.605\n",
      "\n",
      "Epoch Summary: Train Loss=1.4685 | Val Loss=1.5332 | Train Acc=0.440 | Val Acc=0.420\n",
      "Epoch time: 135.73 seconds\n",
      "Saved model to 'results/sgd_mom09_lr3_dropout15_bn'\n"
     ]
    },
    {
     "name": "stderr",
     "output_type": "stream",
     "text": [
      "\n"
     ]
    }
   ],
   "source": [
    "def build_model(dropout):\n",
    "    return ResSim(num_classes=len(class_names), dropout_rate=dropout).to(device)\n",
    "\n",
    "# Define settings to test\n",
    "configs = [\n",
    "    {'name': 'adam_lr3_dropout0_bn', 'optimizer': 'adam', 'lr': 1e-3, 'dropout': 0},\n",
    "    {'name': 'adam_lr3_dropout15_bn', 'optimizer': 'adam', 'lr': 1e-3, 'dropout': 0.15},\n",
    "    {'name': 'adam_lr2_dropout15_bn', 'optimizer': 'adam', 'lr': 1e-2, 'dropout': 0.15},\n",
    "    {'name': 'adam_lr3_dropout20_bn', 'optimizer': 'adam', 'lr': 1e-3, 'dropout': 0.20},\n",
    "    {'name': 'sgd_mom09_lr3_dropout15_bn', 'optimizer': 'sgd', 'lr': 1e-3, 'dropout': 0.15},\n",
    "]\n",
    "\n",
    "\n",
    "for config in configs:\n",
    "    print(f\"\\nTraining config: {config['name']}\")\n",
    "\n",
    "    model = build_model(config['dropout'])\n",
    "    if config['optimizer'] == 'adam':\n",
    "        optimizer = optim.Adam(model.parameters(), lr=config['lr'])\n",
    "    else:\n",
    "        optimizer = optim.SGD(model.parameters(), lr=config['lr'], momentum=0.9)\n",
    "\n",
    "    criterion = nn.CrossEntropyLoss()\n",
    "    history = train(model, train_loader, val_loader, optimizer, criterion, num_epochs=15, model_name=config['name'])\n",
    "    pd.DataFrame(history).to_csv(f'results/history_resnet_{config[\"name\"]}.csv', index=False)"
   ]
  },
  {
   "cell_type": "code",
   "execution_count": 139,
   "id": "503f54f1",
   "metadata": {},
   "outputs": [
    {
     "name": "stdout",
     "output_type": "stream",
     "text": [
      "\n",
      "Epoch 1/40\n"
     ]
    },
    {
     "name": "stderr",
     "output_type": "stream",
     "text": [
      "Training: 100%|██████████| 525/525 [02:02<00:00,  4.28it/s]\n",
      "Validation: 100%|██████████| 113/113 [00:17<00:00,  6.41it/s]\n"
     ]
    },
    {
     "name": "stdout",
     "output_type": "stream",
     "text": [
      "\n",
      "Validation Report:\n",
      "angry: Prec=0.455 | Rec=0.376 | F1=0.412\n",
      "disgust: Prec=0.155 | Rec=0.243 | F1=0.189\n",
      "fear: Prec=0.356 | Rec=0.123 | F1=0.183\n",
      "happy: Prec=0.620 | Rec=0.870 | F1=0.724\n",
      "neutral: Prec=0.484 | Rec=0.511 | F1=0.497\n",
      "sad: Prec=0.457 | Rec=0.383 | F1=0.417\n",
      "surprise: Prec=0.599 | Rec=0.736 | F1=0.661\n",
      "\n",
      "Epoch Summary: Train Loss=1.2170 | Val Loss=1.2684 | Train Acc=0.543 | Val Acc=0.526\n",
      "Epoch time: 140.20 seconds\n",
      "\n",
      "Epoch 2/40\n"
     ]
    },
    {
     "name": "stderr",
     "output_type": "stream",
     "text": [
      "Training: 100%|██████████| 525/525 [02:03<00:00,  4.25it/s]\n",
      "Validation: 100%|██████████| 113/113 [00:29<00:00,  3.85it/s]\n"
     ]
    },
    {
     "name": "stdout",
     "output_type": "stream",
     "text": [
      "\n",
      "Validation Report:\n",
      "angry: Prec=0.464 | Rec=0.401 | F1=0.430\n",
      "disgust: Prec=0.194 | Rec=0.252 | F1=0.220\n",
      "fear: Prec=0.344 | Rec=0.164 | F1=0.222\n",
      "happy: Prec=0.736 | Rec=0.803 | F1=0.768\n",
      "neutral: Prec=0.519 | Rec=0.483 | F1=0.500\n",
      "sad: Prec=0.389 | Rec=0.543 | F1=0.453\n",
      "surprise: Prec=0.657 | Rec=0.708 | F1=0.681\n",
      "\n",
      "Epoch Summary: Train Loss=1.2121 | Val Loss=1.2075 | Train Acc=0.542 | Val Acc=0.538\n",
      "Epoch time: 152.83 seconds\n",
      "\n",
      "Epoch 3/40\n"
     ]
    },
    {
     "name": "stderr",
     "output_type": "stream",
     "text": [
      "Training: 100%|██████████| 525/525 [02:39<00:00,  3.29it/s]\n",
      "Validation: 100%|██████████| 113/113 [00:18<00:00,  6.05it/s]\n"
     ]
    },
    {
     "name": "stdout",
     "output_type": "stream",
     "text": [
      "\n",
      "Validation Report:\n",
      "angry: Prec=0.501 | Rec=0.374 | F1=0.428\n",
      "disgust: Prec=0.231 | Rec=0.270 | F1=0.249\n",
      "fear: Prec=0.348 | Rec=0.165 | F1=0.224\n",
      "happy: Prec=0.731 | Rec=0.809 | F1=0.768\n",
      "neutral: Prec=0.467 | Rec=0.552 | F1=0.506\n",
      "sad: Prec=0.410 | Rec=0.485 | F1=0.445\n",
      "surprise: Prec=0.640 | Rec=0.734 | F1=0.684\n",
      "\n",
      "Epoch Summary: Train Loss=1.2030 | Val Loss=1.2029 | Train Acc=0.548 | Val Acc=0.542\n",
      "Epoch time: 178.47 seconds\n",
      "\n",
      "Epoch 4/40\n"
     ]
    },
    {
     "name": "stderr",
     "output_type": "stream",
     "text": [
      "Training: 100%|██████████| 525/525 [02:32<00:00,  3.44it/s]\n",
      "Validation: 100%|██████████| 113/113 [00:17<00:00,  6.37it/s]\n"
     ]
    },
    {
     "name": "stdout",
     "output_type": "stream",
     "text": [
      "\n",
      "Validation Report:\n",
      "angry: Prec=0.427 | Rec=0.371 | F1=0.397\n",
      "disgust: Prec=0.076 | Rec=0.423 | F1=0.129\n",
      "fear: Prec=0.301 | Rec=0.147 | F1=0.198\n",
      "happy: Prec=0.719 | Rec=0.769 | F1=0.743\n",
      "neutral: Prec=0.524 | Rec=0.396 | F1=0.451\n",
      "sad: Prec=0.453 | Rec=0.330 | F1=0.381\n",
      "surprise: Prec=0.472 | Rec=0.847 | F1=0.606\n",
      "\n",
      "Epoch Summary: Train Loss=1.2008 | Val Loss=1.4150 | Train Acc=0.547 | Val Acc=0.490\n",
      "Epoch time: 170.22 seconds\n",
      "\n",
      "Epoch 5/40\n"
     ]
    },
    {
     "name": "stderr",
     "output_type": "stream",
     "text": [
      "Training: 100%|██████████| 525/525 [02:50<00:00,  3.09it/s]\n",
      "Validation: 100%|██████████| 113/113 [00:18<00:00,  6.27it/s]\n"
     ]
    },
    {
     "name": "stdout",
     "output_type": "stream",
     "text": [
      "\n",
      "Validation Report:\n",
      "angry: Prec=0.466 | Rec=0.419 | F1=0.441\n",
      "disgust: Prec=0.143 | Rec=0.360 | F1=0.205\n",
      "fear: Prec=0.376 | Rec=0.171 | F1=0.235\n",
      "happy: Prec=0.760 | Rec=0.784 | F1=0.771\n",
      "neutral: Prec=0.552 | Rec=0.400 | F1=0.464\n",
      "sad: Prec=0.384 | Rec=0.557 | F1=0.455\n",
      "surprise: Prec=0.607 | Rec=0.758 | F1=0.674\n",
      "\n",
      "Epoch Summary: Train Loss=1.1953 | Val Loss=1.2425 | Train Acc=0.546 | Val Acc=0.533\n",
      "Epoch time: 188.12 seconds\n",
      "\n",
      "Epoch 6/40\n"
     ]
    },
    {
     "name": "stderr",
     "output_type": "stream",
     "text": [
      "Training: 100%|██████████| 525/525 [03:25<00:00,  2.56it/s]\n",
      "Validation: 100%|██████████| 113/113 [00:30<00:00,  3.68it/s]\n"
     ]
    },
    {
     "name": "stdout",
     "output_type": "stream",
     "text": [
      "\n",
      "Validation Report:\n",
      "angry: Prec=0.464 | Rec=0.399 | F1=0.429\n",
      "disgust: Prec=0.212 | Rec=0.063 | F1=0.097\n",
      "fear: Prec=0.359 | Rec=0.171 | F1=0.231\n",
      "happy: Prec=0.773 | Rec=0.794 | F1=0.783\n",
      "neutral: Prec=0.508 | Rec=0.477 | F1=0.492\n",
      "sad: Prec=0.386 | Rec=0.595 | F1=0.468\n",
      "surprise: Prec=0.651 | Rec=0.730 | F1=0.688\n",
      "\n",
      "Epoch Summary: Train Loss=1.1919 | Val Loss=1.1829 | Train Acc=0.548 | Val Acc=0.545\n",
      "Epoch time: 235.91 seconds\n",
      "\n",
      "Epoch 7/40\n"
     ]
    },
    {
     "name": "stderr",
     "output_type": "stream",
     "text": [
      "Training: 100%|██████████| 525/525 [02:55<00:00,  2.99it/s]\n",
      "Validation: 100%|██████████| 113/113 [00:17<00:00,  6.35it/s]\n"
     ]
    },
    {
     "name": "stdout",
     "output_type": "stream",
     "text": [
      "\n",
      "Validation Report:\n",
      "angry: Prec=0.413 | Rec=0.430 | F1=0.421\n",
      "disgust: Prec=0.072 | Rec=0.423 | F1=0.123\n",
      "fear: Prec=0.313 | Rec=0.174 | F1=0.223\n",
      "happy: Prec=0.790 | Rec=0.725 | F1=0.756\n",
      "neutral: Prec=0.565 | Rec=0.379 | F1=0.454\n",
      "sad: Prec=0.415 | Rec=0.416 | F1=0.415\n",
      "surprise: Prec=0.536 | Rec=0.806 | F1=0.644\n",
      "\n",
      "Epoch Summary: Train Loss=1.1867 | Val Loss=1.3653 | Train Acc=0.552 | Val Acc=0.499\n",
      "Epoch time: 193.56 seconds\n",
      "\n",
      "Epoch 8/40\n"
     ]
    },
    {
     "name": "stderr",
     "output_type": "stream",
     "text": [
      "Training: 100%|██████████| 525/525 [01:50<00:00,  4.74it/s]\n",
      "Validation: 100%|██████████| 113/113 [00:18<00:00,  6.12it/s]\n"
     ]
    },
    {
     "name": "stdout",
     "output_type": "stream",
     "text": [
      "\n",
      "Validation Report:\n",
      "angry: Prec=0.443 | Rec=0.500 | F1=0.470\n",
      "disgust: Prec=0.157 | Rec=0.243 | F1=0.191\n",
      "fear: Prec=0.385 | Rec=0.131 | F1=0.195\n",
      "happy: Prec=0.740 | Rec=0.818 | F1=0.777\n",
      "neutral: Prec=0.481 | Rec=0.564 | F1=0.519\n",
      "sad: Prec=0.443 | Rec=0.411 | F1=0.426\n",
      "surprise: Prec=0.622 | Rec=0.756 | F1=0.682\n",
      "\n",
      "Epoch Summary: Train Loss=1.1814 | Val Loss=1.2018 | Train Acc=0.554 | Val Acc=0.547\n",
      "Epoch time: 129.36 seconds\n",
      "\n",
      "Epoch 9/40\n"
     ]
    },
    {
     "name": "stderr",
     "output_type": "stream",
     "text": [
      "Training: 100%|██████████| 525/525 [01:50<00:00,  4.75it/s]\n",
      "Validation: 100%|██████████| 113/113 [00:18<00:00,  6.24it/s]\n"
     ]
    },
    {
     "name": "stdout",
     "output_type": "stream",
     "text": [
      "\n",
      "Validation Report:\n",
      "angry: Prec=0.492 | Rec=0.404 | F1=0.444\n",
      "disgust: Prec=0.185 | Rec=0.090 | F1=0.121\n",
      "fear: Prec=0.393 | Rec=0.185 | F1=0.251\n",
      "happy: Prec=0.768 | Rec=0.800 | F1=0.784\n",
      "neutral: Prec=0.528 | Rec=0.462 | F1=0.493\n",
      "sad: Prec=0.387 | Rec=0.601 | F1=0.470\n",
      "surprise: Prec=0.635 | Rec=0.758 | F1=0.691\n",
      "\n",
      "Epoch Summary: Train Loss=1.1754 | Val Loss=1.1778 | Train Acc=0.555 | Val Acc=0.551\n",
      "Epoch time: 128.64 seconds\n",
      "\n",
      "Epoch 10/40\n"
     ]
    },
    {
     "name": "stderr",
     "output_type": "stream",
     "text": [
      "Training: 100%|██████████| 525/525 [01:52<00:00,  4.67it/s]\n",
      "Validation: 100%|██████████| 113/113 [00:17<00:00,  6.35it/s]\n"
     ]
    },
    {
     "name": "stdout",
     "output_type": "stream",
     "text": [
      "\n",
      "Validation Report:\n",
      "angry: Prec=0.477 | Rec=0.396 | F1=0.433\n",
      "disgust: Prec=0.385 | Rec=0.090 | F1=0.146\n",
      "fear: Prec=0.377 | Rec=0.195 | F1=0.257\n",
      "happy: Prec=0.693 | Rec=0.852 | F1=0.764\n",
      "neutral: Prec=0.494 | Rec=0.531 | F1=0.512\n",
      "sad: Prec=0.411 | Rec=0.480 | F1=0.443\n",
      "surprise: Prec=0.685 | Rec=0.708 | F1=0.696\n",
      "\n",
      "Epoch Summary: Train Loss=1.1750 | Val Loss=1.1691 | Train Acc=0.556 | Val Acc=0.549\n",
      "Epoch time: 130.28 seconds\n",
      "\n",
      "Epoch 11/40\n"
     ]
    },
    {
     "name": "stderr",
     "output_type": "stream",
     "text": [
      "Training: 100%|██████████| 525/525 [01:49<00:00,  4.81it/s]\n",
      "Validation: 100%|██████████| 113/113 [00:17<00:00,  6.32it/s]\n"
     ]
    },
    {
     "name": "stdout",
     "output_type": "stream",
     "text": [
      "\n",
      "Validation Report:\n",
      "angry: Prec=0.457 | Rec=0.449 | F1=0.453\n",
      "disgust: Prec=0.130 | Rec=0.306 | F1=0.183\n",
      "fear: Prec=0.363 | Rec=0.200 | F1=0.258\n",
      "happy: Prec=0.678 | Rec=0.853 | F1=0.756\n",
      "neutral: Prec=0.549 | Rec=0.388 | F1=0.455\n",
      "sad: Prec=0.422 | Rec=0.420 | F1=0.421\n",
      "surprise: Prec=0.602 | Rec=0.771 | F1=0.677\n",
      "\n",
      "Epoch Summary: Train Loss=1.1744 | Val Loss=1.2325 | Train Acc=0.558 | Val Acc=0.533\n",
      "Epoch time: 127.07 seconds\n",
      "\n",
      "Epoch 12/40\n"
     ]
    },
    {
     "name": "stderr",
     "output_type": "stream",
     "text": [
      "Training: 100%|██████████| 525/525 [01:49<00:00,  4.81it/s]\n",
      "Validation: 100%|██████████| 113/113 [00:17<00:00,  6.33it/s]\n"
     ]
    },
    {
     "name": "stdout",
     "output_type": "stream",
     "text": [
      "\n",
      "Validation Report:\n",
      "angry: Prec=0.439 | Rec=0.479 | F1=0.458\n",
      "disgust: Prec=0.121 | Rec=0.198 | F1=0.150\n",
      "fear: Prec=0.377 | Rec=0.206 | F1=0.267\n",
      "happy: Prec=0.770 | Rec=0.793 | F1=0.781\n",
      "neutral: Prec=0.570 | Rec=0.405 | F1=0.473\n",
      "sad: Prec=0.395 | Rec=0.530 | F1=0.452\n",
      "surprise: Prec=0.631 | Rec=0.769 | F1=0.693\n",
      "\n",
      "Epoch Summary: Train Loss=1.1633 | Val Loss=1.2023 | Train Acc=0.559 | Val Acc=0.543\n",
      "Epoch time: 126.93 seconds\n",
      "\n",
      "Epoch 13/40\n"
     ]
    },
    {
     "name": "stderr",
     "output_type": "stream",
     "text": [
      "Training: 100%|██████████| 525/525 [01:47<00:00,  4.87it/s]\n",
      "Validation: 100%|██████████| 113/113 [00:17<00:00,  6.33it/s]\n"
     ]
    },
    {
     "name": "stdout",
     "output_type": "stream",
     "text": [
      "\n",
      "Validation Report:\n",
      "angry: Prec=0.493 | Rec=0.353 | F1=0.411\n",
      "disgust: Prec=0.241 | Rec=0.063 | F1=0.100\n",
      "fear: Prec=0.352 | Rec=0.140 | F1=0.200\n",
      "happy: Prec=0.709 | Rec=0.834 | F1=0.766\n",
      "neutral: Prec=0.458 | Rec=0.592 | F1=0.516\n",
      "sad: Prec=0.421 | Rec=0.415 | F1=0.418\n",
      "surprise: Prec=0.581 | Rec=0.801 | F1=0.674\n",
      "\n",
      "Epoch Summary: Train Loss=1.1598 | Val Loss=1.1817 | Train Acc=0.560 | Val Acc=0.541\n",
      "Epoch time: 125.70 seconds\n",
      "\n",
      "Epoch 14/40\n"
     ]
    },
    {
     "name": "stderr",
     "output_type": "stream",
     "text": [
      "Training: 100%|██████████| 525/525 [01:47<00:00,  4.88it/s]\n",
      "Validation: 100%|██████████| 113/113 [00:18<00:00,  6.26it/s]\n"
     ]
    },
    {
     "name": "stdout",
     "output_type": "stream",
     "text": [
      "\n",
      "Validation Report:\n",
      "angry: Prec=0.448 | Rec=0.413 | F1=0.430\n",
      "disgust: Prec=0.077 | Rec=0.423 | F1=0.130\n",
      "fear: Prec=0.454 | Rec=0.163 | F1=0.240\n",
      "happy: Prec=0.707 | Rec=0.812 | F1=0.756\n",
      "neutral: Prec=0.520 | Rec=0.506 | F1=0.513\n",
      "sad: Prec=0.449 | Rec=0.360 | F1=0.400\n",
      "surprise: Prec=0.594 | Rec=0.768 | F1=0.670\n",
      "\n",
      "Epoch Summary: Train Loss=1.1621 | Val Loss=1.3217 | Train Acc=0.560 | Val Acc=0.524\n",
      "Epoch time: 125.62 seconds\n",
      "\n",
      "Epoch 15/40\n"
     ]
    },
    {
     "name": "stderr",
     "output_type": "stream",
     "text": [
      "Training: 100%|██████████| 525/525 [01:48<00:00,  4.82it/s]\n",
      "Validation: 100%|██████████| 113/113 [00:18<00:00,  6.27it/s]\n"
     ]
    },
    {
     "name": "stdout",
     "output_type": "stream",
     "text": [
      "\n",
      "Validation Report:\n",
      "angry: Prec=0.490 | Rec=0.422 | F1=0.453\n",
      "disgust: Prec=0.273 | Rec=0.054 | F1=0.090\n",
      "fear: Prec=0.391 | Rec=0.145 | F1=0.211\n",
      "happy: Prec=0.741 | Rec=0.822 | F1=0.780\n",
      "neutral: Prec=0.525 | Rec=0.506 | F1=0.515\n",
      "sad: Prec=0.402 | Rec=0.601 | F1=0.482\n",
      "surprise: Prec=0.666 | Rec=0.747 | F1=0.704\n",
      "\n",
      "Epoch Summary: Train Loss=1.1587 | Val Loss=1.1538 | Train Acc=0.563 | Val Acc=0.559\n",
      "Epoch time: 126.96 seconds\n",
      "\n",
      "Epoch 16/40\n"
     ]
    },
    {
     "name": "stderr",
     "output_type": "stream",
     "text": [
      "Training: 100%|██████████| 525/525 [01:48<00:00,  4.86it/s]\n",
      "Validation: 100%|██████████| 113/113 [00:17<00:00,  6.32it/s]\n"
     ]
    },
    {
     "name": "stdout",
     "output_type": "stream",
     "text": [
      "\n",
      "Validation Report:\n",
      "angry: Prec=0.419 | Rec=0.527 | F1=0.467\n",
      "disgust: Prec=0.235 | Rec=0.144 | F1=0.179\n",
      "fear: Prec=0.377 | Rec=0.198 | F1=0.260\n",
      "happy: Prec=0.800 | Rec=0.773 | F1=0.786\n",
      "neutral: Prec=0.533 | Rec=0.498 | F1=0.515\n",
      "sad: Prec=0.417 | Rec=0.512 | F1=0.459\n",
      "surprise: Prec=0.658 | Rec=0.767 | F1=0.708\n",
      "\n",
      "Epoch Summary: Train Loss=1.1507 | Val Loss=1.1643 | Train Acc=0.566 | Val Acc=0.555\n",
      "Epoch time: 126.01 seconds\n",
      "\n",
      "Epoch 17/40\n"
     ]
    },
    {
     "name": "stderr",
     "output_type": "stream",
     "text": [
      "Training: 100%|██████████| 525/525 [01:48<00:00,  4.83it/s]\n",
      "Validation: 100%|██████████| 113/113 [00:17<00:00,  6.32it/s]\n"
     ]
    },
    {
     "name": "stdout",
     "output_type": "stream",
     "text": [
      "\n",
      "Validation Report:\n",
      "angry: Prec=0.450 | Rec=0.476 | F1=0.462\n",
      "disgust: Prec=0.326 | Rec=0.135 | F1=0.191\n",
      "fear: Prec=0.385 | Rec=0.121 | F1=0.184\n",
      "happy: Prec=0.697 | Rec=0.840 | F1=0.762\n",
      "neutral: Prec=0.511 | Rec=0.526 | F1=0.519\n",
      "sad: Prec=0.430 | Rec=0.442 | F1=0.436\n",
      "surprise: Prec=0.595 | Rec=0.795 | F1=0.681\n",
      "\n",
      "Epoch Summary: Train Loss=1.1468 | Val Loss=1.1648 | Train Acc=0.568 | Val Acc=0.550\n",
      "Epoch time: 126.69 seconds\n",
      "\n",
      "Epoch 18/40\n"
     ]
    },
    {
     "name": "stderr",
     "output_type": "stream",
     "text": [
      "Training: 100%|██████████| 525/525 [01:47<00:00,  4.86it/s]\n",
      "Validation: 100%|██████████| 113/113 [00:17<00:00,  6.31it/s]\n"
     ]
    },
    {
     "name": "stdout",
     "output_type": "stream",
     "text": [
      "\n",
      "Validation Report:\n",
      "angry: Prec=0.472 | Rec=0.384 | F1=0.423\n",
      "disgust: Prec=0.093 | Rec=0.387 | F1=0.150\n",
      "fear: Prec=0.387 | Rec=0.203 | F1=0.266\n",
      "happy: Prec=0.759 | Rec=0.806 | F1=0.782\n",
      "neutral: Prec=0.506 | Rec=0.550 | F1=0.527\n",
      "sad: Prec=0.443 | Rec=0.387 | F1=0.413\n",
      "surprise: Prec=0.598 | Rec=0.781 | F1=0.677\n",
      "\n",
      "Epoch Summary: Train Loss=1.1469 | Val Loss=1.2621 | Train Acc=0.568 | Val Acc=0.537\n",
      "Epoch time: 125.91 seconds\n",
      "\n",
      "Epoch 19/40\n"
     ]
    },
    {
     "name": "stderr",
     "output_type": "stream",
     "text": [
      "Training: 100%|██████████| 525/525 [01:48<00:00,  4.83it/s]\n",
      "Validation: 100%|██████████| 113/113 [00:17<00:00,  6.30it/s]\n"
     ]
    },
    {
     "name": "stdout",
     "output_type": "stream",
     "text": [
      "\n",
      "Validation Report:\n",
      "angry: Prec=0.470 | Rec=0.437 | F1=0.453\n",
      "disgust: Prec=0.193 | Rec=0.144 | F1=0.165\n",
      "fear: Prec=0.414 | Rec=0.148 | F1=0.219\n",
      "happy: Prec=0.733 | Rec=0.838 | F1=0.782\n",
      "neutral: Prec=0.489 | Rec=0.604 | F1=0.540\n",
      "sad: Prec=0.429 | Rec=0.468 | F1=0.447\n",
      "surprise: Prec=0.670 | Rec=0.746 | F1=0.706\n",
      "\n",
      "Epoch Summary: Train Loss=1.1405 | Val Loss=1.1506 | Train Acc=0.567 | Val Acc=0.560\n",
      "Epoch time: 126.59 seconds\n",
      "\n",
      "Epoch 20/40\n"
     ]
    },
    {
     "name": "stderr",
     "output_type": "stream",
     "text": [
      "Training: 100%|██████████| 525/525 [01:50<00:00,  4.73it/s]\n",
      "Validation: 100%|██████████| 113/113 [00:18<00:00,  6.16it/s]\n"
     ]
    },
    {
     "name": "stdout",
     "output_type": "stream",
     "text": [
      "\n",
      "Validation Report:\n",
      "angry: Prec=0.466 | Rec=0.418 | F1=0.440\n",
      "disgust: Prec=0.107 | Rec=0.261 | F1=0.152\n",
      "fear: Prec=0.376 | Rec=0.152 | F1=0.217\n",
      "happy: Prec=0.816 | Rec=0.759 | F1=0.787\n",
      "neutral: Prec=0.529 | Rec=0.487 | F1=0.507\n",
      "sad: Prec=0.413 | Rec=0.512 | F1=0.457\n",
      "surprise: Prec=0.538 | Rec=0.840 | F1=0.656\n",
      "\n",
      "Epoch Summary: Train Loss=1.1371 | Val Loss=1.2201 | Train Acc=0.574 | Val Acc=0.539\n",
      "Epoch time: 129.36 seconds\n",
      "\n",
      "Epoch 21/40\n"
     ]
    },
    {
     "name": "stderr",
     "output_type": "stream",
     "text": [
      "Training: 100%|██████████| 525/525 [01:56<00:00,  4.51it/s]\n",
      "Validation: 100%|██████████| 113/113 [00:18<00:00,  6.19it/s]\n"
     ]
    },
    {
     "name": "stdout",
     "output_type": "stream",
     "text": [
      "\n",
      "Validation Report:\n",
      "angry: Prec=0.448 | Rec=0.482 | F1=0.464\n",
      "disgust: Prec=0.268 | Rec=0.135 | F1=0.180\n",
      "fear: Prec=0.391 | Rec=0.146 | F1=0.212\n",
      "happy: Prec=0.785 | Rec=0.804 | F1=0.794\n",
      "neutral: Prec=0.576 | Rec=0.435 | F1=0.495\n",
      "sad: Prec=0.389 | Rec=0.579 | F1=0.466\n",
      "surprise: Prec=0.603 | Rec=0.803 | F1=0.688\n",
      "\n",
      "Epoch Summary: Train Loss=1.1382 | Val Loss=1.1603 | Train Acc=0.574 | Val Acc=0.554\n",
      "Epoch time: 134.62 seconds\n",
      "\n",
      "Epoch 22/40\n"
     ]
    },
    {
     "name": "stderr",
     "output_type": "stream",
     "text": [
      "Training: 100%|██████████| 525/525 [01:50<00:00,  4.75it/s]\n",
      "Validation: 100%|██████████| 113/113 [00:18<00:00,  6.27it/s]\n"
     ]
    },
    {
     "name": "stdout",
     "output_type": "stream",
     "text": [
      "\n",
      "Validation Report:\n",
      "angry: Prec=0.477 | Rec=0.475 | F1=0.476\n",
      "disgust: Prec=0.346 | Rec=0.081 | F1=0.131\n",
      "fear: Prec=0.411 | Rec=0.165 | F1=0.236\n",
      "happy: Prec=0.780 | Rec=0.802 | F1=0.791\n",
      "neutral: Prec=0.538 | Rec=0.501 | F1=0.519\n",
      "sad: Prec=0.390 | Rec=0.573 | F1=0.464\n",
      "surprise: Prec=0.649 | Rec=0.770 | F1=0.704\n",
      "\n",
      "Epoch Summary: Train Loss=1.1359 | Val Loss=1.1417 | Train Acc=0.571 | Val Acc=0.561\n",
      "Epoch time: 128.60 seconds\n",
      "\n",
      "Epoch 23/40\n"
     ]
    },
    {
     "name": "stderr",
     "output_type": "stream",
     "text": [
      "Training: 100%|██████████| 525/525 [01:55<00:00,  4.56it/s]\n",
      "Validation: 100%|██████████| 113/113 [00:40<00:00,  2.81it/s]\n"
     ]
    },
    {
     "name": "stdout",
     "output_type": "stream",
     "text": [
      "\n",
      "Validation Report:\n",
      "angry: Prec=0.532 | Rec=0.363 | F1=0.432\n",
      "disgust: Prec=0.333 | Rec=0.171 | F1=0.226\n",
      "fear: Prec=0.416 | Rec=0.158 | F1=0.229\n",
      "happy: Prec=0.764 | Rec=0.821 | F1=0.791\n",
      "neutral: Prec=0.433 | Rec=0.686 | F1=0.531\n",
      "sad: Prec=0.428 | Rec=0.441 | F1=0.434\n",
      "surprise: Prec=0.670 | Rec=0.751 | F1=0.708\n",
      "\n",
      "Epoch Summary: Train Loss=1.1329 | Val Loss=1.1463 | Train Acc=0.572 | Val Acc=0.558\n",
      "Epoch time: 155.37 seconds\n",
      "\n",
      "Epoch 24/40\n"
     ]
    },
    {
     "name": "stderr",
     "output_type": "stream",
     "text": [
      "Training: 100%|██████████| 525/525 [01:48<00:00,  4.82it/s]\n",
      "Validation: 100%|██████████| 113/113 [00:17<00:00,  6.33it/s]\n"
     ]
    },
    {
     "name": "stdout",
     "output_type": "stream",
     "text": [
      "\n",
      "Validation Report:\n",
      "angry: Prec=0.554 | Rec=0.356 | F1=0.434\n",
      "disgust: Prec=0.310 | Rec=0.117 | F1=0.170\n",
      "fear: Prec=0.430 | Rec=0.161 | F1=0.234\n",
      "happy: Prec=0.669 | Rec=0.883 | F1=0.761\n",
      "neutral: Prec=0.483 | Rec=0.609 | F1=0.539\n",
      "sad: Prec=0.424 | Rec=0.456 | F1=0.439\n",
      "surprise: Prec=0.680 | Rec=0.734 | F1=0.706\n",
      "\n",
      "Epoch Summary: Train Loss=1.1320 | Val Loss=1.1613 | Train Acc=0.570 | Val Acc=0.559\n",
      "Epoch time: 126.86 seconds\n",
      "\n",
      "Epoch 25/40\n"
     ]
    },
    {
     "name": "stderr",
     "output_type": "stream",
     "text": [
      "Training: 100%|██████████| 525/525 [01:47<00:00,  4.90it/s]\n",
      "Validation: 100%|██████████| 113/113 [00:17<00:00,  6.36it/s]\n"
     ]
    },
    {
     "name": "stdout",
     "output_type": "stream",
     "text": [
      "\n",
      "Validation Report:\n",
      "angry: Prec=0.503 | Rec=0.376 | F1=0.430\n",
      "disgust: Prec=0.153 | Rec=0.261 | F1=0.193\n",
      "fear: Prec=0.414 | Rec=0.177 | F1=0.248\n",
      "happy: Prec=0.732 | Rec=0.844 | F1=0.784\n",
      "neutral: Prec=0.514 | Rec=0.534 | F1=0.524\n",
      "sad: Prec=0.435 | Rec=0.492 | F1=0.462\n",
      "surprise: Prec=0.604 | Rec=0.798 | F1=0.687\n",
      "\n",
      "Epoch Summary: Train Loss=1.1250 | Val Loss=1.1841 | Train Acc=0.574 | Val Acc=0.558\n",
      "Epoch time: 125.04 seconds\n",
      "\n",
      "Epoch 26/40\n"
     ]
    },
    {
     "name": "stderr",
     "output_type": "stream",
     "text": [
      "Training: 100%|██████████| 525/525 [01:53<00:00,  4.62it/s]\n",
      "Validation: 100%|██████████| 113/113 [00:18<00:00,  6.25it/s]\n"
     ]
    },
    {
     "name": "stdout",
     "output_type": "stream",
     "text": [
      "\n",
      "Validation Report:\n",
      "angry: Prec=0.486 | Rec=0.448 | F1=0.466\n",
      "disgust: Prec=0.279 | Rec=0.279 | F1=0.279\n",
      "fear: Prec=0.422 | Rec=0.195 | F1=0.267\n",
      "happy: Prec=0.808 | Rec=0.789 | F1=0.798\n",
      "neutral: Prec=0.517 | Rec=0.547 | F1=0.531\n",
      "sad: Prec=0.408 | Rec=0.586 | F1=0.481\n",
      "surprise: Prec=0.687 | Rec=0.728 | F1=0.707\n",
      "\n",
      "Epoch Summary: Train Loss=1.1258 | Val Loss=1.1339 | Train Acc=0.574 | Val Acc=0.567\n",
      "Epoch time: 131.71 seconds\n",
      "\n",
      "Epoch 27/40\n"
     ]
    },
    {
     "name": "stderr",
     "output_type": "stream",
     "text": [
      "Training: 100%|██████████| 525/525 [01:53<00:00,  4.64it/s]\n",
      "Validation: 100%|██████████| 113/113 [00:18<00:00,  6.28it/s]\n"
     ]
    },
    {
     "name": "stdout",
     "output_type": "stream",
     "text": [
      "\n",
      "Validation Report:\n",
      "angry: Prec=0.520 | Rec=0.363 | F1=0.428\n",
      "disgust: Prec=0.201 | Rec=0.243 | F1=0.220\n",
      "fear: Prec=0.437 | Rec=0.165 | F1=0.240\n",
      "happy: Prec=0.780 | Rec=0.816 | F1=0.797\n",
      "neutral: Prec=0.480 | Rec=0.594 | F1=0.531\n",
      "sad: Prec=0.399 | Rec=0.597 | F1=0.478\n",
      "surprise: Prec=0.741 | Rec=0.658 | F1=0.697\n",
      "\n",
      "Epoch Summary: Train Loss=1.1250 | Val Loss=1.1526 | Train Acc=0.573 | Val Acc=0.559\n",
      "Epoch time: 131.14 seconds\n",
      "\n",
      "Epoch 28/40\n"
     ]
    },
    {
     "name": "stderr",
     "output_type": "stream",
     "text": [
      "Training: 100%|██████████| 525/525 [01:49<00:00,  4.78it/s]\n",
      "Validation: 100%|██████████| 113/113 [00:17<00:00,  6.32it/s]\n"
     ]
    },
    {
     "name": "stdout",
     "output_type": "stream",
     "text": [
      "\n",
      "Validation Report:\n",
      "angry: Prec=0.452 | Rec=0.467 | F1=0.459\n",
      "disgust: Prec=0.103 | Rec=0.261 | F1=0.148\n",
      "fear: Prec=0.358 | Rec=0.196 | F1=0.254\n",
      "happy: Prec=0.737 | Rec=0.818 | F1=0.776\n",
      "neutral: Prec=0.539 | Rec=0.508 | F1=0.523\n",
      "sad: Prec=0.461 | Rec=0.369 | F1=0.410\n",
      "surprise: Prec=0.564 | Rec=0.828 | F1=0.671\n",
      "\n",
      "Epoch Summary: Train Loss=1.1216 | Val Loss=1.2192 | Train Acc=0.575 | Val Acc=0.544\n",
      "Epoch time: 127.84 seconds\n",
      "\n",
      "Epoch 29/40\n"
     ]
    },
    {
     "name": "stderr",
     "output_type": "stream",
     "text": [
      "Training: 100%|██████████| 525/525 [01:53<00:00,  4.62it/s]\n",
      "Validation: 100%|██████████| 113/113 [00:18<00:00,  6.06it/s]\n"
     ]
    },
    {
     "name": "stdout",
     "output_type": "stream",
     "text": [
      "\n",
      "Validation Report:\n",
      "angry: Prec=0.513 | Rec=0.421 | F1=0.462\n",
      "disgust: Prec=0.237 | Rec=0.171 | F1=0.199\n",
      "fear: Prec=0.401 | Rec=0.240 | F1=0.300\n",
      "happy: Prec=0.768 | Rec=0.829 | F1=0.798\n",
      "neutral: Prec=0.543 | Rec=0.514 | F1=0.528\n",
      "sad: Prec=0.404 | Rec=0.601 | F1=0.483\n",
      "surprise: Prec=0.740 | Rec=0.677 | F1=0.707\n",
      "\n",
      "Epoch Summary: Train Loss=1.1154 | Val Loss=1.1334 | Train Acc=0.579 | Val Acc=0.569\n",
      "Epoch time: 132.24 seconds\n",
      "\n",
      "Epoch 30/40\n"
     ]
    },
    {
     "name": "stderr",
     "output_type": "stream",
     "text": [
      "Training: 100%|██████████| 525/525 [01:50<00:00,  4.77it/s]\n",
      "Validation: 100%|██████████| 113/113 [00:17<00:00,  6.31it/s]\n"
     ]
    },
    {
     "name": "stdout",
     "output_type": "stream",
     "text": [
      "\n",
      "Validation Report:\n",
      "angry: Prec=0.461 | Rec=0.486 | F1=0.473\n",
      "disgust: Prec=0.178 | Rec=0.234 | F1=0.202\n",
      "fear: Prec=0.405 | Rec=0.218 | F1=0.283\n",
      "happy: Prec=0.749 | Rec=0.836 | F1=0.790\n",
      "neutral: Prec=0.542 | Rec=0.511 | F1=0.526\n",
      "sad: Prec=0.429 | Rec=0.510 | F1=0.466\n",
      "surprise: Prec=0.700 | Rec=0.712 | F1=0.706\n",
      "\n",
      "Epoch Summary: Train Loss=1.1185 | Val Loss=1.1450 | Train Acc=0.577 | Val Acc=0.565\n",
      "Epoch time: 128.08 seconds\n",
      "\n",
      "Epoch 31/40\n"
     ]
    },
    {
     "name": "stderr",
     "output_type": "stream",
     "text": [
      "Training: 100%|██████████| 525/525 [01:54<00:00,  4.60it/s]\n",
      "Validation: 100%|██████████| 113/113 [00:17<00:00,  6.29it/s]\n"
     ]
    },
    {
     "name": "stdout",
     "output_type": "stream",
     "text": [
      "\n",
      "Validation Report:\n",
      "angry: Prec=0.454 | Rec=0.500 | F1=0.476\n",
      "disgust: Prec=0.237 | Rec=0.243 | F1=0.240\n",
      "fear: Prec=0.398 | Rec=0.205 | F1=0.271\n",
      "happy: Prec=0.732 | Rec=0.835 | F1=0.780\n",
      "neutral: Prec=0.491 | Rec=0.611 | F1=0.544\n",
      "sad: Prec=0.479 | Rec=0.327 | F1=0.389\n",
      "surprise: Prec=0.625 | Rec=0.809 | F1=0.705\n",
      "\n",
      "Epoch Summary: Train Loss=1.1133 | Val Loss=1.1557 | Train Acc=0.577 | Val Acc=0.562\n",
      "Epoch time: 132.05 seconds\n",
      "\n",
      "Epoch 32/40\n"
     ]
    },
    {
     "name": "stderr",
     "output_type": "stream",
     "text": [
      "Training: 100%|██████████| 525/525 [01:52<00:00,  4.68it/s]\n",
      "Validation: 100%|██████████| 113/113 [00:18<00:00,  6.24it/s]\n"
     ]
    },
    {
     "name": "stdout",
     "output_type": "stream",
     "text": [
      "\n",
      "Validation Report:\n",
      "angry: Prec=0.467 | Rec=0.510 | F1=0.488\n",
      "disgust: Prec=0.217 | Rec=0.135 | F1=0.167\n",
      "fear: Prec=0.422 | Rec=0.166 | F1=0.238\n",
      "happy: Prec=0.771 | Rec=0.829 | F1=0.799\n",
      "neutral: Prec=0.483 | Rec=0.637 | F1=0.549\n",
      "sad: Prec=0.467 | Rec=0.403 | F1=0.433\n",
      "surprise: Prec=0.636 | Rec=0.799 | F1=0.708\n",
      "\n",
      "Epoch Summary: Train Loss=1.1131 | Val Loss=1.1333 | Train Acc=0.581 | Val Acc=0.571\n",
      "Epoch time: 130.20 seconds\n",
      "\n",
      "Epoch 33/40\n"
     ]
    },
    {
     "name": "stderr",
     "output_type": "stream",
     "text": [
      "Training: 100%|██████████| 525/525 [01:53<00:00,  4.62it/s]\n",
      "Validation: 100%|██████████| 113/113 [00:17<00:00,  6.35it/s]\n"
     ]
    },
    {
     "name": "stdout",
     "output_type": "stream",
     "text": [
      "\n",
      "Validation Report:\n",
      "angry: Prec=0.534 | Rec=0.378 | F1=0.443\n",
      "disgust: Prec=0.293 | Rec=0.198 | F1=0.237\n",
      "fear: Prec=0.394 | Rec=0.256 | F1=0.310\n",
      "happy: Prec=0.755 | Rec=0.834 | F1=0.792\n",
      "neutral: Prec=0.556 | Rec=0.499 | F1=0.526\n",
      "sad: Prec=0.400 | Rec=0.585 | F1=0.475\n",
      "surprise: Prec=0.708 | Rec=0.741 | F1=0.724\n",
      "\n",
      "Epoch Summary: Train Loss=1.1111 | Val Loss=1.1282 | Train Acc=0.582 | Val Acc=0.569\n",
      "Epoch time: 131.47 seconds\n",
      "\n",
      "Epoch 34/40\n"
     ]
    },
    {
     "name": "stderr",
     "output_type": "stream",
     "text": [
      "Training: 100%|██████████| 525/525 [01:50<00:00,  4.73it/s]\n",
      "Validation: 100%|██████████| 113/113 [00:17<00:00,  6.32it/s]\n"
     ]
    },
    {
     "name": "stdout",
     "output_type": "stream",
     "text": [
      "\n",
      "Validation Report:\n",
      "angry: Prec=0.476 | Rec=0.475 | F1=0.476\n",
      "disgust: Prec=0.192 | Rec=0.306 | F1=0.236\n",
      "fear: Prec=0.414 | Rec=0.166 | F1=0.237\n",
      "happy: Prec=0.791 | Rec=0.803 | F1=0.797\n",
      "neutral: Prec=0.522 | Rec=0.563 | F1=0.542\n",
      "sad: Prec=0.432 | Rec=0.502 | F1=0.465\n",
      "surprise: Prec=0.625 | Rec=0.795 | F1=0.700\n",
      "\n",
      "Epoch Summary: Train Loss=1.1032 | Val Loss=1.1445 | Train Acc=0.582 | Val Acc=0.566\n",
      "Epoch time: 128.77 seconds\n",
      "\n",
      "Epoch 35/40\n"
     ]
    },
    {
     "name": "stderr",
     "output_type": "stream",
     "text": [
      "Training: 100%|██████████| 525/525 [01:52<00:00,  4.68it/s]\n",
      "Validation: 100%|██████████| 113/113 [00:17<00:00,  6.30it/s]\n"
     ]
    },
    {
     "name": "stdout",
     "output_type": "stream",
     "text": [
      "\n",
      "Validation Report:\n",
      "angry: Prec=0.496 | Rec=0.416 | F1=0.453\n",
      "disgust: Prec=0.310 | Rec=0.162 | F1=0.213\n",
      "fear: Prec=0.418 | Rec=0.195 | F1=0.266\n",
      "happy: Prec=0.765 | Rec=0.829 | F1=0.796\n",
      "neutral: Prec=0.483 | Rec=0.616 | F1=0.542\n",
      "sad: Prec=0.431 | Rec=0.523 | F1=0.472\n",
      "surprise: Prec=0.720 | Rec=0.717 | F1=0.719\n",
      "\n",
      "Epoch Summary: Train Loss=1.1057 | Val Loss=1.1229 | Train Acc=0.583 | Val Acc=0.571\n",
      "Epoch time: 130.22 seconds\n",
      "\n",
      "Epoch 36/40\n"
     ]
    },
    {
     "name": "stderr",
     "output_type": "stream",
     "text": [
      "Training: 100%|██████████| 525/525 [01:52<00:00,  4.69it/s]\n",
      "Validation: 100%|██████████| 113/113 [14:43<00:00,  7.82s/it]  \n"
     ]
    },
    {
     "name": "stdout",
     "output_type": "stream",
     "text": [
      "\n",
      "Validation Report:\n",
      "angry: Prec=0.488 | Rec=0.466 | F1=0.476\n",
      "disgust: Prec=0.230 | Rec=0.288 | F1=0.256\n",
      "fear: Prec=0.451 | Rec=0.163 | F1=0.240\n",
      "happy: Prec=0.693 | Rec=0.877 | F1=0.774\n",
      "neutral: Prec=0.535 | Rec=0.533 | F1=0.534\n",
      "sad: Prec=0.436 | Rec=0.487 | F1=0.460\n",
      "surprise: Prec=0.693 | Rec=0.742 | F1=0.717\n",
      "\n",
      "Epoch Summary: Train Loss=1.1030 | Val Loss=1.1416 | Train Acc=0.583 | Val Acc=0.569\n",
      "Epoch time: 995.49 seconds\n",
      "\n",
      "Epoch 37/40\n"
     ]
    },
    {
     "name": "stderr",
     "output_type": "stream",
     "text": [
      "Training: 100%|██████████| 525/525 [01:47<00:00,  4.89it/s]\n",
      "Validation: 100%|██████████| 113/113 [00:17<00:00,  6.32it/s]\n"
     ]
    },
    {
     "name": "stdout",
     "output_type": "stream",
     "text": [
      "\n",
      "Validation Report:\n",
      "angry: Prec=0.511 | Rec=0.435 | F1=0.470\n",
      "disgust: Prec=0.194 | Rec=0.297 | F1=0.235\n",
      "fear: Prec=0.459 | Rec=0.159 | F1=0.236\n",
      "happy: Prec=0.719 | Rec=0.871 | F1=0.788\n",
      "neutral: Prec=0.493 | Rec=0.577 | F1=0.532\n",
      "sad: Prec=0.432 | Rec=0.480 | F1=0.455\n",
      "surprise: Prec=0.703 | Rec=0.727 | F1=0.715\n",
      "\n",
      "Epoch Summary: Train Loss=1.1027 | Val Loss=1.1513 | Train Acc=0.584 | Val Acc=0.567\n",
      "Epoch time: 125.37 seconds\n",
      "\n",
      "Epoch 38/40\n"
     ]
    },
    {
     "name": "stderr",
     "output_type": "stream",
     "text": [
      "Training: 100%|██████████| 525/525 [01:47<00:00,  4.89it/s]\n",
      "Validation: 100%|██████████| 113/113 [00:17<00:00,  6.32it/s]\n"
     ]
    },
    {
     "name": "stdout",
     "output_type": "stream",
     "text": [
      "\n",
      "Validation Report:\n",
      "angry: Prec=0.547 | Rec=0.395 | F1=0.458\n",
      "disgust: Prec=0.328 | Rec=0.180 | F1=0.233\n",
      "fear: Prec=0.400 | Rec=0.245 | F1=0.304\n",
      "happy: Prec=0.743 | Rec=0.850 | F1=0.793\n",
      "neutral: Prec=0.542 | Rec=0.510 | F1=0.526\n",
      "sad: Prec=0.415 | Rec=0.551 | F1=0.473\n",
      "surprise: Prec=0.671 | Rec=0.770 | F1=0.717\n",
      "\n",
      "Epoch Summary: Train Loss=1.0934 | Val Loss=1.1202 | Train Acc=0.592 | Val Acc=0.573\n",
      "Epoch time: 125.29 seconds\n",
      "\n",
      "Epoch 39/40\n"
     ]
    },
    {
     "name": "stderr",
     "output_type": "stream",
     "text": [
      "Training: 100%|██████████| 525/525 [01:46<00:00,  4.92it/s]\n",
      "Validation: 100%|██████████| 113/113 [00:17<00:00,  6.34it/s]\n"
     ]
    },
    {
     "name": "stdout",
     "output_type": "stream",
     "text": [
      "\n",
      "Validation Report:\n",
      "angry: Prec=0.526 | Rec=0.426 | F1=0.471\n",
      "disgust: Prec=0.172 | Rec=0.306 | F1=0.220\n",
      "fear: Prec=0.424 | Rec=0.214 | F1=0.284\n",
      "happy: Prec=0.767 | Rec=0.838 | F1=0.801\n",
      "neutral: Prec=0.538 | Rec=0.542 | F1=0.540\n",
      "sad: Prec=0.427 | Rec=0.550 | F1=0.481\n",
      "surprise: Prec=0.688 | Rec=0.750 | F1=0.717\n",
      "\n",
      "Epoch Summary: Train Loss=1.0967 | Val Loss=1.1405 | Train Acc=0.585 | Val Acc=0.575\n",
      "Epoch time: 124.57 seconds\n",
      "\n",
      "Epoch 40/40\n"
     ]
    },
    {
     "name": "stderr",
     "output_type": "stream",
     "text": [
      "Training: 100%|██████████| 525/525 [01:46<00:00,  4.93it/s]\n",
      "Validation: 100%|██████████| 113/113 [00:17<00:00,  6.40it/s]"
     ]
    },
    {
     "name": "stdout",
     "output_type": "stream",
     "text": [
      "\n",
      "Validation Report:\n",
      "angry: Prec=0.503 | Rec=0.434 | F1=0.466\n",
      "disgust: Prec=0.228 | Rec=0.207 | F1=0.217\n",
      "fear: Prec=0.448 | Rec=0.237 | F1=0.310\n",
      "happy: Prec=0.769 | Rec=0.834 | F1=0.800\n",
      "neutral: Prec=0.531 | Rec=0.504 | F1=0.517\n",
      "sad: Prec=0.411 | Rec=0.630 | F1=0.498\n",
      "surprise: Prec=0.777 | Rec=0.661 | F1=0.714\n",
      "\n",
      "Epoch Summary: Train Loss=1.0947 | Val Loss=1.1291 | Train Acc=0.588 | Val Acc=0.574\n",
      "Epoch time: 124.18 seconds\n",
      "Saved model to 'results/resnet_final_model.pth'\n"
     ]
    },
    {
     "name": "stderr",
     "output_type": "stream",
     "text": [
      "\n"
     ]
    },
    {
     "data": {
      "text/html": [
       "<div>\n",
       "<style scoped>\n",
       "    .dataframe tbody tr th:only-of-type {\n",
       "        vertical-align: middle;\n",
       "    }\n",
       "\n",
       "    .dataframe tbody tr th {\n",
       "        vertical-align: top;\n",
       "    }\n",
       "\n",
       "    .dataframe thead th {\n",
       "        text-align: right;\n",
       "    }\n",
       "</style>\n",
       "<table border=\"1\" class=\"dataframe\">\n",
       "  <thead>\n",
       "    <tr style=\"text-align: right;\">\n",
       "      <th></th>\n",
       "      <th>epoch</th>\n",
       "      <th>train_loss</th>\n",
       "      <th>val_loss</th>\n",
       "      <th>train_acc</th>\n",
       "      <th>val_acc</th>\n",
       "      <th>val_f1_macro</th>\n",
       "      <th>epoch_time_sec</th>\n",
       "      <th>angry_precision</th>\n",
       "      <th>angry_recall</th>\n",
       "      <th>angry_f1-score</th>\n",
       "      <th>...</th>\n",
       "      <th>happy_f1-score</th>\n",
       "      <th>neutral_precision</th>\n",
       "      <th>neutral_recall</th>\n",
       "      <th>neutral_f1-score</th>\n",
       "      <th>sad_precision</th>\n",
       "      <th>sad_recall</th>\n",
       "      <th>sad_f1-score</th>\n",
       "      <th>surprise_precision</th>\n",
       "      <th>surprise_recall</th>\n",
       "      <th>surprise_f1-score</th>\n",
       "    </tr>\n",
       "  </thead>\n",
       "  <tbody>\n",
       "    <tr>\n",
       "      <th>0</th>\n",
       "      <td>1</td>\n",
       "      <td>1.216959</td>\n",
       "      <td>1.268423</td>\n",
       "      <td>0.542789</td>\n",
       "      <td>0.526052</td>\n",
       "      <td>0.440376</td>\n",
       "      <td>140.203723</td>\n",
       "      <td>0.455120</td>\n",
       "      <td>0.375783</td>\n",
       "      <td>0.411664</td>\n",
       "      <td>...</td>\n",
       "      <td>0.723734</td>\n",
       "      <td>0.484243</td>\n",
       "      <td>0.510949</td>\n",
       "      <td>0.497238</td>\n",
       "      <td>0.456543</td>\n",
       "      <td>0.383320</td>\n",
       "      <td>0.416739</td>\n",
       "      <td>0.599412</td>\n",
       "      <td>0.736462</td>\n",
       "      <td>0.660907</td>\n",
       "    </tr>\n",
       "    <tr>\n",
       "      <th>1</th>\n",
       "      <td>2</td>\n",
       "      <td>1.212064</td>\n",
       "      <td>1.207508</td>\n",
       "      <td>0.541837</td>\n",
       "      <td>0.538451</td>\n",
       "      <td>0.467867</td>\n",
       "      <td>152.833991</td>\n",
       "      <td>0.464329</td>\n",
       "      <td>0.400835</td>\n",
       "      <td>0.430252</td>\n",
       "      <td>...</td>\n",
       "      <td>0.768069</td>\n",
       "      <td>0.518712</td>\n",
       "      <td>0.483374</td>\n",
       "      <td>0.500420</td>\n",
       "      <td>0.389080</td>\n",
       "      <td>0.542903</td>\n",
       "      <td>0.453298</td>\n",
       "      <td>0.656983</td>\n",
       "      <td>0.707581</td>\n",
       "      <td>0.681344</td>\n",
       "    </tr>\n",
       "    <tr>\n",
       "      <th>2</th>\n",
       "      <td>3</td>\n",
       "      <td>1.202997</td>\n",
       "      <td>1.202878</td>\n",
       "      <td>0.548326</td>\n",
       "      <td>0.541655</td>\n",
       "      <td>0.471953</td>\n",
       "      <td>178.470936</td>\n",
       "      <td>0.501401</td>\n",
       "      <td>0.373695</td>\n",
       "      <td>0.428230</td>\n",
       "      <td>...</td>\n",
       "      <td>0.767790</td>\n",
       "      <td>0.467399</td>\n",
       "      <td>0.552311</td>\n",
       "      <td>0.506320</td>\n",
       "      <td>0.410169</td>\n",
       "      <td>0.485164</td>\n",
       "      <td>0.444526</td>\n",
       "      <td>0.640084</td>\n",
       "      <td>0.734055</td>\n",
       "      <td>0.683857</td>\n",
       "    </tr>\n",
       "    <tr>\n",
       "      <th>3</th>\n",
       "      <td>4</td>\n",
       "      <td>1.200829</td>\n",
       "      <td>1.414973</td>\n",
       "      <td>0.547462</td>\n",
       "      <td>0.490387</td>\n",
       "      <td>0.415072</td>\n",
       "      <td>170.217821</td>\n",
       "      <td>0.427196</td>\n",
       "      <td>0.370564</td>\n",
       "      <td>0.396870</td>\n",
       "      <td>...</td>\n",
       "      <td>0.743122</td>\n",
       "      <td>0.523605</td>\n",
       "      <td>0.395783</td>\n",
       "      <td>0.450808</td>\n",
       "      <td>0.452643</td>\n",
       "      <td>0.329591</td>\n",
       "      <td>0.381439</td>\n",
       "      <td>0.471850</td>\n",
       "      <td>0.847172</td>\n",
       "      <td>0.606113</td>\n",
       "    </tr>\n",
       "    <tr>\n",
       "      <th>4</th>\n",
       "      <td>5</td>\n",
       "      <td>1.195251</td>\n",
       "      <td>1.242476</td>\n",
       "      <td>0.546361</td>\n",
       "      <td>0.532739</td>\n",
       "      <td>0.463486</td>\n",
       "      <td>188.123361</td>\n",
       "      <td>0.465738</td>\n",
       "      <td>0.418580</td>\n",
       "      <td>0.440902</td>\n",
       "      <td>...</td>\n",
       "      <td>0.771365</td>\n",
       "      <td>0.552072</td>\n",
       "      <td>0.399838</td>\n",
       "      <td>0.463782</td>\n",
       "      <td>0.383978</td>\n",
       "      <td>0.557338</td>\n",
       "      <td>0.454694</td>\n",
       "      <td>0.606936</td>\n",
       "      <td>0.758123</td>\n",
       "      <td>0.674157</td>\n",
       "    </tr>\n",
       "  </tbody>\n",
       "</table>\n",
       "<p>5 rows × 28 columns</p>\n",
       "</div>"
      ],
      "text/plain": [
       "   epoch  train_loss  val_loss  train_acc   val_acc  val_f1_macro  \\\n",
       "0      1    1.216959  1.268423   0.542789  0.526052      0.440376   \n",
       "1      2    1.212064  1.207508   0.541837  0.538451      0.467867   \n",
       "2      3    1.202997  1.202878   0.548326  0.541655      0.471953   \n",
       "3      4    1.200829  1.414973   0.547462  0.490387      0.415072   \n",
       "4      5    1.195251  1.242476   0.546361  0.532739      0.463486   \n",
       "\n",
       "   epoch_time_sec  angry_precision  angry_recall  angry_f1-score  ...  \\\n",
       "0      140.203723         0.455120      0.375783        0.411664  ...   \n",
       "1      152.833991         0.464329      0.400835        0.430252  ...   \n",
       "2      178.470936         0.501401      0.373695        0.428230  ...   \n",
       "3      170.217821         0.427196      0.370564        0.396870  ...   \n",
       "4      188.123361         0.465738      0.418580        0.440902  ...   \n",
       "\n",
       "   happy_f1-score  neutral_precision  neutral_recall  neutral_f1-score  \\\n",
       "0        0.723734           0.484243        0.510949          0.497238   \n",
       "1        0.768069           0.518712        0.483374          0.500420   \n",
       "2        0.767790           0.467399        0.552311          0.506320   \n",
       "3        0.743122           0.523605        0.395783          0.450808   \n",
       "4        0.771365           0.552072        0.399838          0.463782   \n",
       "\n",
       "   sad_precision  sad_recall  sad_f1-score  surprise_precision  \\\n",
       "0       0.456543    0.383320      0.416739            0.599412   \n",
       "1       0.389080    0.542903      0.453298            0.656983   \n",
       "2       0.410169    0.485164      0.444526            0.640084   \n",
       "3       0.452643    0.329591      0.381439            0.471850   \n",
       "4       0.383978    0.557338      0.454694            0.606936   \n",
       "\n",
       "   surprise_recall  surprise_f1-score  \n",
       "0         0.736462           0.660907  \n",
       "1         0.707581           0.681344  \n",
       "2         0.734055           0.683857  \n",
       "3         0.847172           0.606113  \n",
       "4         0.758123           0.674157  \n",
       "\n",
       "[5 rows x 28 columns]"
      ]
     },
     "metadata": {},
     "output_type": "display_data"
    }
   ],
   "source": [
    "mode = build_model(0.0)\n",
    "history = train(model, train_loader, val_loader, optimizer, criterion, num_epochs=40, model_name='resnet_final_model.pth')\n",
    "pd.DataFrame(history).to_csv(f'results/history_resnet_resnet_final_model.csv', index=False)\n",
    "df_metrics = pd.DataFrame(history)\n",
    "display(df_metrics.head())"
   ]
  }
 ],
 "metadata": {
  "kernelspec": {
   "display_name": "venv",
   "language": "python",
   "name": "python3"
  },
  "language_info": {
   "codemirror_mode": {
    "name": "ipython",
    "version": 3
   },
   "file_extension": ".py",
   "mimetype": "text/x-python",
   "name": "python",
   "nbconvert_exporter": "python",
   "pygments_lexer": "ipython3",
   "version": "3.9.6"
  }
 },
 "nbformat": 4,
 "nbformat_minor": 5
}
