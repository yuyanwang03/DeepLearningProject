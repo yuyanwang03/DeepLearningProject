{
 "cells": [
  {
   "cell_type": "code",
   "execution_count": 1,
   "metadata": {},
   "outputs": [],
   "source": [
    "import pandas as pd\n",
    "import time\n",
    "from sklearn.metrics import classification_report\n",
    "import torch\n",
    "import torch.nn as nn\n",
    "import torch.optim as optim\n",
    "from torchvision import datasets, transforms\n",
    "from torch.utils.data import DataLoader\n",
    "from pathlib import Path\n",
    "import time\n",
    "from tqdm import tqdm"
   ]
  },
  {
   "cell_type": "code",
   "execution_count": 2,
   "metadata": {},
   "outputs": [
    {
     "name": "stdout",
     "output_type": "stream",
     "text": [
      "Train images: 33595\n",
      "Val images: 7178\n",
      "Classes: ['angry', 'disgust', 'fear', 'happy', 'neutral', 'sad', 'surprise']\n"
     ]
    }
   ],
   "source": [
    "# Settings\n",
    "train_dir = Path('./data/train')\n",
    "val_dir   = Path('./data/test')\n",
    "img_size = 48\n",
    "batch_size = 64\n",
    "\n",
    "# Transforms\n",
    "train_transforms = transforms.Compose([\n",
    "    transforms.Resize((img_size, img_size)),\n",
    "    transforms.RandomHorizontalFlip(),\n",
    "    transforms.RandomRotation(5),\n",
    "    transforms.RandomAffine(degrees=0, shear=10, translate=(0.2, 0.2)),\n",
    "    transforms.ToTensor(),\n",
    "    transforms.Normalize(mean=[0.5]*3, std=[0.5]*3)  # normalize to [-1, 1]\n",
    "])\n",
    "\n",
    "val_transforms = transforms.Compose([\n",
    "    transforms.Resize((img_size, img_size)),\n",
    "    transforms.ToTensor(),\n",
    "    transforms.Normalize(mean=[0.5]*3, std=[0.5]*3)\n",
    "])\n",
    "\n",
    "# Datasets\n",
    "train_dataset = datasets.ImageFolder(root=train_dir, transform=train_transforms)\n",
    "val_dataset   = datasets.ImageFolder(root=val_dir, transform=val_transforms)\n",
    "print(f\"Train images: {len(train_dataset)}\")\n",
    "print(f\"Val images: {len(val_dataset)}\")\n",
    "\n",
    "# DataLoaders\n",
    "train_loader = DataLoader(train_dataset, batch_size=batch_size, shuffle=True, num_workers=2)\n",
    "val_loader   = DataLoader(val_dataset, batch_size=batch_size, shuffle=False, num_workers=2)\n",
    "\n",
    "# Class names\n",
    "class_names = train_dataset.classes\n",
    "print(\"Classes:\", class_names)"
   ]
  },
  {
   "cell_type": "code",
   "execution_count": 3,
   "metadata": {},
   "outputs": [],
   "source": [
    "class InvertedResidualBlock(nn.Module):\n",
    "    def __init__(self, in_channels, out_channels, stride, expand_ratio):\n",
    "        super().__init__()\n",
    "        self.use_res_connect = stride == 1 and in_channels == out_channels\n",
    "        hidden_dim = in_channels * expand_ratio\n",
    "\n",
    "        layers = []\n",
    "\n",
    "        # Expansion\n",
    "        if expand_ratio != 1:\n",
    "            layers.extend([\n",
    "                nn.Conv2d(in_channels, hidden_dim, kernel_size=1, bias=False),\n",
    "                nn.BatchNorm2d(hidden_dim),\n",
    "                nn.ReLU6(inplace=True)\n",
    "            ])\n",
    "\n",
    "        # Depthwise\n",
    "        layers.extend([\n",
    "            nn.Conv2d(hidden_dim, hidden_dim, kernel_size=3, stride=stride, padding=1, groups=hidden_dim, bias=False),\n",
    "            nn.BatchNorm2d(hidden_dim),\n",
    "            nn.ReLU6(inplace=True)\n",
    "        ])\n",
    "\n",
    "        # Projection\n",
    "        layers.extend([\n",
    "            nn.Conv2d(hidden_dim, out_channels, kernel_size=1, bias=False),\n",
    "            nn.BatchNorm2d(out_channels)\n",
    "        ])\n",
    "\n",
    "        self.block = nn.Sequential(*layers)\n",
    "\n",
    "    def forward(self, x):\n",
    "        if self.use_res_connect:\n",
    "            return x + self.block(x)\n",
    "        else:\n",
    "            return self.block(x)\n",
    "\n",
    "class MobileNetV2_48x48(nn.Module):\n",
    "    def __init__(self, num_classes=7, dropout_rate=0.0):\n",
    "        super().__init__()\n",
    "        self.dropout_rate = dropout_rate\n",
    "        self.dropout = nn.Dropout(dropout_rate)\n",
    "\n",
    "        # Initial convolution layer\n",
    "        self.init_conv = nn.Sequential(\n",
    "            nn.Conv2d(3, 32, kernel_size=3, stride=1, padding=1, bias=False),  # 48x48 input\n",
    "            nn.BatchNorm2d(32),\n",
    "            nn.ReLU6(inplace=True)\n",
    "        )\n",
    "\n",
    "        # Bottleneck configuration: (t, c, n, s)\n",
    "        bottlenecks_cfg = [\n",
    "            (1, 16, 1, 1),\n",
    "            (6, 24, 1, 1),  # no downsampling yet\n",
    "            (6, 32, 2, 2),\n",
    "            (6, 64, 1, 2),\n",
    "            (6, 96, 1, 1),\n",
    "        ]\n",
    "\n",
    "        blocks = []\n",
    "        in_channels = 32\n",
    "        for t, out_channels, n, s in bottlenecks_cfg:\n",
    "            for i in range(n):\n",
    "                stride = s if i == 0 else 1\n",
    "                blocks.append(InvertedResidualBlock(in_channels, out_channels, stride, t))\n",
    "                in_channels = out_channels\n",
    "        self.bottlenecks = nn.Sequential(*blocks)\n",
    "\n",
    "        self.last_conv = nn.Sequential(\n",
    "            nn.Conv2d(in_channels, 128, kernel_size=1, bias=False),\n",
    "            nn.BatchNorm2d(128),\n",
    "            nn.ReLU6(inplace=True),\n",
    "            nn.Dropout(dropout_rate)\n",
    "        )\n",
    "\n",
    "        self.pool = nn.AdaptiveAvgPool2d((1, 1))\n",
    "        self.classifier = nn.Linear(128, num_classes)\n",
    "\n",
    "    def forward(self, x):\n",
    "        x = self.init_conv(x)\n",
    "        x = self.bottlenecks(x)\n",
    "        x = self.last_conv(x)\n",
    "        x = self.pool(x)\n",
    "        x = x.view(x.size(0), -1)\n",
    "        return self.classifier(x)"
   ]
  },
  {
   "cell_type": "code",
   "execution_count": 4,
   "metadata": {},
   "outputs": [
    {
     "name": "stdout",
     "output_type": "stream",
     "text": [
      "Total parameters: 132935\n"
     ]
    }
   ],
   "source": [
    "# Define MobileNetV2 model\n",
    "mobilenet_model = MobileNetV2_48x48(num_classes=len(class_names))\n",
    "total_params = sum(p.numel() for p in mobilenet_model.parameters())\n",
    "print(f\"Total parameters: {total_params}\")"
   ]
  },
  {
   "cell_type": "code",
   "execution_count": 5,
   "metadata": {},
   "outputs": [
    {
     "name": "stdout",
     "output_type": "stream",
     "text": [
      "Using device: mps\n"
     ]
    }
   ],
   "source": [
    "if torch.backends.mps.is_available() and torch.backends.mps.is_built():\n",
    "    device = torch.device(\"mps\")\n",
    "else:\n",
    "    device = torch.device(\"cuda\" if torch.cuda.is_available() else \"cpu\")\n",
    "\n",
    "print(f\"Using device: {device}\")\n",
    "mobilenet_model = MobileNetV2_48x48(num_classes=len(class_names)).to(device)\n",
    "\n",
    "criterion = nn.CrossEntropyLoss()\n",
    "optimizer = optim.Adam(mobilenet_model.parameters(), lr=1e-3,  weight_decay=1e-4)"
   ]
  },
  {
   "cell_type": "code",
   "execution_count": 6,
   "metadata": {},
   "outputs": [],
   "source": [
    "def train(model, train_loader, val_loader, optimizer, criterion, num_epochs=15, model_name='mobv2_model.pth'):\n",
    "    history = []  # collect metrics per epoch\n",
    "\n",
    "    for epoch in range(num_epochs):\n",
    "        print(f\"\\nEpoch {epoch+1}/{num_epochs}\")\n",
    "        start_time = time.time()\n",
    "\n",
    "        # Training phase\n",
    "        model.train()\n",
    "        train_loss, correct, total = 0, 0, 0\n",
    "        for images, labels in tqdm(train_loader, desc=\"Training\"):\n",
    "            images, labels = images.to(device), labels.to(device)\n",
    "\n",
    "            optimizer.zero_grad()\n",
    "            outputs = model(images)\n",
    "            loss = criterion(outputs, labels)\n",
    "            loss.backward()\n",
    "            optimizer.step()\n",
    "\n",
    "            train_loss += loss.item() * images.size(0)\n",
    "            _, predicted = outputs.max(1)\n",
    "            correct += (predicted == labels).sum().item()\n",
    "            total += labels.size(0)\n",
    "\n",
    "        train_acc = correct / total\n",
    "        train_loss /= total\n",
    "\n",
    "        # Validation phase\n",
    "        model.eval()\n",
    "        val_loss, correct, total = 0, 0, 0\n",
    "        y_true, y_pred = [], []\n",
    "\n",
    "        with torch.no_grad():\n",
    "            for images, labels in tqdm(val_loader, desc=\"Validation\"):\n",
    "                images, labels = images.to(device), labels.to(device)\n",
    "                outputs = model(images)\n",
    "                loss = criterion(outputs, labels)\n",
    "                val_loss += loss.item() * images.size(0)\n",
    "\n",
    "                _, predicted = outputs.max(1)\n",
    "                correct += (predicted == labels).sum().item()\n",
    "                total += labels.size(0)\n",
    "\n",
    "                y_true.extend(labels.cpu().numpy())\n",
    "                y_pred.extend(predicted.cpu().numpy())\n",
    "\n",
    "        val_acc = correct / total\n",
    "        val_loss /= total\n",
    "\n",
    "        # Classification report\n",
    "        report = classification_report(y_true, y_pred, target_names=class_names, output_dict=True)\n",
    "        val_f1_macro = report['macro avg']['f1-score']\n",
    "\n",
    "        epoch_time = time.time() - start_time\n",
    "\n",
    "        # Collect metrics\n",
    "        epoch_data = {\n",
    "            'epoch': epoch + 1,\n",
    "            'train_loss': train_loss,\n",
    "            'val_loss': val_loss,\n",
    "            'train_acc': train_acc,\n",
    "            'val_acc': val_acc,\n",
    "            'val_f1_macro': val_f1_macro,\n",
    "            'epoch_time_sec': epoch_time\n",
    "        }\n",
    "\n",
    "        # Add per-class metrics\n",
    "        for cls in class_names:\n",
    "            for metric in ['precision', 'recall', 'f1-score']:\n",
    "                key = f'{cls}_{metric}'\n",
    "                epoch_data[key] = report[cls][metric]\n",
    "\n",
    "        history.append(epoch_data)\n",
    "\n",
    "        # Console output\n",
    "        print(\"\\nValidation Report:\")\n",
    "        for cls in class_names:\n",
    "            cls_metrics = report[cls]\n",
    "            print(f\"{cls}: Prec={cls_metrics['precision']:.3f} | Rec={cls_metrics['recall']:.3f} | F1={cls_metrics['f1-score']:.3f}\")\n",
    "\n",
    "        print(f\"\\nEpoch Summary: Train Loss={train_loss:.4f} | Val Loss={val_loss:.4f} | Train Acc={train_acc:.3f} | Val Acc={val_acc:.3f}\")\n",
    "        print(f\"Epoch time: {epoch_time:.2f} seconds\")\n",
    "\n",
    "    torch.save(model.state_dict(), f\"results/{model_name}\")\n",
    "    print(f\"Saved model to 'results/{model_name}'\")\n",
    "\n",
    "    return history"
   ]
  },
  {
   "cell_type": "code",
   "execution_count": null,
   "metadata": {},
   "outputs": [
    {
     "name": "stdout",
     "output_type": "stream",
     "text": [
      "\n",
      "Training config: adam_lr3_drop0_wd0_bn\n",
      "\n",
      "Epoch 1/15\n"
     ]
    },
    {
     "name": "stderr",
     "output_type": "stream",
     "text": [
      "Training: 100%|██████████| 525/525 [02:08<00:00,  4.09it/s]\n",
      "Validation: 100%|██████████| 113/113 [00:19<00:00,  5.73it/s]\n"
     ]
    },
    {
     "name": "stdout",
     "output_type": "stream",
     "text": [
      "\n",
      "Validation Report:\n",
      "angry: Prec=0.400 | Rec=0.006 | F1=0.012\n",
      "disgust: Prec=0.015 | Rec=0.207 | F1=0.028\n",
      "fear: Prec=0.166 | Rec=0.047 | F1=0.073\n",
      "happy: Prec=0.460 | Rec=0.524 | F1=0.490\n",
      "neutral: Prec=0.311 | Rec=0.102 | F1=0.154\n",
      "sad: Prec=0.302 | Rec=0.241 | F1=0.268\n",
      "surprise: Prec=0.326 | Rec=0.745 | F1=0.454\n",
      "\n",
      "Epoch Summary: Train Loss=1.6911 | Val Loss=1.8743 | Train Acc=0.335 | Val Acc=0.286\n",
      "Epoch time: 148.02 seconds\n",
      "\n",
      "Epoch 2/15\n"
     ]
    },
    {
     "name": "stderr",
     "output_type": "stream",
     "text": [
      "Training: 100%|██████████| 525/525 [02:10<00:00,  4.03it/s]\n",
      "Validation: 100%|██████████| 113/113 [00:19<00:00,  5.78it/s]\n"
     ]
    },
    {
     "name": "stdout",
     "output_type": "stream",
     "text": [
      "\n",
      "Validation Report:\n",
      "angry: Prec=0.328 | Rec=0.043 | F1=0.076\n",
      "disgust: Prec=0.019 | Rec=0.450 | F1=0.037\n",
      "fear: Prec=0.230 | Rec=0.044 | F1=0.074\n",
      "happy: Prec=0.739 | Rec=0.422 | F1=0.537\n",
      "neutral: Prec=0.448 | Rec=0.251 | F1=0.322\n",
      "sad: Prec=0.322 | Rec=0.382 | F1=0.349\n",
      "surprise: Prec=0.523 | Rec=0.673 | F1=0.588\n",
      "\n",
      "Epoch Summary: Train Loss=1.4444 | Val Loss=2.0699 | Train Acc=0.447 | Val Acc=0.311\n",
      "Epoch time: 149.98 seconds\n",
      "\n",
      "Epoch 3/15\n"
     ]
    },
    {
     "name": "stderr",
     "output_type": "stream",
     "text": [
      "Training: 100%|██████████| 525/525 [02:14<00:00,  3.91it/s]\n",
      "Validation: 100%|██████████| 113/113 [00:19<00:00,  5.66it/s]\n"
     ]
    },
    {
     "name": "stdout",
     "output_type": "stream",
     "text": [
      "\n",
      "Validation Report:\n",
      "angry: Prec=0.600 | Rec=0.031 | F1=0.060\n",
      "disgust: Prec=0.038 | Rec=0.189 | F1=0.064\n",
      "fear: Prec=0.320 | Rec=0.039 | F1=0.070\n",
      "happy: Prec=0.665 | Rec=0.736 | F1=0.699\n",
      "neutral: Prec=0.335 | Rec=0.684 | F1=0.450\n",
      "sad: Prec=0.347 | Rec=0.293 | F1=0.317\n",
      "surprise: Prec=0.602 | Rec=0.673 | F1=0.636\n",
      "\n",
      "Epoch Summary: Train Loss=1.3191 | Val Loss=1.5070 | Train Acc=0.497 | Val Acc=0.441\n",
      "Epoch time: 154.43 seconds\n",
      "\n",
      "Epoch 4/15\n"
     ]
    },
    {
     "name": "stderr",
     "output_type": "stream",
     "text": [
      "Training: 100%|██████████| 525/525 [02:16<00:00,  3.85it/s]\n",
      "Validation: 100%|██████████| 113/113 [00:20<00:00,  5.56it/s]\n"
     ]
    },
    {
     "name": "stdout",
     "output_type": "stream",
     "text": [
      "\n",
      "Validation Report:\n",
      "angry: Prec=0.421 | Rec=0.128 | F1=0.197\n",
      "disgust: Prec=0.038 | Rec=0.153 | F1=0.061\n",
      "fear: Prec=0.263 | Rec=0.035 | F1=0.062\n",
      "happy: Prec=0.512 | Rec=0.875 | F1=0.646\n",
      "neutral: Prec=0.383 | Rec=0.418 | F1=0.400\n",
      "sad: Prec=0.448 | Rec=0.066 | F1=0.115\n",
      "surprise: Prec=0.389 | Rec=0.815 | F1=0.527\n",
      "\n",
      "Epoch Summary: Train Loss=1.2388 | Val Loss=1.6578 | Train Acc=0.532 | Val Acc=0.418\n",
      "Epoch time: 156.78 seconds\n",
      "\n",
      "Epoch 5/15\n"
     ]
    },
    {
     "name": "stderr",
     "output_type": "stream",
     "text": [
      "Training: 100%|██████████| 525/525 [02:29<00:00,  3.52it/s]\n",
      "Validation: 100%|██████████| 113/113 [00:19<00:00,  5.73it/s]\n"
     ]
    },
    {
     "name": "stdout",
     "output_type": "stream",
     "text": [
      "\n",
      "Validation Report:\n",
      "angry: Prec=0.378 | Rec=0.374 | F1=0.376\n",
      "disgust: Prec=0.048 | Rec=0.189 | F1=0.076\n",
      "fear: Prec=0.251 | Rec=0.367 | F1=0.298\n",
      "happy: Prec=0.841 | Rec=0.656 | F1=0.737\n",
      "neutral: Prec=0.576 | Rec=0.408 | F1=0.477\n",
      "sad: Prec=0.406 | Rec=0.292 | F1=0.340\n",
      "surprise: Prec=0.538 | Rec=0.736 | F1=0.622\n",
      "\n",
      "Epoch Summary: Train Loss=1.1909 | Val Loss=1.4015 | Train Acc=0.552 | Val Acc=0.473\n",
      "Epoch time: 168.75 seconds\n",
      "\n",
      "Epoch 6/15\n"
     ]
    },
    {
     "name": "stderr",
     "output_type": "stream",
     "text": [
      "Training: 100%|██████████| 525/525 [02:17<00:00,  3.82it/s]\n",
      "Validation: 100%|██████████| 113/113 [00:19<00:00,  5.84it/s]\n"
     ]
    },
    {
     "name": "stdout",
     "output_type": "stream",
     "text": [
      "\n",
      "Validation Report:\n",
      "angry: Prec=0.596 | Rec=0.152 | F1=0.243\n",
      "disgust: Prec=0.064 | Rec=0.279 | F1=0.105\n",
      "fear: Prec=0.300 | Rec=0.182 | F1=0.226\n",
      "happy: Prec=0.770 | Rec=0.746 | F1=0.758\n",
      "neutral: Prec=0.491 | Rec=0.481 | F1=0.486\n",
      "sad: Prec=0.413 | Rec=0.469 | F1=0.439\n",
      "surprise: Prec=0.444 | Rec=0.794 | F1=0.569\n",
      "\n",
      "Epoch Summary: Train Loss=1.1520 | Val Loss=1.3841 | Train Acc=0.563 | Val Acc=0.491\n",
      "Epoch time: 156.96 seconds\n",
      "\n",
      "Epoch 7/15\n"
     ]
    },
    {
     "name": "stderr",
     "output_type": "stream",
     "text": [
      "Training: 100%|██████████| 525/525 [02:21<00:00,  3.71it/s]\n",
      "Validation: 100%|██████████| 113/113 [00:19<00:00,  5.76it/s]\n"
     ]
    },
    {
     "name": "stdout",
     "output_type": "stream",
     "text": [
      "\n",
      "Validation Report:\n",
      "angry: Prec=0.431 | Rec=0.165 | F1=0.238\n",
      "disgust: Prec=0.037 | Rec=0.775 | F1=0.070\n",
      "fear: Prec=0.383 | Rec=0.090 | F1=0.146\n",
      "happy: Prec=0.863 | Rec=0.567 | F1=0.684\n",
      "neutral: Prec=0.454 | Rec=0.430 | F1=0.442\n",
      "sad: Prec=0.501 | Rec=0.157 | F1=0.239\n",
      "surprise: Prec=0.460 | Rec=0.828 | F1=0.592\n",
      "\n",
      "Epoch Summary: Train Loss=1.1243 | Val Loss=1.9624 | Train Acc=0.576 | Val Acc=0.384\n",
      "Epoch time: 161.22 seconds\n",
      "\n",
      "Epoch 8/15\n"
     ]
    },
    {
     "name": "stderr",
     "output_type": "stream",
     "text": [
      "Training: 100%|██████████| 525/525 [02:28<00:00,  3.53it/s]\n",
      "Validation: 100%|██████████| 113/113 [00:19<00:00,  5.75it/s]\n"
     ]
    },
    {
     "name": "stdout",
     "output_type": "stream",
     "text": [
      "\n",
      "Validation Report:\n",
      "angry: Prec=0.532 | Rec=0.103 | F1=0.173\n",
      "disgust: Prec=0.037 | Rec=0.802 | F1=0.071\n",
      "fear: Prec=0.264 | Rec=0.066 | F1=0.106\n",
      "happy: Prec=0.856 | Rec=0.296 | F1=0.440\n",
      "neutral: Prec=0.497 | Rec=0.071 | F1=0.124\n",
      "sad: Prec=0.463 | Rec=0.051 | F1=0.091\n",
      "surprise: Prec=0.227 | Rec=0.931 | F1=0.366\n",
      "\n",
      "Epoch Summary: Train Loss=1.1031 | Val Loss=3.6671 | Train Acc=0.584 | Val Acc=0.238\n",
      "Epoch time: 168.54 seconds\n",
      "\n",
      "Epoch 9/15\n"
     ]
    },
    {
     "name": "stderr",
     "output_type": "stream",
     "text": [
      "Training: 100%|██████████| 525/525 [02:20<00:00,  3.74it/s]\n",
      "Validation: 100%|██████████| 113/113 [00:19<00:00,  5.88it/s]\n"
     ]
    },
    {
     "name": "stdout",
     "output_type": "stream",
     "text": [
      "\n",
      "Validation Report:\n",
      "angry: Prec=0.696 | Rec=0.033 | F1=0.064\n",
      "disgust: Prec=0.028 | Rec=0.892 | F1=0.053\n",
      "fear: Prec=0.235 | Rec=0.016 | F1=0.029\n",
      "happy: Prec=0.855 | Rec=0.328 | F1=0.474\n",
      "neutral: Prec=0.582 | Rec=0.113 | F1=0.189\n",
      "sad: Prec=0.511 | Rec=0.054 | F1=0.097\n",
      "surprise: Prec=0.307 | Rec=0.897 | F1=0.458\n",
      "\n",
      "Epoch Summary: Train Loss=1.0790 | Val Loss=3.3631 | Train Acc=0.595 | Val Acc=0.234\n",
      "Epoch time: 159.63 seconds\n",
      "\n",
      "Epoch 10/15\n"
     ]
    },
    {
     "name": "stderr",
     "output_type": "stream",
     "text": [
      "Training: 100%|██████████| 525/525 [02:15<00:00,  3.87it/s]\n",
      "Validation: 100%|██████████| 113/113 [00:19<00:00,  5.89it/s]\n"
     ]
    },
    {
     "name": "stdout",
     "output_type": "stream",
     "text": [
      "\n",
      "Validation Report:\n",
      "angry: Prec=0.431 | Rec=0.245 | F1=0.313\n",
      "disgust: Prec=0.038 | Rec=0.829 | F1=0.072\n",
      "fear: Prec=0.361 | Rec=0.038 | F1=0.069\n",
      "happy: Prec=0.880 | Rec=0.430 | F1=0.578\n",
      "neutral: Prec=0.576 | Rec=0.187 | F1=0.282\n",
      "sad: Prec=0.489 | Rec=0.129 | F1=0.204\n",
      "surprise: Prec=0.303 | Rec=0.910 | F1=0.454\n",
      "\n",
      "Epoch Summary: Train Loss=1.0621 | Val Loss=2.2945 | Train Acc=0.599 | Val Acc=0.317\n",
      "Epoch time: 154.73 seconds\n",
      "\n",
      "Epoch 11/15\n"
     ]
    },
    {
     "name": "stderr",
     "output_type": "stream",
     "text": [
      "Training: 100%|██████████| 525/525 [02:13<00:00,  3.92it/s]\n",
      "Validation: 100%|██████████| 113/113 [00:19<00:00,  5.84it/s]\n"
     ]
    },
    {
     "name": "stdout",
     "output_type": "stream",
     "text": [
      "\n",
      "Validation Report:\n",
      "angry: Prec=0.569 | Rec=0.224 | F1=0.322\n",
      "disgust: Prec=0.071 | Rec=0.532 | F1=0.125\n",
      "fear: Prec=0.316 | Rec=0.148 | F1=0.202\n",
      "happy: Prec=0.762 | Rec=0.742 | F1=0.752\n",
      "neutral: Prec=0.529 | Rec=0.518 | F1=0.524\n",
      "sad: Prec=0.497 | Rec=0.228 | F1=0.312\n",
      "surprise: Prec=0.365 | Rec=0.870 | F1=0.515\n",
      "\n",
      "Epoch Summary: Train Loss=1.0505 | Val Loss=1.5096 | Train Acc=0.605 | Val Acc=0.472\n",
      "Epoch time: 153.38 seconds\n",
      "\n",
      "Epoch 12/15\n"
     ]
    },
    {
     "name": "stderr",
     "output_type": "stream",
     "text": [
      "Training: 100%|██████████| 525/525 [02:16<00:00,  3.85it/s]\n",
      "Validation: 100%|██████████| 113/113 [00:19<00:00,  5.92it/s]\n"
     ]
    },
    {
     "name": "stdout",
     "output_type": "stream",
     "text": [
      "\n",
      "Validation Report:\n",
      "angry: Prec=0.517 | Rec=0.142 | F1=0.223\n",
      "disgust: Prec=0.038 | Rec=0.883 | F1=0.072\n",
      "fear: Prec=0.390 | Rec=0.022 | F1=0.042\n",
      "happy: Prec=0.869 | Rec=0.512 | F1=0.645\n",
      "neutral: Prec=0.568 | Rec=0.265 | F1=0.362\n",
      "sad: Prec=0.462 | Rec=0.053 | F1=0.095\n",
      "surprise: Prec=0.302 | Rec=0.904 | F1=0.453\n",
      "\n",
      "Epoch Summary: Train Loss=1.0304 | Val Loss=2.5621 | Train Acc=0.613 | Val Acc=0.322\n",
      "Epoch time: 155.51 seconds\n",
      "\n",
      "Epoch 13/15\n"
     ]
    },
    {
     "name": "stderr",
     "output_type": "stream",
     "text": [
      "Training: 100%|██████████| 525/525 [02:04<00:00,  4.21it/s]\n",
      "Validation: 100%|██████████| 113/113 [00:19<00:00,  5.88it/s]\n"
     ]
    },
    {
     "name": "stdout",
     "output_type": "stream",
     "text": [
      "\n",
      "Validation Report:\n",
      "angry: Prec=0.557 | Rec=0.142 | F1=0.226\n",
      "disgust: Prec=0.039 | Rec=0.883 | F1=0.075\n",
      "fear: Prec=0.393 | Rec=0.021 | F1=0.041\n",
      "happy: Prec=0.743 | Rec=0.673 | F1=0.706\n",
      "neutral: Prec=0.556 | Rec=0.290 | F1=0.381\n",
      "sad: Prec=0.542 | Rec=0.062 | F1=0.111\n",
      "surprise: Prec=0.365 | Rec=0.876 | F1=0.515\n",
      "\n",
      "Epoch Summary: Train Loss=1.0171 | Val Loss=2.4381 | Train Acc=0.616 | Val Acc=0.364\n",
      "Epoch time: 144.01 seconds\n",
      "\n",
      "Epoch 14/15\n"
     ]
    },
    {
     "name": "stderr",
     "output_type": "stream",
     "text": [
      "Training: 100%|██████████| 525/525 [02:05<00:00,  4.19it/s]\n",
      "Validation: 100%|██████████| 113/113 [00:19<00:00,  5.87it/s]\n"
     ]
    },
    {
     "name": "stdout",
     "output_type": "stream",
     "text": [
      "\n",
      "Validation Report:\n",
      "angry: Prec=0.456 | Rec=0.228 | F1=0.304\n",
      "disgust: Prec=0.031 | Rec=0.901 | F1=0.060\n",
      "fear: Prec=0.343 | Rec=0.116 | F1=0.174\n",
      "happy: Prec=0.831 | Rec=0.547 | F1=0.660\n",
      "neutral: Prec=0.671 | Rec=0.154 | F1=0.251\n",
      "sad: Prec=0.479 | Rec=0.127 | F1=0.200\n",
      "surprise: Prec=0.490 | Rec=0.792 | F1=0.605\n",
      "\n",
      "Epoch Summary: Train Loss=1.0097 | Val Loss=2.3836 | Train Acc=0.620 | Val Acc=0.336\n",
      "Epoch time: 144.71 seconds\n",
      "\n",
      "Epoch 15/15\n"
     ]
    },
    {
     "name": "stderr",
     "output_type": "stream",
     "text": [
      "Training: 100%|██████████| 525/525 [02:04<00:00,  4.22it/s]\n",
      "Validation: 100%|██████████| 113/113 [00:19<00:00,  5.87it/s]\n"
     ]
    },
    {
     "name": "stdout",
     "output_type": "stream",
     "text": [
      "\n",
      "Validation Report:\n",
      "angry: Prec=0.562 | Rec=0.095 | F1=0.163\n",
      "disgust: Prec=0.038 | Rec=0.910 | F1=0.072\n",
      "fear: Prec=0.514 | Rec=0.018 | F1=0.034\n",
      "happy: Prec=0.748 | Rec=0.596 | F1=0.664\n",
      "neutral: Prec=0.656 | Rec=0.147 | F1=0.240\n",
      "sad: Prec=0.462 | Rec=0.067 | F1=0.118\n",
      "surprise: Prec=0.305 | Rec=0.890 | F1=0.455\n",
      "\n",
      "Epoch Summary: Train Loss=0.9999 | Val Loss=3.1949 | Train Acc=0.623 | Val Acc=0.317\n",
      "Epoch time: 143.77 seconds\n",
      "Saved model to 'results/adam_lr3_drop0_wd0_bn'\n",
      "\n",
      "Training config: adam_lr3_drop15_wd0_bn\n",
      "\n",
      "Epoch 1/15\n"
     ]
    },
    {
     "name": "stderr",
     "output_type": "stream",
     "text": [
      "Training: 100%|██████████| 525/525 [02:07<00:00,  4.13it/s]\n",
      "Validation: 100%|██████████| 113/113 [00:19<00:00,  5.80it/s]\n"
     ]
    },
    {
     "name": "stdout",
     "output_type": "stream",
     "text": [
      "\n",
      "Validation Report:\n",
      "angry: Prec=0.307 | Rec=0.073 | F1=0.118\n",
      "disgust: Prec=0.016 | Rec=0.153 | F1=0.029\n",
      "fear: Prec=0.256 | Rec=0.029 | F1=0.053\n",
      "happy: Prec=0.536 | Rec=0.534 | F1=0.535\n",
      "neutral: Prec=0.294 | Rec=0.152 | F1=0.201\n",
      "sad: Prec=0.313 | Rec=0.241 | F1=0.272\n",
      "surprise: Prec=0.285 | Rec=0.818 | F1=0.423\n",
      "\n",
      "Epoch Summary: Train Loss=1.6897 | Val Loss=1.7887 | Train Acc=0.334 | Val Acc=0.311\n",
      "Epoch time: 146.64 seconds\n",
      "\n",
      "Epoch 2/15\n"
     ]
    },
    {
     "name": "stderr",
     "output_type": "stream",
     "text": [
      "Training: 100%|██████████| 525/525 [02:11<00:00,  3.99it/s]\n",
      "Validation: 100%|██████████| 113/113 [00:19<00:00,  5.83it/s]\n"
     ]
    },
    {
     "name": "stdout",
     "output_type": "stream",
     "text": [
      "\n",
      "Validation Report:\n",
      "angry: Prec=0.332 | Rec=0.203 | F1=0.252\n",
      "disgust: Prec=0.023 | Rec=0.243 | F1=0.042\n",
      "fear: Prec=0.262 | Rec=0.038 | F1=0.066\n",
      "happy: Prec=0.669 | Rec=0.669 | F1=0.669\n",
      "neutral: Prec=0.381 | Rec=0.374 | F1=0.377\n",
      "sad: Prec=0.370 | Rec=0.265 | F1=0.309\n",
      "surprise: Prec=0.459 | Rec=0.769 | F1=0.575\n",
      "\n",
      "Epoch Summary: Train Loss=1.4255 | Val Loss=1.6237 | Train Acc=0.457 | Val Acc=0.401\n",
      "Epoch time: 151.14 seconds\n",
      "\n",
      "Epoch 3/15\n"
     ]
    },
    {
     "name": "stderr",
     "output_type": "stream",
     "text": [
      "Training: 100%|██████████| 525/525 [02:13<00:00,  3.93it/s]\n",
      "Validation: 100%|██████████| 113/113 [00:19<00:00,  5.86it/s]\n"
     ]
    },
    {
     "name": "stdout",
     "output_type": "stream",
     "text": [
      "\n",
      "Validation Report:\n",
      "angry: Prec=0.315 | Rec=0.251 | F1=0.279\n",
      "disgust: Prec=0.024 | Rec=0.486 | F1=0.045\n",
      "fear: Prec=0.244 | Rec=0.057 | F1=0.092\n",
      "happy: Prec=0.692 | Rec=0.587 | F1=0.636\n",
      "neutral: Prec=0.576 | Rec=0.174 | F1=0.268\n",
      "sad: Prec=0.399 | Rec=0.138 | F1=0.205\n",
      "surprise: Prec=0.423 | Rec=0.816 | F1=0.557\n",
      "\n",
      "Epoch Summary: Train Loss=1.3082 | Val Loss=1.9669 | Train Acc=0.504 | Val Acc=0.343\n",
      "Epoch time: 153.03 seconds\n",
      "\n",
      "Epoch 4/15\n"
     ]
    },
    {
     "name": "stderr",
     "output_type": "stream",
     "text": [
      "Training: 100%|██████████| 525/525 [02:12<00:00,  3.97it/s]\n",
      "Validation: 100%|██████████| 113/113 [00:19<00:00,  5.88it/s]\n"
     ]
    },
    {
     "name": "stdout",
     "output_type": "stream",
     "text": [
      "\n",
      "Validation Report:\n",
      "angry: Prec=0.343 | Rec=0.213 | F1=0.263\n",
      "disgust: Prec=0.038 | Rec=0.685 | F1=0.073\n",
      "fear: Prec=0.231 | Rec=0.009 | F1=0.017\n",
      "happy: Prec=0.671 | Rec=0.657 | F1=0.664\n",
      "neutral: Prec=0.448 | Rec=0.333 | F1=0.382\n",
      "sad: Prec=0.485 | Rec=0.090 | F1=0.152\n",
      "surprise: Prec=0.413 | Rec=0.835 | F1=0.553\n",
      "\n",
      "Epoch Summary: Train Loss=1.2347 | Val Loss=1.9504 | Train Acc=0.534 | Val Acc=0.372\n",
      "Epoch time: 151.48 seconds\n",
      "\n",
      "Epoch 5/15\n"
     ]
    },
    {
     "name": "stderr",
     "output_type": "stream",
     "text": [
      "Training: 100%|██████████| 525/525 [02:11<00:00,  3.99it/s]\n",
      "Validation: 100%|██████████| 113/113 [00:19<00:00,  5.85it/s]\n"
     ]
    },
    {
     "name": "stdout",
     "output_type": "stream",
     "text": [
      "\n",
      "Validation Report:\n",
      "angry: Prec=0.378 | Rec=0.039 | F1=0.070\n",
      "disgust: Prec=0.019 | Rec=0.892 | F1=0.038\n",
      "fear: Prec=0.352 | Rec=0.036 | F1=0.066\n",
      "happy: Prec=0.956 | Rec=0.158 | F1=0.271\n",
      "neutral: Prec=0.507 | Rec=0.092 | F1=0.155\n",
      "sad: Prec=0.395 | Rec=0.039 | F1=0.071\n",
      "surprise: Prec=0.514 | Rec=0.729 | F1=0.603\n",
      "\n",
      "Epoch Summary: Train Loss=1.1942 | Val Loss=3.6427 | Train Acc=0.553 | Val Acc=0.170\n",
      "Epoch time: 150.90 seconds\n",
      "\n",
      "Epoch 6/15\n"
     ]
    },
    {
     "name": "stderr",
     "output_type": "stream",
     "text": [
      "Training: 100%|██████████| 525/525 [02:11<00:00,  4.00it/s]\n",
      "Validation: 100%|██████████| 113/113 [00:19<00:00,  5.87it/s]\n"
     ]
    },
    {
     "name": "stdout",
     "output_type": "stream",
     "text": [
      "\n",
      "Validation Report:\n",
      "angry: Prec=0.507 | Rec=0.184 | F1=0.270\n",
      "disgust: Prec=0.050 | Rec=0.568 | F1=0.091\n",
      "fear: Prec=0.256 | Rec=0.083 | F1=0.125\n",
      "happy: Prec=0.787 | Rec=0.662 | F1=0.719\n",
      "neutral: Prec=0.541 | Rec=0.308 | F1=0.393\n",
      "sad: Prec=0.416 | Rec=0.250 | F1=0.312\n",
      "surprise: Prec=0.318 | Rec=0.876 | F1=0.467\n",
      "\n",
      "Epoch Summary: Train Loss=1.1490 | Val Loss=1.7230 | Train Acc=0.566 | Val Acc=0.407\n",
      "Epoch time: 150.60 seconds\n",
      "\n",
      "Epoch 7/15\n"
     ]
    },
    {
     "name": "stderr",
     "output_type": "stream",
     "text": [
      "Training: 100%|██████████| 525/525 [02:18<00:00,  3.80it/s]\n",
      "Validation: 100%|██████████| 113/113 [00:19<00:00,  5.90it/s]\n"
     ]
    },
    {
     "name": "stdout",
     "output_type": "stream",
     "text": [
      "\n",
      "Validation Report:\n",
      "angry: Prec=0.445 | Rec=0.223 | F1=0.297\n",
      "disgust: Prec=0.033 | Rec=0.730 | F1=0.063\n",
      "fear: Prec=0.305 | Rec=0.151 | F1=0.202\n",
      "happy: Prec=0.860 | Rec=0.499 | F1=0.631\n",
      "neutral: Prec=0.564 | Rec=0.247 | F1=0.344\n",
      "sad: Prec=0.441 | Rec=0.135 | F1=0.206\n",
      "surprise: Prec=0.393 | Rec=0.847 | F1=0.537\n",
      "\n",
      "Epoch Summary: Train Loss=1.1191 | Val Loss=1.9783 | Train Acc=0.576 | Val Acc=0.350\n",
      "Epoch time: 157.31 seconds\n",
      "\n",
      "Epoch 8/15\n"
     ]
    },
    {
     "name": "stderr",
     "output_type": "stream",
     "text": [
      "Training: 100%|██████████| 525/525 [02:21<00:00,  3.72it/s]\n",
      "Validation: 100%|██████████| 113/113 [00:19<00:00,  5.85it/s]\n"
     ]
    },
    {
     "name": "stdout",
     "output_type": "stream",
     "text": [
      "\n",
      "Validation Report:\n",
      "angry: Prec=0.467 | Rec=0.118 | F1=0.188\n",
      "disgust: Prec=0.032 | Rec=0.856 | F1=0.061\n",
      "fear: Prec=0.311 | Rec=0.067 | F1=0.111\n",
      "happy: Prec=0.766 | Rec=0.583 | F1=0.662\n",
      "neutral: Prec=0.504 | Rec=0.406 | F1=0.449\n",
      "sad: Prec=0.500 | Rec=0.053 | F1=0.096\n",
      "surprise: Prec=0.512 | Rec=0.763 | F1=0.613\n",
      "\n",
      "Epoch Summary: Train Loss=1.0976 | Val Loss=2.1723 | Train Acc=0.582 | Val Acc=0.350\n",
      "Epoch time: 160.50 seconds\n",
      "\n",
      "Epoch 9/15\n"
     ]
    },
    {
     "name": "stderr",
     "output_type": "stream",
     "text": [
      "Training: 100%|██████████| 525/525 [02:24<00:00,  3.64it/s]\n",
      "Validation: 100%|██████████| 113/113 [00:19<00:00,  5.91it/s]\n"
     ]
    },
    {
     "name": "stdout",
     "output_type": "stream",
     "text": [
      "\n",
      "Validation Report:\n",
      "angry: Prec=0.467 | Rec=0.089 | F1=0.149\n",
      "disgust: Prec=0.027 | Rec=0.928 | F1=0.052\n",
      "fear: Prec=0.402 | Rec=0.032 | F1=0.060\n",
      "happy: Prec=0.927 | Rec=0.230 | F1=0.369\n",
      "neutral: Prec=0.608 | Rec=0.238 | F1=0.342\n",
      "sad: Prec=0.427 | Rec=0.126 | F1=0.194\n",
      "surprise: Prec=0.390 | Rec=0.851 | F1=0.535\n",
      "\n",
      "Epoch Summary: Train Loss=1.0768 | Val Loss=2.7302 | Train Acc=0.596 | Val Acc=0.249\n",
      "Epoch time: 163.27 seconds\n",
      "\n",
      "Epoch 10/15\n"
     ]
    },
    {
     "name": "stderr",
     "output_type": "stream",
     "text": [
      "Training: 100%|██████████| 525/525 [02:20<00:00,  3.73it/s]\n",
      "Validation: 100%|██████████| 113/113 [00:20<00:00,  5.63it/s]\n"
     ]
    },
    {
     "name": "stdout",
     "output_type": "stream",
     "text": [
      "\n",
      "Validation Report:\n",
      "angry: Prec=0.492 | Rec=0.186 | F1=0.270\n",
      "disgust: Prec=0.043 | Rec=0.811 | F1=0.082\n",
      "fear: Prec=0.373 | Rec=0.030 | F1=0.056\n",
      "happy: Prec=0.666 | Rec=0.727 | F1=0.695\n",
      "neutral: Prec=0.586 | Rec=0.264 | F1=0.364\n",
      "sad: Prec=0.474 | Rec=0.072 | F1=0.125\n",
      "surprise: Prec=0.361 | Rec=0.851 | F1=0.507\n",
      "\n",
      "Epoch Summary: Train Loss=1.0650 | Val Loss=2.1144 | Train Acc=0.597 | Val Acc=0.378\n",
      "Epoch time: 160.68 seconds\n",
      "\n",
      "Epoch 11/15\n"
     ]
    },
    {
     "name": "stderr",
     "output_type": "stream",
     "text": [
      "Training: 100%|██████████| 525/525 [02:21<00:00,  3.71it/s]\n",
      "Validation: 100%|██████████| 113/113 [00:19<00:00,  5.69it/s]\n"
     ]
    },
    {
     "name": "stdout",
     "output_type": "stream",
     "text": [
      "\n",
      "Validation Report:\n",
      "angry: Prec=0.453 | Rec=0.200 | F1=0.278\n",
      "disgust: Prec=0.039 | Rec=0.820 | F1=0.074\n",
      "fear: Prec=0.444 | Rec=0.051 | F1=0.091\n",
      "happy: Prec=0.799 | Rec=0.658 | F1=0.722\n",
      "neutral: Prec=0.567 | Rec=0.376 | F1=0.452\n",
      "sad: Prec=0.405 | Rec=0.172 | F1=0.242\n",
      "surprise: Prec=0.462 | Rec=0.832 | F1=0.594\n",
      "\n",
      "Epoch Summary: Train Loss=1.0467 | Val Loss=1.9437 | Train Acc=0.603 | Val Acc=0.400\n",
      "Epoch time: 161.47 seconds\n",
      "\n",
      "Epoch 12/15\n"
     ]
    },
    {
     "name": "stderr",
     "output_type": "stream",
     "text": [
      "Training: 100%|██████████| 525/525 [02:23<00:00,  3.66it/s]\n",
      "Validation: 100%|██████████| 113/113 [00:19<00:00,  5.87it/s]\n"
     ]
    },
    {
     "name": "stdout",
     "output_type": "stream",
     "text": [
      "\n",
      "Validation Report:\n",
      "angry: Prec=0.496 | Rec=0.126 | F1=0.201\n",
      "disgust: Prec=0.032 | Rec=0.847 | F1=0.062\n",
      "fear: Prec=0.322 | Rec=0.062 | F1=0.105\n",
      "happy: Prec=0.901 | Rec=0.462 | F1=0.611\n",
      "neutral: Prec=0.557 | Rec=0.193 | F1=0.287\n",
      "sad: Prec=0.488 | Rec=0.066 | F1=0.116\n",
      "surprise: Prec=0.315 | Rec=0.880 | F1=0.464\n",
      "\n",
      "Epoch Summary: Train Loss=1.0350 | Val Loss=2.5232 | Train Acc=0.610 | Val Acc=0.300\n",
      "Epoch time: 162.71 seconds\n",
      "\n",
      "Epoch 13/15\n"
     ]
    },
    {
     "name": "stderr",
     "output_type": "stream",
     "text": [
      "Training: 100%|██████████| 525/525 [02:23<00:00,  3.65it/s]\n",
      "Validation: 100%|██████████| 113/113 [00:19<00:00,  5.85it/s]\n"
     ]
    },
    {
     "name": "stdout",
     "output_type": "stream",
     "text": [
      "\n",
      "Validation Report:\n",
      "angry: Prec=0.521 | Rec=0.066 | F1=0.117\n",
      "disgust: Prec=0.025 | Rec=0.928 | F1=0.049\n",
      "fear: Prec=0.545 | Rec=0.018 | F1=0.034\n",
      "happy: Prec=0.879 | Rec=0.229 | F1=0.363\n",
      "neutral: Prec=0.580 | Rec=0.123 | F1=0.203\n",
      "sad: Prec=0.519 | Rec=0.034 | F1=0.063\n",
      "surprise: Prec=0.349 | Rec=0.881 | F1=0.500\n",
      "\n",
      "Epoch Summary: Train Loss=1.0240 | Val Loss=3.8576 | Train Acc=0.613 | Val Acc=0.211\n",
      "Epoch time: 163.13 seconds\n",
      "\n",
      "Epoch 14/15\n"
     ]
    },
    {
     "name": "stderr",
     "output_type": "stream",
     "text": [
      "Training: 100%|██████████| 525/525 [02:29<00:00,  3.51it/s]\n",
      "Validation: 100%|██████████| 113/113 [00:19<00:00,  5.81it/s]\n"
     ]
    },
    {
     "name": "stdout",
     "output_type": "stream",
     "text": [
      "\n",
      "Validation Report:\n",
      "angry: Prec=0.613 | Rec=0.102 | F1=0.175\n",
      "disgust: Prec=0.058 | Rec=0.586 | F1=0.106\n",
      "fear: Prec=0.315 | Rec=0.143 | F1=0.196\n",
      "happy: Prec=0.839 | Rec=0.697 | F1=0.762\n",
      "neutral: Prec=0.572 | Rec=0.410 | F1=0.477\n",
      "sad: Prec=0.413 | Rec=0.421 | F1=0.417\n",
      "surprise: Prec=0.402 | Rec=0.874 | F1=0.550\n",
      "\n",
      "Epoch Summary: Train Loss=1.0084 | Val Loss=1.5574 | Train Acc=0.620 | Val Acc=0.460\n",
      "Epoch time: 169.11 seconds\n",
      "\n",
      "Epoch 15/15\n"
     ]
    },
    {
     "name": "stderr",
     "output_type": "stream",
     "text": [
      "Training: 100%|██████████| 525/525 [02:36<00:00,  3.36it/s]\n",
      "Validation: 100%|██████████| 113/113 [00:19<00:00,  5.86it/s]\n"
     ]
    },
    {
     "name": "stdout",
     "output_type": "stream",
     "text": [
      "\n",
      "Validation Report:\n",
      "angry: Prec=0.454 | Rec=0.337 | F1=0.387\n",
      "disgust: Prec=0.048 | Rec=0.739 | F1=0.091\n",
      "fear: Prec=0.382 | Rec=0.123 | F1=0.186\n",
      "happy: Prec=0.797 | Rec=0.723 | F1=0.758\n",
      "neutral: Prec=0.619 | Rec=0.266 | F1=0.372\n",
      "sad: Prec=0.488 | Rec=0.161 | F1=0.242\n",
      "surprise: Prec=0.385 | Rec=0.875 | F1=0.534\n",
      "\n",
      "Epoch Summary: Train Loss=1.0022 | Val Loss=1.7553 | Train Acc=0.621 | Val Acc=0.428\n",
      "Epoch time: 175.52 seconds\n",
      "Saved model to 'results/adam_lr3_drop15_wd0_bn'\n",
      "\n",
      "Training config: adam_lr3_drop0_wd1e4_bn\n",
      "\n",
      "Epoch 1/15\n"
     ]
    },
    {
     "name": "stderr",
     "output_type": "stream",
     "text": [
      "Training: 100%|██████████| 525/525 [02:35<00:00,  3.39it/s]\n",
      "Validation: 100%|██████████| 113/113 [00:19<00:00,  5.84it/s]\n"
     ]
    },
    {
     "name": "stdout",
     "output_type": "stream",
     "text": [
      "\n",
      "Validation Report:\n",
      "angry: Prec=0.227 | Rec=0.039 | F1=0.066\n",
      "disgust: Prec=0.015 | Rec=0.468 | F1=0.029\n",
      "fear: Prec=0.132 | Rec=0.005 | F1=0.009\n",
      "happy: Prec=0.653 | Rec=0.185 | F1=0.289\n",
      "neutral: Prec=0.314 | Rec=0.056 | F1=0.095\n",
      "sad: Prec=0.300 | Rec=0.197 | F1=0.238\n",
      "surprise: Prec=0.281 | Rec=0.659 | F1=0.394\n",
      "\n",
      "Epoch Summary: Train Loss=1.6850 | Val Loss=2.5434 | Train Acc=0.339 | Val Acc=0.179\n",
      "Epoch time: 174.38 seconds\n",
      "\n",
      "Epoch 2/15\n"
     ]
    },
    {
     "name": "stderr",
     "output_type": "stream",
     "text": [
      "Training: 100%|██████████| 525/525 [02:34<00:00,  3.40it/s]\n",
      "Validation: 100%|██████████| 113/113 [00:19<00:00,  5.89it/s]\n"
     ]
    },
    {
     "name": "stdout",
     "output_type": "stream",
     "text": [
      "\n",
      "Validation Report:\n",
      "angry: Prec=0.310 | Rec=0.032 | F1=0.059\n",
      "disgust: Prec=0.021 | Rec=0.261 | F1=0.038\n",
      "fear: Prec=0.183 | Rec=0.030 | F1=0.052\n",
      "happy: Prec=0.540 | Rec=0.707 | F1=0.612\n",
      "neutral: Prec=0.384 | Rec=0.264 | F1=0.313\n",
      "sad: Prec=0.356 | Rec=0.188 | F1=0.246\n",
      "surprise: Prec=0.388 | Rec=0.785 | F1=0.520\n",
      "\n",
      "Epoch Summary: Train Loss=1.4316 | Val Loss=1.8992 | Train Acc=0.451 | Val Acc=0.356\n",
      "Epoch time: 173.68 seconds\n",
      "\n",
      "Epoch 3/15\n"
     ]
    },
    {
     "name": "stderr",
     "output_type": "stream",
     "text": [
      "Training: 100%|██████████| 525/525 [02:41<00:00,  3.26it/s]\n",
      "Validation: 100%|██████████| 113/113 [00:20<00:00,  5.59it/s]\n"
     ]
    },
    {
     "name": "stdout",
     "output_type": "stream",
     "text": [
      "\n",
      "Validation Report:\n",
      "angry: Prec=0.386 | Rec=0.214 | F1=0.275\n",
      "disgust: Prec=0.025 | Rec=0.288 | F1=0.046\n",
      "fear: Prec=0.238 | Rec=0.216 | F1=0.226\n",
      "happy: Prec=0.899 | Rec=0.465 | F1=0.613\n",
      "neutral: Prec=0.497 | Rec=0.393 | F1=0.439\n",
      "sad: Prec=0.355 | Rec=0.405 | F1=0.378\n",
      "surprise: Prec=0.540 | Rec=0.724 | F1=0.619\n",
      "\n",
      "Epoch Summary: Train Loss=1.3133 | Val Loss=1.6436 | Train Acc=0.503 | Val Acc=0.401\n",
      "Epoch time: 181.31 seconds\n",
      "\n",
      "Epoch 4/15\n"
     ]
    },
    {
     "name": "stderr",
     "output_type": "stream",
     "text": [
      "Training: 100%|██████████| 525/525 [02:34<00:00,  3.39it/s]\n",
      "Validation: 100%|██████████| 113/113 [00:19<00:00,  5.88it/s]\n"
     ]
    },
    {
     "name": "stdout",
     "output_type": "stream",
     "text": [
      "\n",
      "Validation Report:\n",
      "angry: Prec=0.307 | Rec=0.484 | F1=0.376\n",
      "disgust: Prec=0.022 | Rec=0.234 | F1=0.040\n",
      "fear: Prec=0.257 | Rec=0.221 | F1=0.237\n",
      "happy: Prec=0.802 | Rec=0.613 | F1=0.695\n",
      "neutral: Prec=0.592 | Rec=0.178 | F1=0.273\n",
      "sad: Prec=0.386 | Rec=0.342 | F1=0.363\n",
      "surprise: Prec=0.656 | Rec=0.598 | F1=0.626\n",
      "\n",
      "Epoch Summary: Train Loss=1.2399 | Val Loss=1.5969 | Train Acc=0.531 | Val Acc=0.411\n",
      "Epoch time: 174.05 seconds\n",
      "\n",
      "Epoch 5/15\n"
     ]
    },
    {
     "name": "stderr",
     "output_type": "stream",
     "text": [
      "Training: 100%|██████████| 525/525 [02:27<00:00,  3.57it/s]\n",
      "Validation: 100%|██████████| 113/113 [00:19<00:00,  5.87it/s]\n"
     ]
    },
    {
     "name": "stdout",
     "output_type": "stream",
     "text": [
      "\n",
      "Validation Report:\n",
      "angry: Prec=0.321 | Rec=0.524 | F1=0.398\n",
      "disgust: Prec=0.047 | Rec=0.153 | F1=0.072\n",
      "fear: Prec=0.300 | Rec=0.226 | F1=0.257\n",
      "happy: Prec=0.779 | Rec=0.713 | F1=0.744\n",
      "neutral: Prec=0.483 | Rec=0.414 | F1=0.446\n",
      "sad: Prec=0.529 | Rec=0.094 | F1=0.159\n",
      "surprise: Prec=0.438 | Rec=0.833 | F1=0.574\n",
      "\n",
      "Epoch Summary: Train Loss=1.1917 | Val Loss=1.4615 | Train Acc=0.552 | Val Acc=0.464\n",
      "Epoch time: 166.52 seconds\n",
      "\n",
      "Epoch 6/15\n"
     ]
    },
    {
     "name": "stderr",
     "output_type": "stream",
     "text": [
      "Training: 100%|██████████| 525/525 [02:49<00:00,  3.10it/s]\n",
      "Validation: 100%|██████████| 113/113 [00:19<00:00,  5.88it/s]\n"
     ]
    },
    {
     "name": "stdout",
     "output_type": "stream",
     "text": [
      "\n",
      "Validation Report:\n",
      "angry: Prec=0.369 | Rec=0.204 | F1=0.262\n",
      "disgust: Prec=0.026 | Rec=0.721 | F1=0.051\n",
      "fear: Prec=0.307 | Rec=0.101 | F1=0.151\n",
      "happy: Prec=0.833 | Rec=0.454 | F1=0.588\n",
      "neutral: Prec=0.498 | Rec=0.255 | F1=0.337\n",
      "sad: Prec=0.445 | Rec=0.220 | F1=0.294\n",
      "surprise: Prec=0.570 | Rec=0.728 | F1=0.639\n",
      "\n",
      "Epoch Summary: Train Loss=1.1587 | Val Loss=2.1148 | Train Acc=0.563 | Val Acc=0.331\n",
      "Epoch time: 188.63 seconds\n",
      "\n",
      "Epoch 7/15\n"
     ]
    },
    {
     "name": "stderr",
     "output_type": "stream",
     "text": [
      "Training: 100%|██████████| 525/525 [02:33<00:00,  3.41it/s]\n",
      "Validation: 100%|██████████| 113/113 [00:19<00:00,  5.89it/s]\n"
     ]
    },
    {
     "name": "stdout",
     "output_type": "stream",
     "text": [
      "\n",
      "Validation Report:\n",
      "angry: Prec=0.390 | Rec=0.356 | F1=0.372\n",
      "disgust: Prec=0.042 | Rec=0.279 | F1=0.073\n",
      "fear: Prec=0.363 | Rec=0.104 | F1=0.161\n",
      "happy: Prec=0.743 | Rec=0.740 | F1=0.741\n",
      "neutral: Prec=0.478 | Rec=0.467 | F1=0.473\n",
      "sad: Prec=0.504 | Rec=0.212 | F1=0.298\n",
      "surprise: Prec=0.404 | Rec=0.866 | F1=0.551\n",
      "\n",
      "Epoch Summary: Train Loss=1.1316 | Val Loss=1.5091 | Train Acc=0.572 | Val Acc=0.467\n",
      "Epoch time: 173.11 seconds\n",
      "\n",
      "Epoch 8/15\n"
     ]
    },
    {
     "name": "stderr",
     "output_type": "stream",
     "text": [
      "Training: 100%|██████████| 525/525 [02:31<00:00,  3.47it/s]\n",
      "Validation: 100%|██████████| 113/113 [00:19<00:00,  5.89it/s]\n"
     ]
    },
    {
     "name": "stdout",
     "output_type": "stream",
     "text": [
      "\n",
      "Validation Report:\n",
      "angry: Prec=0.409 | Rec=0.253 | F1=0.312\n",
      "disgust: Prec=0.031 | Rec=0.721 | F1=0.059\n",
      "fear: Prec=0.318 | Rec=0.123 | F1=0.177\n",
      "happy: Prec=0.856 | Rec=0.576 | F1=0.689\n",
      "neutral: Prec=0.496 | Rec=0.362 | F1=0.418\n",
      "sad: Prec=0.482 | Rec=0.192 | F1=0.275\n",
      "surprise: Prec=0.616 | Rec=0.727 | F1=0.667\n",
      "\n",
      "Epoch Summary: Train Loss=1.1083 | Val Loss=1.9102 | Train Acc=0.583 | Val Acc=0.385\n",
      "Epoch time: 170.31 seconds\n",
      "\n",
      "Epoch 9/15\n"
     ]
    },
    {
     "name": "stderr",
     "output_type": "stream",
     "text": [
      "Training: 100%|██████████| 525/525 [02:34<00:00,  3.40it/s]\n",
      "Validation: 100%|██████████| 113/113 [00:19<00:00,  5.86it/s]\n"
     ]
    },
    {
     "name": "stdout",
     "output_type": "stream",
     "text": [
      "\n",
      "Validation Report:\n",
      "angry: Prec=0.496 | Rec=0.183 | F1=0.267\n",
      "disgust: Prec=0.043 | Rec=0.667 | F1=0.081\n",
      "fear: Prec=0.299 | Rec=0.208 | F1=0.245\n",
      "happy: Prec=0.850 | Rec=0.552 | F1=0.670\n",
      "neutral: Prec=0.661 | Rec=0.204 | F1=0.312\n",
      "sad: Prec=0.422 | Rec=0.326 | F1=0.368\n",
      "surprise: Prec=0.371 | Rec=0.846 | F1=0.516\n",
      "\n",
      "Epoch Summary: Train Loss=1.0929 | Val Loss=1.8653 | Train Acc=0.589 | Val Acc=0.391\n",
      "Epoch time: 173.75 seconds\n",
      "\n",
      "Epoch 10/15\n"
     ]
    },
    {
     "name": "stderr",
     "output_type": "stream",
     "text": [
      "Training: 100%|██████████| 525/525 [02:38<00:00,  3.31it/s]\n",
      "Validation: 100%|██████████| 113/113 [00:19<00:00,  5.79it/s]\n"
     ]
    },
    {
     "name": "stdout",
     "output_type": "stream",
     "text": [
      "\n",
      "Validation Report:\n",
      "angry: Prec=0.529 | Rec=0.236 | F1=0.326\n",
      "disgust: Prec=0.038 | Rec=0.550 | F1=0.072\n",
      "fear: Prec=0.346 | Rec=0.213 | F1=0.264\n",
      "happy: Prec=0.823 | Rec=0.679 | F1=0.744\n",
      "neutral: Prec=0.549 | Rec=0.353 | F1=0.429\n",
      "sad: Prec=0.448 | Rec=0.212 | F1=0.288\n",
      "surprise: Prec=0.414 | Rec=0.840 | F1=0.555\n",
      "\n",
      "Epoch Summary: Train Loss=1.0715 | Val Loss=1.7461 | Train Acc=0.598 | Val Acc=0.433\n",
      "Epoch time: 178.30 seconds\n",
      "\n",
      "Epoch 11/15\n"
     ]
    },
    {
     "name": "stderr",
     "output_type": "stream",
     "text": [
      "Training: 100%|██████████| 525/525 [02:43<00:00,  3.20it/s]\n",
      "Validation: 100%|██████████| 113/113 [00:19<00:00,  5.86it/s]\n"
     ]
    },
    {
     "name": "stdout",
     "output_type": "stream",
     "text": [
      "\n",
      "Validation Report:\n",
      "angry: Prec=0.582 | Rec=0.111 | F1=0.186\n",
      "disgust: Prec=0.037 | Rec=0.721 | F1=0.070\n",
      "fear: Prec=0.289 | Rec=0.117 | F1=0.167\n",
      "happy: Prec=0.891 | Rec=0.324 | F1=0.475\n",
      "neutral: Prec=0.568 | Rec=0.075 | F1=0.132\n",
      "sad: Prec=0.438 | Rec=0.123 | F1=0.192\n",
      "surprise: Prec=0.239 | Rec=0.934 | F1=0.380\n",
      "\n",
      "Epoch Summary: Train Loss=1.0540 | Val Loss=3.0789 | Train Acc=0.602 | Val Acc=0.265\n",
      "Epoch time: 183.18 seconds\n",
      "\n",
      "Epoch 12/15\n"
     ]
    },
    {
     "name": "stderr",
     "output_type": "stream",
     "text": [
      "Training: 100%|██████████| 525/525 [02:24<00:00,  3.64it/s]\n",
      "Validation: 100%|██████████| 113/113 [00:19<00:00,  5.82it/s]\n"
     ]
    },
    {
     "name": "stdout",
     "output_type": "stream",
     "text": [
      "\n",
      "Validation Report:\n",
      "angry: Prec=0.465 | Rec=0.301 | F1=0.365\n",
      "disgust: Prec=0.035 | Rec=0.766 | F1=0.068\n",
      "fear: Prec=0.369 | Rec=0.145 | F1=0.208\n",
      "happy: Prec=0.890 | Rec=0.533 | F1=0.667\n",
      "neutral: Prec=0.506 | Rec=0.473 | F1=0.489\n",
      "sad: Prec=0.537 | Rec=0.087 | F1=0.149\n",
      "surprise: Prec=0.506 | Rec=0.816 | F1=0.625\n",
      "\n",
      "Epoch Summary: Train Loss=1.0452 | Val Loss=1.9198 | Train Acc=0.605 | Val Acc=0.395\n",
      "Epoch time: 163.65 seconds\n",
      "\n",
      "Epoch 13/15\n"
     ]
    },
    {
     "name": "stderr",
     "output_type": "stream",
     "text": [
      "Training: 100%|██████████| 525/525 [02:14<00:00,  3.90it/s]\n",
      "Validation: 100%|██████████| 113/113 [00:19<00:00,  5.88it/s]\n"
     ]
    },
    {
     "name": "stdout",
     "output_type": "stream",
     "text": [
      "\n",
      "Validation Report:\n",
      "angry: Prec=0.593 | Rec=0.087 | F1=0.151\n",
      "disgust: Prec=0.032 | Rec=0.892 | F1=0.063\n",
      "fear: Prec=0.384 | Rec=0.102 | F1=0.161\n",
      "happy: Prec=0.814 | Rec=0.522 | F1=0.636\n",
      "neutral: Prec=0.555 | Rec=0.267 | F1=0.360\n",
      "sad: Prec=0.460 | Rec=0.106 | F1=0.172\n",
      "surprise: Prec=0.414 | Rec=0.846 | F1=0.556\n",
      "\n",
      "Epoch Summary: Train Loss=1.0288 | Val Loss=2.4162 | Train Acc=0.611 | Val Acc=0.331\n",
      "Epoch time: 153.82 seconds\n",
      "\n",
      "Epoch 14/15\n"
     ]
    },
    {
     "name": "stderr",
     "output_type": "stream",
     "text": [
      "Training: 100%|██████████| 525/525 [02:16<00:00,  3.84it/s]\n",
      "Validation: 100%|██████████| 113/113 [00:19<00:00,  5.89it/s]\n"
     ]
    },
    {
     "name": "stdout",
     "output_type": "stream",
     "text": [
      "\n",
      "Validation Report:\n",
      "angry: Prec=0.615 | Rec=0.185 | F1=0.284\n",
      "disgust: Prec=0.039 | Rec=0.721 | F1=0.075\n",
      "fear: Prec=0.373 | Rec=0.214 | F1=0.272\n",
      "happy: Prec=0.825 | Rec=0.680 | F1=0.746\n",
      "neutral: Prec=0.569 | Rec=0.363 | F1=0.444\n",
      "sad: Prec=0.413 | Rec=0.328 | F1=0.366\n",
      "surprise: Prec=0.580 | Rec=0.723 | F1=0.644\n",
      "\n",
      "Epoch Summary: Train Loss=1.0179 | Val Loss=1.6352 | Train Acc=0.617 | Val Acc=0.438\n",
      "Epoch time: 155.84 seconds\n",
      "\n",
      "Epoch 15/15\n"
     ]
    },
    {
     "name": "stderr",
     "output_type": "stream",
     "text": [
      "Training: 100%|██████████| 525/525 [02:16<00:00,  3.83it/s]\n",
      "Validation: 100%|██████████| 113/113 [00:19<00:00,  5.85it/s]\n"
     ]
    },
    {
     "name": "stdout",
     "output_type": "stream",
     "text": [
      "\n",
      "Validation Report:\n",
      "angry: Prec=0.672 | Rec=0.081 | F1=0.145\n",
      "disgust: Prec=0.064 | Rec=0.667 | F1=0.116\n",
      "fear: Prec=0.294 | Rec=0.123 | F1=0.173\n",
      "happy: Prec=0.743 | Rec=0.731 | F1=0.737\n",
      "neutral: Prec=0.529 | Rec=0.315 | F1=0.395\n",
      "sad: Prec=0.522 | Rec=0.190 | F1=0.279\n",
      "surprise: Prec=0.296 | Rec=0.903 | F1=0.446\n",
      "\n",
      "Epoch Summary: Train Loss=1.0082 | Val Loss=1.8203 | Train Acc=0.619 | Val Acc=0.411\n",
      "Epoch time: 156.32 seconds\n",
      "Saved model to 'results/adam_lr3_drop0_wd1e4_bn'\n",
      "\n",
      "Training config: adam_lr3_drop15_wd1e4_bn\n",
      "\n",
      "Epoch 1/15\n"
     ]
    },
    {
     "name": "stderr",
     "output_type": "stream",
     "text": [
      "Training: 100%|██████████| 525/525 [02:17<00:00,  3.82it/s]\n",
      "Validation: 100%|██████████| 113/113 [00:19<00:00,  5.89it/s]\n"
     ]
    },
    {
     "name": "stdout",
     "output_type": "stream",
     "text": [
      "\n",
      "Validation Report:\n",
      "angry: Prec=0.500 | Rec=0.002 | F1=0.004\n",
      "disgust: Prec=0.005 | Rec=0.009 | F1=0.007\n",
      "fear: Prec=0.222 | Rec=0.002 | F1=0.004\n",
      "happy: Prec=0.389 | Rec=0.787 | F1=0.521\n",
      "neutral: Prec=0.259 | Rec=0.372 | F1=0.305\n",
      "sad: Prec=0.305 | Rec=0.057 | F1=0.096\n",
      "surprise: Prec=0.401 | Rec=0.667 | F1=0.500\n",
      "\n",
      "Epoch Summary: Train Loss=1.6929 | Val Loss=1.7124 | Train Acc=0.335 | Val Acc=0.346\n",
      "Epoch time: 156.76 seconds\n",
      "\n",
      "Epoch 2/15\n"
     ]
    },
    {
     "name": "stderr",
     "output_type": "stream",
     "text": [
      "Training: 100%|██████████| 525/525 [02:21<00:00,  3.71it/s]\n",
      "Validation: 100%|██████████| 113/113 [00:19<00:00,  5.86it/s]\n"
     ]
    },
    {
     "name": "stdout",
     "output_type": "stream",
     "text": [
      "\n",
      "Validation Report:\n",
      "angry: Prec=0.213 | Rec=0.322 | F1=0.256\n",
      "disgust: Prec=0.017 | Rec=0.207 | F1=0.031\n",
      "fear: Prec=0.217 | Rec=0.118 | F1=0.153\n",
      "happy: Prec=0.729 | Rec=0.524 | F1=0.610\n",
      "neutral: Prec=0.482 | Rec=0.201 | F1=0.284\n",
      "sad: Prec=0.327 | Rec=0.309 | F1=0.317\n",
      "surprise: Prec=0.572 | Rec=0.568 | F1=0.570\n",
      "\n",
      "Epoch Summary: Train Loss=1.4579 | Val Loss=1.7514 | Train Acc=0.442 | Val Acc=0.346\n",
      "Epoch time: 160.88 seconds\n",
      "\n",
      "Epoch 3/15\n"
     ]
    },
    {
     "name": "stderr",
     "output_type": "stream",
     "text": [
      "Training: 100%|██████████| 525/525 [02:20<00:00,  3.75it/s]\n",
      "Validation: 100%|██████████| 113/113 [00:19<00:00,  5.89it/s]\n"
     ]
    },
    {
     "name": "stdout",
     "output_type": "stream",
     "text": [
      "\n",
      "Validation Report:\n",
      "angry: Prec=0.289 | Rec=0.101 | F1=0.150\n",
      "disgust: Prec=0.024 | Rec=0.523 | F1=0.046\n",
      "fear: Prec=0.172 | Rec=0.085 | F1=0.114\n",
      "happy: Prec=0.810 | Rec=0.364 | F1=0.502\n",
      "neutral: Prec=0.438 | Rec=0.205 | F1=0.280\n",
      "sad: Prec=0.415 | Rec=0.125 | F1=0.192\n",
      "surprise: Prec=0.324 | Rec=0.850 | F1=0.469\n",
      "\n",
      "Epoch Summary: Train Loss=1.3347 | Val Loss=2.4185 | Train Acc=0.493 | Val Acc=0.279\n",
      "Epoch time: 159.41 seconds\n",
      "\n",
      "Epoch 4/15\n"
     ]
    },
    {
     "name": "stderr",
     "output_type": "stream",
     "text": [
      "Training: 100%|██████████| 525/525 [02:17<00:00,  3.81it/s]\n",
      "Validation: 100%|██████████| 113/113 [00:19<00:00,  5.86it/s]\n"
     ]
    },
    {
     "name": "stdout",
     "output_type": "stream",
     "text": [
      "\n",
      "Validation Report:\n",
      "angry: Prec=0.345 | Rec=0.242 | F1=0.284\n",
      "disgust: Prec=0.045 | Rec=0.198 | F1=0.073\n",
      "fear: Prec=0.290 | Rec=0.069 | F1=0.112\n",
      "happy: Prec=0.711 | Rec=0.696 | F1=0.704\n",
      "neutral: Prec=0.415 | Rec=0.371 | F1=0.392\n",
      "sad: Prec=0.443 | Rec=0.192 | F1=0.268\n",
      "surprise: Prec=0.304 | Rec=0.877 | F1=0.452\n",
      "\n",
      "Epoch Summary: Train Loss=1.2642 | Val Loss=1.6475 | Train Acc=0.520 | Val Acc=0.416\n",
      "Epoch time: 157.11 seconds\n",
      "\n",
      "Epoch 5/15\n"
     ]
    },
    {
     "name": "stderr",
     "output_type": "stream",
     "text": [
      "Training: 100%|██████████| 525/525 [02:17<00:00,  3.82it/s]\n",
      "Validation: 100%|██████████| 113/113 [00:19<00:00,  5.88it/s]\n"
     ]
    },
    {
     "name": "stdout",
     "output_type": "stream",
     "text": [
      "\n",
      "Validation Report:\n",
      "angry: Prec=0.356 | Rec=0.398 | F1=0.376\n",
      "disgust: Prec=0.025 | Rec=0.387 | F1=0.047\n",
      "fear: Prec=0.315 | Rec=0.102 | F1=0.154\n",
      "happy: Prec=0.819 | Rec=0.608 | F1=0.698\n",
      "neutral: Prec=0.531 | Rec=0.344 | F1=0.418\n",
      "sad: Prec=0.398 | Rec=0.338 | F1=0.365\n",
      "surprise: Prec=0.616 | Rec=0.645 | F1=0.630\n",
      "\n",
      "Epoch Summary: Train Loss=1.2114 | Val Loss=1.6100 | Train Acc=0.538 | Val Acc=0.416\n",
      "Epoch time: 156.75 seconds\n",
      "\n",
      "Epoch 6/15\n"
     ]
    },
    {
     "name": "stderr",
     "output_type": "stream",
     "text": [
      "Training: 100%|██████████| 525/525 [02:15<00:00,  3.89it/s]\n",
      "Validation: 100%|██████████| 113/113 [00:19<00:00,  5.88it/s]\n"
     ]
    },
    {
     "name": "stdout",
     "output_type": "stream",
     "text": [
      "\n",
      "Validation Report:\n",
      "angry: Prec=0.548 | Rec=0.156 | F1=0.242\n",
      "disgust: Prec=0.040 | Rec=0.423 | F1=0.074\n",
      "fear: Prec=0.301 | Rec=0.202 | F1=0.242\n",
      "happy: Prec=0.757 | Rec=0.671 | F1=0.711\n",
      "neutral: Prec=0.491 | Rec=0.324 | F1=0.390\n",
      "sad: Prec=0.400 | Rec=0.352 | F1=0.375\n",
      "surprise: Prec=0.422 | Rec=0.798 | F1=0.552\n",
      "\n",
      "Epoch Summary: Train Loss=1.1745 | Val Loss=1.6410 | Train Acc=0.556 | Val Acc=0.431\n",
      "Epoch time: 154.32 seconds\n",
      "\n",
      "Epoch 7/15\n"
     ]
    },
    {
     "name": "stderr",
     "output_type": "stream",
     "text": [
      "Training: 100%|██████████| 525/525 [02:17<00:00,  3.83it/s]\n",
      "Validation: 100%|██████████| 113/113 [00:19<00:00,  5.88it/s]\n"
     ]
    },
    {
     "name": "stdout",
     "output_type": "stream",
     "text": [
      "\n",
      "Validation Report:\n",
      "angry: Prec=0.406 | Rec=0.304 | F1=0.348\n",
      "disgust: Prec=0.036 | Rec=0.441 | F1=0.067\n",
      "fear: Prec=0.344 | Rec=0.070 | F1=0.117\n",
      "happy: Prec=0.576 | Rec=0.840 | F1=0.683\n",
      "neutral: Prec=0.497 | Rec=0.386 | F1=0.435\n",
      "sad: Prec=0.521 | Rec=0.111 | F1=0.184\n",
      "surprise: Prec=0.554 | Rec=0.730 | F1=0.630\n",
      "\n",
      "Epoch Summary: Train Loss=1.1441 | Val Loss=1.7132 | Train Acc=0.569 | Val Acc=0.435\n",
      "Epoch time: 156.35 seconds\n",
      "\n",
      "Epoch 8/15\n"
     ]
    },
    {
     "name": "stderr",
     "output_type": "stream",
     "text": [
      "Training: 100%|██████████| 525/525 [02:17<00:00,  3.83it/s]\n",
      "Validation: 100%|██████████| 113/113 [00:19<00:00,  5.88it/s]\n"
     ]
    },
    {
     "name": "stdout",
     "output_type": "stream",
     "text": [
      "\n",
      "Validation Report:\n",
      "angry: Prec=0.516 | Rec=0.312 | F1=0.389\n",
      "disgust: Prec=0.062 | Rec=0.378 | F1=0.107\n",
      "fear: Prec=0.449 | Rec=0.052 | F1=0.093\n",
      "happy: Prec=0.764 | Rec=0.755 | F1=0.760\n",
      "neutral: Prec=0.446 | Rec=0.607 | F1=0.514\n",
      "sad: Prec=0.457 | Rec=0.306 | F1=0.367\n",
      "surprise: Prec=0.457 | Rec=0.847 | F1=0.594\n",
      "\n",
      "Epoch Summary: Train Loss=1.1162 | Val Loss=1.4252 | Train Acc=0.581 | Val Acc=0.497\n",
      "Epoch time: 156.42 seconds\n",
      "\n",
      "Epoch 9/15\n"
     ]
    },
    {
     "name": "stderr",
     "output_type": "stream",
     "text": [
      "Training: 100%|██████████| 525/525 [02:13<00:00,  3.94it/s]\n",
      "Validation: 100%|██████████| 113/113 [00:19<00:00,  5.90it/s]\n"
     ]
    },
    {
     "name": "stdout",
     "output_type": "stream",
     "text": [
      "\n",
      "Validation Report:\n",
      "angry: Prec=0.495 | Rec=0.299 | F1=0.372\n",
      "disgust: Prec=0.045 | Rec=0.577 | F1=0.084\n",
      "fear: Prec=0.310 | Rec=0.143 | F1=0.195\n",
      "happy: Prec=0.839 | Rec=0.674 | F1=0.748\n",
      "neutral: Prec=0.445 | Rec=0.614 | F1=0.516\n",
      "sad: Prec=0.529 | Rec=0.154 | F1=0.239\n",
      "surprise: Prec=0.530 | Rec=0.779 | F1=0.631\n",
      "\n",
      "Epoch Summary: Train Loss=1.0994 | Val Loss=1.5349 | Train Acc=0.584 | Val Acc=0.458\n",
      "Epoch time: 152.58 seconds\n",
      "\n",
      "Epoch 10/15\n"
     ]
    },
    {
     "name": "stderr",
     "output_type": "stream",
     "text": [
      "Training: 100%|██████████| 525/525 [02:14<00:00,  3.90it/s]\n",
      "Validation: 100%|██████████| 113/113 [00:19<00:00,  5.84it/s]\n"
     ]
    },
    {
     "name": "stdout",
     "output_type": "stream",
     "text": [
      "\n",
      "Validation Report:\n",
      "angry: Prec=0.572 | Rec=0.141 | F1=0.226\n",
      "disgust: Prec=0.038 | Rec=0.667 | F1=0.071\n",
      "fear: Prec=0.271 | Rec=0.022 | F1=0.041\n",
      "happy: Prec=0.696 | Rec=0.738 | F1=0.717\n",
      "neutral: Prec=0.522 | Rec=0.244 | F1=0.333\n",
      "sad: Prec=0.427 | Rec=0.161 | F1=0.234\n",
      "surprise: Prec=0.361 | Rec=0.853 | F1=0.508\n",
      "\n",
      "Epoch Summary: Train Loss=1.0824 | Val Loss=2.0253 | Train Acc=0.592 | Val Acc=0.384\n",
      "Epoch time: 154.14 seconds\n",
      "\n",
      "Epoch 11/15\n"
     ]
    },
    {
     "name": "stderr",
     "output_type": "stream",
     "text": [
      "Training: 100%|██████████| 525/525 [02:14<00:00,  3.91it/s]\n",
      "Validation: 100%|██████████| 113/113 [00:19<00:00,  5.90it/s]\n"
     ]
    },
    {
     "name": "stdout",
     "output_type": "stream",
     "text": [
      "\n",
      "Validation Report:\n",
      "angry: Prec=0.569 | Rec=0.254 | F1=0.351\n",
      "disgust: Prec=0.051 | Rec=0.577 | F1=0.093\n",
      "fear: Prec=0.383 | Rec=0.134 | F1=0.198\n",
      "happy: Prec=0.642 | Rec=0.826 | F1=0.723\n",
      "neutral: Prec=0.473 | Rec=0.431 | F1=0.451\n",
      "sad: Prec=0.537 | Rec=0.105 | F1=0.176\n",
      "surprise: Prec=0.462 | Rec=0.824 | F1=0.592\n",
      "\n",
      "Epoch Summary: Train Loss=1.0593 | Val Loss=1.7065 | Train Acc=0.600 | Val Acc=0.454\n",
      "Epoch time: 153.65 seconds\n",
      "\n",
      "Epoch 12/15\n"
     ]
    },
    {
     "name": "stderr",
     "output_type": "stream",
     "text": [
      "Training: 100%|██████████| 525/525 [02:13<00:00,  3.94it/s]\n",
      "Validation: 100%|██████████| 113/113 [00:19<00:00,  5.93it/s]\n"
     ]
    },
    {
     "name": "stdout",
     "output_type": "stream",
     "text": [
      "\n",
      "Validation Report:\n",
      "angry: Prec=0.532 | Rec=0.113 | F1=0.186\n",
      "disgust: Prec=0.043 | Rec=0.793 | F1=0.081\n",
      "fear: Prec=0.331 | Rec=0.043 | F1=0.076\n",
      "happy: Prec=0.849 | Rec=0.521 | F1=0.646\n",
      "neutral: Prec=0.591 | Rec=0.287 | F1=0.386\n",
      "sad: Prec=0.559 | Rec=0.084 | F1=0.146\n",
      "surprise: Prec=0.270 | Rec=0.946 | F1=0.420\n",
      "\n",
      "Epoch Summary: Train Loss=1.0454 | Val Loss=2.5108 | Train Acc=0.605 | Val Acc=0.336\n",
      "Epoch time: 152.46 seconds\n",
      "\n",
      "Epoch 13/15\n"
     ]
    },
    {
     "name": "stderr",
     "output_type": "stream",
     "text": [
      "Training: 100%|██████████| 525/525 [02:19<00:00,  3.76it/s]\n",
      "Validation: 100%|██████████| 113/113 [00:19<00:00,  5.91it/s]\n"
     ]
    },
    {
     "name": "stdout",
     "output_type": "stream",
     "text": [
      "\n",
      "Validation Report:\n",
      "angry: Prec=0.529 | Rec=0.116 | F1=0.190\n",
      "disgust: Prec=0.026 | Rec=0.892 | F1=0.051\n",
      "fear: Prec=0.397 | Rec=0.028 | F1=0.053\n",
      "happy: Prec=0.910 | Rec=0.323 | F1=0.477\n",
      "neutral: Prec=0.561 | Rec=0.123 | F1=0.202\n",
      "sad: Prec=0.497 | Rec=0.073 | F1=0.127\n",
      "surprise: Prec=0.356 | Rec=0.858 | F1=0.503\n",
      "\n",
      "Epoch Summary: Train Loss=1.0326 | Val Loss=3.4488 | Train Acc=0.609 | Val Acc=0.246\n",
      "Epoch time: 158.74 seconds\n",
      "\n",
      "Epoch 14/15\n"
     ]
    },
    {
     "name": "stderr",
     "output_type": "stream",
     "text": [
      "Training: 100%|██████████| 525/525 [02:15<00:00,  3.87it/s]\n",
      "Validation: 100%|██████████| 113/113 [00:19<00:00,  5.86it/s]\n"
     ]
    },
    {
     "name": "stdout",
     "output_type": "stream",
     "text": [
      "\n",
      "Validation Report:\n",
      "angry: Prec=0.545 | Rec=0.126 | F1=0.205\n",
      "disgust: Prec=0.035 | Rec=0.892 | F1=0.068\n",
      "fear: Prec=0.350 | Rec=0.047 | F1=0.083\n",
      "happy: Prec=0.883 | Rec=0.438 | F1=0.586\n",
      "neutral: Prec=0.664 | Rec=0.141 | F1=0.233\n",
      "sad: Prec=0.485 | Rec=0.165 | F1=0.246\n",
      "surprise: Prec=0.309 | Rec=0.905 | F1=0.460\n",
      "\n",
      "Epoch Summary: Train Loss=1.0242 | Val Loss=2.6514 | Train Acc=0.615 | Val Acc=0.303\n",
      "Epoch time: 155.07 seconds\n",
      "\n",
      "Epoch 15/15\n"
     ]
    },
    {
     "name": "stderr",
     "output_type": "stream",
     "text": [
      "Training: 100%|██████████| 525/525 [02:19<00:00,  3.76it/s]\n",
      "Validation: 100%|██████████| 113/113 [00:19<00:00,  5.89it/s]\n"
     ]
    },
    {
     "name": "stdout",
     "output_type": "stream",
     "text": [
      "\n",
      "Validation Report:\n",
      "angry: Prec=0.563 | Rec=0.190 | F1=0.284\n",
      "disgust: Prec=0.050 | Rec=0.730 | F1=0.094\n",
      "fear: Prec=0.692 | Rec=0.018 | F1=0.034\n",
      "happy: Prec=0.747 | Rec=0.739 | F1=0.743\n",
      "neutral: Prec=0.430 | Rec=0.544 | F1=0.480\n",
      "sad: Prec=0.558 | Rec=0.089 | F1=0.154\n",
      "surprise: Prec=0.415 | Rec=0.854 | F1=0.559\n",
      "\n",
      "Epoch Summary: Train Loss=1.0129 | Val Loss=1.9669 | Train Acc=0.618 | Val Acc=0.430\n",
      "Epoch time: 158.83 seconds\n",
      "Saved model to 'results/adam_lr3_drop15_wd1e4_bn'\n",
      "\n",
      "Training config: sgd_lr3_drop15_wd1e4_bn\n",
      "\n",
      "Epoch 1/15\n"
     ]
    },
    {
     "name": "stderr",
     "output_type": "stream",
     "text": [
      "Training: 100%|██████████| 525/525 [02:23<00:00,  3.65it/s]\n",
      "Validation: 100%|██████████| 113/113 [00:19<00:00,  5.85it/s]\n",
      "/Users/taniapazospuig/Desktop/DeepLearningProject/venv/lib/python3.11/site-packages/sklearn/metrics/_classification.py:1565: UndefinedMetricWarning: Precision is ill-defined and being set to 0.0 in labels with no predicted samples. Use `zero_division` parameter to control this behavior.\n",
      "  _warn_prf(average, modifier, f\"{metric.capitalize()} is\", len(result))\n",
      "/Users/taniapazospuig/Desktop/DeepLearningProject/venv/lib/python3.11/site-packages/sklearn/metrics/_classification.py:1565: UndefinedMetricWarning: Precision is ill-defined and being set to 0.0 in labels with no predicted samples. Use `zero_division` parameter to control this behavior.\n",
      "  _warn_prf(average, modifier, f\"{metric.capitalize()} is\", len(result))\n",
      "/Users/taniapazospuig/Desktop/DeepLearningProject/venv/lib/python3.11/site-packages/sklearn/metrics/_classification.py:1565: UndefinedMetricWarning: Precision is ill-defined and being set to 0.0 in labels with no predicted samples. Use `zero_division` parameter to control this behavior.\n",
      "  _warn_prf(average, modifier, f\"{metric.capitalize()} is\", len(result))\n"
     ]
    },
    {
     "name": "stdout",
     "output_type": "stream",
     "text": [
      "\n",
      "Validation Report:\n",
      "angry: Prec=0.000 | Rec=0.000 | F1=0.000\n",
      "disgust: Prec=0.013 | Rec=0.072 | F1=0.022\n",
      "fear: Prec=0.314 | Rec=0.036 | F1=0.065\n",
      "happy: Prec=0.264 | Rec=0.901 | F1=0.409\n",
      "neutral: Prec=0.350 | Rec=0.006 | F1=0.011\n",
      "sad: Prec=0.136 | Rec=0.006 | F1=0.012\n",
      "surprise: Prec=0.351 | Rec=0.132 | F1=0.192\n",
      "\n",
      "Epoch Summary: Train Loss=1.9017 | Val Loss=1.8743 | Train Acc=0.215 | Val Acc=0.246\n",
      "Epoch time: 163.04 seconds\n",
      "\n",
      "Epoch 2/15\n"
     ]
    },
    {
     "name": "stderr",
     "output_type": "stream",
     "text": [
      "Training: 100%|██████████| 525/525 [02:16<00:00,  3.85it/s]\n",
      "Validation: 100%|██████████| 113/113 [00:19<00:00,  5.85it/s]\n",
      "/Users/taniapazospuig/Desktop/DeepLearningProject/venv/lib/python3.11/site-packages/sklearn/metrics/_classification.py:1565: UndefinedMetricWarning: Precision is ill-defined and being set to 0.0 in labels with no predicted samples. Use `zero_division` parameter to control this behavior.\n",
      "  _warn_prf(average, modifier, f\"{metric.capitalize()} is\", len(result))\n",
      "/Users/taniapazospuig/Desktop/DeepLearningProject/venv/lib/python3.11/site-packages/sklearn/metrics/_classification.py:1565: UndefinedMetricWarning: Precision is ill-defined and being set to 0.0 in labels with no predicted samples. Use `zero_division` parameter to control this behavior.\n",
      "  _warn_prf(average, modifier, f\"{metric.capitalize()} is\", len(result))\n",
      "/Users/taniapazospuig/Desktop/DeepLearningProject/venv/lib/python3.11/site-packages/sklearn/metrics/_classification.py:1565: UndefinedMetricWarning: Precision is ill-defined and being set to 0.0 in labels with no predicted samples. Use `zero_division` parameter to control this behavior.\n",
      "  _warn_prf(average, modifier, f\"{metric.capitalize()} is\", len(result))\n"
     ]
    },
    {
     "name": "stdout",
     "output_type": "stream",
     "text": [
      "\n",
      "Validation Report:\n",
      "angry: Prec=0.000 | Rec=0.000 | F1=0.000\n",
      "disgust: Prec=0.009 | Rec=0.108 | F1=0.016\n",
      "fear: Prec=0.000 | Rec=0.000 | F1=0.000\n",
      "happy: Prec=0.279 | Rec=0.719 | F1=0.402\n",
      "neutral: Prec=0.318 | Rec=0.023 | F1=0.042\n",
      "sad: Prec=0.266 | Rec=0.020 | F1=0.037\n",
      "surprise: Prec=0.281 | Rec=0.357 | F1=0.315\n",
      "\n",
      "Epoch Summary: Train Loss=1.8106 | Val Loss=1.8787 | Train Acc=0.287 | Val Acc=0.228\n",
      "Epoch time: 155.79 seconds\n",
      "\n",
      "Epoch 3/15\n"
     ]
    },
    {
     "name": "stderr",
     "output_type": "stream",
     "text": [
      "Training: 100%|██████████| 525/525 [02:15<00:00,  3.88it/s]\n",
      "Validation: 100%|██████████| 113/113 [00:19<00:00,  5.90it/s]\n"
     ]
    },
    {
     "name": "stdout",
     "output_type": "stream",
     "text": [
      "\n",
      "Validation Report:\n",
      "angry: Prec=0.000 | Rec=0.000 | F1=0.000\n",
      "disgust: Prec=0.013 | Rec=0.216 | F1=0.025\n",
      "fear: Prec=0.250 | Rec=0.005 | F1=0.010\n",
      "happy: Prec=0.327 | Rec=0.373 | F1=0.349\n",
      "neutral: Prec=0.236 | Rec=0.124 | F1=0.163\n",
      "sad: Prec=0.236 | Rec=0.014 | F1=0.026\n",
      "surprise: Prec=0.203 | Rec=0.641 | F1=0.309\n",
      "\n",
      "Epoch Summary: Train Loss=1.7313 | Val Loss=2.0036 | Train Acc=0.322 | Val Acc=0.194\n",
      "Epoch time: 154.41 seconds\n",
      "\n",
      "Epoch 4/15\n"
     ]
    },
    {
     "name": "stderr",
     "output_type": "stream",
     "text": [
      "Training: 100%|██████████| 525/525 [02:15<00:00,  3.87it/s]\n",
      "Validation: 100%|██████████| 113/113 [00:19<00:00,  5.67it/s]\n"
     ]
    },
    {
     "name": "stdout",
     "output_type": "stream",
     "text": [
      "\n",
      "Validation Report:\n",
      "angry: Prec=0.154 | Rec=0.002 | F1=0.004\n",
      "disgust: Prec=0.002 | Rec=0.009 | F1=0.003\n",
      "fear: Prec=0.254 | Rec=0.016 | F1=0.029\n",
      "happy: Prec=0.314 | Rec=0.715 | F1=0.436\n",
      "neutral: Prec=0.238 | Rec=0.084 | F1=0.124\n",
      "sad: Prec=0.281 | Rec=0.056 | F1=0.094\n",
      "surprise: Prec=0.271 | Rec=0.619 | F1=0.376\n",
      "\n",
      "Epoch Summary: Train Loss=1.6832 | Val Loss=1.8078 | Train Acc=0.341 | Val Acc=0.275\n",
      "Epoch time: 155.73 seconds\n",
      "\n",
      "Epoch 5/15\n"
     ]
    },
    {
     "name": "stderr",
     "output_type": "stream",
     "text": [
      "Training: 100%|██████████| 525/525 [02:14<00:00,  3.89it/s]\n",
      "Validation: 100%|██████████| 113/113 [00:19<00:00,  5.88it/s]\n"
     ]
    },
    {
     "name": "stdout",
     "output_type": "stream",
     "text": [
      "\n",
      "Validation Report:\n",
      "angry: Prec=0.208 | Rec=0.005 | F1=0.010\n",
      "disgust: Prec=0.015 | Rec=0.324 | F1=0.029\n",
      "fear: Prec=0.256 | Rec=0.010 | F1=0.019\n",
      "happy: Prec=0.341 | Rec=0.516 | F1=0.410\n",
      "neutral: Prec=0.257 | Rec=0.057 | F1=0.093\n",
      "sad: Prec=0.266 | Rec=0.084 | F1=0.128\n",
      "surprise: Prec=0.303 | Rec=0.496 | F1=0.376\n",
      "\n",
      "Epoch Summary: Train Loss=1.6474 | Val Loss=2.0541 | Train Acc=0.354 | Val Acc=0.216\n",
      "Epoch time: 154.20 seconds\n",
      "\n",
      "Epoch 6/15\n"
     ]
    },
    {
     "name": "stderr",
     "output_type": "stream",
     "text": [
      "Training: 100%|██████████| 525/525 [02:05<00:00,  4.20it/s]\n",
      "Validation: 100%|██████████| 113/113 [00:19<00:00,  5.93it/s]\n"
     ]
    },
    {
     "name": "stdout",
     "output_type": "stream",
     "text": [
      "\n",
      "Validation Report:\n",
      "angry: Prec=0.267 | Rec=0.004 | F1=0.008\n",
      "disgust: Prec=0.015 | Rec=0.252 | F1=0.028\n",
      "fear: Prec=0.197 | Rec=0.022 | F1=0.040\n",
      "happy: Prec=0.360 | Rec=0.566 | F1=0.440\n",
      "neutral: Prec=0.221 | Rec=0.041 | F1=0.069\n",
      "sad: Prec=0.250 | Rec=0.101 | F1=0.144\n",
      "surprise: Prec=0.320 | Rec=0.631 | F1=0.424\n",
      "\n",
      "Epoch Summary: Train Loss=1.6132 | Val Loss=1.9792 | Train Acc=0.369 | Val Acc=0.245\n",
      "Epoch time: 144.16 seconds\n",
      "\n",
      "Epoch 7/15\n"
     ]
    },
    {
     "name": "stderr",
     "output_type": "stream",
     "text": [
      "Training: 100%|██████████| 525/525 [02:06<00:00,  4.15it/s]\n",
      "Validation: 100%|██████████| 113/113 [00:19<00:00,  5.75it/s]\n"
     ]
    },
    {
     "name": "stdout",
     "output_type": "stream",
     "text": [
      "\n",
      "Validation Report:\n",
      "angry: Prec=0.214 | Rec=0.009 | F1=0.018\n",
      "disgust: Prec=0.014 | Rec=0.252 | F1=0.027\n",
      "fear: Prec=0.340 | Rec=0.017 | F1=0.032\n",
      "happy: Prec=0.361 | Rec=0.610 | F1=0.453\n",
      "neutral: Prec=0.256 | Rec=0.067 | F1=0.106\n",
      "sad: Prec=0.258 | Rec=0.147 | F1=0.187\n",
      "surprise: Prec=0.388 | Rec=0.510 | F1=0.441\n",
      "\n",
      "Epoch Summary: Train Loss=1.5835 | Val Loss=1.9913 | Train Acc=0.379 | Val Acc=0.254\n",
      "Epoch time: 146.31 seconds\n",
      "\n",
      "Epoch 8/15\n"
     ]
    },
    {
     "name": "stderr",
     "output_type": "stream",
     "text": [
      "Training: 100%|██████████| 525/525 [02:08<00:00,  4.08it/s]\n",
      "Validation: 100%|██████████| 113/113 [00:19<00:00,  5.82it/s]\n"
     ]
    },
    {
     "name": "stdout",
     "output_type": "stream",
     "text": [
      "\n",
      "Validation Report:\n",
      "angry: Prec=0.280 | Rec=0.007 | F1=0.014\n",
      "disgust: Prec=0.015 | Rec=0.270 | F1=0.029\n",
      "fear: Prec=0.200 | Rec=0.021 | F1=0.037\n",
      "happy: Prec=0.389 | Rec=0.521 | F1=0.446\n",
      "neutral: Prec=0.264 | Rec=0.039 | F1=0.068\n",
      "sad: Prec=0.281 | Rec=0.146 | F1=0.192\n",
      "surprise: Prec=0.325 | Rec=0.733 | F1=0.451\n",
      "\n",
      "Epoch Summary: Train Loss=1.5579 | Val Loss=2.0642 | Train Acc=0.390 | Val Acc=0.254\n",
      "Epoch time: 147.99 seconds\n",
      "\n",
      "Epoch 9/15\n"
     ]
    },
    {
     "name": "stderr",
     "output_type": "stream",
     "text": [
      "Training: 100%|██████████| 525/525 [02:08<00:00,  4.07it/s]\n",
      "Validation: 100%|██████████| 113/113 [00:19<00:00,  5.88it/s]\n"
     ]
    },
    {
     "name": "stdout",
     "output_type": "stream",
     "text": [
      "\n",
      "Validation Report:\n",
      "angry: Prec=0.194 | Rec=0.007 | F1=0.014\n",
      "disgust: Prec=0.017 | Rec=0.378 | F1=0.033\n",
      "fear: Prec=0.216 | Rec=0.024 | F1=0.044\n",
      "happy: Prec=0.438 | Rec=0.472 | F1=0.455\n",
      "neutral: Prec=0.297 | Rec=0.101 | F1=0.151\n",
      "sad: Prec=0.289 | Rec=0.105 | F1=0.154\n",
      "surprise: Prec=0.329 | Rec=0.729 | F1=0.454\n",
      "\n",
      "Epoch Summary: Train Loss=1.5320 | Val Loss=2.2313 | Train Acc=0.402 | Val Acc=0.247\n",
      "Epoch time: 148.19 seconds\n",
      "\n",
      "Epoch 10/15\n"
     ]
    },
    {
     "name": "stderr",
     "output_type": "stream",
     "text": [
      "Training: 100%|██████████| 525/525 [02:12<00:00,  3.97it/s]\n",
      "Validation: 100%|██████████| 113/113 [00:19<00:00,  5.76it/s]\n"
     ]
    },
    {
     "name": "stdout",
     "output_type": "stream",
     "text": [
      "\n",
      "Validation Report:\n",
      "angry: Prec=0.366 | Rec=0.016 | F1=0.030\n",
      "disgust: Prec=0.016 | Rec=0.270 | F1=0.030\n",
      "fear: Prec=0.207 | Rec=0.036 | F1=0.062\n",
      "happy: Prec=0.462 | Rec=0.554 | F1=0.504\n",
      "neutral: Prec=0.286 | Rec=0.153 | F1=0.200\n",
      "sad: Prec=0.322 | Rec=0.132 | F1=0.187\n",
      "surprise: Prec=0.349 | Rec=0.732 | F1=0.473\n",
      "\n",
      "Epoch Summary: Train Loss=1.5080 | Val Loss=1.9737 | Train Acc=0.416 | Val Acc=0.282\n",
      "Epoch time: 151.85 seconds\n",
      "\n",
      "Epoch 11/15\n"
     ]
    },
    {
     "name": "stderr",
     "output_type": "stream",
     "text": [
      "Training: 100%|██████████| 525/525 [02:10<00:00,  4.01it/s]\n",
      "Validation: 100%|██████████| 113/113 [00:19<00:00,  5.91it/s]\n"
     ]
    },
    {
     "name": "stdout",
     "output_type": "stream",
     "text": [
      "\n",
      "Validation Report:\n",
      "angry: Prec=0.213 | Rec=0.017 | F1=0.031\n",
      "disgust: Prec=0.016 | Rec=0.216 | F1=0.029\n",
      "fear: Prec=0.198 | Rec=0.078 | F1=0.112\n",
      "happy: Prec=0.538 | Rec=0.547 | F1=0.542\n",
      "neutral: Prec=0.322 | Rec=0.146 | F1=0.201\n",
      "sad: Prec=0.298 | Rec=0.310 | F1=0.304\n",
      "surprise: Prec=0.390 | Rec=0.708 | F1=0.503\n",
      "\n",
      "Epoch Summary: Train Loss=1.4850 | Val Loss=1.8451 | Train Acc=0.428 | Val Acc=0.313\n",
      "Epoch time: 150.06 seconds\n",
      "\n",
      "Epoch 12/15\n"
     ]
    },
    {
     "name": "stderr",
     "output_type": "stream",
     "text": [
      "Training: 100%|██████████| 525/525 [02:11<00:00,  3.99it/s]\n",
      "Validation: 100%|██████████| 113/113 [00:19<00:00,  5.88it/s]\n"
     ]
    },
    {
     "name": "stdout",
     "output_type": "stream",
     "text": [
      "\n",
      "Validation Report:\n",
      "angry: Prec=0.252 | Rec=0.074 | F1=0.115\n",
      "disgust: Prec=0.009 | Rec=0.027 | F1=0.014\n",
      "fear: Prec=0.192 | Rec=0.066 | F1=0.099\n",
      "happy: Prec=0.444 | Rec=0.779 | F1=0.565\n",
      "neutral: Prec=0.320 | Rec=0.191 | F1=0.239\n",
      "sad: Prec=0.309 | Rec=0.318 | F1=0.313\n",
      "surprise: Prec=0.490 | Rec=0.638 | F1=0.554\n",
      "\n",
      "Epoch Summary: Train Loss=1.4660 | Val Loss=1.6004 | Train Acc=0.434 | Val Acc=0.374\n",
      "Epoch time: 150.69 seconds\n",
      "\n",
      "Epoch 13/15\n"
     ]
    },
    {
     "name": "stderr",
     "output_type": "stream",
     "text": [
      "Training: 100%|██████████| 525/525 [02:19<00:00,  3.77it/s]\n",
      "Validation: 100%|██████████| 113/113 [00:19<00:00,  5.91it/s]\n"
     ]
    },
    {
     "name": "stdout",
     "output_type": "stream",
     "text": [
      "\n",
      "Validation Report:\n",
      "angry: Prec=0.253 | Rec=0.044 | F1=0.075\n",
      "disgust: Prec=0.017 | Rec=0.279 | F1=0.032\n",
      "fear: Prec=0.261 | Rec=0.062 | F1=0.100\n",
      "happy: Prec=0.533 | Rec=0.528 | F1=0.530\n",
      "neutral: Prec=0.337 | Rec=0.132 | F1=0.190\n",
      "sad: Prec=0.335 | Rec=0.161 | F1=0.218\n",
      "surprise: Prec=0.318 | Rec=0.813 | F1=0.457\n",
      "\n",
      "Epoch Summary: Train Loss=1.4406 | Val Loss=2.0510 | Train Acc=0.446 | Val Acc=0.294\n",
      "Epoch time: 158.27 seconds\n",
      "\n",
      "Epoch 14/15\n"
     ]
    },
    {
     "name": "stderr",
     "output_type": "stream",
     "text": [
      "Training: 100%|██████████| 525/525 [02:24<00:00,  3.64it/s]\n",
      "Validation: 100%|██████████| 113/113 [00:19<00:00,  5.87it/s]\n"
     ]
    },
    {
     "name": "stdout",
     "output_type": "stream",
     "text": [
      "\n",
      "Validation Report:\n",
      "angry: Prec=0.224 | Rec=0.011 | F1=0.022\n",
      "disgust: Prec=0.019 | Rec=0.342 | F1=0.036\n",
      "fear: Prec=0.181 | Rec=0.031 | F1=0.053\n",
      "happy: Prec=0.464 | Rec=0.626 | F1=0.533\n",
      "neutral: Prec=0.391 | Rec=0.096 | F1=0.154\n",
      "sad: Prec=0.327 | Rec=0.125 | F1=0.181\n",
      "surprise: Prec=0.362 | Rec=0.767 | F1=0.491\n",
      "\n",
      "Epoch Summary: Train Loss=1.4220 | Val Loss=2.0804 | Train Acc=0.452 | Val Acc=0.293\n",
      "Epoch time: 163.49 seconds\n",
      "\n",
      "Epoch 15/15\n"
     ]
    },
    {
     "name": "stderr",
     "output_type": "stream",
     "text": [
      "Training: 100%|██████████| 525/525 [02:18<00:00,  3.79it/s]\n",
      "Validation: 100%|██████████| 113/113 [00:19<00:00,  5.81it/s]"
     ]
    },
    {
     "name": "stdout",
     "output_type": "stream",
     "text": [
      "\n",
      "Validation Report:\n",
      "angry: Prec=0.237 | Rec=0.105 | F1=0.146\n",
      "disgust: Prec=0.014 | Rec=0.207 | F1=0.027\n",
      "fear: Prec=0.201 | Rec=0.053 | F1=0.084\n",
      "happy: Prec=0.595 | Rec=0.542 | F1=0.567\n",
      "neutral: Prec=0.383 | Rec=0.147 | F1=0.212\n",
      "sad: Prec=0.345 | Rec=0.261 | F1=0.297\n",
      "surprise: Prec=0.361 | Rec=0.795 | F1=0.496\n",
      "\n",
      "Epoch Summary: Train Loss=1.4050 | Val Loss=1.9028 | Train Acc=0.462 | Val Acc=0.321\n",
      "Epoch time: 157.97 seconds\n",
      "Saved model to 'results/sgd_lr3_drop15_wd1e4_bn'\n"
     ]
    },
    {
     "name": "stderr",
     "output_type": "stream",
     "text": [
      "\n"
     ]
    }
   ],
   "source": [
    "def build_model(dropout):\n",
    "    return MobileNetV2_48x48(num_classes=len(class_names), dropout_rate=dropout).to(device)\n",
    "\n",
    "# Define settings to test\n",
    "configs = [\n",
    "    # No dropout, no weight decay\n",
    "    {'name': 'adam_lr3_drop0_wd0_bn', 'optimizer': 'adam', 'lr': 1e-3, 'dropout': 0.0, 'weight_decay': 0.0},\n",
    "    # Dropout only\n",
    "    {'name': 'adam_lr3_drop15_wd0_bn', 'optimizer': 'adam', 'lr': 1e-3, 'dropout': 0.15, 'weight_decay': 0.0},\n",
    "    # Weight decay only\n",
    "    {'name': 'adam_lr3_drop0_wd1e4_bn', 'optimizer': 'adam', 'lr': 1e-3, 'dropout': 0.0, 'weight_decay': 1e-4},\n",
    "    # Combined dropout + weight decay\n",
    "    {'name': 'adam_lr3_drop15_wd1e4_bn', 'optimizer': 'adam', 'lr': 1e-3, 'dropout': 0.15, 'weight_decay': 1e-4},\n",
    "    # Same but using SGD to test optimizer difference\n",
    "    {'name': 'sgd_lr3_drop15_wd1e4_bn', 'optimizer': 'sgd', 'lr': 1e-3, 'dropout': 0.15, 'weight_decay': 1e-4},\n",
    "]\n",
    "\n",
    "for config in configs:\n",
    "    print(f\"\\nTraining config: {config['name']}\")\n",
    "    model = build_model(config['dropout'])\n",
    "\n",
    "    if config['optimizer'] == 'adam':\n",
    "        optimizer = optim.Adam(model.parameters(), lr=config['lr'], weight_decay=config['weight_decay'])\n",
    "    else:\n",
    "        optimizer = optim.SGD(model.parameters(), lr=config['lr'], momentum=0.9, weight_decay=config['weight_decay'])\n",
    "\n",
    "    criterion = nn.CrossEntropyLoss()\n",
    "    history = train(model, train_loader, val_loader, optimizer, criterion, num_epochs=15, model_name=config['name'])\n",
    "    pd.DataFrame(history).to_csv(f'results/history_mobv2_{config[\"name\"]}.csv', index=False)"
   ]
  },
  {
   "cell_type": "code",
   "execution_count": 12,
   "metadata": {},
   "outputs": [],
   "source": [
    "from torch.optim.lr_scheduler import ReduceLROnPlateau\n",
    "import copy\n",
    "\n",
    "def train(model, train_loader, val_loader, optimizer, criterion, num_epochs=15, model_name='mobv2_model.pth', use_scheduler=False, use_early_stopping=False, patience=5):\n",
    "    history = []\n",
    "    scheduler = ReduceLROnPlateau(optimizer, mode='min', factor=0.5, patience=3) if use_scheduler else None\n",
    "\n",
    "    best_val_loss = float('inf')\n",
    "    best_model_wts = copy.deepcopy(model.state_dict())\n",
    "    epochs_no_improve = 0\n",
    "\n",
    "    for epoch in range(num_epochs):\n",
    "        print(f\"\\nEpoch {epoch+1}/{num_epochs}\")\n",
    "        start_time = time.time()\n",
    "\n",
    "        # Training\n",
    "        model.train()\n",
    "        train_loss, correct, total = 0, 0, 0\n",
    "        for images, labels in tqdm(train_loader, desc=\"Training\"):\n",
    "            images, labels = images.to(device), labels.to(device)\n",
    "            optimizer.zero_grad()\n",
    "            outputs = model(images)\n",
    "            loss = criterion(outputs, labels)\n",
    "            loss.backward()\n",
    "            optimizer.step()\n",
    "\n",
    "            train_loss += loss.item() * images.size(0)\n",
    "            _, predicted = outputs.max(1)\n",
    "            correct += (predicted == labels).sum().item()\n",
    "            total += labels.size(0)\n",
    "\n",
    "        train_acc = correct / total\n",
    "        train_loss /= total\n",
    "\n",
    "        # Validation\n",
    "        model.eval()\n",
    "        val_loss, correct, total = 0, 0, 0\n",
    "        y_true, y_pred = [], []\n",
    "\n",
    "        with torch.no_grad():\n",
    "            for images, labels in tqdm(val_loader, desc=\"Validation\"):\n",
    "                images, labels = images.to(device), labels.to(device)\n",
    "                outputs = model(images)\n",
    "                loss = criterion(outputs, labels)\n",
    "                val_loss += loss.item() * images.size(0)\n",
    "\n",
    "                _, predicted = outputs.max(1)\n",
    "                correct += (predicted == labels).sum().item()\n",
    "                total += labels.size(0)\n",
    "                y_true.extend(labels.cpu().numpy())\n",
    "                y_pred.extend(predicted.cpu().numpy())\n",
    "\n",
    "        val_acc = correct / total\n",
    "        val_loss /= total\n",
    "\n",
    "        # Classification metrics\n",
    "        report = classification_report(y_true, y_pred, target_names=class_names, output_dict=True)\n",
    "        val_f1_macro = report['macro avg']['f1-score']\n",
    "        epoch_time = time.time() - start_time\n",
    "\n",
    "        # Step scheduler\n",
    "        if scheduler:\n",
    "            scheduler.step(val_loss)\n",
    "\n",
    "        # Check if this is the best model\n",
    "        if val_loss < best_val_loss:\n",
    "            best_val_loss = val_loss\n",
    "            best_model_wts = copy.deepcopy(model.state_dict())\n",
    "            torch.save(best_model_wts, f\"results/best_{model_name}\")  # Save best checkpoint\n",
    "            print(\"New best model saved.\")\n",
    "            epochs_no_improve = 0\n",
    "        else:\n",
    "            epochs_no_improve += 1\n",
    "            if use_early_stopping and epochs_no_improve >= patience:\n",
    "                print(f\"Early stopping triggered after {patience} epochs with no improvement.\")\n",
    "                break\n",
    "\n",
    "        # Record metrics\n",
    "        epoch_data = {\n",
    "            'epoch': epoch + 1,\n",
    "            'train_loss': train_loss,\n",
    "            'val_loss': val_loss,\n",
    "            'train_acc': train_acc,\n",
    "            'val_acc': val_acc,\n",
    "            'val_f1_macro': val_f1_macro,\n",
    "            'epoch_time_sec': epoch_time\n",
    "        }\n",
    "        for cls in class_names:\n",
    "            for metric in ['precision', 'recall', 'f1-score']:\n",
    "                epoch_data[f'{cls}_{metric}'] = report[cls][metric]\n",
    "\n",
    "        history.append(epoch_data)\n",
    "\n",
    "        # Print summary\n",
    "        print(\"\\nValidation Report:\")\n",
    "        for cls in class_names:\n",
    "            cls_metrics = report[cls]\n",
    "            print(f\"{cls}: Prec={cls_metrics['precision']:.3f} | Rec={cls_metrics['recall']:.3f} | F1={cls_metrics['f1-score']:.3f}\")\n",
    "        print(f\"\\nEpoch Summary: Train Loss={train_loss:.4f} | Val Loss={val_loss:.4f} | Train Acc={train_acc:.3f} | Val Acc={val_acc:.3f}\")\n",
    "        print(f\"Epoch time: {epoch_time:.2f} seconds\")\n",
    "\n",
    "    # Save final model\n",
    "    torch.save(model.state_dict(), f\"results/{model_name}\")\n",
    "    print(f\"Saved final model to 'results/{model_name}'\")\n",
    "\n",
    "    # Load best model weights\n",
    "    model.load_state_dict(best_model_wts)\n",
    "\n",
    "    return history"
   ]
  },
  {
   "cell_type": "code",
   "execution_count": 13,
   "metadata": {},
   "outputs": [
    {
     "name": "stdout",
     "output_type": "stream",
     "text": [
      "\n",
      "Epoch 1/40\n"
     ]
    },
    {
     "name": "stderr",
     "output_type": "stream",
     "text": [
      "Training: 100%|██████████| 525/525 [02:06<00:00,  4.16it/s]\n",
      "Validation: 100%|██████████| 113/113 [00:18<00:00,  5.95it/s]\n"
     ]
    },
    {
     "name": "stdout",
     "output_type": "stream",
     "text": [
      "New best model saved.\n",
      "\n",
      "Validation Report:\n",
      "angry: Prec=0.333 | Rec=0.002 | F1=0.004\n",
      "disgust: Prec=0.013 | Rec=0.324 | F1=0.026\n",
      "fear: Prec=0.190 | Rec=0.008 | F1=0.015\n",
      "happy: Prec=0.402 | Rec=0.595 | F1=0.480\n",
      "neutral: Prec=0.350 | Rec=0.006 | F1=0.011\n",
      "sad: Prec=0.319 | Rec=0.149 | F1=0.203\n",
      "surprise: Prec=0.466 | Rec=0.677 | F1=0.552\n",
      "\n",
      "Epoch Summary: Train Loss=1.6816 | Val Loss=2.1629 | Train Acc=0.338 | Val Acc=0.259\n",
      "Epoch time: 145.25 seconds\n",
      "\n",
      "Epoch 2/40\n"
     ]
    },
    {
     "name": "stderr",
     "output_type": "stream",
     "text": [
      "Training: 100%|██████████| 525/525 [02:03<00:00,  4.25it/s]\n",
      "Validation: 100%|██████████| 113/113 [00:19<00:00,  5.84it/s]\n"
     ]
    },
    {
     "name": "stdout",
     "output_type": "stream",
     "text": [
      "New best model saved.\n",
      "\n",
      "Validation Report:\n",
      "angry: Prec=0.312 | Rec=0.005 | F1=0.010\n",
      "disgust: Prec=0.023 | Rec=0.324 | F1=0.043\n",
      "fear: Prec=0.231 | Rec=0.032 | F1=0.057\n",
      "happy: Prec=0.596 | Rec=0.657 | F1=0.625\n",
      "neutral: Prec=0.341 | Rec=0.457 | F1=0.391\n",
      "sad: Prec=0.360 | Rec=0.237 | F1=0.285\n",
      "surprise: Prec=0.543 | Rec=0.680 | F1=0.604\n",
      "\n",
      "Epoch Summary: Train Loss=1.4172 | Val Loss=1.7687 | Train Acc=0.454 | Val Acc=0.371\n",
      "Epoch time: 142.89 seconds\n",
      "\n",
      "Epoch 3/40\n"
     ]
    },
    {
     "name": "stderr",
     "output_type": "stream",
     "text": [
      "Training: 100%|██████████| 525/525 [02:03<00:00,  4.24it/s]\n",
      "Validation: 100%|██████████| 113/113 [00:19<00:00,  5.89it/s]\n"
     ]
    },
    {
     "name": "stdout",
     "output_type": "stream",
     "text": [
      "\n",
      "Validation Report:\n",
      "angry: Prec=0.424 | Rec=0.026 | F1=0.049\n",
      "disgust: Prec=0.025 | Rec=0.586 | F1=0.048\n",
      "fear: Prec=0.186 | Rec=0.047 | F1=0.075\n",
      "happy: Prec=0.728 | Rec=0.505 | F1=0.596\n",
      "neutral: Prec=0.498 | Rec=0.243 | F1=0.327\n",
      "sad: Prec=0.386 | Rec=0.237 | F1=0.294\n",
      "surprise: Prec=0.408 | Rec=0.816 | F1=0.544\n",
      "\n",
      "Epoch Summary: Train Loss=1.3012 | Val Loss=2.1731 | Train Acc=0.503 | Val Acc=0.321\n",
      "Epoch time: 143.12 seconds\n",
      "\n",
      "Epoch 4/40\n"
     ]
    },
    {
     "name": "stderr",
     "output_type": "stream",
     "text": [
      "Training: 100%|██████████| 525/525 [02:05<00:00,  4.18it/s]\n",
      "Validation: 100%|██████████| 113/113 [00:19<00:00,  5.85it/s]\n"
     ]
    },
    {
     "name": "stdout",
     "output_type": "stream",
     "text": [
      "\n",
      "Validation Report:\n",
      "angry: Prec=0.453 | Rec=0.081 | F1=0.138\n",
      "disgust: Prec=0.024 | Rec=0.640 | F1=0.047\n",
      "fear: Prec=0.354 | Rec=0.017 | F1=0.032\n",
      "happy: Prec=0.806 | Rec=0.535 | F1=0.643\n",
      "neutral: Prec=0.409 | Rec=0.431 | F1=0.419\n",
      "sad: Prec=0.495 | Rec=0.181 | F1=0.265\n",
      "surprise: Prec=0.543 | Rec=0.722 | F1=0.620\n",
      "\n",
      "Epoch Summary: Train Loss=1.2389 | Val Loss=2.1296 | Train Acc=0.531 | Val Acc=0.344\n",
      "Epoch time: 144.89 seconds\n",
      "\n",
      "Epoch 5/40\n"
     ]
    },
    {
     "name": "stderr",
     "output_type": "stream",
     "text": [
      "Training: 100%|██████████| 525/525 [02:02<00:00,  4.27it/s]\n",
      "Validation: 100%|██████████| 113/113 [00:19<00:00,  5.92it/s]\n"
     ]
    },
    {
     "name": "stdout",
     "output_type": "stream",
     "text": [
      "New best model saved.\n",
      "\n",
      "Validation Report:\n",
      "angry: Prec=0.366 | Rec=0.380 | F1=0.373\n",
      "disgust: Prec=0.032 | Rec=0.342 | F1=0.059\n",
      "fear: Prec=0.306 | Rec=0.086 | F1=0.134\n",
      "happy: Prec=0.649 | Rec=0.773 | F1=0.706\n",
      "neutral: Prec=0.591 | Rec=0.252 | F1=0.354\n",
      "sad: Prec=0.465 | Rec=0.315 | F1=0.376\n",
      "surprise: Prec=0.531 | Rec=0.785 | F1=0.633\n",
      "\n",
      "Epoch Summary: Train Loss=1.1896 | Val Loss=1.5788 | Train Acc=0.552 | Val Acc=0.448\n",
      "Epoch time: 141.97 seconds\n",
      "\n",
      "Epoch 6/40\n"
     ]
    },
    {
     "name": "stderr",
     "output_type": "stream",
     "text": [
      "Training: 100%|██████████| 525/525 [02:02<00:00,  4.28it/s]\n",
      "Validation: 100%|██████████| 113/113 [00:19<00:00,  5.93it/s]\n"
     ]
    },
    {
     "name": "stdout",
     "output_type": "stream",
     "text": [
      "\n",
      "Validation Report:\n",
      "angry: Prec=0.390 | Rec=0.323 | F1=0.353\n",
      "disgust: Prec=0.053 | Rec=0.315 | F1=0.091\n",
      "fear: Prec=0.294 | Rec=0.122 | F1=0.173\n",
      "happy: Prec=0.536 | Rec=0.869 | F1=0.663\n",
      "neutral: Prec=0.566 | Rec=0.226 | F1=0.323\n",
      "sad: Prec=0.477 | Rec=0.117 | F1=0.188\n",
      "surprise: Prec=0.423 | Rec=0.829 | F1=0.561\n",
      "\n",
      "Epoch Summary: Train Loss=1.1568 | Val Loss=1.6034 | Train Acc=0.563 | Val Acc=0.435\n",
      "Epoch time: 141.68 seconds\n",
      "\n",
      "Epoch 7/40\n"
     ]
    },
    {
     "name": "stderr",
     "output_type": "stream",
     "text": [
      "Training: 100%|██████████| 525/525 [02:02<00:00,  4.29it/s]\n",
      "Validation: 100%|██████████| 113/113 [00:19<00:00,  5.78it/s]\n"
     ]
    },
    {
     "name": "stdout",
     "output_type": "stream",
     "text": [
      "New best model saved.\n",
      "\n",
      "Validation Report:\n",
      "angry: Prec=0.403 | Rec=0.267 | F1=0.321\n",
      "disgust: Prec=0.040 | Rec=0.532 | F1=0.074\n",
      "fear: Prec=0.356 | Rec=0.123 | F1=0.183\n",
      "happy: Prec=0.804 | Rec=0.711 | F1=0.755\n",
      "neutral: Prec=0.464 | Rec=0.505 | F1=0.484\n",
      "sad: Prec=0.488 | Rec=0.296 | F1=0.368\n",
      "surprise: Prec=0.597 | Rec=0.755 | F1=0.667\n",
      "\n",
      "Epoch Summary: Train Loss=1.1272 | Val Loss=1.5331 | Train Acc=0.577 | Val Acc=0.463\n",
      "Epoch time: 142.00 seconds\n",
      "\n",
      "Epoch 8/40\n"
     ]
    },
    {
     "name": "stderr",
     "output_type": "stream",
     "text": [
      "Training: 100%|██████████| 525/525 [02:03<00:00,  4.25it/s]\n",
      "Validation: 100%|██████████| 113/113 [00:19<00:00,  5.89it/s]\n"
     ]
    },
    {
     "name": "stdout",
     "output_type": "stream",
     "text": [
      "\n",
      "Validation Report:\n",
      "angry: Prec=0.639 | Rec=0.072 | F1=0.129\n",
      "disgust: Prec=0.054 | Rec=0.495 | F1=0.097\n",
      "fear: Prec=0.402 | Rec=0.044 | F1=0.079\n",
      "happy: Prec=0.581 | Rec=0.853 | F1=0.691\n",
      "neutral: Prec=0.494 | Rec=0.344 | F1=0.405\n",
      "sad: Prec=0.438 | Rec=0.221 | F1=0.293\n",
      "surprise: Prec=0.392 | Rec=0.868 | F1=0.540\n",
      "\n",
      "Epoch Summary: Train Loss=1.1098 | Val Loss=1.7347 | Train Acc=0.582 | Val Acc=0.432\n",
      "Epoch time: 142.74 seconds\n",
      "\n",
      "Epoch 9/40\n"
     ]
    },
    {
     "name": "stderr",
     "output_type": "stream",
     "text": [
      "Training: 100%|██████████| 525/525 [02:04<00:00,  4.20it/s]\n",
      "Validation: 100%|██████████| 113/113 [00:19<00:00,  5.87it/s]\n"
     ]
    },
    {
     "name": "stdout",
     "output_type": "stream",
     "text": [
      "\n",
      "Validation Report:\n",
      "angry: Prec=0.455 | Rec=0.189 | F1=0.267\n",
      "disgust: Prec=0.034 | Rec=0.784 | F1=0.066\n",
      "fear: Prec=0.312 | Rec=0.087 | F1=0.136\n",
      "happy: Prec=0.741 | Rec=0.561 | F1=0.639\n",
      "neutral: Prec=0.599 | Rec=0.212 | F1=0.313\n",
      "sad: Prec=0.545 | Rec=0.121 | F1=0.198\n",
      "surprise: Prec=0.389 | Rec=0.887 | F1=0.541\n",
      "\n",
      "Epoch Summary: Train Loss=1.0866 | Val Loss=2.1901 | Train Acc=0.587 | Val Acc=0.349\n",
      "Epoch time: 144.27 seconds\n",
      "\n",
      "Epoch 10/40\n"
     ]
    },
    {
     "name": "stderr",
     "output_type": "stream",
     "text": [
      "Training: 100%|██████████| 525/525 [02:05<00:00,  4.19it/s]\n",
      "Validation: 100%|██████████| 113/113 [00:19<00:00,  5.89it/s]\n"
     ]
    },
    {
     "name": "stdout",
     "output_type": "stream",
     "text": [
      "New best model saved.\n",
      "\n",
      "Validation Report:\n",
      "angry: Prec=0.435 | Rec=0.487 | F1=0.460\n",
      "disgust: Prec=0.137 | Rec=0.216 | F1=0.168\n",
      "fear: Prec=0.344 | Rec=0.139 | F1=0.198\n",
      "happy: Prec=0.808 | Rec=0.777 | F1=0.792\n",
      "neutral: Prec=0.527 | Rec=0.535 | F1=0.531\n",
      "sad: Prec=0.448 | Rec=0.455 | F1=0.451\n",
      "surprise: Prec=0.520 | Rec=0.809 | F1=0.633\n",
      "\n",
      "Epoch Summary: Train Loss=1.0750 | Val Loss=1.2295 | Train Acc=0.593 | Val Acc=0.545\n",
      "Epoch time: 144.42 seconds\n",
      "\n",
      "Epoch 11/40\n"
     ]
    },
    {
     "name": "stderr",
     "output_type": "stream",
     "text": [
      "Training: 100%|██████████| 525/525 [02:08<00:00,  4.07it/s]\n",
      "Validation: 100%|██████████| 113/113 [00:19<00:00,  5.88it/s]\n"
     ]
    },
    {
     "name": "stdout",
     "output_type": "stream",
     "text": [
      "\n",
      "Validation Report:\n",
      "angry: Prec=0.527 | Rec=0.223 | F1=0.314\n",
      "disgust: Prec=0.055 | Rec=0.468 | F1=0.098\n",
      "fear: Prec=0.295 | Rec=0.088 | F1=0.135\n",
      "happy: Prec=0.615 | Rec=0.852 | F1=0.714\n",
      "neutral: Prec=0.592 | Rec=0.330 | F1=0.424\n",
      "sad: Prec=0.472 | Rec=0.280 | F1=0.351\n",
      "surprise: Prec=0.431 | Rec=0.846 | F1=0.571\n",
      "\n",
      "Epoch Summary: Train Loss=1.0592 | Val Loss=1.6135 | Train Acc=0.597 | Val Acc=0.463\n",
      "Epoch time: 148.20 seconds\n",
      "\n",
      "Epoch 12/40\n"
     ]
    },
    {
     "name": "stderr",
     "output_type": "stream",
     "text": [
      "Training: 100%|██████████| 525/525 [02:09<00:00,  4.04it/s]\n",
      "Validation: 100%|██████████| 113/113 [00:20<00:00,  5.59it/s]\n"
     ]
    },
    {
     "name": "stdout",
     "output_type": "stream",
     "text": [
      "\n",
      "Validation Report:\n",
      "angry: Prec=0.463 | Rec=0.156 | F1=0.233\n",
      "disgust: Prec=0.033 | Rec=0.847 | F1=0.064\n",
      "fear: Prec=0.371 | Rec=0.073 | F1=0.122\n",
      "happy: Prec=0.808 | Rec=0.591 | F1=0.683\n",
      "neutral: Prec=0.550 | Rec=0.291 | F1=0.381\n",
      "sad: Prec=0.534 | Rec=0.070 | F1=0.123\n",
      "surprise: Prec=0.413 | Rec=0.859 | F1=0.558\n",
      "\n",
      "Epoch Summary: Train Loss=1.0483 | Val Loss=2.2999 | Train Acc=0.606 | Val Acc=0.352\n",
      "Epoch time: 150.12 seconds\n",
      "\n",
      "Epoch 13/40\n"
     ]
    },
    {
     "name": "stderr",
     "output_type": "stream",
     "text": [
      "Training: 100%|██████████| 525/525 [02:20<00:00,  3.74it/s]\n",
      "Validation: 100%|██████████| 113/113 [00:19<00:00,  5.90it/s]\n"
     ]
    },
    {
     "name": "stdout",
     "output_type": "stream",
     "text": [
      "\n",
      "Validation Report:\n",
      "angry: Prec=0.576 | Rec=0.174 | F1=0.268\n",
      "disgust: Prec=0.070 | Rec=0.532 | F1=0.123\n",
      "fear: Prec=0.333 | Rec=0.271 | F1=0.299\n",
      "happy: Prec=0.860 | Rec=0.717 | F1=0.782\n",
      "neutral: Prec=0.508 | Rec=0.516 | F1=0.512\n",
      "sad: Prec=0.465 | Rec=0.382 | F1=0.419\n",
      "surprise: Prec=0.478 | Rec=0.838 | F1=0.609\n",
      "\n",
      "Epoch Summary: Train Loss=1.0363 | Val Loss=1.4040 | Train Acc=0.610 | Val Acc=0.499\n",
      "Epoch time: 159.44 seconds\n",
      "\n",
      "Epoch 14/40\n"
     ]
    },
    {
     "name": "stderr",
     "output_type": "stream",
     "text": [
      "Training: 100%|██████████| 525/525 [02:16<00:00,  3.85it/s]\n",
      "Validation: 100%|██████████| 113/113 [00:19<00:00,  5.75it/s]\n"
     ]
    },
    {
     "name": "stdout",
     "output_type": "stream",
     "text": [
      "\n",
      "Validation Report:\n",
      "angry: Prec=0.516 | Rec=0.098 | F1=0.165\n",
      "disgust: Prec=0.032 | Rec=0.802 | F1=0.061\n",
      "fear: Prec=0.316 | Rec=0.133 | F1=0.187\n",
      "happy: Prec=0.913 | Rec=0.457 | F1=0.609\n",
      "neutral: Prec=0.546 | Rec=0.223 | F1=0.317\n",
      "sad: Prec=0.536 | Rec=0.107 | F1=0.178\n",
      "surprise: Prec=0.337 | Rec=0.869 | F1=0.486\n",
      "\n",
      "Epoch Summary: Train Loss=1.0240 | Val Loss=2.5681 | Train Acc=0.615 | Val Acc=0.315\n",
      "Epoch time: 156.18 seconds\n",
      "\n",
      "Epoch 15/40\n"
     ]
    },
    {
     "name": "stderr",
     "output_type": "stream",
     "text": [
      "Training: 100%|██████████| 525/525 [02:29<00:00,  3.51it/s]\n",
      "Validation: 100%|██████████| 113/113 [00:19<00:00,  5.72it/s]\n"
     ]
    },
    {
     "name": "stdout",
     "output_type": "stream",
     "text": [
      "\n",
      "Validation Report:\n",
      "angry: Prec=0.459 | Rec=0.404 | F1=0.430\n",
      "disgust: Prec=0.066 | Rec=0.658 | F1=0.121\n",
      "fear: Prec=0.408 | Rec=0.211 | F1=0.278\n",
      "happy: Prec=0.860 | Rec=0.670 | F1=0.753\n",
      "neutral: Prec=0.586 | Rec=0.410 | F1=0.482\n",
      "sad: Prec=0.507 | Rec=0.263 | F1=0.346\n",
      "surprise: Prec=0.400 | Rec=0.872 | F1=0.548\n",
      "\n",
      "Epoch Summary: Train Loss=0.9808 | Val Loss=1.5267 | Train Acc=0.632 | Val Acc=0.477\n",
      "Epoch time: 169.50 seconds\n",
      "\n",
      "Epoch 16/40\n"
     ]
    },
    {
     "name": "stderr",
     "output_type": "stream",
     "text": [
      "Training: 100%|██████████| 525/525 [02:31<00:00,  3.46it/s]\n",
      "Validation: 100%|██████████| 113/113 [00:19<00:00,  5.80it/s]"
     ]
    },
    {
     "name": "stdout",
     "output_type": "stream",
     "text": [
      "Early stopping triggered after 6 epochs with no improvement.\n",
      "Saved final model to 'results/mobv2_final_model.pth'\n"
     ]
    },
    {
     "name": "stderr",
     "output_type": "stream",
     "text": [
      "\n"
     ]
    }
   ],
   "source": [
    "# Train best model for 40 epochs with learning rate scheduler\n",
    "best_dropout = 0.15\n",
    "best_lr = 1e-3\n",
    "best_weight_decay = 1e-4\n",
    "best_optimizer_name = 'adam'\n",
    "\n",
    "model = build_model(best_dropout)\n",
    "\n",
    "if best_optimizer_name == 'adam':\n",
    "    optimizer = optim.Adam(model.parameters(), lr=best_lr, weight_decay=best_weight_decay)\n",
    "else:\n",
    "    optimizer = optim.SGD(model.parameters(), lr=best_lr, momentum=0.9, weight_decay=best_weight_decay)\n",
    "\n",
    "criterion = nn.CrossEntropyLoss()\n",
    "\n",
    "history = train(\n",
    "    model, \n",
    "    train_loader, \n",
    "    val_loader, \n",
    "    optimizer, \n",
    "    criterion, \n",
    "    num_epochs=40,\n",
    "    model_name='mobv2_final_model.pth',\n",
    "    use_scheduler=True,\n",
    "    use_early_stopping=True,\n",
    "    patience=6\n",
    ")\n",
    "\n",
    "pd.DataFrame(history).to_csv(\"results/history_mobv2_final_model.csv\", index=False)"
   ]
  },
  {
   "cell_type": "code",
   "execution_count": null,
   "metadata": {},
   "outputs": [],
   "source": []
  }
 ],
 "metadata": {
  "kernelspec": {
   "display_name": "venv",
   "language": "python",
   "name": "python3"
  },
  "language_info": {
   "codemirror_mode": {
    "name": "ipython",
    "version": 3
   },
   "file_extension": ".py",
   "mimetype": "text/x-python",
   "name": "python",
   "nbconvert_exporter": "python",
   "pygments_lexer": "ipython3",
   "version": "3.11.5"
  }
 },
 "nbformat": 4,
 "nbformat_minor": 2
}
