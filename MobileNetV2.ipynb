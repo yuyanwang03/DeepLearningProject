{
 "cells": [
  {
   "cell_type": "code",
   "execution_count": 1,
   "metadata": {},
   "outputs": [],
   "source": [
    "import pandas as pd\n",
    "import time\n",
    "from sklearn.metrics import classification_report\n",
    "import torch\n",
    "import torch.nn as nn\n",
    "import torch.optim as optim\n",
    "from torchvision import datasets, transforms\n",
    "from torch.utils.data import DataLoader\n",
    "from pathlib import Path\n",
    "import time\n",
    "from tqdm import tqdm"
   ]
  },
  {
   "cell_type": "code",
   "execution_count": 2,
   "metadata": {},
   "outputs": [
    {
     "name": "stdout",
     "output_type": "stream",
     "text": [
      "Train images: 33614\n",
      "Val images: 7178\n",
      "Classes: ['angry', 'disgust', 'fear', 'happy', 'neutral', 'sad', 'surprise']\n"
     ]
    }
   ],
   "source": [
    "# Settings\n",
    "train_dir = Path('./data/train')\n",
    "val_dir   = Path('./data/test')\n",
    "img_size = 48\n",
    "batch_size = 64\n",
    "\n",
    "# Transforms\n",
    "train_transforms = transforms.Compose([\n",
    "    transforms.Resize((img_size, img_size)),\n",
    "    transforms.RandomHorizontalFlip(),\n",
    "    transforms.RandomRotation(5),\n",
    "    transforms.RandomAffine(degrees=0, shear=10, translate=(0.2, 0.2)),\n",
    "    transforms.ToTensor(),\n",
    "    transforms.Normalize(mean=[0.5]*3, std=[0.5]*3)  # normalize to [-1, 1]\n",
    "])\n",
    "\n",
    "val_transforms = transforms.Compose([\n",
    "    transforms.Resize((img_size, img_size)),\n",
    "    transforms.ToTensor(),\n",
    "    transforms.Normalize(mean=[0.5]*3, std=[0.5]*3)\n",
    "])\n",
    "\n",
    "# Datasets\n",
    "train_dataset = datasets.ImageFolder(root=train_dir, transform=train_transforms)\n",
    "val_dataset   = datasets.ImageFolder(root=val_dir, transform=val_transforms)\n",
    "print(f\"Train images: {len(train_dataset)}\")\n",
    "print(f\"Val images: {len(val_dataset)}\")\n",
    "\n",
    "# DataLoaders\n",
    "train_loader = DataLoader(train_dataset, batch_size=batch_size, shuffle=True, num_workers=2)\n",
    "val_loader   = DataLoader(val_dataset, batch_size=batch_size, shuffle=False, num_workers=2)\n",
    "\n",
    "# Class names\n",
    "class_names = train_dataset.classes\n",
    "print(\"Classes:\", class_names)"
   ]
  },
  {
   "cell_type": "code",
   "execution_count": 3,
   "metadata": {},
   "outputs": [],
   "source": [
    "class InvertedResidualBlock(nn.Module):\n",
    "    def __init__(self, in_channels, out_channels, stride, expand_ratio):\n",
    "        super().__init__()\n",
    "        self.use_res_connect = stride == 1 and in_channels == out_channels\n",
    "        hidden_dim = in_channels * expand_ratio\n",
    "\n",
    "        layers = []\n",
    "\n",
    "        # Expansion\n",
    "        if expand_ratio != 1:\n",
    "            layers.extend([\n",
    "                nn.Conv2d(in_channels, hidden_dim, kernel_size=1, bias=False),\n",
    "                nn.BatchNorm2d(hidden_dim),\n",
    "                nn.ReLU6(inplace=True)\n",
    "            ])\n",
    "\n",
    "        # Depthwise\n",
    "        layers.extend([\n",
    "            nn.Conv2d(hidden_dim, hidden_dim, kernel_size=3, stride=stride, padding=1, groups=hidden_dim, bias=False),\n",
    "            nn.BatchNorm2d(hidden_dim),\n",
    "            nn.ReLU6(inplace=True)\n",
    "        ])\n",
    "\n",
    "        # Projection\n",
    "        layers.extend([\n",
    "            nn.Conv2d(hidden_dim, out_channels, kernel_size=1, bias=False),\n",
    "            nn.BatchNorm2d(out_channels)\n",
    "        ])\n",
    "\n",
    "        self.block = nn.Sequential(*layers)\n",
    "\n",
    "    def forward(self, x):\n",
    "        if self.use_res_connect:\n",
    "            return x + self.block(x)\n",
    "        else:\n",
    "            return self.block(x)\n",
    "\n",
    "class MobileNetV2_48x48(nn.Module):\n",
    "    def __init__(self, num_classes=7, dropout_rate=0.0):\n",
    "        super().__init__()\n",
    "        self.dropout_rate = dropout_rate\n",
    "        self.dropout = nn.Dropout(dropout_rate) if dropout_rate > 0 else nn.Identity()\n",
    "\n",
    "        # Initial convolution layer\n",
    "        self.init_conv = nn.Sequential(\n",
    "            nn.Conv2d(3, 32, kernel_size=3, stride=1, padding=1, bias=False),  # 48x48 input\n",
    "            nn.BatchNorm2d(32),\n",
    "            nn.ReLU6(inplace=True)\n",
    "        )\n",
    "\n",
    "        # Bottleneck configuration: (t, c, n, s)\n",
    "        bottlenecks_cfg = [\n",
    "            (1, 16, 1, 1),\n",
    "            (6, 24, 1, 1),  # no downsampling yet\n",
    "            (6, 32, 2, 2),\n",
    "            (6, 64, 1, 2),\n",
    "            (6, 96, 1, 1),\n",
    "        ]\n",
    "\n",
    "        blocks = []\n",
    "        in_channels = 32\n",
    "        for t, out_channels, n, s in bottlenecks_cfg:\n",
    "            for i in range(n):\n",
    "                stride = s if i == 0 else 1\n",
    "                blocks.append(InvertedResidualBlock(in_channels, out_channels, stride, t))\n",
    "                in_channels = out_channels\n",
    "        self.bottlenecks = nn.Sequential(*blocks)\n",
    "\n",
    "        self.last_conv = nn.Sequential(\n",
    "            nn.Conv2d(in_channels, 128, kernel_size=1, bias=False),\n",
    "            nn.BatchNorm2d(128),\n",
    "            nn.ReLU6(inplace=True)\n",
    "        )\n",
    "\n",
    "        self.pool = nn.AdaptiveAvgPool2d((1, 1))\n",
    "        self.classifier = nn.Linear(128, num_classes)\n",
    "\n",
    "    def forward(self, x):\n",
    "        x = self.init_conv(x)\n",
    "        x = self.bottlenecks(x)\n",
    "        x = self.last_conv(x)\n",
    "        x = self.pool(x)\n",
    "        x = x.view(x.size(0), -1)\n",
    "        x = self.dropout(x)\n",
    "        return self.classifier(x)"
   ]
  },
  {
   "cell_type": "code",
   "execution_count": 4,
   "metadata": {},
   "outputs": [
    {
     "name": "stdout",
     "output_type": "stream",
     "text": [
      "Total parameters: 132935\n"
     ]
    }
   ],
   "source": [
    "# Define MobileNetV2 model\n",
    "mobilenet_model = MobileNetV2_48x48(num_classes=len(class_names))\n",
    "total_params = sum(p.numel() for p in mobilenet_model.parameters())\n",
    "print(f\"Total parameters: {total_params}\")"
   ]
  },
  {
   "cell_type": "code",
   "execution_count": 5,
   "metadata": {},
   "outputs": [
    {
     "name": "stdout",
     "output_type": "stream",
     "text": [
      "Using device: mps\n"
     ]
    }
   ],
   "source": [
    "if torch.backends.mps.is_available() and torch.backends.mps.is_built():\n",
    "    device = torch.device(\"mps\")\n",
    "else:\n",
    "    device = torch.device(\"cuda\" if torch.cuda.is_available() else \"cpu\")\n",
    "\n",
    "print(f\"Using device: {device}\")\n",
    "mobilenet_model = MobileNetV2_48x48(num_classes=len(class_names)).to(device)\n",
    "\n",
    "criterion = nn.CrossEntropyLoss()\n",
    "optimizer = optim.Adam(mobilenet_model.parameters(), lr=0.001)"
   ]
  },
  {
   "cell_type": "code",
   "execution_count": 6,
   "metadata": {},
   "outputs": [],
   "source": [
    "def train(model, train_loader, val_loader, optimizer, criterion, num_epochs=15, model_name='resnet_model.pth'):\n",
    "    history = []  # collect metrics per epoch\n",
    "\n",
    "    for epoch in range(num_epochs):\n",
    "        print(f\"\\nEpoch {epoch+1}/{num_epochs}\")\n",
    "        start_time = time.time()\n",
    "\n",
    "        # Training phase\n",
    "        model.train()\n",
    "        train_loss, correct, total = 0, 0, 0\n",
    "        for images, labels in tqdm(train_loader, desc=\"Training\"):\n",
    "            images, labels = images.to(device), labels.to(device)\n",
    "\n",
    "            optimizer.zero_grad()\n",
    "            outputs = model(images)\n",
    "            loss = criterion(outputs, labels)\n",
    "            loss.backward()\n",
    "            optimizer.step()\n",
    "\n",
    "            train_loss += loss.item() * images.size(0)\n",
    "            _, predicted = outputs.max(1)\n",
    "            correct += (predicted == labels).sum().item()\n",
    "            total += labels.size(0)\n",
    "\n",
    "        train_acc = correct / total\n",
    "        train_loss /= total\n",
    "\n",
    "        # Validation phase\n",
    "        model.eval()\n",
    "        val_loss, correct, total = 0, 0, 0\n",
    "        y_true, y_pred = [], []\n",
    "\n",
    "        with torch.no_grad():\n",
    "            for images, labels in tqdm(val_loader, desc=\"Validation\"):\n",
    "                images, labels = images.to(device), labels.to(device)\n",
    "                outputs = model(images)\n",
    "                loss = criterion(outputs, labels)\n",
    "                val_loss += loss.item() * images.size(0)\n",
    "\n",
    "                _, predicted = outputs.max(1)\n",
    "                correct += (predicted == labels).sum().item()\n",
    "                total += labels.size(0)\n",
    "\n",
    "                y_true.extend(labels.cpu().numpy())\n",
    "                y_pred.extend(predicted.cpu().numpy())\n",
    "\n",
    "        val_acc = correct / total\n",
    "        val_loss /= total\n",
    "\n",
    "        # Classification report\n",
    "        report = classification_report(y_true, y_pred, target_names=class_names, output_dict=True)\n",
    "        val_f1_macro = report['macro avg']['f1-score']\n",
    "\n",
    "        epoch_time = time.time() - start_time\n",
    "\n",
    "        # Collect metrics\n",
    "        epoch_data = {\n",
    "            'epoch': epoch + 1,\n",
    "            'train_loss': train_loss,\n",
    "            'val_loss': val_loss,\n",
    "            'train_acc': train_acc,\n",
    "            'val_acc': val_acc,\n",
    "            'val_f1_macro': val_f1_macro,\n",
    "            'epoch_time_sec': epoch_time\n",
    "        }\n",
    "\n",
    "        # Add per-class metrics\n",
    "        for cls in class_names:\n",
    "            for metric in ['precision', 'recall', 'f1-score']:\n",
    "                key = f'{cls}_{metric}'\n",
    "                epoch_data[key] = report[cls][metric]\n",
    "\n",
    "        history.append(epoch_data)\n",
    "\n",
    "        # Console output\n",
    "        print(\"\\nValidation Report:\")\n",
    "        for cls in class_names:\n",
    "            cls_metrics = report[cls]\n",
    "            print(f\"{cls}: Prec={cls_metrics['precision']:.3f} | Rec={cls_metrics['recall']:.3f} | F1={cls_metrics['f1-score']:.3f}\")\n",
    "\n",
    "        print(f\"\\nEpoch Summary: Train Loss={train_loss:.4f} | Val Loss={val_loss:.4f} | Train Acc={train_acc:.3f} | Val Acc={val_acc:.3f}\")\n",
    "        print(f\"Epoch time: {epoch_time:.2f} seconds\")\n",
    "\n",
    "    torch.save(model.state_dict(), f\"results/{model_name}\")\n",
    "    print(f\"Saved model to 'results/{model_name}'\")\n",
    "\n",
    "    return history"
   ]
  },
  {
   "cell_type": "code",
   "execution_count": 7,
   "metadata": {},
   "outputs": [
    {
     "name": "stdout",
     "output_type": "stream",
     "text": [
      "\n",
      "Training config: mobv2_adam_lr3_dropout0_bn\n",
      "\n",
      "Epoch 1/15\n"
     ]
    },
    {
     "name": "stderr",
     "output_type": "stream",
     "text": [
      "Training: 100%|██████████| 526/526 [02:17<00:00,  3.84it/s]\n",
      "Validation: 100%|██████████| 113/113 [00:20<00:00,  5.52it/s]\n",
      "/Users/taniapazospuig/Desktop/DeepLearningProject/venv/lib/python3.11/site-packages/sklearn/metrics/_classification.py:1565: UndefinedMetricWarning: Precision is ill-defined and being set to 0.0 in labels with no predicted samples. Use `zero_division` parameter to control this behavior.\n",
      "  _warn_prf(average, modifier, f\"{metric.capitalize()} is\", len(result))\n",
      "/Users/taniapazospuig/Desktop/DeepLearningProject/venv/lib/python3.11/site-packages/sklearn/metrics/_classification.py:1565: UndefinedMetricWarning: Precision is ill-defined and being set to 0.0 in labels with no predicted samples. Use `zero_division` parameter to control this behavior.\n",
      "  _warn_prf(average, modifier, f\"{metric.capitalize()} is\", len(result))\n",
      "/Users/taniapazospuig/Desktop/DeepLearningProject/venv/lib/python3.11/site-packages/sklearn/metrics/_classification.py:1565: UndefinedMetricWarning: Precision is ill-defined and being set to 0.0 in labels with no predicted samples. Use `zero_division` parameter to control this behavior.\n",
      "  _warn_prf(average, modifier, f\"{metric.capitalize()} is\", len(result))\n"
     ]
    },
    {
     "name": "stdout",
     "output_type": "stream",
     "text": [
      "\n",
      "Validation Report:\n",
      "angry: Prec=0.000 | Rec=0.000 | F1=0.000\n",
      "disgust: Prec=0.017 | Rec=0.514 | F1=0.032\n",
      "fear: Prec=0.225 | Rec=0.026 | F1=0.047\n",
      "happy: Prec=0.343 | Rec=0.397 | F1=0.368\n",
      "neutral: Prec=0.385 | Rec=0.020 | F1=0.039\n",
      "sad: Prec=0.296 | Rec=0.053 | F1=0.090\n",
      "surprise: Prec=0.430 | Rec=0.656 | F1=0.520\n",
      "\n",
      "Epoch Summary: Train Loss=1.6923 | Val Loss=2.5653 | Train Acc=0.333 | Val Acc=0.198\n",
      "Epoch time: 157.66 seconds\n",
      "\n",
      "Epoch 2/15\n"
     ]
    },
    {
     "name": "stderr",
     "output_type": "stream",
     "text": [
      "Training: 100%|██████████| 526/526 [02:05<00:00,  4.20it/s]\n",
      "Validation: 100%|██████████| 113/113 [00:19<00:00,  5.85it/s]\n"
     ]
    },
    {
     "name": "stdout",
     "output_type": "stream",
     "text": [
      "\n",
      "Validation Report:\n",
      "angry: Prec=0.254 | Rec=0.406 | F1=0.312\n",
      "disgust: Prec=0.023 | Rec=0.027 | F1=0.025\n",
      "fear: Prec=0.215 | Rec=0.155 | F1=0.180\n",
      "happy: Prec=0.580 | Rec=0.762 | F1=0.659\n",
      "neutral: Prec=0.425 | Rec=0.363 | F1=0.391\n",
      "sad: Prec=0.365 | Rec=0.218 | F1=0.273\n",
      "surprise: Prec=0.672 | Rec=0.525 | F1=0.589\n",
      "\n",
      "Epoch Summary: Train Loss=1.4191 | Val Loss=1.4786 | Train Acc=0.460 | Val Acc=0.426\n",
      "Epoch time: 144.60 seconds\n",
      "\n",
      "Epoch 3/15\n"
     ]
    },
    {
     "name": "stderr",
     "output_type": "stream",
     "text": [
      "Training: 100%|██████████| 526/526 [02:10<00:00,  4.02it/s]\n",
      "Validation: 100%|██████████| 113/113 [00:19<00:00,  5.80it/s]\n"
     ]
    },
    {
     "name": "stdout",
     "output_type": "stream",
     "text": [
      "\n",
      "Validation Report:\n",
      "angry: Prec=0.232 | Rec=0.681 | F1=0.346\n",
      "disgust: Prec=0.026 | Rec=0.108 | F1=0.042\n",
      "fear: Prec=0.331 | Rec=0.042 | F1=0.075\n",
      "happy: Prec=0.814 | Rec=0.632 | F1=0.712\n",
      "neutral: Prec=0.518 | Rec=0.297 | F1=0.378\n",
      "sad: Prec=0.496 | Rec=0.095 | F1=0.159\n",
      "surprise: Prec=0.436 | Rec=0.764 | F1=0.555\n",
      "\n",
      "Epoch Summary: Train Loss=1.3057 | Val Loss=1.5266 | Train Acc=0.508 | Val Acc=0.411\n",
      "Epoch time: 150.40 seconds\n",
      "\n",
      "Epoch 4/15\n"
     ]
    },
    {
     "name": "stderr",
     "output_type": "stream",
     "text": [
      "Training: 100%|██████████| 526/526 [02:08<00:00,  4.10it/s]\n",
      "Validation: 100%|██████████| 113/113 [00:19<00:00,  5.83it/s]\n"
     ]
    },
    {
     "name": "stdout",
     "output_type": "stream",
     "text": [
      "\n",
      "Validation Report:\n",
      "angry: Prec=0.438 | Rec=0.156 | F1=0.230\n",
      "disgust: Prec=0.050 | Rec=0.387 | F1=0.089\n",
      "fear: Prec=0.295 | Rec=0.045 | F1=0.078\n",
      "happy: Prec=0.799 | Rec=0.593 | F1=0.681\n",
      "neutral: Prec=0.416 | Rec=0.445 | F1=0.430\n",
      "sad: Prec=0.497 | Rec=0.231 | F1=0.315\n",
      "surprise: Prec=0.290 | Rec=0.910 | F1=0.440\n",
      "\n",
      "Epoch Summary: Train Loss=1.2271 | Val Loss=1.7881 | Train Acc=0.538 | Val Acc=0.402\n",
      "Epoch time: 147.74 seconds\n",
      "\n",
      "Epoch 5/15\n"
     ]
    },
    {
     "name": "stderr",
     "output_type": "stream",
     "text": [
      "Training: 100%|██████████| 526/526 [02:04<00:00,  4.24it/s]\n",
      "Validation: 100%|██████████| 113/113 [00:19<00:00,  5.91it/s]\n"
     ]
    },
    {
     "name": "stdout",
     "output_type": "stream",
     "text": [
      "\n",
      "Validation Report:\n",
      "angry: Prec=0.342 | Rec=0.259 | F1=0.295\n",
      "disgust: Prec=0.028 | Rec=0.523 | F1=0.052\n",
      "fear: Prec=0.295 | Rec=0.038 | F1=0.067\n",
      "happy: Prec=0.683 | Rec=0.706 | F1=0.694\n",
      "neutral: Prec=0.623 | Rec=0.119 | F1=0.200\n",
      "sad: Prec=0.448 | Rec=0.169 | F1=0.246\n",
      "surprise: Prec=0.410 | Rec=0.828 | F1=0.548\n",
      "\n",
      "Epoch Summary: Train Loss=1.1828 | Val Loss=2.0636 | Train Acc=0.553 | Val Acc=0.368\n",
      "Epoch time: 143.33 seconds\n",
      "\n",
      "Epoch 6/15\n"
     ]
    },
    {
     "name": "stderr",
     "output_type": "stream",
     "text": [
      "Training: 100%|██████████| 526/526 [02:04<00:00,  4.24it/s]\n",
      "Validation: 100%|██████████| 113/113 [00:19<00:00,  5.84it/s]\n"
     ]
    },
    {
     "name": "stdout",
     "output_type": "stream",
     "text": [
      "\n",
      "Validation Report:\n",
      "angry: Prec=0.360 | Rec=0.216 | F1=0.270\n",
      "disgust: Prec=0.025 | Rec=0.793 | F1=0.049\n",
      "fear: Prec=0.239 | Rec=0.086 | F1=0.126\n",
      "happy: Prec=0.866 | Rec=0.351 | F1=0.499\n",
      "neutral: Prec=0.630 | Rec=0.145 | F1=0.236\n",
      "sad: Prec=0.513 | Rec=0.161 | F1=0.245\n",
      "surprise: Prec=0.480 | Rec=0.774 | F1=0.592\n",
      "\n",
      "Epoch Summary: Train Loss=1.1476 | Val Loss=2.6097 | Train Acc=0.566 | Val Acc=0.283\n",
      "Epoch time: 143.55 seconds\n",
      "\n",
      "Epoch 7/15\n"
     ]
    },
    {
     "name": "stderr",
     "output_type": "stream",
     "text": [
      "Training: 100%|██████████| 526/526 [02:03<00:00,  4.27it/s]\n",
      "Validation: 100%|██████████| 113/113 [00:19<00:00,  5.87it/s]\n"
     ]
    },
    {
     "name": "stdout",
     "output_type": "stream",
     "text": [
      "\n",
      "Validation Report:\n",
      "angry: Prec=0.357 | Rec=0.412 | F1=0.383\n",
      "disgust: Prec=0.051 | Rec=0.550 | F1=0.094\n",
      "fear: Prec=0.425 | Rec=0.114 | F1=0.180\n",
      "happy: Prec=0.670 | Rec=0.831 | F1=0.742\n",
      "neutral: Prec=0.571 | Rec=0.371 | F1=0.450\n",
      "sad: Prec=0.460 | Rec=0.256 | F1=0.329\n",
      "surprise: Prec=0.643 | Rec=0.710 | F1=0.675\n",
      "\n",
      "Epoch Summary: Train Loss=1.1194 | Val Loss=1.4464 | Train Acc=0.578 | Val Acc=0.476\n",
      "Epoch time: 142.50 seconds\n",
      "\n",
      "Epoch 8/15\n"
     ]
    },
    {
     "name": "stderr",
     "output_type": "stream",
     "text": [
      "Training: 100%|██████████| 526/526 [02:04<00:00,  4.23it/s]\n",
      "Validation: 100%|██████████| 113/113 [00:19<00:00,  5.86it/s]\n"
     ]
    },
    {
     "name": "stdout",
     "output_type": "stream",
     "text": [
      "\n",
      "Validation Report:\n",
      "angry: Prec=0.446 | Rec=0.258 | F1=0.327\n",
      "disgust: Prec=0.037 | Rec=0.766 | F1=0.071\n",
      "fear: Prec=0.344 | Rec=0.118 | F1=0.176\n",
      "happy: Prec=0.851 | Rec=0.573 | F1=0.685\n",
      "neutral: Prec=0.516 | Rec=0.404 | F1=0.453\n",
      "sad: Prec=0.498 | Rec=0.117 | F1=0.190\n",
      "surprise: Prec=0.452 | Rec=0.839 | F1=0.587\n",
      "\n",
      "Epoch Summary: Train Loss=1.0964 | Val Loss=1.9738 | Train Acc=0.588 | Val Acc=0.391\n",
      "Epoch time: 143.63 seconds\n",
      "\n",
      "Epoch 9/15\n"
     ]
    },
    {
     "name": "stderr",
     "output_type": "stream",
     "text": [
      "Training: 100%|██████████| 526/526 [02:05<00:00,  4.19it/s]\n",
      "Validation: 100%|██████████| 113/113 [00:19<00:00,  5.89it/s]\n"
     ]
    },
    {
     "name": "stdout",
     "output_type": "stream",
     "text": [
      "\n",
      "Validation Report:\n",
      "angry: Prec=0.649 | Rec=0.052 | F1=0.097\n",
      "disgust: Prec=0.034 | Rec=0.883 | F1=0.065\n",
      "fear: Prec=0.391 | Rec=0.051 | F1=0.090\n",
      "happy: Prec=0.783 | Rec=0.627 | F1=0.696\n",
      "neutral: Prec=0.560 | Rec=0.196 | F1=0.291\n",
      "sad: Prec=0.473 | Rec=0.160 | F1=0.239\n",
      "surprise: Prec=0.397 | Rec=0.852 | F1=0.542\n",
      "\n",
      "Epoch Summary: Train Loss=1.0798 | Val Loss=2.3213 | Train Acc=0.593 | Val Acc=0.343\n",
      "Epoch time: 144.66 seconds\n",
      "\n",
      "Epoch 10/15\n"
     ]
    },
    {
     "name": "stderr",
     "output_type": "stream",
     "text": [
      "Training: 100%|██████████| 526/526 [02:08<00:00,  4.11it/s]\n",
      "Validation: 100%|██████████| 113/113 [00:19<00:00,  5.84it/s]\n"
     ]
    },
    {
     "name": "stdout",
     "output_type": "stream",
     "text": [
      "\n",
      "Validation Report:\n",
      "angry: Prec=0.532 | Rec=0.078 | F1=0.136\n",
      "disgust: Prec=0.032 | Rec=0.910 | F1=0.061\n",
      "fear: Prec=0.328 | Rec=0.130 | F1=0.186\n",
      "happy: Prec=0.838 | Rec=0.537 | F1=0.655\n",
      "neutral: Prec=0.569 | Rec=0.203 | F1=0.299\n",
      "sad: Prec=0.441 | Rec=0.149 | F1=0.223\n",
      "surprise: Prec=0.460 | Rec=0.804 | F1=0.585\n",
      "\n",
      "Epoch Summary: Train Loss=1.0619 | Val Loss=2.2641 | Train Acc=0.599 | Val Acc=0.330\n",
      "Epoch time: 147.45 seconds\n",
      "\n",
      "Epoch 11/15\n"
     ]
    },
    {
     "name": "stderr",
     "output_type": "stream",
     "text": [
      "Training: 100%|██████████| 526/526 [02:07<00:00,  4.12it/s]\n",
      "Validation: 100%|██████████| 113/113 [00:19<00:00,  5.89it/s]\n"
     ]
    },
    {
     "name": "stdout",
     "output_type": "stream",
     "text": [
      "\n",
      "Validation Report:\n",
      "angry: Prec=0.502 | Rec=0.212 | F1=0.298\n",
      "disgust: Prec=0.038 | Rec=0.820 | F1=0.073\n",
      "fear: Prec=0.401 | Rec=0.087 | F1=0.143\n",
      "happy: Prec=0.723 | Rec=0.651 | F1=0.685\n",
      "neutral: Prec=0.575 | Rec=0.212 | F1=0.309\n",
      "sad: Prec=0.523 | Rec=0.136 | F1=0.216\n",
      "surprise: Prec=0.395 | Rec=0.850 | F1=0.539\n",
      "\n",
      "Epoch Summary: Train Loss=1.0455 | Val Loss=2.0820 | Train Acc=0.606 | Val Acc=0.373\n",
      "Epoch time: 146.93 seconds\n",
      "\n",
      "Epoch 12/15\n"
     ]
    },
    {
     "name": "stderr",
     "output_type": "stream",
     "text": [
      "Training: 100%|██████████| 526/526 [02:09<00:00,  4.05it/s]\n",
      "Validation: 100%|██████████| 113/113 [00:19<00:00,  5.88it/s]\n"
     ]
    },
    {
     "name": "stdout",
     "output_type": "stream",
     "text": [
      "\n",
      "Validation Report:\n",
      "angry: Prec=0.500 | Rec=0.102 | F1=0.170\n",
      "disgust: Prec=0.036 | Rec=0.847 | F1=0.069\n",
      "fear: Prec=0.369 | Rec=0.054 | F1=0.094\n",
      "happy: Prec=0.896 | Rec=0.300 | F1=0.450\n",
      "neutral: Prec=0.511 | Rec=0.037 | F1=0.070\n",
      "sad: Prec=0.467 | Rec=0.040 | F1=0.074\n",
      "surprise: Prec=0.220 | Rec=0.913 | F1=0.355\n",
      "\n",
      "Epoch Summary: Train Loss=1.0326 | Val Loss=3.8173 | Train Acc=0.612 | Val Acc=0.228\n",
      "Epoch time: 149.18 seconds\n",
      "\n",
      "Epoch 13/15\n"
     ]
    },
    {
     "name": "stderr",
     "output_type": "stream",
     "text": [
      "Training: 100%|██████████| 526/526 [02:07<00:00,  4.12it/s]\n",
      "Validation: 100%|██████████| 113/113 [00:19<00:00,  5.86it/s]\n"
     ]
    },
    {
     "name": "stdout",
     "output_type": "stream",
     "text": [
      "\n",
      "Validation Report:\n",
      "angry: Prec=0.524 | Rec=0.149 | F1=0.232\n",
      "disgust: Prec=0.029 | Rec=0.928 | F1=0.056\n",
      "fear: Prec=0.361 | Rec=0.055 | F1=0.095\n",
      "happy: Prec=0.898 | Rec=0.363 | F1=0.517\n",
      "neutral: Prec=0.641 | Rec=0.177 | F1=0.277\n",
      "sad: Prec=0.419 | Rec=0.097 | F1=0.158\n",
      "surprise: Prec=0.382 | Rec=0.857 | F1=0.528\n",
      "\n",
      "Epoch Summary: Train Loss=1.0196 | Val Loss=2.7999 | Train Acc=0.617 | Val Acc=0.278\n",
      "Epoch time: 147.08 seconds\n",
      "\n",
      "Epoch 14/15\n"
     ]
    },
    {
     "name": "stderr",
     "output_type": "stream",
     "text": [
      "Training: 100%|██████████| 526/526 [02:11<00:00,  4.01it/s]\n",
      "Validation: 100%|██████████| 113/113 [00:19<00:00,  5.89it/s]\n"
     ]
    },
    {
     "name": "stdout",
     "output_type": "stream",
     "text": [
      "\n",
      "Validation Report:\n",
      "angry: Prec=0.614 | Rec=0.101 | F1=0.174\n",
      "disgust: Prec=0.037 | Rec=0.847 | F1=0.071\n",
      "fear: Prec=0.481 | Rec=0.025 | F1=0.048\n",
      "happy: Prec=0.815 | Rec=0.530 | F1=0.642\n",
      "neutral: Prec=0.525 | Rec=0.152 | F1=0.236\n",
      "sad: Prec=0.474 | Rec=0.059 | F1=0.104\n",
      "surprise: Prec=0.274 | Rec=0.913 | F1=0.422\n",
      "\n",
      "Epoch Summary: Train Loss=1.0106 | Val Loss=2.7045 | Train Acc=0.619 | Val Acc=0.303\n",
      "Epoch time: 150.45 seconds\n",
      "\n",
      "Epoch 15/15\n"
     ]
    },
    {
     "name": "stderr",
     "output_type": "stream",
     "text": [
      "Training: 100%|██████████| 526/526 [02:15<00:00,  3.88it/s]\n",
      "Validation: 100%|██████████| 113/113 [00:19<00:00,  5.86it/s]\n"
     ]
    },
    {
     "name": "stdout",
     "output_type": "stream",
     "text": [
      "\n",
      "Validation Report:\n",
      "angry: Prec=0.526 | Rec=0.204 | F1=0.293\n",
      "disgust: Prec=0.038 | Rec=0.856 | F1=0.073\n",
      "fear: Prec=0.619 | Rec=0.025 | F1=0.049\n",
      "happy: Prec=0.650 | Rec=0.756 | F1=0.699\n",
      "neutral: Prec=0.551 | Rec=0.322 | F1=0.407\n",
      "sad: Prec=0.547 | Rec=0.088 | F1=0.152\n",
      "surprise: Prec=0.498 | Rec=0.762 | F1=0.602\n",
      "\n",
      "Epoch Summary: Train Loss=1.0004 | Val Loss=2.2191 | Train Acc=0.624 | Val Acc=0.390\n",
      "Epoch time: 154.88 seconds\n",
      "Saved model to 'results/mobv2_adam_lr3_dropout0_bn'\n",
      "\n",
      "Training config: mobv2_adam_lr3_dropout15_bn\n",
      "\n",
      "Epoch 1/15\n"
     ]
    },
    {
     "name": "stderr",
     "output_type": "stream",
     "text": [
      "Training: 100%|██████████| 526/526 [02:07<00:00,  4.13it/s]\n",
      "Validation: 100%|██████████| 113/113 [00:19<00:00,  5.81it/s]\n"
     ]
    },
    {
     "name": "stdout",
     "output_type": "stream",
     "text": [
      "\n",
      "Validation Report:\n",
      "angry: Prec=0.273 | Rec=0.003 | F1=0.006\n",
      "disgust: Prec=0.003 | Rec=0.009 | F1=0.004\n",
      "fear: Prec=0.220 | Rec=0.051 | F1=0.083\n",
      "happy: Prec=0.593 | Rec=0.488 | F1=0.536\n",
      "neutral: Prec=0.248 | Rec=0.336 | F1=0.285\n",
      "sad: Prec=0.287 | Rec=0.358 | F1=0.319\n",
      "surprise: Prec=0.323 | Rec=0.733 | F1=0.449\n",
      "\n",
      "Epoch Summary: Train Loss=1.7126 | Val Loss=1.7076 | Train Acc=0.324 | Val Acc=0.333\n",
      "Epoch time: 146.93 seconds\n",
      "\n",
      "Epoch 2/15\n"
     ]
    },
    {
     "name": "stderr",
     "output_type": "stream",
     "text": [
      "Training: 100%|██████████| 526/526 [02:10<00:00,  4.03it/s]\n",
      "Validation: 100%|██████████| 113/113 [00:19<00:00,  5.71it/s]\n"
     ]
    },
    {
     "name": "stdout",
     "output_type": "stream",
     "text": [
      "\n",
      "Validation Report:\n",
      "angry: Prec=0.516 | Rec=0.017 | F1=0.032\n",
      "disgust: Prec=0.021 | Rec=0.333 | F1=0.040\n",
      "fear: Prec=0.225 | Rec=0.050 | F1=0.082\n",
      "happy: Prec=0.782 | Rec=0.455 | F1=0.576\n",
      "neutral: Prec=0.406 | Rec=0.229 | F1=0.293\n",
      "sad: Prec=0.298 | Rec=0.436 | F1=0.354\n",
      "surprise: Prec=0.400 | Rec=0.781 | F1=0.529\n",
      "\n",
      "Epoch Summary: Train Loss=1.4589 | Val Loss=1.8959 | Train Acc=0.440 | Val Acc=0.333\n",
      "Epoch time: 150.31 seconds\n",
      "\n",
      "Epoch 3/15\n"
     ]
    },
    {
     "name": "stderr",
     "output_type": "stream",
     "text": [
      "Training: 100%|██████████| 526/526 [02:08<00:00,  4.10it/s]\n",
      "Validation: 100%|██████████| 113/113 [00:19<00:00,  5.83it/s]\n"
     ]
    },
    {
     "name": "stdout",
     "output_type": "stream",
     "text": [
      "\n",
      "Validation Report:\n",
      "angry: Prec=0.328 | Rec=0.160 | F1=0.215\n",
      "disgust: Prec=0.032 | Rec=0.559 | F1=0.060\n",
      "fear: Prec=0.205 | Rec=0.053 | F1=0.084\n",
      "happy: Prec=0.904 | Rec=0.352 | F1=0.506\n",
      "neutral: Prec=0.395 | Rec=0.319 | F1=0.353\n",
      "sad: Prec=0.441 | Rec=0.168 | F1=0.244\n",
      "surprise: Prec=0.312 | Rec=0.882 | F1=0.461\n",
      "\n",
      "Epoch Summary: Train Loss=1.3327 | Val Loss=2.0226 | Train Acc=0.491 | Val Acc=0.311\n",
      "Epoch time: 147.62 seconds\n",
      "\n",
      "Epoch 4/15\n"
     ]
    },
    {
     "name": "stderr",
     "output_type": "stream",
     "text": [
      "Training: 100%|██████████| 526/526 [02:09<00:00,  4.05it/s]\n",
      "Validation: 100%|██████████| 113/113 [00:19<00:00,  5.81it/s]\n"
     ]
    },
    {
     "name": "stdout",
     "output_type": "stream",
     "text": [
      "\n",
      "Validation Report:\n",
      "angry: Prec=0.279 | Rec=0.137 | F1=0.183\n",
      "disgust: Prec=0.021 | Rec=0.820 | F1=0.042\n",
      "fear: Prec=0.297 | Rec=0.011 | F1=0.021\n",
      "happy: Prec=0.707 | Rec=0.515 | F1=0.596\n",
      "neutral: Prec=0.561 | Rec=0.060 | F1=0.108\n",
      "sad: Prec=0.452 | Rec=0.026 | F1=0.050\n",
      "surprise: Prec=0.616 | Rec=0.686 | F1=0.649\n",
      "\n",
      "Epoch Summary: Train Loss=1.2670 | Val Loss=2.7458 | Train Acc=0.519 | Val Acc=0.254\n",
      "Epoch time: 149.39 seconds\n",
      "\n",
      "Epoch 5/15\n"
     ]
    },
    {
     "name": "stderr",
     "output_type": "stream",
     "text": [
      "Training: 100%|██████████| 526/526 [02:14<00:00,  3.92it/s]\n",
      "Validation: 100%|██████████| 113/113 [00:19<00:00,  5.87it/s]\n"
     ]
    },
    {
     "name": "stdout",
     "output_type": "stream",
     "text": [
      "\n",
      "Validation Report:\n",
      "angry: Prec=0.405 | Rec=0.018 | F1=0.034\n",
      "disgust: Prec=0.023 | Rec=0.874 | F1=0.045\n",
      "fear: Prec=0.224 | Rec=0.015 | F1=0.027\n",
      "happy: Prec=0.894 | Rec=0.284 | F1=0.431\n",
      "neutral: Prec=0.624 | Rec=0.043 | F1=0.080\n",
      "sad: Prec=0.434 | Rec=0.037 | F1=0.068\n",
      "surprise: Prec=0.339 | Rec=0.875 | F1=0.488\n",
      "\n",
      "Epoch Summary: Train Loss=1.2154 | Val Loss=3.3924 | Train Acc=0.539 | Val Acc=0.203\n",
      "Epoch time: 153.47 seconds\n",
      "\n",
      "Epoch 6/15\n"
     ]
    },
    {
     "name": "stderr",
     "output_type": "stream",
     "text": [
      "Training: 100%|██████████| 526/526 [02:10<00:00,  4.04it/s]\n",
      "Validation: 100%|██████████| 113/113 [00:19<00:00,  5.86it/s]\n"
     ]
    },
    {
     "name": "stdout",
     "output_type": "stream",
     "text": [
      "\n",
      "Validation Report:\n",
      "angry: Prec=0.443 | Rec=0.187 | F1=0.263\n",
      "disgust: Prec=0.042 | Rec=0.541 | F1=0.078\n",
      "fear: Prec=0.321 | Rec=0.024 | F1=0.045\n",
      "happy: Prec=0.514 | Rec=0.884 | F1=0.650\n",
      "neutral: Prec=0.538 | Rec=0.265 | F1=0.355\n",
      "sad: Prec=0.418 | Rec=0.139 | F1=0.208\n",
      "surprise: Prec=0.522 | Rec=0.752 | F1=0.616\n",
      "\n",
      "Epoch Summary: Train Loss=1.1713 | Val Loss=1.6805 | Train Acc=0.556 | Val Acc=0.412\n",
      "Epoch time: 149.59 seconds\n",
      "\n",
      "Epoch 7/15\n"
     ]
    },
    {
     "name": "stderr",
     "output_type": "stream",
     "text": [
      "Training: 100%|██████████| 526/526 [02:09<00:00,  4.06it/s]\n",
      "Validation: 100%|██████████| 113/113 [00:19<00:00,  5.88it/s]\n"
     ]
    },
    {
     "name": "stdout",
     "output_type": "stream",
     "text": [
      "\n",
      "Validation Report:\n",
      "angry: Prec=0.500 | Rec=0.120 | F1=0.194\n",
      "disgust: Prec=0.034 | Rec=0.802 | F1=0.065\n",
      "fear: Prec=0.303 | Rec=0.026 | F1=0.049\n",
      "happy: Prec=0.788 | Rec=0.631 | F1=0.701\n",
      "neutral: Prec=0.471 | Rec=0.221 | F1=0.301\n",
      "sad: Prec=0.430 | Rec=0.121 | F1=0.189\n",
      "surprise: Prec=0.376 | Rec=0.851 | F1=0.522\n",
      "\n",
      "Epoch Summary: Train Loss=1.1418 | Val Loss=2.1556 | Train Acc=0.565 | Val Acc=0.346\n",
      "Epoch time: 148.95 seconds\n",
      "\n",
      "Epoch 8/15\n"
     ]
    },
    {
     "name": "stderr",
     "output_type": "stream",
     "text": [
      "Training: 100%|██████████| 526/526 [02:13<00:00,  3.95it/s]\n",
      "Validation: 100%|██████████| 113/113 [00:19<00:00,  5.87it/s]\n"
     ]
    },
    {
     "name": "stdout",
     "output_type": "stream",
     "text": [
      "\n",
      "Validation Report:\n",
      "angry: Prec=0.615 | Rec=0.033 | F1=0.063\n",
      "disgust: Prec=0.033 | Rec=0.847 | F1=0.063\n",
      "fear: Prec=0.240 | Rec=0.088 | F1=0.129\n",
      "happy: Prec=0.943 | Rec=0.281 | F1=0.433\n",
      "neutral: Prec=0.535 | Rec=0.105 | F1=0.176\n",
      "sad: Prec=0.590 | Rec=0.047 | F1=0.088\n",
      "surprise: Prec=0.257 | Rec=0.923 | F1=0.402\n",
      "\n",
      "Epoch Summary: Train Loss=1.1235 | Val Loss=2.8696 | Train Acc=0.574 | Val Acc=0.233\n",
      "Epoch time: 152.38 seconds\n",
      "\n",
      "Epoch 9/15\n"
     ]
    },
    {
     "name": "stderr",
     "output_type": "stream",
     "text": [
      "Training: 100%|██████████| 526/526 [02:11<00:00,  4.00it/s]\n",
      "Validation: 100%|██████████| 113/113 [00:19<00:00,  5.91it/s]\n"
     ]
    },
    {
     "name": "stdout",
     "output_type": "stream",
     "text": [
      "\n",
      "Validation Report:\n",
      "angry: Prec=0.522 | Rec=0.148 | F1=0.231\n",
      "disgust: Prec=0.048 | Rec=0.667 | F1=0.090\n",
      "fear: Prec=0.295 | Rec=0.022 | F1=0.042\n",
      "happy: Prec=0.766 | Rec=0.689 | F1=0.725\n",
      "neutral: Prec=0.490 | Rec=0.307 | F1=0.378\n",
      "sad: Prec=0.496 | Rec=0.106 | F1=0.174\n",
      "surprise: Prec=0.286 | Rec=0.915 | F1=0.436\n",
      "\n",
      "Epoch Summary: Train Loss=1.1037 | Val Loss=1.9455 | Train Acc=0.582 | Val Acc=0.381\n",
      "Epoch time: 150.79 seconds\n",
      "\n",
      "Epoch 10/15\n"
     ]
    },
    {
     "name": "stderr",
     "output_type": "stream",
     "text": [
      "Training: 100%|██████████| 526/526 [02:32<00:00,  3.46it/s]\n",
      "Validation: 100%|██████████| 113/113 [00:19<00:00,  5.88it/s]\n"
     ]
    },
    {
     "name": "stdout",
     "output_type": "stream",
     "text": [
      "\n",
      "Validation Report:\n",
      "angry: Prec=0.531 | Rec=0.143 | F1=0.225\n",
      "disgust: Prec=0.042 | Rec=0.766 | F1=0.080\n",
      "fear: Prec=0.327 | Rec=0.080 | F1=0.129\n",
      "happy: Prec=0.892 | Rec=0.560 | F1=0.688\n",
      "neutral: Prec=0.552 | Rec=0.329 | F1=0.413\n",
      "sad: Prec=0.438 | Rec=0.122 | F1=0.191\n",
      "surprise: Prec=0.302 | Rec=0.893 | F1=0.451\n",
      "\n",
      "Epoch Summary: Train Loss=1.0787 | Val Loss=1.9374 | Train Acc=0.591 | Val Acc=0.362\n",
      "Epoch time: 171.41 seconds\n",
      "\n",
      "Epoch 11/15\n"
     ]
    },
    {
     "name": "stderr",
     "output_type": "stream",
     "text": [
      "Training: 100%|██████████| 526/526 [02:28<00:00,  3.55it/s]\n",
      "Validation: 100%|██████████| 113/113 [00:19<00:00,  5.89it/s]\n"
     ]
    },
    {
     "name": "stdout",
     "output_type": "stream",
     "text": [
      "\n",
      "Validation Report:\n",
      "angry: Prec=0.452 | Rec=0.295 | F1=0.357\n",
      "disgust: Prec=0.045 | Rec=0.694 | F1=0.085\n",
      "fear: Prec=0.445 | Rec=0.096 | F1=0.158\n",
      "happy: Prec=0.822 | Rec=0.675 | F1=0.741\n",
      "neutral: Prec=0.493 | Rec=0.331 | F1=0.396\n",
      "sad: Prec=0.562 | Rec=0.106 | F1=0.178\n",
      "surprise: Prec=0.337 | Rec=0.854 | F1=0.484\n",
      "\n",
      "Epoch Summary: Train Loss=1.0667 | Val Loss=1.8320 | Train Acc=0.598 | Val Acc=0.405\n",
      "Epoch time: 167.59 seconds\n",
      "\n",
      "Epoch 12/15\n"
     ]
    },
    {
     "name": "stderr",
     "output_type": "stream",
     "text": [
      "Training: 100%|██████████| 526/526 [02:08<00:00,  4.11it/s]\n",
      "Validation: 100%|██████████| 113/113 [00:19<00:00,  5.85it/s]\n"
     ]
    },
    {
     "name": "stdout",
     "output_type": "stream",
     "text": [
      "\n",
      "Validation Report:\n",
      "angry: Prec=0.443 | Rec=0.323 | F1=0.373\n",
      "disgust: Prec=0.039 | Rec=0.766 | F1=0.074\n",
      "fear: Prec=0.371 | Rec=0.051 | F1=0.089\n",
      "happy: Prec=0.796 | Rec=0.668 | F1=0.726\n",
      "neutral: Prec=0.594 | Rec=0.268 | F1=0.369\n",
      "sad: Prec=0.541 | Rec=0.100 | F1=0.169\n",
      "surprise: Prec=0.378 | Rec=0.854 | F1=0.524\n",
      "\n",
      "Epoch Summary: Train Loss=1.0504 | Val Loss=2.0462 | Train Acc=0.604 | Val Acc=0.390\n",
      "Epoch time: 147.40 seconds\n",
      "\n",
      "Epoch 13/15\n"
     ]
    },
    {
     "name": "stderr",
     "output_type": "stream",
     "text": [
      "Training: 100%|██████████| 526/526 [02:07<00:00,  4.12it/s]\n",
      "Validation: 100%|██████████| 113/113 [00:19<00:00,  5.89it/s]\n"
     ]
    },
    {
     "name": "stdout",
     "output_type": "stream",
     "text": [
      "\n",
      "Validation Report:\n",
      "angry: Prec=0.505 | Rec=0.115 | F1=0.187\n",
      "disgust: Prec=0.029 | Rec=0.892 | F1=0.056\n",
      "fear: Prec=0.375 | Rec=0.021 | F1=0.039\n",
      "happy: Prec=0.838 | Rec=0.547 | F1=0.662\n",
      "neutral: Prec=0.543 | Rec=0.294 | F1=0.381\n",
      "sad: Prec=0.550 | Rec=0.048 | F1=0.088\n",
      "surprise: Prec=0.451 | Rec=0.823 | F1=0.583\n",
      "\n",
      "Epoch Summary: Train Loss=1.0476 | Val Loss=2.5394 | Train Acc=0.606 | Val Acc=0.321\n",
      "Epoch time: 147.03 seconds\n",
      "\n",
      "Epoch 14/15\n"
     ]
    },
    {
     "name": "stderr",
     "output_type": "stream",
     "text": [
      "Training: 100%|██████████| 526/526 [02:10<00:00,  4.02it/s]\n",
      "Validation: 100%|██████████| 113/113 [00:19<00:00,  5.91it/s]\n"
     ]
    },
    {
     "name": "stdout",
     "output_type": "stream",
     "text": [
      "\n",
      "Validation Report:\n",
      "angry: Prec=0.593 | Rec=0.133 | F1=0.217\n",
      "disgust: Prec=0.033 | Rec=0.802 | F1=0.064\n",
      "fear: Prec=0.355 | Rec=0.092 | F1=0.146\n",
      "happy: Prec=0.814 | Rec=0.546 | F1=0.654\n",
      "neutral: Prec=0.529 | Rec=0.224 | F1=0.315\n",
      "sad: Prec=0.468 | Rec=0.152 | F1=0.230\n",
      "surprise: Prec=0.362 | Rec=0.835 | F1=0.505\n",
      "\n",
      "Epoch Summary: Train Loss=1.0313 | Val Loss=2.3525 | Train Acc=0.610 | Val Acc=0.340\n",
      "Epoch time: 150.08 seconds\n",
      "\n",
      "Epoch 15/15\n"
     ]
    },
    {
     "name": "stderr",
     "output_type": "stream",
     "text": [
      "Training: 100%|██████████| 526/526 [02:19<00:00,  3.77it/s]\n",
      "Validation: 100%|██████████| 113/113 [00:19<00:00,  5.89it/s]\n"
     ]
    },
    {
     "name": "stdout",
     "output_type": "stream",
     "text": [
      "\n",
      "Validation Report:\n",
      "angry: Prec=0.542 | Rec=0.033 | F1=0.063\n",
      "disgust: Prec=0.026 | Rec=0.928 | F1=0.052\n",
      "fear: Prec=0.293 | Rec=0.055 | F1=0.092\n",
      "happy: Prec=0.929 | Rec=0.220 | F1=0.356\n",
      "neutral: Prec=0.618 | Rec=0.114 | F1=0.193\n",
      "sad: Prec=0.480 | Rec=0.029 | F1=0.054\n",
      "surprise: Prec=0.317 | Rec=0.884 | F1=0.467\n",
      "\n",
      "Epoch Summary: Train Loss=1.0209 | Val Loss=3.7977 | Train Acc=0.615 | Val Acc=0.208\n",
      "Epoch time: 158.62 seconds\n",
      "Saved model to 'results/mobv2_adam_lr3_dropout15_bn'\n",
      "\n",
      "Training config: mobv2_adam_lr2_dropout15_bn\n",
      "\n",
      "Epoch 1/15\n"
     ]
    },
    {
     "name": "stderr",
     "output_type": "stream",
     "text": [
      "Training: 100%|██████████| 526/526 [02:12<00:00,  3.97it/s]\n",
      "Validation: 100%|██████████| 113/113 [00:19<00:00,  5.87it/s]\n",
      "/Users/taniapazospuig/Desktop/DeepLearningProject/venv/lib/python3.11/site-packages/sklearn/metrics/_classification.py:1565: UndefinedMetricWarning: Precision is ill-defined and being set to 0.0 in labels with no predicted samples. Use `zero_division` parameter to control this behavior.\n",
      "  _warn_prf(average, modifier, f\"{metric.capitalize()} is\", len(result))\n",
      "/Users/taniapazospuig/Desktop/DeepLearningProject/venv/lib/python3.11/site-packages/sklearn/metrics/_classification.py:1565: UndefinedMetricWarning: Precision is ill-defined and being set to 0.0 in labels with no predicted samples. Use `zero_division` parameter to control this behavior.\n",
      "  _warn_prf(average, modifier, f\"{metric.capitalize()} is\", len(result))\n",
      "/Users/taniapazospuig/Desktop/DeepLearningProject/venv/lib/python3.11/site-packages/sklearn/metrics/_classification.py:1565: UndefinedMetricWarning: Precision is ill-defined and being set to 0.0 in labels with no predicted samples. Use `zero_division` parameter to control this behavior.\n",
      "  _warn_prf(average, modifier, f\"{metric.capitalize()} is\", len(result))\n"
     ]
    },
    {
     "name": "stdout",
     "output_type": "stream",
     "text": [
      "\n",
      "Validation Report:\n",
      "angry: Prec=0.000 | Rec=0.000 | F1=0.000\n",
      "disgust: Prec=0.016 | Rec=0.045 | F1=0.024\n",
      "fear: Prec=0.000 | Rec=0.000 | F1=0.000\n",
      "happy: Prec=0.281 | Rec=0.044 | F1=0.076\n",
      "neutral: Prec=0.194 | Rec=0.039 | F1=0.065\n",
      "sad: Prec=0.226 | Rec=0.015 | F1=0.029\n",
      "surprise: Prec=0.129 | Rec=0.974 | F1=0.228\n",
      "\n",
      "Epoch Summary: Train Loss=1.7457 | Val Loss=3.9129 | Train Acc=0.303 | Val Acc=0.134\n",
      "Epoch time: 151.72 seconds\n",
      "\n",
      "Epoch 2/15\n"
     ]
    },
    {
     "name": "stderr",
     "output_type": "stream",
     "text": [
      "Training: 100%|██████████| 526/526 [02:10<00:00,  4.04it/s]\n",
      "Validation:  57%|█████▋    | 64/113 [00:18<00:13,  3.51it/s]\n"
     ]
    },
    {
     "ename": "KeyboardInterrupt",
     "evalue": "",
     "output_type": "error",
     "traceback": [
      "\u001b[0;31m---------------------------------------------------------------------------\u001b[0m",
      "\u001b[0;31mKeyboardInterrupt\u001b[0m                         Traceback (most recent call last)",
      "Cell \u001b[0;32mIn[7], line 24\u001b[0m\n\u001b[1;32m     21\u001b[0m     optimizer \u001b[38;5;241m=\u001b[39m optim\u001b[38;5;241m.\u001b[39mSGD(model\u001b[38;5;241m.\u001b[39mparameters(), lr\u001b[38;5;241m=\u001b[39mconfig[\u001b[38;5;124m'\u001b[39m\u001b[38;5;124mlr\u001b[39m\u001b[38;5;124m'\u001b[39m], momentum\u001b[38;5;241m=\u001b[39m\u001b[38;5;241m0.9\u001b[39m)\n\u001b[1;32m     23\u001b[0m criterion \u001b[38;5;241m=\u001b[39m nn\u001b[38;5;241m.\u001b[39mCrossEntropyLoss()\n\u001b[0;32m---> 24\u001b[0m history \u001b[38;5;241m=\u001b[39m \u001b[43mtrain\u001b[49m\u001b[43m(\u001b[49m\u001b[43mmodel\u001b[49m\u001b[43m,\u001b[49m\u001b[43m \u001b[49m\u001b[43mtrain_loader\u001b[49m\u001b[43m,\u001b[49m\u001b[43m \u001b[49m\u001b[43mval_loader\u001b[49m\u001b[43m,\u001b[49m\u001b[43m \u001b[49m\u001b[43moptimizer\u001b[49m\u001b[43m,\u001b[49m\u001b[43m \u001b[49m\u001b[43mcriterion\u001b[49m\u001b[43m,\u001b[49m\u001b[43m \u001b[49m\u001b[43mnum_epochs\u001b[49m\u001b[38;5;241;43m=\u001b[39;49m\u001b[38;5;241;43m15\u001b[39;49m\u001b[43m,\u001b[49m\u001b[43m \u001b[49m\u001b[43mmodel_name\u001b[49m\u001b[38;5;241;43m=\u001b[39;49m\u001b[43mconfig\u001b[49m\u001b[43m[\u001b[49m\u001b[38;5;124;43m'\u001b[39;49m\u001b[38;5;124;43mname\u001b[39;49m\u001b[38;5;124;43m'\u001b[39;49m\u001b[43m]\u001b[49m\u001b[43m)\u001b[49m\n\u001b[1;32m     25\u001b[0m pd\u001b[38;5;241m.\u001b[39mDataFrame(history)\u001b[38;5;241m.\u001b[39mto_csv(\u001b[38;5;124mf\u001b[39m\u001b[38;5;124m'\u001b[39m\u001b[38;5;124mresults/history_\u001b[39m\u001b[38;5;132;01m{\u001b[39;00mconfig[\u001b[38;5;124m\"\u001b[39m\u001b[38;5;124mname\u001b[39m\u001b[38;5;124m\"\u001b[39m]\u001b[38;5;132;01m}\u001b[39;00m\u001b[38;5;124m.csv\u001b[39m\u001b[38;5;124m'\u001b[39m, index\u001b[38;5;241m=\u001b[39m\u001b[38;5;28;01mFalse\u001b[39;00m)\n",
      "Cell \u001b[0;32mIn[6], line 38\u001b[0m, in \u001b[0;36mtrain\u001b[0;34m(model, train_loader, val_loader, optimizer, criterion, num_epochs, model_name)\u001b[0m\n\u001b[1;32m     36\u001b[0m outputs \u001b[38;5;241m=\u001b[39m model(images)\n\u001b[1;32m     37\u001b[0m loss \u001b[38;5;241m=\u001b[39m criterion(outputs, labels)\n\u001b[0;32m---> 38\u001b[0m val_loss \u001b[38;5;241m+\u001b[39m\u001b[38;5;241m=\u001b[39m \u001b[43mloss\u001b[49m\u001b[38;5;241;43m.\u001b[39;49m\u001b[43mitem\u001b[49m\u001b[43m(\u001b[49m\u001b[43m)\u001b[49m \u001b[38;5;241m*\u001b[39m images\u001b[38;5;241m.\u001b[39msize(\u001b[38;5;241m0\u001b[39m)\n\u001b[1;32m     40\u001b[0m _, predicted \u001b[38;5;241m=\u001b[39m outputs\u001b[38;5;241m.\u001b[39mmax(\u001b[38;5;241m1\u001b[39m)\n\u001b[1;32m     41\u001b[0m correct \u001b[38;5;241m+\u001b[39m\u001b[38;5;241m=\u001b[39m (predicted \u001b[38;5;241m==\u001b[39m labels)\u001b[38;5;241m.\u001b[39msum()\u001b[38;5;241m.\u001b[39mitem()\n",
      "\u001b[0;31mKeyboardInterrupt\u001b[0m: "
     ]
    }
   ],
   "source": [
    "def build_model(dropout):\n",
    "    return MobileNetV2_48x48(num_classes=len(class_names), dropout_rate=dropout).to(device)\n",
    "\n",
    "# Define settings to test\n",
    "configs = [\n",
    "    {'name': 'mobv2_adam_lr3_dropout0_bn', 'optimizer': 'adam', 'lr': 1e-3, 'dropout': 0},\n",
    "    {'name': 'mobv2_adam_lr3_dropout15_bn', 'optimizer': 'adam', 'lr': 1e-3, 'dropout': 0.15},\n",
    "    {'name': 'mobv2_adam_lr2_dropout15_bn', 'optimizer': 'adam', 'lr': 1e-2, 'dropout': 0.15},\n",
    "    {'name': 'mobv2_adam_lr3_dropout20_bn', 'optimizer': 'adam', 'lr': 1e-3, 'dropout': 0.20},\n",
    "    {'name': 'mobv2_sgd_mom09_lr3_dropout15_bn', 'optimizer': 'sgd', 'lr': 1e-3, 'dropout': 0.15},\n",
    "]\n",
    "\n",
    "\n",
    "for config in configs:\n",
    "    print(f\"\\nTraining config: {config['name']}\")\n",
    "\n",
    "    model = build_model(config['dropout'])\n",
    "    if config['optimizer'] == 'adam':\n",
    "        optimizer = optim.Adam(model.parameters(), lr=config['lr'])\n",
    "    else:\n",
    "        optimizer = optim.SGD(model.parameters(), lr=config['lr'], momentum=0.9)\n",
    "\n",
    "    criterion = nn.CrossEntropyLoss()\n",
    "    history = train(model, train_loader, val_loader, optimizer, criterion, num_epochs=15, model_name=config['name'])\n",
    "    pd.DataFrame(history).to_csv(f'results/history_{config[\"name\"]}.csv', index=False)"
   ]
  },
  {
   "cell_type": "code",
   "execution_count": null,
   "metadata": {},
   "outputs": [],
   "source": []
  }
 ],
 "metadata": {
  "kernelspec": {
   "display_name": "venv",
   "language": "python",
   "name": "python3"
  },
  "language_info": {
   "codemirror_mode": {
    "name": "ipython",
    "version": 3
   },
   "file_extension": ".py",
   "mimetype": "text/x-python",
   "name": "python",
   "nbconvert_exporter": "python",
   "pygments_lexer": "ipython3",
   "version": "3.11.5"
  }
 },
 "nbformat": 4,
 "nbformat_minor": 2
}
